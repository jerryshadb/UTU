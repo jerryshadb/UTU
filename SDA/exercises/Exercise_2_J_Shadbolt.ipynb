{
 "cells": [
  {
   "cell_type": "markdown",
   "id": "d6f2fc53",
   "metadata": {},
   "source": [
    "### Exercise 2 \n",
    "#### Jeremias Shadbolt 1900386"
   ]
  },
  {
   "cell_type": "code",
   "execution_count": 61,
   "id": "c9934716",
   "metadata": {},
   "outputs": [],
   "source": [
    "# Import necessary libraries \n",
    "import numpy as np\n",
    "import pandas as pd\n",
    "from scipy import stats"
   ]
  },
  {
   "cell_type": "markdown",
   "id": "c5040760",
   "metadata": {},
   "source": [
    "1. Let us consider the following three datasets\n",
    "\n",
    "- A: 34, 23, 52, 47, 34\n",
    "\n",
    "- B: 48, 28, 33, 46, 41, 35\n",
    "\n",
    "- C: 34, 53, 51, 35, 52, 32\n",
    "\n",
    "Find P-values for suitable statistical test comparing A&B, A&C and B&C. Justify your\n",
    "selection of the test."
   ]
  },
  {
   "cell_type": "code",
   "execution_count": 62,
   "id": "10c84c89",
   "metadata": {},
   "outputs": [],
   "source": [
    "# datasets\n",
    "\n",
    "dataset_A = np.array([34, 23, 52, 47, 34])\n",
    "dataset_B = np.array([48, 28, 33, 46, 41, 35])\n",
    "dataset_C = np.array([34, 53, 51, 35, 52, 32])"
   ]
  },
  {
   "cell_type": "code",
   "execution_count": 166,
   "id": "8cff8dc8",
   "metadata": {},
   "outputs": [
    {
     "name": "stdout",
     "output_type": "stream",
     "text": [
      "P-value for dataset A is 0.67\n",
      "P-value for dataset B is 0.74\n",
      "P-value for dataset C is 0.04\n"
     ]
    }
   ],
   "source": [
    "# Firstly let's check for normal distribution with the Shapiro Wilk -test\n",
    "print(f\"P-value for dataset A is {shapiro(dataset_A).pvalue:.2f}\")\n",
    "print(f\"P-value for dataset B is {shapiro(dataset_B).pvalue:.2f}\")\n",
    "print(f\"P-value for dataset C is {shapiro(dataset_C).pvalue:.2f}\")"
   ]
  },
  {
   "cell_type": "markdown",
   "id": "996e90ef",
   "metadata": {},
   "source": [
    "#### Dataset A and B would seem to lean towards normal distribution whilst C doesn't as much"
   ]
  },
  {
   "cell_type": "code",
   "execution_count": 168,
   "id": "3916585d",
   "metadata": {},
   "outputs": [
    {
     "name": "stdout",
     "output_type": "stream",
     "text": [
      "P-value in comparing A and B is 0.93\n",
      "so the means for each dataset are not so different\n"
     ]
    }
   ],
   "source": [
    "# Since A and B would seem to be normally distributed and non-paired\n",
    "# we can compare them with student's t-test, for example:\n",
    "print(f\"P-value in comparing A and B is {ttest_ind(dataset_A, dataset_B).pvalue:.2f}\\nso the means for each dataset are not so different\")\n"
   ]
  },
  {
   "cell_type": "code",
   "execution_count": 65,
   "id": "03315170",
   "metadata": {},
   "outputs": [
    {
     "name": "stdout",
     "output_type": "stream",
     "text": [
      "A: 38.5\n",
      "B: 38.0\n"
     ]
    }
   ],
   "source": [
    "# Validate\n",
    "print(f\"A: {dataset_B.mean()}\")\n",
    "print(f\"B: {dataset_A.mean()}\")"
   ]
  },
  {
   "cell_type": "code",
   "execution_count": 68,
   "id": "c1cda7e8",
   "metadata": {},
   "outputs": [
    {
     "name": "stdout",
     "output_type": "stream",
     "text": [
      "P-value for A and C with Mann–Whitney U is 0.46\n"
     ]
    }
   ],
   "source": [
    "# A and C require different test since one of them isn't normally distributed and they're not paired\n",
    "# Test: Mann–Whitney U\n",
    "\n",
    "print(f\"P-value for A and C with Mann–Whitney U is {mannwhitneyu(dataset_A,dataset_C, use_continuity = True, alternative= 'two-sided').pvalue:.2f}\")\n",
    "\n"
   ]
  },
  {
   "cell_type": "code",
   "execution_count": 67,
   "id": "183472e5",
   "metadata": {},
   "outputs": [
    {
     "name": "stdout",
     "output_type": "stream",
     "text": [
      "P-value for B and C with Wilcoxon signed-rank test is 0.56\n"
     ]
    }
   ],
   "source": [
    "# Then B and C of which one is normally distributed and they're paired\n",
    "# Test: Wilcoxon signed-rank test\n",
    "\n",
    "print(f\"P-value for B and C with Wilcoxon signed-rank test is {wilcoxon(dataset_B, dataset_C).pvalue:.2f}\")"
   ]
  },
  {
   "cell_type": "markdown",
   "id": "9d1bcc44",
   "metadata": {},
   "source": [
    "#### 2. Browse through the following two articles\n",
    "\n",
    "For Article_2 determine\n",
    "\n",
    "a) What kind of statistical tests were used in Figure 1?\n",
    "\n",
    "b) What kind of statistical tests were used in Figure 2?\n",
    "\n",
    "c) What kind of statistical tests were used in Figure 4 a,b?\n",
    "\n",
    "d) What kind of statistical tests were used in Figure 4 e,f?\n",
    "\n",
    "In Article_3, caption of table 1 it reads “There were no significant differences\n",
    "\n",
    "(P < 0.05) between training and test cohorts for any variable”. Which tests were used? (Or, which test do you think were used?)\n",
    "\n",
    "\n",
    "ANS\n",
    "\n",
    "a) two-tailed Wilcoxon rank-sum test\n",
    "\n",
    "b) two-tailed Wilcoxon rank-sum test\n",
    "\n",
    "c) one-way ANOVA with post hoc Bonferroni correction\n",
    "\n",
    "d) two-tailed student's t-test\n"
   ]
  },
  {
   "cell_type": "markdown",
   "id": "1f8727f1",
   "metadata": {},
   "source": [
    "#### 3. Groups D and E have the same variable measured before (test) and after medication\n",
    "\n",
    "(retest). Select right statistical test and find P-values.\n",
    "\n",
    "a) Compare test and retest results for group D.\n",
    "\n",
    "b) Compare test and retest results for group E.\n",
    "\n",
    "c) Compare test results for group D and E.\n",
    "\n",
    "d) Compare retest results for group D and E.\n"
   ]
  },
  {
   "cell_type": "code",
   "execution_count": 69,
   "id": "8fcfd24c",
   "metadata": {},
   "outputs": [],
   "source": [
    "# datasets\n",
    "\n",
    "# Group D\n",
    "d_test = [5.6, 3.1, 8.7, 4.5, 6.7, 4.5]\n",
    "d_retest = [6.1, 5.8, 8.5, 5.3, 7.2, 5.1]\n",
    "\n",
    "# Group E\n",
    "e_test = [4.5, 3.9, 7.1, 4.3, 6.9, 8.2, 7.6]\n",
    "e_retest = [4.9, 4.7, 7.8, 4.8, 7.5, 7.8, 8.1]"
   ]
  },
  {
   "cell_type": "code",
   "execution_count": 77,
   "id": "46c4ecc4",
   "metadata": {},
   "outputs": [
    {
     "name": "stdout",
     "output_type": "stream",
     "text": [
      "Shapiro for group D test is 0.80\n",
      "Shapiro for group D retest is 0.38\n",
      "Shapiro for group E test is 0.17\n",
      "Shapiro for group E retest is 0.01\n"
     ]
    }
   ],
   "source": [
    "# Shapiro values\n",
    "print(f\"Shapiro for group D test is {shapiro(d_test).pvalue:.2f}\")\n",
    "print(f\"Shapiro for group D retest is {shapiro(d_retest).pvalue:.2f}\")\n",
    "\n",
    "print(f\"Shapiro for group E test is {shapiro(e_test).pvalue:.2f}\")\n",
    "print(f\"Shapiro for group E retest is {shapiro(e_retest).pvalue:.2f}\")"
   ]
  },
  {
   "cell_type": "code",
   "execution_count": 78,
   "id": "b3c58cdf",
   "metadata": {},
   "outputs": [
    {
     "name": "stdout",
     "output_type": "stream",
     "text": [
      "Paired t-test P-value for group D is 0.10\n"
     ]
    }
   ],
   "source": [
    "# a)\n",
    "# Compare with paired t-test\n",
    "\n",
    "print(f\"Paired t-test P-value for group D is {ttest_rel(d_test, d_retest).pvalue:.2f}\")"
   ]
  },
  {
   "cell_type": "code",
   "execution_count": 174,
   "id": "b1f93b57",
   "metadata": {},
   "outputs": [
    {
     "name": "stdout",
     "output_type": "stream",
     "text": [
      "Wilcoxon signed-rank test for E is 0.031\n"
     ]
    }
   ],
   "source": [
    "# b)\n",
    "# Compare with Wilcoxon signed-rank test\n",
    "print(f\"Wilcoxon signed-rank test for E is {wilcoxon(e_test, e_retest).pvalue:.3f}\")"
   ]
  },
  {
   "cell_type": "code",
   "execution_count": 83,
   "id": "05bea0ca",
   "metadata": {},
   "outputs": [
    {
     "name": "stdout",
     "output_type": "stream",
     "text": [
      "Paired t-test P-value for group D is 0.60\n"
     ]
    }
   ],
   "source": [
    "# c) test results for D and E\n",
    "print(f\"Paired t-test P-value for group D is {ttest_ind(e_test, d_test).pvalue:.2f}\")"
   ]
  },
  {
   "cell_type": "code",
   "execution_count": 175,
   "id": "a94d4688",
   "metadata": {},
   "outputs": [
    {
     "name": "stdout",
     "output_type": "stream",
     "text": [
      "P-value for retest for D and E with Mann–Whitney U is 0.94\n"
     ]
    }
   ],
   "source": [
    "# d) Compare retest results for group D and E.\n",
    "print(f\"P-value for retest for D and E with Mann–Whitney U is {mannwhitneyu(e_retest, d_retest, use_continuity = True, alternative= 'two-sided').pvalue:.2f}\")\n"
   ]
  },
  {
   "cell_type": "markdown",
   "id": "42d79e4a",
   "metadata": {},
   "source": [
    "#### 4. Consider correlation between group E test and group E retest in Exercise 3.\n",
    "\n",
    "a) Person correlation and related P-value.\n",
    "\n",
    "b) Spearman correlation and related P-value.\n",
    "\n",
    "c) Rank the two groups. (For same values use half. E.g. if there are two values with the smallest value, then rank them both 1.5.)\n",
    "\n",
    "d) Pearson correlation and related P-value of the ranking obtained in 3).\n"
   ]
  },
  {
   "cell_type": "code",
   "execution_count": 86,
   "id": "22d6ec41",
   "metadata": {},
   "outputs": [],
   "source": [
    "# Group E\n",
    "e_test = [4.5, 3.9, 7.1, 4.3, 6.9, 8.2, 7.6]\n",
    "e_retest = [4.9, 4.7, 7.8, 4.8, 7.5, 7.8, 8.1]"
   ]
  },
  {
   "cell_type": "code",
   "execution_count": 101,
   "id": "fb1ecc0e",
   "metadata": {},
   "outputs": [
    {
     "name": "stdout",
     "output_type": "stream",
     "text": [
      "Pearson correlation r-value between E test and E retest is 0.98\n",
      "Pearson correlation P-value between E test and E retest is 0.000146235\n"
     ]
    }
   ],
   "source": [
    "# a) Pearson correlation and p-value\n",
    "print(f\"Pearson correlation r-value between E test and E retest is {pearsonr(e_test, e_retest)[0]:.2f}\")\n",
    "print(f\"Pearson correlation P-value between E test and E retest is {pearsonr(e_test, e_retest)[1]:.9f}\")"
   ]
  },
  {
   "cell_type": "code",
   "execution_count": 100,
   "id": "1e3f365e",
   "metadata": {},
   "outputs": [
    {
     "name": "stdout",
     "output_type": "stream",
     "text": [
      "Spearman correlation r-value between E test and E retest is 0.94\n",
      "Spearman correlation P-value between E test and E retest is 0.001851030\n"
     ]
    }
   ],
   "source": [
    "# b) Sperman correlation and p-value\n",
    "print(f\"Spearman correlation r-value between E test and E retest is {spearmanr(e_test, e_retest)[0]:.2f}\")\n",
    "print(f\"Spearman correlation P-value between E test and E retest is {spearmanr(e_test, e_retest)[1]:.9f}\")"
   ]
  },
  {
   "cell_type": "code",
   "execution_count": 180,
   "id": "485749c1",
   "metadata": {},
   "outputs": [
    {
     "name": "stdout",
     "output_type": "stream",
     "text": [
      "ranked test data: [3. 1. 5. 2. 4. 7. 6.]\n",
      "ranked retest data: [3.  1.  5.5 2.  4.  5.5 7. ]\n"
     ]
    }
   ],
   "source": [
    "# c) rank the groups\n",
    "ranked_test = rankdata(e_test)\n",
    "ranked_retest = rankdata(e_retest)\n",
    "\n",
    "print(f\"ranked test data: {ranked_test}\")\n",
    "print(f\"ranked retest data: {ranked_retest}\")"
   ]
  },
  {
   "cell_type": "code",
   "execution_count": 127,
   "id": "c5270384",
   "metadata": {},
   "outputs": [
    {
     "name": "stdout",
     "output_type": "stream",
     "text": [
      "Pearson correlation r-value between ranked test is 0.94\n",
      "Pearson correlation P-value between ranked retest is 0.001851030\n"
     ]
    }
   ],
   "source": [
    "# d) Pearson correlation\n",
    "print(f\"Pearson correlation r-value between ranked test is {pearsonr(ranked_test, ranked_retest)[0]:.2f}\")\n",
    "print(f\"Pearson correlation P-value between ranked retest is {pearsonr(ranked_test, ranked_retest)[1]:.9f}\")"
   ]
  },
  {
   "cell_type": "markdown",
   "id": "35f8b58e",
   "metadata": {},
   "source": [
    "#### 5. In this exercise we consider file simulated_data_2_5.csv. It has four groups of 100\n",
    "\n",
    "observation: F, G, H and I. Find correlation and related P-value\n",
    "\n",
    "a) Data file, compare columns F and G.\n",
    "\n",
    "b) Data file simulated_data.csv, compare columns F and H.\n",
    "\n",
    "c) Data file simulated_data.csv, compare columns F and I.\n",
    "\n"
   ]
  },
  {
   "cell_type": "code",
   "execution_count": 141,
   "id": "3e02ffd2",
   "metadata": {},
   "outputs": [
    {
     "data": {
      "text/html": [
       "<div>\n",
       "<style scoped>\n",
       "    .dataframe tbody tr th:only-of-type {\n",
       "        vertical-align: middle;\n",
       "    }\n",
       "\n",
       "    .dataframe tbody tr th {\n",
       "        vertical-align: top;\n",
       "    }\n",
       "\n",
       "    .dataframe thead th {\n",
       "        text-align: right;\n",
       "    }\n",
       "</style>\n",
       "<table border=\"1\" class=\"dataframe\">\n",
       "  <thead>\n",
       "    <tr style=\"text-align: right;\">\n",
       "      <th></th>\n",
       "      <th>Unnamed: 0</th>\n",
       "      <th>F</th>\n",
       "      <th>G</th>\n",
       "      <th>H</th>\n",
       "      <th>I</th>\n",
       "    </tr>\n",
       "  </thead>\n",
       "  <tbody>\n",
       "    <tr>\n",
       "      <th>0</th>\n",
       "      <td>1</td>\n",
       "      <td>27.42</td>\n",
       "      <td>24.02</td>\n",
       "      <td>0.00</td>\n",
       "      <td>9.96</td>\n",
       "    </tr>\n",
       "    <tr>\n",
       "      <th>1</th>\n",
       "      <td>2</td>\n",
       "      <td>-11.29</td>\n",
       "      <td>20.90</td>\n",
       "      <td>4.67</td>\n",
       "      <td>5.66</td>\n",
       "    </tr>\n",
       "    <tr>\n",
       "      <th>2</th>\n",
       "      <td>3</td>\n",
       "      <td>7.26</td>\n",
       "      <td>-20.06</td>\n",
       "      <td>6.34</td>\n",
       "      <td>15.53</td>\n",
       "    </tr>\n",
       "    <tr>\n",
       "      <th>3</th>\n",
       "      <td>4</td>\n",
       "      <td>12.66</td>\n",
       "      <td>36.97</td>\n",
       "      <td>8.12</td>\n",
       "      <td>6.08</td>\n",
       "    </tr>\n",
       "    <tr>\n",
       "      <th>4</th>\n",
       "      <td>5</td>\n",
       "      <td>8.09</td>\n",
       "      <td>-13.34</td>\n",
       "      <td>1.25</td>\n",
       "      <td>10.31</td>\n",
       "    </tr>\n",
       "  </tbody>\n",
       "</table>\n",
       "</div>"
      ],
      "text/plain": [
       "   Unnamed: 0      F      G     H      I\n",
       "0           1  27.42  24.02  0.00   9.96\n",
       "1           2 -11.29  20.90  4.67   5.66\n",
       "2           3   7.26 -20.06  6.34  15.53\n",
       "3           4  12.66  36.97  8.12   6.08\n",
       "4           5   8.09 -13.34  1.25  10.31"
      ]
     },
     "execution_count": 141,
     "metadata": {},
     "output_type": "execute_result"
    }
   ],
   "source": [
    "data = pd.read_csv('simulated_data_2_5.csv')\n",
    "data.head()"
   ]
  },
  {
   "cell_type": "code",
   "execution_count": 155,
   "id": "ab905513",
   "metadata": {},
   "outputs": [
    {
     "name": "stdout",
     "output_type": "stream",
     "text": [
      "0.45898890495300293\n",
      "0.16529951989650726\n"
     ]
    }
   ],
   "source": [
    "# a) Correlation and P-value between F and G\n",
    "dataset_G = data['G']\n",
    "dataset_F = data['F']\n",
    "\n",
    "print(shapiro(dataset_G).pvalue)\n",
    "print(shapiro(dataset_F).pvalue)"
   ]
  },
  {
   "cell_type": "code",
   "execution_count": 156,
   "id": "d8d7ad61",
   "metadata": {},
   "outputs": [
    {
     "name": "stdout",
     "output_type": "stream",
     "text": [
      "Pearson correlation r-value F and G is 0.03\n",
      "Pearson correlation p-value F and G is 0.76\n"
     ]
    }
   ],
   "source": [
    "# a) \n",
    "print(f\"Pearson correlation r-value F and G is {pearsonr(dataset_G, dataset_F)[0]:.2f}\")\n",
    "print(f\"Pearson correlation p-value F and G is {pearsonr(dataset_G, dataset_F)[1]:.2f}\")"
   ]
  },
  {
   "cell_type": "code",
   "execution_count": 159,
   "id": "54a1e5c2",
   "metadata": {},
   "outputs": [
    {
     "name": "stdout",
     "output_type": "stream",
     "text": [
      "0.9414567351341248\n"
     ]
    }
   ],
   "source": [
    "# b) Correlation and P-value between F and H\n",
    "dataset_H = data['H']\n",
    "\n",
    "print(shapiro(dataset_H).pvalue)"
   ]
  },
  {
   "cell_type": "code",
   "execution_count": 160,
   "id": "645c006d",
   "metadata": {},
   "outputs": [
    {
     "name": "stdout",
     "output_type": "stream",
     "text": [
      "Pearson correlation r-value F and H is -0.14\n",
      "Pearson correlation p-value F and H is 0.15\n"
     ]
    }
   ],
   "source": [
    "print(f\"Pearson correlation r-value F and H is {pearsonr(dataset_H, dataset_F)[0]:.2f}\")\n",
    "print(f\"Pearson correlation p-value F and H is {pearsonr(dataset_H, dataset_F)[1]:.2f}\")"
   ]
  },
  {
   "cell_type": "code",
   "execution_count": 162,
   "id": "777ff870",
   "metadata": {},
   "outputs": [
    {
     "name": "stdout",
     "output_type": "stream",
     "text": [
      "0.0012273268075659871\n"
     ]
    }
   ],
   "source": [
    "# c)\n",
    "dataset_I = data['I']\n",
    "print(shapiro(dataset_I).pvalue)"
   ]
  },
  {
   "cell_type": "code",
   "execution_count": 163,
   "id": "12be8947",
   "metadata": {},
   "outputs": [
    {
     "name": "stdout",
     "output_type": "stream",
     "text": [
      "Spearman correlation r-value between F and I  is -0.05\n",
      "Spearman correlation P-value between F and I  is 0.635872193\n"
     ]
    }
   ],
   "source": [
    "print(f\"Spearman correlation r-value between F and I  is {spearmanr(dataset_I, dataset_H)[0]:.2f}\")\n",
    "print(f\"Spearman correlation P-value between F and I  is {spearmanr(dataset_I, dataset_H)[1]:.9f}\")"
   ]
  }
 ],
 "metadata": {
  "kernelspec": {
   "display_name": "Python 3 (ipykernel)",
   "language": "python",
   "name": "python3"
  },
  "language_info": {
   "codemirror_mode": {
    "name": "ipython",
    "version": 3
   },
   "file_extension": ".py",
   "mimetype": "text/x-python",
   "name": "python",
   "nbconvert_exporter": "python",
   "pygments_lexer": "ipython3",
   "version": "3.7.11"
  }
 },
 "nbformat": 4,
 "nbformat_minor": 5
}
