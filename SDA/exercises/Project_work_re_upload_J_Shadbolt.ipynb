{
 "cells": [
  {
   "cell_type": "markdown",
   "id": "a4d21bdf",
   "metadata": {},
   "source": [
    "<h3> TKO_7093 korotusprojekti </h3>"
   ]
  },
  {
   "cell_type": "code",
   "execution_count": 1,
   "id": "971b102c",
   "metadata": {},
   "outputs": [],
   "source": [
    "__auth__ = 'Jeremias Shadbolt'\n",
    "__email__ = 'jrshad@utu.fi'\n",
    "__student_number__ = '1900386'"
   ]
  },
  {
   "cell_type": "code",
   "execution_count": 78,
   "id": "ec963367",
   "metadata": {},
   "outputs": [],
   "source": [
    "'''\n",
    "Libraries\n",
    "'''\n",
    "import pandas as pd\n",
    "import matplotlib.pyplot as plt\n",
    "import numpy as np\n",
    "from scipy import stats"
   ]
  },
  {
   "cell_type": "markdown",
   "id": "5ff79eb0",
   "metadata": {},
   "source": [
    "<h5> Variables and their descriptions </h5>"
   ]
  },
  {
   "cell_type": "code",
   "execution_count": 3,
   "id": "815c351f",
   "metadata": {},
   "outputs": [
    {
     "name": "stdout",
     "output_type": "stream",
     "text": [
      "\n"
     ]
    }
   ],
   "source": [
    "'''\n",
    "Variable            Description\n",
    "\n",
    "ticket              ticket type\n",
    "cost                paid fee in euros\n",
    "month               calendar month during which the trip was made\n",
    "location_from       start location of the trip\n",
    "location_to         end location of the trip\n",
    "duration            travel time in seconds\n",
    "distance            travel distance in meters\n",
    "assistance          status of electric assistance (0 = disabled, 1 = enabled)\n",
    "energy_used         energy consumed by the bike in watt-hours\n",
    "energy_collected    energy collected by the bike in watt-hours\n",
    "'''\n",
    "print()"
   ]
  },
  {
   "cell_type": "markdown",
   "id": "39e33037",
   "metadata": {},
   "source": [
    "<h5> Tasks </h5>\n",
    "\n",
    "<h6> Data preparation </h6>\n",
    "    \n",
    "<br>The file bikes.data contains data that was collected directly from the recording devices of the bikes. No preprocessing or filtering has been done. The data may therefore contain irrelevant records, such as customers only trying out how bikes can be rented with our Android app and cancelling the transaction without actually riding the bike. Furthermore, the maintenance team reported that they had quite a few technical problems with the bikes, which may have resulted in invalid values in the data. So, you need to load and clean up the data before you can perform the statistical analysis.\n",
    "\n",
    "<br>(2p) Load the data from the file bikes.data. Check that the variables match the documentation above.\n",
    "\n",
    "<br>(6p) Use both visualisations and numerical summaries to explore the variables. Filter out irrelevant records and process invalid values, if any. Explain why the records are irrelevant or the values invalid. Also explain how the modifications you made to the data fix the problems.\n",
    "\n",
    "<h6> Data exploration </h6>\n",
    "\n",
    "<br>It is vital to know what our customers are like and how they use our bikes. We are particularly interested in characterising the users of the three ticket types (single, season and savonia). Explore the data to discover how the rental bikes were used during the time period at which the data was collected. Remember to examine your results, summarise your findings and point out any interesting discoveries in your report.</br>\n",
    "\n",
    "<br>The marketing team is interested in knowing how much the bikes were used under each ticket type. They believe that they can use the information to improve our advertisement campaigns and consequently increase our revenue.</br>\n",
    "\n",
    "<br>(4p) For each ticket type, calculate the number of trips made, the total distance travelled, the total time travelled and the total amount of fees paid. Examine your results and make comments about the customers.</br>\n",
    "\n",
    "<br>(4p) For each ticket type, visualise the monthly rental activity in terms of the total distance travelled. Examine your results and make comments about the development of the rental activity over time.</br>\n",
    "\n",
    "<br>The logistics team transported bikes between renting stations in order to balance their availability, but they struggled to maintain a decent number of bikes available at each station. To optimise the transport operation, the logistics team needs to know which stations tend to get depleted of bikes and which stations tend to accumulate bikes. While transporting bikes, they also noticed that quite often the bikes had fully discharged batteries. We need to upgrade our charging stations to keep them charged. For that, we need to know how much battery levels tend to change during trips.</br>\n",
    "\n",
    "<br>(4p) Find the three stations that have the highest total deficit of bikes (i.e. the largest negative difference between the number of arrived bikes and the number of departured bikes) and the three stations that have the highest total surplus of bikes (i.e. the largest positive difference). Examine your results and make suggestions about how bikes could be relocated.</br>\n",
    "\n",
    "<br>(4p) For each trip in the data set, calculate its net energy gain, which is defined as the difference between the energy collected and consumed during a trip. Visualise the distribution of this new variable. Make comments about how much battery levels tend to change during trips.</br>\n",
    "\n",
    "<h6> Hypothesis testing </h6>\n",
    "\n",
    "<br>There are a few hypotheses that we want to study about our customers and the trips they make. You need to examine whether the data has statistical evidence to support them. The tasks are detailed below. The other teams will want to double-check your analysis, so in your report remember to justify your choices of statistical tests, interpret the p-values, and make conclusions about the customers and their trips.</br>\n",
    "\n",
    "<br>The marketing team has made a hypothesis that trip durations tend to be different between the customers who have a season ticket and the customers who buy single tickets. They also believe that the longer the trip, the higher the rate of electricity consumption tends to be. If we can find evidence for these hypotheses, the marketing team could use the information in the future advertisement campaigns.</br>\n",
    "\n",
    "<br>(4p) Is there statistical evidence to claim that the travel times tend to be shorter or longer for the single than for the season ticket type. Justify your design choices, interpret the results and use your discoveries to make conclusions about customers.</br>\n",
    "\n",
    "<br>(4p) Is there statistical evidence to claim that the travel distance positively correlates with the average rate at which electricity is consumed during the trip? Justify your design choices, interpret the results and use your discoveries to make conclusions about customers.</br>\n",
    "\n",
    "<br>We will acquire some non-electric bikes for the next year to supplement our fleet. We need to offer them to those customers who are less likely to need electric assistance. The logistics team has a hypothesis that the Savonia students differ from the other customers with this respect.</br>\n",
    "\n",
    "<br>(4p) Is there statistical evidence to claim that the savonia ticket type differs from the others with respect to how often the electric assistance is used? Justify your design choices, interpret the results and use your discoveries to make conclusions about customers.</br>\n",
    "\n",
    "<h6> Future directions </h6>\n",
    "\n",
    "<br>The statistical analysis outlined above is definitely not perfect. There must be plenty of other hypotheses that could be examined to improve our rental operations, and the questions we ask above could perhaps be tweaked to better address the needs we have. Since the marketing, logistics and maintenance teams could not come up with other hypotheses or further adjustments, it is up to you to propose improvements to the analysis.</br>\n",
    "\n",
    "<br>(2p) Choose either (A) or (B) below.</br>\n",
    "\n",
    "<br>(A) Formulate your own hypothesis about the use of rental electric bikes. Explain why your hypothesis would be important to explore. Describe how the hypothesis could be tested. (You do not have to perform the analysis.)</br>\n",
    "\n",
    "<br>(B) Point out one or more problems in the questions asked or the approaches used above. Propose changes to address the problem(s). Explain how the changes would improve the statistical analysis.</br>"
   ]
  },
  {
   "cell_type": "markdown",
   "id": "fbca1d46",
   "metadata": {},
   "source": [
    "<h5> Get data Path</h5>"
   ]
  },
  {
   "cell_type": "code",
   "execution_count": 4,
   "id": "dd8c39cf",
   "metadata": {},
   "outputs": [],
   "source": [
    "path = 'bikes.data'"
   ]
  },
  {
   "cell_type": "markdown",
   "id": "cd93fbc1",
   "metadata": {},
   "source": [
    "<h3> Data Preparation </h3>"
   ]
  },
  {
   "cell_type": "code",
   "execution_count": 5,
   "id": "747ccbad",
   "metadata": {},
   "outputs": [],
   "source": [
    "'''\n",
    "Load the data from the file bikes.data. Check that the variables match the documentation above.\n",
    "'''\n",
    "bikes = pd.read_csv(path)"
   ]
  },
  {
   "cell_type": "markdown",
   "id": "5ead16ba",
   "metadata": {},
   "source": [
    "<h6> Load the data from the file bikes.data. Check that the variables match the documentation above.</h6>"
   ]
  },
  {
   "cell_type": "code",
   "execution_count": 6,
   "id": "d7614a1b",
   "metadata": {
    "scrolled": false
   },
   "outputs": [
    {
     "data": {
      "text/html": [
       "<div>\n",
       "<style scoped>\n",
       "    .dataframe tbody tr th:only-of-type {\n",
       "        vertical-align: middle;\n",
       "    }\n",
       "\n",
       "    .dataframe tbody tr th {\n",
       "        vertical-align: top;\n",
       "    }\n",
       "\n",
       "    .dataframe thead th {\n",
       "        text-align: right;\n",
       "    }\n",
       "</style>\n",
       "<table border=\"1\" class=\"dataframe\">\n",
       "  <thead>\n",
       "    <tr style=\"text-align: right;\">\n",
       "      <th></th>\n",
       "      <th>ticket</th>\n",
       "      <th>cost</th>\n",
       "      <th>month</th>\n",
       "      <th>location_from</th>\n",
       "      <th>location_to</th>\n",
       "      <th>duration</th>\n",
       "      <th>distance</th>\n",
       "      <th>assistance</th>\n",
       "      <th>energy_used</th>\n",
       "      <th>energy_collected</th>\n",
       "    </tr>\n",
       "  </thead>\n",
       "  <tbody>\n",
       "    <tr>\n",
       "      <th>430</th>\n",
       "      <td>savonia</td>\n",
       "      <td>0.00</td>\n",
       "      <td>9</td>\n",
       "      <td>MICROTEKNIA</td>\n",
       "      <td>MICROTEKNIA</td>\n",
       "      <td>12.0</td>\n",
       "      <td>0</td>\n",
       "      <td>0</td>\n",
       "      <td>0.0</td>\n",
       "      <td>0.0</td>\n",
       "    </tr>\n",
       "    <tr>\n",
       "      <th>616</th>\n",
       "      <td>season</td>\n",
       "      <td>0.00</td>\n",
       "      <td>9</td>\n",
       "      <td>PUIJONLAAKSO</td>\n",
       "      <td>PUIJONLAAKSO</td>\n",
       "      <td>53.0</td>\n",
       "      <td>0</td>\n",
       "      <td>1</td>\n",
       "      <td>0.0</td>\n",
       "      <td>0.0</td>\n",
       "    </tr>\n",
       "    <tr>\n",
       "      <th>908</th>\n",
       "      <td>single</td>\n",
       "      <td>0.35</td>\n",
       "      <td>5</td>\n",
       "      <td>TORI</td>\n",
       "      <td>KYS</td>\n",
       "      <td>374.0</td>\n",
       "      <td>1870</td>\n",
       "      <td>1</td>\n",
       "      <td>15.9</td>\n",
       "      <td>1.5</td>\n",
       "    </tr>\n",
       "    <tr>\n",
       "      <th>1501</th>\n",
       "      <td>single</td>\n",
       "      <td>4.80</td>\n",
       "      <td>6</td>\n",
       "      <td>KAUPPAKATU</td>\n",
       "      <td>KAUPPAKATU</td>\n",
       "      <td>5722.0</td>\n",
       "      <td>3150</td>\n",
       "      <td>1</td>\n",
       "      <td>21.6</td>\n",
       "      <td>6.0</td>\n",
       "    </tr>\n",
       "    <tr>\n",
       "      <th>1771</th>\n",
       "      <td>season</td>\n",
       "      <td>0.00</td>\n",
       "      <td>7</td>\n",
       "      <td>TORI</td>\n",
       "      <td>TORI</td>\n",
       "      <td>61.0</td>\n",
       "      <td>0</td>\n",
       "      <td>1</td>\n",
       "      <td>0.0</td>\n",
       "      <td>0.0</td>\n",
       "    </tr>\n",
       "  </tbody>\n",
       "</table>\n",
       "</div>"
      ],
      "text/plain": [
       "       ticket  cost  month location_from   location_to  duration  distance  \\\n",
       "430   savonia  0.00      9   MICROTEKNIA   MICROTEKNIA      12.0         0   \n",
       "616    season  0.00      9  PUIJONLAAKSO  PUIJONLAAKSO      53.0         0   \n",
       "908    single  0.35      5          TORI           KYS     374.0      1870   \n",
       "1501   single  4.80      6    KAUPPAKATU    KAUPPAKATU    5722.0      3150   \n",
       "1771   season  0.00      7          TORI          TORI      61.0         0   \n",
       "\n",
       "      assistance  energy_used  energy_collected  \n",
       "430            0          0.0               0.0  \n",
       "616            1          0.0               0.0  \n",
       "908            1         15.9               1.5  \n",
       "1501           1         21.6               6.0  \n",
       "1771           1          0.0               0.0  "
      ]
     },
     "execution_count": 6,
     "metadata": {},
     "output_type": "execute_result"
    }
   ],
   "source": [
    "bikes.sample(5)"
   ]
  },
  {
   "cell_type": "code",
   "execution_count": 7,
   "id": "1b459ce6",
   "metadata": {},
   "outputs": [
    {
     "data": {
      "text/html": [
       "<div>\n",
       "<style scoped>\n",
       "    .dataframe tbody tr th:only-of-type {\n",
       "        vertical-align: middle;\n",
       "    }\n",
       "\n",
       "    .dataframe tbody tr th {\n",
       "        vertical-align: top;\n",
       "    }\n",
       "\n",
       "    .dataframe thead th {\n",
       "        text-align: right;\n",
       "    }\n",
       "</style>\n",
       "<table border=\"1\" class=\"dataframe\">\n",
       "  <thead>\n",
       "    <tr style=\"text-align: right;\">\n",
       "      <th></th>\n",
       "      <th>cost</th>\n",
       "      <th>month</th>\n",
       "      <th>duration</th>\n",
       "      <th>distance</th>\n",
       "      <th>assistance</th>\n",
       "      <th>energy_used</th>\n",
       "      <th>energy_collected</th>\n",
       "    </tr>\n",
       "  </thead>\n",
       "  <tbody>\n",
       "    <tr>\n",
       "      <th>count</th>\n",
       "      <td>1774.000000</td>\n",
       "      <td>1774.000000</td>\n",
       "      <td>1774.000000</td>\n",
       "      <td>1774.000000</td>\n",
       "      <td>1774.000000</td>\n",
       "      <td>1774.000000</td>\n",
       "      <td>1774.000000</td>\n",
       "    </tr>\n",
       "    <tr>\n",
       "      <th>mean</th>\n",
       "      <td>0.491234</td>\n",
       "      <td>7.233371</td>\n",
       "      <td>671.323563</td>\n",
       "      <td>2460.067644</td>\n",
       "      <td>0.916009</td>\n",
       "      <td>17.399493</td>\n",
       "      <td>5.639290</td>\n",
       "    </tr>\n",
       "    <tr>\n",
       "      <th>std</th>\n",
       "      <td>4.127344</td>\n",
       "      <td>1.720351</td>\n",
       "      <td>1141.708627</td>\n",
       "      <td>2352.529305</td>\n",
       "      <td>0.277452</td>\n",
       "      <td>17.194463</td>\n",
       "      <td>6.379593</td>\n",
       "    </tr>\n",
       "    <tr>\n",
       "      <th>min</th>\n",
       "      <td>0.000000</td>\n",
       "      <td>4.000000</td>\n",
       "      <td>2.000000</td>\n",
       "      <td>-3380.000000</td>\n",
       "      <td>0.000000</td>\n",
       "      <td>0.000000</td>\n",
       "      <td>0.000000</td>\n",
       "    </tr>\n",
       "    <tr>\n",
       "      <th>25%</th>\n",
       "      <td>0.000000</td>\n",
       "      <td>6.000000</td>\n",
       "      <td>245.250000</td>\n",
       "      <td>910.000000</td>\n",
       "      <td>1.000000</td>\n",
       "      <td>1.425000</td>\n",
       "      <td>0.600000</td>\n",
       "    </tr>\n",
       "    <tr>\n",
       "      <th>50%</th>\n",
       "      <td>0.050000</td>\n",
       "      <td>7.000000</td>\n",
       "      <td>546.500000</td>\n",
       "      <td>2030.000000</td>\n",
       "      <td>1.000000</td>\n",
       "      <td>14.350000</td>\n",
       "      <td>3.900000</td>\n",
       "    </tr>\n",
       "    <tr>\n",
       "      <th>75%</th>\n",
       "      <td>0.550000</td>\n",
       "      <td>9.000000</td>\n",
       "      <td>877.750000</td>\n",
       "      <td>3605.000000</td>\n",
       "      <td>1.000000</td>\n",
       "      <td>26.900000</td>\n",
       "      <td>8.325000</td>\n",
       "    </tr>\n",
       "    <tr>\n",
       "      <th>max</th>\n",
       "      <td>100.000000</td>\n",
       "      <td>10.000000</td>\n",
       "      <td>25614.000000</td>\n",
       "      <td>20770.000000</td>\n",
       "      <td>1.000000</td>\n",
       "      <td>144.900000</td>\n",
       "      <td>56.400000</td>\n",
       "    </tr>\n",
       "  </tbody>\n",
       "</table>\n",
       "</div>"
      ],
      "text/plain": [
       "              cost        month      duration      distance   assistance  \\\n",
       "count  1774.000000  1774.000000   1774.000000   1774.000000  1774.000000   \n",
       "mean      0.491234     7.233371    671.323563   2460.067644     0.916009   \n",
       "std       4.127344     1.720351   1141.708627   2352.529305     0.277452   \n",
       "min       0.000000     4.000000      2.000000  -3380.000000     0.000000   \n",
       "25%       0.000000     6.000000    245.250000    910.000000     1.000000   \n",
       "50%       0.050000     7.000000    546.500000   2030.000000     1.000000   \n",
       "75%       0.550000     9.000000    877.750000   3605.000000     1.000000   \n",
       "max     100.000000    10.000000  25614.000000  20770.000000     1.000000   \n",
       "\n",
       "       energy_used  energy_collected  \n",
       "count  1774.000000       1774.000000  \n",
       "mean     17.399493          5.639290  \n",
       "std      17.194463          6.379593  \n",
       "min       0.000000          0.000000  \n",
       "25%       1.425000          0.600000  \n",
       "50%      14.350000          3.900000  \n",
       "75%      26.900000          8.325000  \n",
       "max     144.900000         56.400000  "
      ]
     },
     "execution_count": 7,
     "metadata": {},
     "output_type": "execute_result"
    }
   ],
   "source": [
    "bikes.describe()"
   ]
  },
  {
   "cell_type": "code",
   "execution_count": 8,
   "id": "11d645bb",
   "metadata": {
    "scrolled": true
   },
   "outputs": [
    {
     "name": "stdout",
     "output_type": "stream",
     "text": [
      "<class 'pandas.core.frame.DataFrame'>\n",
      "RangeIndex: 1774 entries, 0 to 1773\n",
      "Data columns (total 10 columns):\n",
      " #   Column            Non-Null Count  Dtype  \n",
      "---  ------            --------------  -----  \n",
      " 0   ticket            1774 non-null   object \n",
      " 1   cost              1774 non-null   float64\n",
      " 2   month             1774 non-null   int64  \n",
      " 3   location_from     1774 non-null   object \n",
      " 4   location_to       1774 non-null   object \n",
      " 5   duration          1774 non-null   float64\n",
      " 6   distance          1774 non-null   int64  \n",
      " 7   assistance        1774 non-null   int64  \n",
      " 8   energy_used       1774 non-null   float64\n",
      " 9   energy_collected  1774 non-null   float64\n",
      "dtypes: float64(4), int64(3), object(3)\n",
      "memory usage: 138.7+ KB\n"
     ]
    }
   ],
   "source": [
    "bikes.info()"
   ]
  },
  {
   "cell_type": "code",
   "execution_count": 9,
   "id": "b702a5e1",
   "metadata": {},
   "outputs": [
    {
     "data": {
      "text/plain": [
       "array(['single', 'savonia', 'season'], dtype=object)"
      ]
     },
     "execution_count": 9,
     "metadata": {},
     "output_type": "execute_result"
    }
   ],
   "source": [
    "# Verify ticket types are as described\n",
    "bikes['ticket'].unique()"
   ]
  },
  {
   "cell_type": "markdown",
   "id": "41c6e17b",
   "metadata": {},
   "source": [
    "Based on initial analysis done above the columns are as described, there are no null values and most of the numerical values seem to be within reasonable ranges.\n",
    "\n",
    "However, distance seems to have a minimum value of -3380 which hardly makes sense. Also the sample() above shows that there's another entry with a negative distance although the starting and ending points are the same. This could indicate that the user unlocked the bike and decided against using it. Cost also seems to have a maximum value of 100 which seems odd."
   ]
  },
  {
   "cell_type": "markdown",
   "id": "2b1d117c",
   "metadata": {},
   "source": [
    "<h6> Use both visualisations and numerical summaries to explore the variables. Filter out irrelevant records and process invalid values, if any. Explain why the records are irrelevant or the values invalid. Also explain how the modifications you made to the data fix the problems. </h6>"
   ]
  },
  {
   "cell_type": "code",
   "execution_count": 10,
   "id": "700b2ff9",
   "metadata": {},
   "outputs": [],
   "source": [
    "# Numerical columns\n",
    "num_cols = bikes.select_dtypes(include = ['number']).columns"
   ]
  },
  {
   "cell_type": "code",
   "execution_count": 11,
   "id": "434b3fb2",
   "metadata": {},
   "outputs": [
    {
     "data": {
      "text/plain": [
       "Index(['cost', 'month', 'duration', 'distance', 'assistance', 'energy_used',\n",
       "       'energy_collected'],\n",
       "      dtype='object')"
      ]
     },
     "execution_count": 11,
     "metadata": {},
     "output_type": "execute_result"
    }
   ],
   "source": [
    "num_cols"
   ]
  },
  {
   "cell_type": "markdown",
   "id": "c2182c8a",
   "metadata": {},
   "source": [
    "One way to approach this problem is to go through each numerical column individually and try to find any irregularities. "
   ]
  },
  {
   "cell_type": "markdown",
   "id": "f0f9272f",
   "metadata": {},
   "source": [
    "First, however, get a grasp with boxplots."
   ]
  },
  {
   "cell_type": "code",
   "execution_count": 12,
   "id": "ea842502",
   "metadata": {
    "scrolled": true
   },
   "outputs": [
    {
     "data": {
      "image/png": "[encoded data removed]",
      "text/plain": [
       "<Figure size 1200x800 with 7 Axes>"
      ]
     },
     "metadata": {},
     "output_type": "display_data"
    }
   ],
   "source": [
    "# Create separate boxplots for each numerical column\n",
    "plt.figure(figsize=(12, 8))\n",
    "\n",
    "for i, column in enumerate(num_cols):\n",
    "    plt.subplot(2, len(num_cols), i+1) \n",
    "    plt.boxplot(bikes[column])\n",
    "    plt.title(f'Boxplot of {column}')\n",
    "    plt.ylabel('Values')\n",
    "\n",
    "plt.tight_layout()\n",
    "plt.show()"
   ]
  },
  {
   "cell_type": "markdown",
   "id": "bb3606a4",
   "metadata": {},
   "source": [
    "As shown with describe, there are outliers within cost and duration."
   ]
  },
  {
   "cell_type": "code",
   "execution_count": 13,
   "id": "18d95371",
   "metadata": {
    "scrolled": true
   },
   "outputs": [
    {
     "name": "stdout",
     "output_type": "stream",
     "text": [
      "Amount of incorrectly charged single tickets: 0\n"
     ]
    },
    {
     "data": {
      "text/html": [
       "<div>\n",
       "<style scoped>\n",
       "    .dataframe tbody tr th:only-of-type {\n",
       "        vertical-align: middle;\n",
       "    }\n",
       "\n",
       "    .dataframe tbody tr th {\n",
       "        vertical-align: top;\n",
       "    }\n",
       "\n",
       "    .dataframe thead th {\n",
       "        text-align: right;\n",
       "    }\n",
       "</style>\n",
       "<table border=\"1\" class=\"dataframe\">\n",
       "  <thead>\n",
       "    <tr style=\"text-align: right;\">\n",
       "      <th></th>\n",
       "      <th>ticket</th>\n",
       "      <th>cost</th>\n",
       "      <th>month</th>\n",
       "      <th>location_from</th>\n",
       "      <th>location_to</th>\n",
       "      <th>duration</th>\n",
       "      <th>distance</th>\n",
       "      <th>assistance</th>\n",
       "      <th>energy_used</th>\n",
       "      <th>energy_collected</th>\n",
       "    </tr>\n",
       "  </thead>\n",
       "  <tbody>\n",
       "    <tr>\n",
       "      <th>100</th>\n",
       "      <td>savonia</td>\n",
       "      <td>100.0</td>\n",
       "      <td>9</td>\n",
       "      <td>NEULAMÄKI</td>\n",
       "      <td>MICROTEKNIA</td>\n",
       "      <td>25614.0</td>\n",
       "      <td>2310</td>\n",
       "      <td>0</td>\n",
       "      <td>0.0</td>\n",
       "      <td>3.6</td>\n",
       "    </tr>\n",
       "    <tr>\n",
       "      <th>609</th>\n",
       "      <td>savonia</td>\n",
       "      <td>100.0</td>\n",
       "      <td>9</td>\n",
       "      <td>NEULAMÄKI</td>\n",
       "      <td>MICROTEKNIA</td>\n",
       "      <td>25614.0</td>\n",
       "      <td>2310</td>\n",
       "      <td>0</td>\n",
       "      <td>0.0</td>\n",
       "      <td>3.6</td>\n",
       "    </tr>\n",
       "    <tr>\n",
       "      <th>1231</th>\n",
       "      <td>single</td>\n",
       "      <td>100.0</td>\n",
       "      <td>6</td>\n",
       "      <td>TASAVALLANKATU</td>\n",
       "      <td>PIRTTI</td>\n",
       "      <td>22793.0</td>\n",
       "      <td>14690</td>\n",
       "      <td>1</td>\n",
       "      <td>91.3</td>\n",
       "      <td>6.3</td>\n",
       "    </tr>\n",
       "  </tbody>\n",
       "</table>\n",
       "</div>"
      ],
      "text/plain": [
       "       ticket   cost  month   location_from  location_to  duration  distance  \\\n",
       "100   savonia  100.0      9       NEULAMÄKI  MICROTEKNIA   25614.0      2310   \n",
       "609   savonia  100.0      9       NEULAMÄKI  MICROTEKNIA   25614.0      2310   \n",
       "1231   single  100.0      6  TASAVALLANKATU       PIRTTI   22793.0     14690   \n",
       "\n",
       "      assistance  energy_used  energy_collected  \n",
       "100            0          0.0               3.6  \n",
       "609            0          0.0               3.6  \n",
       "1231           1         91.3               6.3  "
      ]
     },
     "execution_count": 13,
     "metadata": {},
     "output_type": "execute_result"
    }
   ],
   "source": [
    "'''\n",
    "Analysis for cost\n",
    "\n",
    "https://kaupunkipyorat.kuopio.fi/hinnasto.html used as reference\n",
    "'''\n",
    "# Check for instances where cost is <= 0 and ticket type isn't savonia or season since based on their website\n",
    "# season and savonia tickets are paid once in beforehand and it's reasonable to assume this is the case here\n",
    "print(f\"Amount of incorrectly charged single tickets: {len(bikes[(bikes['cost'] <= 0) & (bikes['ticket'] == 'single')])}\")\n",
    "\n",
    "# Describe() showed a cost max of 100. This could indicate something. Check out all costs over 5 euros\n",
    "bikes[bikes['cost'] > 5]"
   ]
  },
  {
   "cell_type": "markdown",
   "id": "58477328",
   "metadata": {},
   "source": [
    "For some reason, there are still costs within Savonia-ticket, so apparently my hypothesis of Savonia tickets being paid in beforehand was false. Check into this\n",
    "\n",
    "However, the unreasonably high ticket prices seem to be from quite a long rental time. Could it be that the users forgot to turn off the renting? According to the website, Savonia ticket gives unlimited instances of 30 minutes of free riding. \n",
    "\n",
    "Since duration was measured in seconds let's turn the seconds into minutes to ease handling"
   ]
  },
  {
   "cell_type": "code",
   "execution_count": 14,
   "id": "78bc8203",
   "metadata": {},
   "outputs": [],
   "source": [
    "long_durations = bikes[bikes['cost'] > 5].copy()"
   ]
  },
  {
   "cell_type": "code",
   "execution_count": 15,
   "id": "acfa24e0",
   "metadata": {},
   "outputs": [],
   "source": [
    "# turn durations into minutes and subtract the free 30 minutes\n",
    "long_durations['duration'] = long_durations['duration'] // 60\n",
    "long_durations['duration'] = long_durations['duration'] - 30"
   ]
  },
  {
   "cell_type": "code",
   "execution_count": 16,
   "id": "57262065",
   "metadata": {},
   "outputs": [],
   "source": [
    "# calculate whether the total cost is accurate with the formula described on website: 10 cents / minute\n",
    "long_durations['calculated_cost'] = long_durations['duration'] * 0.10"
   ]
  },
  {
   "cell_type": "code",
   "execution_count": 17,
   "id": "7b3da85f",
   "metadata": {
    "scrolled": true
   },
   "outputs": [
    {
     "data": {
      "text/html": [
       "<div>\n",
       "<style scoped>\n",
       "    .dataframe tbody tr th:only-of-type {\n",
       "        vertical-align: middle;\n",
       "    }\n",
       "\n",
       "    .dataframe tbody tr th {\n",
       "        vertical-align: top;\n",
       "    }\n",
       "\n",
       "    .dataframe thead th {\n",
       "        text-align: right;\n",
       "    }\n",
       "</style>\n",
       "<table border=\"1\" class=\"dataframe\">\n",
       "  <thead>\n",
       "    <tr style=\"text-align: right;\">\n",
       "      <th></th>\n",
       "      <th>ticket</th>\n",
       "      <th>cost</th>\n",
       "      <th>month</th>\n",
       "      <th>location_from</th>\n",
       "      <th>location_to</th>\n",
       "      <th>duration</th>\n",
       "      <th>distance</th>\n",
       "      <th>assistance</th>\n",
       "      <th>energy_used</th>\n",
       "      <th>energy_collected</th>\n",
       "      <th>calculated_cost</th>\n",
       "    </tr>\n",
       "  </thead>\n",
       "  <tbody>\n",
       "    <tr>\n",
       "      <th>100</th>\n",
       "      <td>savonia</td>\n",
       "      <td>100.0</td>\n",
       "      <td>9</td>\n",
       "      <td>NEULAMÄKI</td>\n",
       "      <td>MICROTEKNIA</td>\n",
       "      <td>396.0</td>\n",
       "      <td>2310</td>\n",
       "      <td>0</td>\n",
       "      <td>0.0</td>\n",
       "      <td>3.6</td>\n",
       "      <td>39.6</td>\n",
       "    </tr>\n",
       "    <tr>\n",
       "      <th>609</th>\n",
       "      <td>savonia</td>\n",
       "      <td>100.0</td>\n",
       "      <td>9</td>\n",
       "      <td>NEULAMÄKI</td>\n",
       "      <td>MICROTEKNIA</td>\n",
       "      <td>396.0</td>\n",
       "      <td>2310</td>\n",
       "      <td>0</td>\n",
       "      <td>0.0</td>\n",
       "      <td>3.6</td>\n",
       "      <td>39.6</td>\n",
       "    </tr>\n",
       "    <tr>\n",
       "      <th>1231</th>\n",
       "      <td>single</td>\n",
       "      <td>100.0</td>\n",
       "      <td>6</td>\n",
       "      <td>TASAVALLANKATU</td>\n",
       "      <td>PIRTTI</td>\n",
       "      <td>349.0</td>\n",
       "      <td>14690</td>\n",
       "      <td>1</td>\n",
       "      <td>91.3</td>\n",
       "      <td>6.3</td>\n",
       "      <td>34.9</td>\n",
       "    </tr>\n",
       "  </tbody>\n",
       "</table>\n",
       "</div>"
      ],
      "text/plain": [
       "       ticket   cost  month   location_from  location_to  duration  distance  \\\n",
       "100   savonia  100.0      9       NEULAMÄKI  MICROTEKNIA     396.0      2310   \n",
       "609   savonia  100.0      9       NEULAMÄKI  MICROTEKNIA     396.0      2310   \n",
       "1231   single  100.0      6  TASAVALLANKATU       PIRTTI     349.0     14690   \n",
       "\n",
       "      assistance  energy_used  energy_collected  calculated_cost  \n",
       "100            0          0.0               3.6             39.6  \n",
       "609            0          0.0               3.6             39.6  \n",
       "1231           1         91.3               6.3             34.9  "
      ]
     },
     "execution_count": 17,
     "metadata": {},
     "output_type": "execute_result"
    }
   ],
   "source": [
    "long_durations"
   ]
  },
  {
   "cell_type": "code",
   "execution_count": 18,
   "id": "a5cd56a0",
   "metadata": {},
   "outputs": [],
   "source": [
    "# Drop the unreasonably high cost trips so they don't affect further calculations\n",
    "bikes = bikes[bikes['cost'] < 5]"
   ]
  },
  {
   "cell_type": "markdown",
   "id": "e777014d",
   "metadata": {},
   "source": [
    "Calculated costs do not add up to the initial cost. Could be a good idea to contact Kuopio about this. The last instance also used a lot more energy than they collected. Could it be the bike is somewhat faulty?\n",
    "\n",
    "Later edit: it seems that there's a fee for late return which explains these outliers."
   ]
  },
  {
   "cell_type": "markdown",
   "id": "0bbe223b",
   "metadata": {},
   "source": [
    "Median and mean cost per ticket"
   ]
  },
  {
   "cell_type": "code",
   "execution_count": 39,
   "id": "4e555e7d",
   "metadata": {},
   "outputs": [
    {
     "data": {
      "image/png": "[encoded data removed]",
      "text/plain": [
       "<Figure size 800x600 with 1 Axes>"
      ]
     },
     "metadata": {},
     "output_type": "display_data"
    }
   ],
   "source": [
    "# Group the DataFrame by 'ticket' and calculate average and median costs\n",
    "ticket_grouped = bikes.groupby('ticket')['cost'].agg(['mean', 'median'])\n",
    "\n",
    "# Reset the index to make 'ticket' a regular column\n",
    "ticket_grouped = ticket_grouped.reset_index()\n",
    "\n",
    "# Create a bar plot\n",
    "plt.figure(figsize=(8, 6))\n",
    "plt.bar(ticket_grouped['ticket'], ticket_grouped['mean'], label='Average Cost', alpha=0.7, edgecolor = 'black')\n",
    "plt.bar(ticket_grouped['ticket'], ticket_grouped['median'], label='Median Cost', alpha=0.7, edgecolor = 'red')\n",
    "plt.xlabel('Ticket Category')\n",
    "plt.ylabel('Cost')\n",
    "plt.title('Average and Median Ticket Costs by Category')\n",
    "plt.legend()\n",
    "plt.show()"
   ]
  },
  {
   "cell_type": "markdown",
   "id": "b7aaf3f0",
   "metadata": {},
   "source": [
    "The hypothesis that the tickets are paid in before hand holds again, after dropping the irregular costs. There still seems to be some costs assocaited with seasonal and savonia tickets."
   ]
  },
  {
   "cell_type": "code",
   "execution_count": 20,
   "id": "bde0a190",
   "metadata": {
    "scrolled": false
   },
   "outputs": [
    {
     "data": {
      "image/png": "[encoded data removed]",
      "text/plain": [
       "<Figure size 1200x800 with 2 Axes>"
      ]
     },
     "metadata": {},
     "output_type": "display_data"
    }
   ],
   "source": [
    "# Verify irregularities are gone with boxplots\n",
    "plt.figure(figsize=(12, 8))\n",
    "\n",
    "for i, column in enumerate(bikes[['cost', 'distance']].columns):\n",
    "    plt.subplot(2, len(num_cols), i+1) \n",
    "    plt.boxplot(bikes[column])\n",
    "    plt.title(f'Boxplot of {column}')\n",
    "    plt.ylabel('Values')\n",
    "\n",
    "plt.tight_layout()\n",
    "plt.show()"
   ]
  },
  {
   "cell_type": "markdown",
   "id": "89cfc537",
   "metadata": {},
   "source": [
    "There are still some outliers in distance, mainly negative numbers. Let's explore them next."
   ]
  },
  {
   "cell_type": "markdown",
   "id": "3d06af8d",
   "metadata": {},
   "source": [
    "<h4> Cost summary </h4>\n",
    "There were three irregularities within the cost bracket that I could find. Those irregularities were probably due to the return being late which results in a 100 € fine as per https://kaupunkipyorat.kuopio.fi/hinnasto.html. They've been removed, however, due to the effects on average costs."
   ]
  },
  {
   "cell_type": "code",
   "execution_count": 21,
   "id": "504f448d",
   "metadata": {},
   "outputs": [
    {
     "name": "stdout",
     "output_type": "stream",
     "text": [
      "Amount of rows with negative distance: 39\n"
     ]
    }
   ],
   "source": [
    "'''\n",
    "Analysis for distance\n",
    "'''\n",
    "\n",
    "# find rows with negative distance and explore\n",
    "print(f\"Amount of rows with negative distance: {len(bikes[bikes['distance'] < 0])}\")"
   ]
  },
  {
   "cell_type": "markdown",
   "id": "b09f65b5",
   "metadata": {},
   "source": [
    "Some can be explained by people just unlocking the bike and then stopping the usage, however there still are some rows where the duration and distance do not support it. For instance, as seen below, there are rows where the duration is multiple minutes and the distance is negatice by more than 100 meters. This should also be reported."
   ]
  },
  {
   "cell_type": "code",
   "execution_count": 22,
   "id": "6edda835",
   "metadata": {
    "scrolled": true
   },
   "outputs": [
    {
     "data": {
      "text/html": [
       "<div>\n",
       "<style scoped>\n",
       "    .dataframe tbody tr th:only-of-type {\n",
       "        vertical-align: middle;\n",
       "    }\n",
       "\n",
       "    .dataframe tbody tr th {\n",
       "        vertical-align: top;\n",
       "    }\n",
       "\n",
       "    .dataframe thead th {\n",
       "        text-align: right;\n",
       "    }\n",
       "</style>\n",
       "<table border=\"1\" class=\"dataframe\">\n",
       "  <thead>\n",
       "    <tr style=\"text-align: right;\">\n",
       "      <th></th>\n",
       "      <th>ticket</th>\n",
       "      <th>cost</th>\n",
       "      <th>month</th>\n",
       "      <th>location_from</th>\n",
       "      <th>location_to</th>\n",
       "      <th>duration</th>\n",
       "      <th>distance</th>\n",
       "      <th>assistance</th>\n",
       "      <th>energy_used</th>\n",
       "      <th>energy_collected</th>\n",
       "    </tr>\n",
       "  </thead>\n",
       "  <tbody>\n",
       "    <tr>\n",
       "      <th>23</th>\n",
       "      <td>single</td>\n",
       "      <td>0.15</td>\n",
       "      <td>5</td>\n",
       "      <td>TASAVALLANKATU</td>\n",
       "      <td>TASAVALLANKATU</td>\n",
       "      <td>138.0</td>\n",
       "      <td>-150</td>\n",
       "      <td>1</td>\n",
       "      <td>0.2</td>\n",
       "      <td>0.0</td>\n",
       "    </tr>\n",
       "    <tr>\n",
       "      <th>60</th>\n",
       "      <td>season</td>\n",
       "      <td>0.00</td>\n",
       "      <td>8</td>\n",
       "      <td>MICROTEKNIA</td>\n",
       "      <td>MICROTEKNIA</td>\n",
       "      <td>41.0</td>\n",
       "      <td>-20</td>\n",
       "      <td>1</td>\n",
       "      <td>0.0</td>\n",
       "      <td>0.0</td>\n",
       "    </tr>\n",
       "    <tr>\n",
       "      <th>62</th>\n",
       "      <td>single</td>\n",
       "      <td>0.10</td>\n",
       "      <td>8</td>\n",
       "      <td>KEILANKANTA</td>\n",
       "      <td>KEILANKANTA</td>\n",
       "      <td>73.0</td>\n",
       "      <td>-30</td>\n",
       "      <td>1</td>\n",
       "      <td>0.0</td>\n",
       "      <td>0.0</td>\n",
       "    </tr>\n",
       "    <tr>\n",
       "      <th>96</th>\n",
       "      <td>single</td>\n",
       "      <td>0.05</td>\n",
       "      <td>5</td>\n",
       "      <td>TORI</td>\n",
       "      <td>TORI</td>\n",
       "      <td>48.0</td>\n",
       "      <td>-10</td>\n",
       "      <td>1</td>\n",
       "      <td>0.0</td>\n",
       "      <td>0.0</td>\n",
       "    </tr>\n",
       "    <tr>\n",
       "      <th>125</th>\n",
       "      <td>savonia</td>\n",
       "      <td>0.00</td>\n",
       "      <td>10</td>\n",
       "      <td>KAUPPAKATU</td>\n",
       "      <td>KAUPPAKATU</td>\n",
       "      <td>48.0</td>\n",
       "      <td>-20</td>\n",
       "      <td>1</td>\n",
       "      <td>0.0</td>\n",
       "      <td>0.0</td>\n",
       "    </tr>\n",
       "    <tr>\n",
       "      <th>284</th>\n",
       "      <td>single</td>\n",
       "      <td>0.15</td>\n",
       "      <td>4</td>\n",
       "      <td>KAUPPAKATU</td>\n",
       "      <td>KAUPPAKATU</td>\n",
       "      <td>178.0</td>\n",
       "      <td>-50</td>\n",
       "      <td>1</td>\n",
       "      <td>0.2</td>\n",
       "      <td>0.0</td>\n",
       "    </tr>\n",
       "    <tr>\n",
       "      <th>295</th>\n",
       "      <td>season</td>\n",
       "      <td>0.00</td>\n",
       "      <td>8</td>\n",
       "      <td>KAUPPAKATU</td>\n",
       "      <td>KAUPPAKATU</td>\n",
       "      <td>79.0</td>\n",
       "      <td>-60</td>\n",
       "      <td>1</td>\n",
       "      <td>0.0</td>\n",
       "      <td>0.0</td>\n",
       "    </tr>\n",
       "    <tr>\n",
       "      <th>322</th>\n",
       "      <td>savonia</td>\n",
       "      <td>0.00</td>\n",
       "      <td>10</td>\n",
       "      <td>KYS</td>\n",
       "      <td>KYS</td>\n",
       "      <td>70.0</td>\n",
       "      <td>-10</td>\n",
       "      <td>1</td>\n",
       "      <td>0.0</td>\n",
       "      <td>0.0</td>\n",
       "    </tr>\n",
       "    <tr>\n",
       "      <th>384</th>\n",
       "      <td>season</td>\n",
       "      <td>0.00</td>\n",
       "      <td>8</td>\n",
       "      <td>PUIJONLAAKSO</td>\n",
       "      <td>PUIJONLAAKSO</td>\n",
       "      <td>221.0</td>\n",
       "      <td>-10</td>\n",
       "      <td>1</td>\n",
       "      <td>1.0</td>\n",
       "      <td>0.0</td>\n",
       "    </tr>\n",
       "    <tr>\n",
       "      <th>410</th>\n",
       "      <td>single</td>\n",
       "      <td>0.05</td>\n",
       "      <td>8</td>\n",
       "      <td>TORI</td>\n",
       "      <td>TORI</td>\n",
       "      <td>39.0</td>\n",
       "      <td>-10</td>\n",
       "      <td>1</td>\n",
       "      <td>0.0</td>\n",
       "      <td>0.0</td>\n",
       "    </tr>\n",
       "    <tr>\n",
       "      <th>420</th>\n",
       "      <td>season</td>\n",
       "      <td>0.00</td>\n",
       "      <td>10</td>\n",
       "      <td>TORI</td>\n",
       "      <td>TORI</td>\n",
       "      <td>75.0</td>\n",
       "      <td>-20</td>\n",
       "      <td>1</td>\n",
       "      <td>0.1</td>\n",
       "      <td>0.0</td>\n",
       "    </tr>\n",
       "    <tr>\n",
       "      <th>446</th>\n",
       "      <td>single</td>\n",
       "      <td>0.10</td>\n",
       "      <td>5</td>\n",
       "      <td>PUIJONLAAKSO</td>\n",
       "      <td>PUIJONLAAKSO</td>\n",
       "      <td>109.0</td>\n",
       "      <td>-30</td>\n",
       "      <td>1</td>\n",
       "      <td>0.4</td>\n",
       "      <td>0.0</td>\n",
       "    </tr>\n",
       "    <tr>\n",
       "      <th>520</th>\n",
       "      <td>single</td>\n",
       "      <td>0.10</td>\n",
       "      <td>4</td>\n",
       "      <td>PUIJONLAAKSO</td>\n",
       "      <td>PUIJONLAAKSO</td>\n",
       "      <td>62.0</td>\n",
       "      <td>-10</td>\n",
       "      <td>1</td>\n",
       "      <td>0.5</td>\n",
       "      <td>0.0</td>\n",
       "    </tr>\n",
       "    <tr>\n",
       "      <th>589</th>\n",
       "      <td>single</td>\n",
       "      <td>0.05</td>\n",
       "      <td>10</td>\n",
       "      <td>TORI</td>\n",
       "      <td>TORI</td>\n",
       "      <td>51.0</td>\n",
       "      <td>-20</td>\n",
       "      <td>1</td>\n",
       "      <td>0.0</td>\n",
       "      <td>0.0</td>\n",
       "    </tr>\n",
       "    <tr>\n",
       "      <th>639</th>\n",
       "      <td>single</td>\n",
       "      <td>0.15</td>\n",
       "      <td>8</td>\n",
       "      <td>KYS</td>\n",
       "      <td>KYS</td>\n",
       "      <td>133.0</td>\n",
       "      <td>-110</td>\n",
       "      <td>1</td>\n",
       "      <td>0.0</td>\n",
       "      <td>0.0</td>\n",
       "    </tr>\n",
       "    <tr>\n",
       "      <th>738</th>\n",
       "      <td>single</td>\n",
       "      <td>0.10</td>\n",
       "      <td>10</td>\n",
       "      <td>TORI</td>\n",
       "      <td>TORI</td>\n",
       "      <td>77.0</td>\n",
       "      <td>-60</td>\n",
       "      <td>1</td>\n",
       "      <td>0.1</td>\n",
       "      <td>0.0</td>\n",
       "    </tr>\n",
       "    <tr>\n",
       "      <th>808</th>\n",
       "      <td>single</td>\n",
       "      <td>0.20</td>\n",
       "      <td>8</td>\n",
       "      <td>KEILANKANTA</td>\n",
       "      <td>KEILANKANTA</td>\n",
       "      <td>227.0</td>\n",
       "      <td>-130</td>\n",
       "      <td>1</td>\n",
       "      <td>0.0</td>\n",
       "      <td>0.0</td>\n",
       "    </tr>\n",
       "    <tr>\n",
       "      <th>977</th>\n",
       "      <td>savonia</td>\n",
       "      <td>0.00</td>\n",
       "      <td>10</td>\n",
       "      <td>TORI</td>\n",
       "      <td>TORI</td>\n",
       "      <td>263.0</td>\n",
       "      <td>-240</td>\n",
       "      <td>1</td>\n",
       "      <td>0.2</td>\n",
       "      <td>0.0</td>\n",
       "    </tr>\n",
       "    <tr>\n",
       "      <th>1002</th>\n",
       "      <td>single</td>\n",
       "      <td>0.15</td>\n",
       "      <td>5</td>\n",
       "      <td>TASAVALLANKATU</td>\n",
       "      <td>TASAVALLANKATU</td>\n",
       "      <td>130.0</td>\n",
       "      <td>-50</td>\n",
       "      <td>1</td>\n",
       "      <td>0.2</td>\n",
       "      <td>0.0</td>\n",
       "    </tr>\n",
       "    <tr>\n",
       "      <th>1076</th>\n",
       "      <td>season</td>\n",
       "      <td>0.00</td>\n",
       "      <td>8</td>\n",
       "      <td>PUIJONLAAKSO</td>\n",
       "      <td>PUIJONLAAKSO</td>\n",
       "      <td>93.0</td>\n",
       "      <td>-50</td>\n",
       "      <td>1</td>\n",
       "      <td>0.1</td>\n",
       "      <td>0.0</td>\n",
       "    </tr>\n",
       "    <tr>\n",
       "      <th>1095</th>\n",
       "      <td>season</td>\n",
       "      <td>0.00</td>\n",
       "      <td>8</td>\n",
       "      <td>PUIJONLAAKSO</td>\n",
       "      <td>PUIJONLAAKSO</td>\n",
       "      <td>105.0</td>\n",
       "      <td>-30</td>\n",
       "      <td>1</td>\n",
       "      <td>0.4</td>\n",
       "      <td>0.0</td>\n",
       "    </tr>\n",
       "    <tr>\n",
       "      <th>1259</th>\n",
       "      <td>single</td>\n",
       "      <td>0.10</td>\n",
       "      <td>8</td>\n",
       "      <td>SATAMA</td>\n",
       "      <td>SATAMA</td>\n",
       "      <td>66.0</td>\n",
       "      <td>-30</td>\n",
       "      <td>1</td>\n",
       "      <td>0.0</td>\n",
       "      <td>0.0</td>\n",
       "    </tr>\n",
       "    <tr>\n",
       "      <th>1342</th>\n",
       "      <td>single</td>\n",
       "      <td>0.15</td>\n",
       "      <td>4</td>\n",
       "      <td>KAUPPAKATU</td>\n",
       "      <td>KAUPPAKATU</td>\n",
       "      <td>178.0</td>\n",
       "      <td>-50</td>\n",
       "      <td>1</td>\n",
       "      <td>0.2</td>\n",
       "      <td>0.0</td>\n",
       "    </tr>\n",
       "    <tr>\n",
       "      <th>1446</th>\n",
       "      <td>season</td>\n",
       "      <td>0.00</td>\n",
       "      <td>10</td>\n",
       "      <td>TORI</td>\n",
       "      <td>TORI</td>\n",
       "      <td>96.0</td>\n",
       "      <td>-40</td>\n",
       "      <td>1</td>\n",
       "      <td>1.9</td>\n",
       "      <td>0.3</td>\n",
       "    </tr>\n",
       "    <tr>\n",
       "      <th>1607</th>\n",
       "      <td>season</td>\n",
       "      <td>0.00</td>\n",
       "      <td>8</td>\n",
       "      <td>TORI</td>\n",
       "      <td>TORI</td>\n",
       "      <td>245.0</td>\n",
       "      <td>-230</td>\n",
       "      <td>1</td>\n",
       "      <td>0.0</td>\n",
       "      <td>0.0</td>\n",
       "    </tr>\n",
       "    <tr>\n",
       "      <th>1617</th>\n",
       "      <td>single</td>\n",
       "      <td>0.20</td>\n",
       "      <td>10</td>\n",
       "      <td>KYS</td>\n",
       "      <td>KYS</td>\n",
       "      <td>237.0</td>\n",
       "      <td>-80</td>\n",
       "      <td>1</td>\n",
       "      <td>0.0</td>\n",
       "      <td>0.0</td>\n",
       "    </tr>\n",
       "    <tr>\n",
       "      <th>1680</th>\n",
       "      <td>season</td>\n",
       "      <td>0.00</td>\n",
       "      <td>10</td>\n",
       "      <td>TORI</td>\n",
       "      <td>TORI</td>\n",
       "      <td>115.0</td>\n",
       "      <td>-20</td>\n",
       "      <td>1</td>\n",
       "      <td>0.0</td>\n",
       "      <td>0.0</td>\n",
       "    </tr>\n",
       "  </tbody>\n",
       "</table>\n",
       "</div>"
      ],
      "text/plain": [
       "       ticket  cost  month   location_from     location_to  duration  \\\n",
       "23     single  0.15      5  TASAVALLANKATU  TASAVALLANKATU     138.0   \n",
       "60     season  0.00      8     MICROTEKNIA     MICROTEKNIA      41.0   \n",
       "62     single  0.10      8     KEILANKANTA     KEILANKANTA      73.0   \n",
       "96     single  0.05      5            TORI            TORI      48.0   \n",
       "125   savonia  0.00     10      KAUPPAKATU      KAUPPAKATU      48.0   \n",
       "284    single  0.15      4      KAUPPAKATU      KAUPPAKATU     178.0   \n",
       "295    season  0.00      8      KAUPPAKATU      KAUPPAKATU      79.0   \n",
       "322   savonia  0.00     10             KYS             KYS      70.0   \n",
       "384    season  0.00      8    PUIJONLAAKSO    PUIJONLAAKSO     221.0   \n",
       "410    single  0.05      8            TORI            TORI      39.0   \n",
       "420    season  0.00     10            TORI            TORI      75.0   \n",
       "446    single  0.10      5    PUIJONLAAKSO    PUIJONLAAKSO     109.0   \n",
       "520    single  0.10      4    PUIJONLAAKSO    PUIJONLAAKSO      62.0   \n",
       "589    single  0.05     10            TORI            TORI      51.0   \n",
       "639    single  0.15      8             KYS             KYS     133.0   \n",
       "738    single  0.10     10            TORI            TORI      77.0   \n",
       "808    single  0.20      8     KEILANKANTA     KEILANKANTA     227.0   \n",
       "977   savonia  0.00     10            TORI            TORI     263.0   \n",
       "1002   single  0.15      5  TASAVALLANKATU  TASAVALLANKATU     130.0   \n",
       "1076   season  0.00      8    PUIJONLAAKSO    PUIJONLAAKSO      93.0   \n",
       "1095   season  0.00      8    PUIJONLAAKSO    PUIJONLAAKSO     105.0   \n",
       "1259   single  0.10      8          SATAMA          SATAMA      66.0   \n",
       "1342   single  0.15      4      KAUPPAKATU      KAUPPAKATU     178.0   \n",
       "1446   season  0.00     10            TORI            TORI      96.0   \n",
       "1607   season  0.00      8            TORI            TORI     245.0   \n",
       "1617   single  0.20     10             KYS             KYS     237.0   \n",
       "1680   season  0.00     10            TORI            TORI     115.0   \n",
       "\n",
       "      distance  assistance  energy_used  energy_collected  \n",
       "23        -150           1          0.2               0.0  \n",
       "60         -20           1          0.0               0.0  \n",
       "62         -30           1          0.0               0.0  \n",
       "96         -10           1          0.0               0.0  \n",
       "125        -20           1          0.0               0.0  \n",
       "284        -50           1          0.2               0.0  \n",
       "295        -60           1          0.0               0.0  \n",
       "322        -10           1          0.0               0.0  \n",
       "384        -10           1          1.0               0.0  \n",
       "410        -10           1          0.0               0.0  \n",
       "420        -20           1          0.1               0.0  \n",
       "446        -30           1          0.4               0.0  \n",
       "520        -10           1          0.5               0.0  \n",
       "589        -20           1          0.0               0.0  \n",
       "639       -110           1          0.0               0.0  \n",
       "738        -60           1          0.1               0.0  \n",
       "808       -130           1          0.0               0.0  \n",
       "977       -240           1          0.2               0.0  \n",
       "1002       -50           1          0.2               0.0  \n",
       "1076       -50           1          0.1               0.0  \n",
       "1095       -30           1          0.4               0.0  \n",
       "1259       -30           1          0.0               0.0  \n",
       "1342       -50           1          0.2               0.0  \n",
       "1446       -40           1          1.9               0.3  \n",
       "1607      -230           1          0.0               0.0  \n",
       "1617       -80           1          0.0               0.0  \n",
       "1680       -20           1          0.0               0.0  "
      ]
     },
     "execution_count": 22,
     "metadata": {},
     "output_type": "execute_result"
    }
   ],
   "source": [
    "bikes[(bikes['distance'] < 0) & (bikes['location_from'] == bikes['location_to'])]"
   ]
  },
  {
   "cell_type": "code",
   "execution_count": 23,
   "id": "f9da25c2",
   "metadata": {
    "scrolled": true
   },
   "outputs": [
    {
     "data": {
      "text/html": [
       "<div>\n",
       "<style scoped>\n",
       "    .dataframe tbody tr th:only-of-type {\n",
       "        vertical-align: middle;\n",
       "    }\n",
       "\n",
       "    .dataframe tbody tr th {\n",
       "        vertical-align: top;\n",
       "    }\n",
       "\n",
       "    .dataframe thead th {\n",
       "        text-align: right;\n",
       "    }\n",
       "</style>\n",
       "<table border=\"1\" class=\"dataframe\">\n",
       "  <thead>\n",
       "    <tr style=\"text-align: right;\">\n",
       "      <th></th>\n",
       "      <th>ticket</th>\n",
       "      <th>cost</th>\n",
       "      <th>month</th>\n",
       "      <th>location_from</th>\n",
       "      <th>location_to</th>\n",
       "      <th>duration</th>\n",
       "      <th>distance</th>\n",
       "      <th>assistance</th>\n",
       "      <th>energy_used</th>\n",
       "      <th>energy_collected</th>\n",
       "    </tr>\n",
       "  </thead>\n",
       "  <tbody>\n",
       "    <tr>\n",
       "      <th>242</th>\n",
       "      <td>savonia</td>\n",
       "      <td>0.00</td>\n",
       "      <td>10</td>\n",
       "      <td>TORI</td>\n",
       "      <td>KAUPPAKATU</td>\n",
       "      <td>207.0</td>\n",
       "      <td>-180</td>\n",
       "      <td>1</td>\n",
       "      <td>3.3</td>\n",
       "      <td>0.0</td>\n",
       "    </tr>\n",
       "    <tr>\n",
       "      <th>318</th>\n",
       "      <td>single</td>\n",
       "      <td>0.45</td>\n",
       "      <td>8</td>\n",
       "      <td>KYS</td>\n",
       "      <td>PUIJONLAAKSO</td>\n",
       "      <td>480.0</td>\n",
       "      <td>-880</td>\n",
       "      <td>1</td>\n",
       "      <td>0.0</td>\n",
       "      <td>0.0</td>\n",
       "    </tr>\n",
       "    <tr>\n",
       "      <th>462</th>\n",
       "      <td>single</td>\n",
       "      <td>0.50</td>\n",
       "      <td>8</td>\n",
       "      <td>PUIJONLAAKSO</td>\n",
       "      <td>TORI</td>\n",
       "      <td>570.0</td>\n",
       "      <td>-1770</td>\n",
       "      <td>1</td>\n",
       "      <td>0.0</td>\n",
       "      <td>0.0</td>\n",
       "    </tr>\n",
       "    <tr>\n",
       "      <th>474</th>\n",
       "      <td>single</td>\n",
       "      <td>0.30</td>\n",
       "      <td>8</td>\n",
       "      <td>KAUPPAKATU</td>\n",
       "      <td>TORI</td>\n",
       "      <td>313.0</td>\n",
       "      <td>-270</td>\n",
       "      <td>1</td>\n",
       "      <td>0.0</td>\n",
       "      <td>0.0</td>\n",
       "    </tr>\n",
       "    <tr>\n",
       "      <th>494</th>\n",
       "      <td>savonia</td>\n",
       "      <td>0.00</td>\n",
       "      <td>10</td>\n",
       "      <td>TORI</td>\n",
       "      <td>KAUPPAKATU</td>\n",
       "      <td>207.0</td>\n",
       "      <td>-180</td>\n",
       "      <td>1</td>\n",
       "      <td>3.3</td>\n",
       "      <td>0.0</td>\n",
       "    </tr>\n",
       "    <tr>\n",
       "      <th>576</th>\n",
       "      <td>single</td>\n",
       "      <td>0.50</td>\n",
       "      <td>4</td>\n",
       "      <td>KYS</td>\n",
       "      <td>KAUPPAKATU</td>\n",
       "      <td>558.0</td>\n",
       "      <td>-1770</td>\n",
       "      <td>0</td>\n",
       "      <td>0.0</td>\n",
       "      <td>0.0</td>\n",
       "    </tr>\n",
       "    <tr>\n",
       "      <th>872</th>\n",
       "      <td>single</td>\n",
       "      <td>0.40</td>\n",
       "      <td>5</td>\n",
       "      <td>TORI</td>\n",
       "      <td>SATAMA</td>\n",
       "      <td>453.0</td>\n",
       "      <td>-870</td>\n",
       "      <td>1</td>\n",
       "      <td>0.0</td>\n",
       "      <td>0.0</td>\n",
       "    </tr>\n",
       "    <tr>\n",
       "      <th>1046</th>\n",
       "      <td>season</td>\n",
       "      <td>0.00</td>\n",
       "      <td>10</td>\n",
       "      <td>TORI</td>\n",
       "      <td>KAUPPAKATU</td>\n",
       "      <td>216.0</td>\n",
       "      <td>-210</td>\n",
       "      <td>1</td>\n",
       "      <td>0.7</td>\n",
       "      <td>0.0</td>\n",
       "    </tr>\n",
       "    <tr>\n",
       "      <th>1061</th>\n",
       "      <td>season</td>\n",
       "      <td>0.00</td>\n",
       "      <td>5</td>\n",
       "      <td>TORI</td>\n",
       "      <td>KAUPPAKATU</td>\n",
       "      <td>393.0</td>\n",
       "      <td>-220</td>\n",
       "      <td>1</td>\n",
       "      <td>0.0</td>\n",
       "      <td>0.0</td>\n",
       "    </tr>\n",
       "    <tr>\n",
       "      <th>1145</th>\n",
       "      <td>single</td>\n",
       "      <td>0.25</td>\n",
       "      <td>5</td>\n",
       "      <td>KAUPPAKATU</td>\n",
       "      <td>TORI</td>\n",
       "      <td>250.0</td>\n",
       "      <td>-240</td>\n",
       "      <td>1</td>\n",
       "      <td>0.0</td>\n",
       "      <td>0.0</td>\n",
       "    </tr>\n",
       "    <tr>\n",
       "      <th>1563</th>\n",
       "      <td>season</td>\n",
       "      <td>0.00</td>\n",
       "      <td>8</td>\n",
       "      <td>KEILANKANTA</td>\n",
       "      <td>TASAVALLANKATU</td>\n",
       "      <td>993.0</td>\n",
       "      <td>-3380</td>\n",
       "      <td>1</td>\n",
       "      <td>0.0</td>\n",
       "      <td>0.0</td>\n",
       "    </tr>\n",
       "    <tr>\n",
       "      <th>1636</th>\n",
       "      <td>single</td>\n",
       "      <td>0.45</td>\n",
       "      <td>8</td>\n",
       "      <td>TASAVALLANKATU</td>\n",
       "      <td>KAUPPAKATU</td>\n",
       "      <td>525.0</td>\n",
       "      <td>-1440</td>\n",
       "      <td>1</td>\n",
       "      <td>0.0</td>\n",
       "      <td>0.0</td>\n",
       "    </tr>\n",
       "  </tbody>\n",
       "</table>\n",
       "</div>"
      ],
      "text/plain": [
       "       ticket  cost  month   location_from     location_to  duration  \\\n",
       "242   savonia  0.00     10            TORI      KAUPPAKATU     207.0   \n",
       "318    single  0.45      8             KYS    PUIJONLAAKSO     480.0   \n",
       "462    single  0.50      8    PUIJONLAAKSO            TORI     570.0   \n",
       "474    single  0.30      8      KAUPPAKATU            TORI     313.0   \n",
       "494   savonia  0.00     10            TORI      KAUPPAKATU     207.0   \n",
       "576    single  0.50      4             KYS      KAUPPAKATU     558.0   \n",
       "872    single  0.40      5            TORI          SATAMA     453.0   \n",
       "1046   season  0.00     10            TORI      KAUPPAKATU     216.0   \n",
       "1061   season  0.00      5            TORI      KAUPPAKATU     393.0   \n",
       "1145   single  0.25      5      KAUPPAKATU            TORI     250.0   \n",
       "1563   season  0.00      8     KEILANKANTA  TASAVALLANKATU     993.0   \n",
       "1636   single  0.45      8  TASAVALLANKATU      KAUPPAKATU     525.0   \n",
       "\n",
       "      distance  assistance  energy_used  energy_collected  \n",
       "242       -180           1          3.3               0.0  \n",
       "318       -880           1          0.0               0.0  \n",
       "462      -1770           1          0.0               0.0  \n",
       "474       -270           1          0.0               0.0  \n",
       "494       -180           1          3.3               0.0  \n",
       "576      -1770           0          0.0               0.0  \n",
       "872       -870           1          0.0               0.0  \n",
       "1046      -210           1          0.7               0.0  \n",
       "1061      -220           1          0.0               0.0  \n",
       "1145      -240           1          0.0               0.0  \n",
       "1563     -3380           1          0.0               0.0  \n",
       "1636     -1440           1          0.0               0.0  "
      ]
     },
     "execution_count": 23,
     "metadata": {},
     "output_type": "execute_result"
    }
   ],
   "source": [
    "bikes[(bikes['distance'] < 0) & (bikes['location_from'] != bikes['location_to'])]"
   ]
  },
  {
   "cell_type": "code",
   "execution_count": 24,
   "id": "3cc40b08",
   "metadata": {},
   "outputs": [],
   "source": [
    "bikes['distance'] = bikes['distance'].apply(abs)"
   ]
  },
  {
   "cell_type": "markdown",
   "id": "ae54b953",
   "metadata": {},
   "source": [
    "<h4> Distance summary </h4>\n",
    "Negative values were found and appropriately handled. It was verified withing Google Maps that the negative distances, if turned positive, we're in the approximate range of the locations from and to mentioned."
   ]
  },
  {
   "cell_type": "code",
   "execution_count": 25,
   "id": "47b2ad4a",
   "metadata": {},
   "outputs": [
    {
     "data": {
      "text/plain": [
       "array([ 9,  5, 10,  6,  8,  7,  4])"
      ]
     },
     "execution_count": 25,
     "metadata": {},
     "output_type": "execute_result"
    }
   ],
   "source": [
    "'''\n",
    "Analysis for month\n",
    "'''\n",
    "# nothing irregular in months. \n",
    "# They seem to be within reasonable seasons as well, starting from April and ending in October\n",
    "bikes['month'].unique()"
   ]
  },
  {
   "cell_type": "code",
   "execution_count": 26,
   "id": "e1d3b1e1",
   "metadata": {
    "scrolled": false
   },
   "outputs": [
    {
     "data": {
      "image/png": "[encoded data removed]",
      "text/plain": [
       "<Figure size 800x600 with 1 Axes>"
      ]
     },
     "metadata": {},
     "output_type": "display_data"
    }
   ],
   "source": [
    "# Get a grasp of bike rides per month\n",
    "rides_per_month = bikes.groupby('month').size().reset_index(name = 'ride_count')\n",
    "\n",
    "# Create a plot\n",
    "plt.figure(figsize=(8, 6))\n",
    "plt.bar(rides_per_month['month'], rides_per_month['ride_count'], edgecolor = 'black')\n",
    "plt.xlabel('Month')\n",
    "plt.ylabel('Number of Rides')\n",
    "plt.title('Number of Rides per Month')\n",
    "plt.xticks(bikes['month'].unique())\n",
    "plt.show()"
   ]
  },
  {
   "cell_type": "markdown",
   "id": "533cef3c",
   "metadata": {},
   "source": [
    "As expected, there are more riding going during the summer months. There seems to be slight spike in September, however, which could be explained by school starts"
   ]
  },
  {
   "cell_type": "markdown",
   "id": "a989612d",
   "metadata": {},
   "source": [
    "<h4> Month summary </h4>\n",
    "Nothing irregular within months were found. "
   ]
  },
  {
   "cell_type": "code",
   "execution_count": 27,
   "id": "77616a83",
   "metadata": {},
   "outputs": [
    {
     "data": {
      "image/png": "[encoded data removed]",
      "text/plain": [
       "<Figure size 400x800 with 1 Axes>"
      ]
     },
     "metadata": {},
     "output_type": "display_data"
    }
   ],
   "source": [
    "'''\n",
    "Analysis for duration\n",
    "'''\n",
    "plt.figure(figsize = (4,8))\n",
    "plt.boxplot(bikes['duration'])\n",
    "plt.title(f'Boxplot of duration')\n",
    "plt.ylabel('Values')\n",
    "plt.xlabel('')\n",
    "plt.show()"
   ]
  },
  {
   "cell_type": "markdown",
   "id": "78961b75",
   "metadata": {},
   "source": [
    "There seems to be a few rides which've exceeded 1 hr (> 4000 seconds). Could be reasonable to explore"
   ]
  },
  {
   "cell_type": "code",
   "execution_count": 28,
   "id": "0eb027e5",
   "metadata": {},
   "outputs": [
    {
     "data": {
      "text/html": [
       "<div>\n",
       "<style scoped>\n",
       "    .dataframe tbody tr th:only-of-type {\n",
       "        vertical-align: middle;\n",
       "    }\n",
       "\n",
       "    .dataframe tbody tr th {\n",
       "        vertical-align: top;\n",
       "    }\n",
       "\n",
       "    .dataframe thead th {\n",
       "        text-align: right;\n",
       "    }\n",
       "</style>\n",
       "<table border=\"1\" class=\"dataframe\">\n",
       "  <thead>\n",
       "    <tr style=\"text-align: right;\">\n",
       "      <th></th>\n",
       "      <th>ticket</th>\n",
       "      <th>cost</th>\n",
       "      <th>month</th>\n",
       "      <th>location_from</th>\n",
       "      <th>location_to</th>\n",
       "      <th>duration</th>\n",
       "      <th>distance</th>\n",
       "      <th>assistance</th>\n",
       "      <th>energy_used</th>\n",
       "      <th>energy_collected</th>\n",
       "    </tr>\n",
       "  </thead>\n",
       "  <tbody>\n",
       "    <tr>\n",
       "      <th>497</th>\n",
       "      <td>single</td>\n",
       "      <td>4.25</td>\n",
       "      <td>9</td>\n",
       "      <td>TORI</td>\n",
       "      <td>KAUPPAKATU</td>\n",
       "      <td>5078.0</td>\n",
       "      <td>9970</td>\n",
       "      <td>1</td>\n",
       "      <td>81.0</td>\n",
       "      <td>20.4</td>\n",
       "    </tr>\n",
       "    <tr>\n",
       "      <th>555</th>\n",
       "      <td>single</td>\n",
       "      <td>3.65</td>\n",
       "      <td>8</td>\n",
       "      <td>KEILANKANTA</td>\n",
       "      <td>KAUPPAKATU</td>\n",
       "      <td>4345.0</td>\n",
       "      <td>14240</td>\n",
       "      <td>1</td>\n",
       "      <td>140.6</td>\n",
       "      <td>31.8</td>\n",
       "    </tr>\n",
       "    <tr>\n",
       "      <th>657</th>\n",
       "      <td>single</td>\n",
       "      <td>4.35</td>\n",
       "      <td>6</td>\n",
       "      <td>TORI</td>\n",
       "      <td>TORI</td>\n",
       "      <td>5214.0</td>\n",
       "      <td>8680</td>\n",
       "      <td>1</td>\n",
       "      <td>71.8</td>\n",
       "      <td>20.1</td>\n",
       "    </tr>\n",
       "    <tr>\n",
       "      <th>705</th>\n",
       "      <td>single</td>\n",
       "      <td>3.55</td>\n",
       "      <td>6</td>\n",
       "      <td>PUIJONLAAKSO</td>\n",
       "      <td>PUIJONLAAKSO</td>\n",
       "      <td>4207.0</td>\n",
       "      <td>17410</td>\n",
       "      <td>1</td>\n",
       "      <td>144.9</td>\n",
       "      <td>56.4</td>\n",
       "    </tr>\n",
       "    <tr>\n",
       "      <th>1202</th>\n",
       "      <td>single</td>\n",
       "      <td>4.10</td>\n",
       "      <td>8</td>\n",
       "      <td>NEULAMÄKI</td>\n",
       "      <td>NEULAMÄKI</td>\n",
       "      <td>4911.0</td>\n",
       "      <td>20770</td>\n",
       "      <td>1</td>\n",
       "      <td>124.2</td>\n",
       "      <td>52.2</td>\n",
       "    </tr>\n",
       "    <tr>\n",
       "      <th>1430</th>\n",
       "      <td>single</td>\n",
       "      <td>4.45</td>\n",
       "      <td>6</td>\n",
       "      <td>SATAMA</td>\n",
       "      <td>SATAMA</td>\n",
       "      <td>5285.0</td>\n",
       "      <td>11440</td>\n",
       "      <td>1</td>\n",
       "      <td>71.0</td>\n",
       "      <td>24.3</td>\n",
       "    </tr>\n",
       "    <tr>\n",
       "      <th>1501</th>\n",
       "      <td>single</td>\n",
       "      <td>4.80</td>\n",
       "      <td>6</td>\n",
       "      <td>KAUPPAKATU</td>\n",
       "      <td>KAUPPAKATU</td>\n",
       "      <td>5722.0</td>\n",
       "      <td>3150</td>\n",
       "      <td>1</td>\n",
       "      <td>21.6</td>\n",
       "      <td>6.0</td>\n",
       "    </tr>\n",
       "    <tr>\n",
       "      <th>1649</th>\n",
       "      <td>single</td>\n",
       "      <td>4.00</td>\n",
       "      <td>5</td>\n",
       "      <td>TORI</td>\n",
       "      <td>TORI</td>\n",
       "      <td>4793.0</td>\n",
       "      <td>11200</td>\n",
       "      <td>1</td>\n",
       "      <td>98.3</td>\n",
       "      <td>55.5</td>\n",
       "    </tr>\n",
       "    <tr>\n",
       "      <th>1759</th>\n",
       "      <td>single</td>\n",
       "      <td>4.30</td>\n",
       "      <td>5</td>\n",
       "      <td>KEILANKANTA</td>\n",
       "      <td>KEILANKANTA</td>\n",
       "      <td>5136.0</td>\n",
       "      <td>18720</td>\n",
       "      <td>1</td>\n",
       "      <td>133.4</td>\n",
       "      <td>22.2</td>\n",
       "    </tr>\n",
       "    <tr>\n",
       "      <th>1767</th>\n",
       "      <td>single</td>\n",
       "      <td>3.70</td>\n",
       "      <td>5</td>\n",
       "      <td>TORI</td>\n",
       "      <td>KAUPPAKATU</td>\n",
       "      <td>4400.0</td>\n",
       "      <td>5830</td>\n",
       "      <td>1</td>\n",
       "      <td>39.8</td>\n",
       "      <td>13.5</td>\n",
       "    </tr>\n",
       "  </tbody>\n",
       "</table>\n",
       "</div>"
      ],
      "text/plain": [
       "      ticket  cost  month location_from   location_to  duration  distance  \\\n",
       "497   single  4.25      9          TORI    KAUPPAKATU    5078.0      9970   \n",
       "555   single  3.65      8   KEILANKANTA    KAUPPAKATU    4345.0     14240   \n",
       "657   single  4.35      6          TORI          TORI    5214.0      8680   \n",
       "705   single  3.55      6  PUIJONLAAKSO  PUIJONLAAKSO    4207.0     17410   \n",
       "1202  single  4.10      8     NEULAMÄKI     NEULAMÄKI    4911.0     20770   \n",
       "1430  single  4.45      6        SATAMA        SATAMA    5285.0     11440   \n",
       "1501  single  4.80      6    KAUPPAKATU    KAUPPAKATU    5722.0      3150   \n",
       "1649  single  4.00      5          TORI          TORI    4793.0     11200   \n",
       "1759  single  4.30      5   KEILANKANTA   KEILANKANTA    5136.0     18720   \n",
       "1767  single  3.70      5          TORI    KAUPPAKATU    4400.0      5830   \n",
       "\n",
       "      assistance  energy_used  energy_collected  \n",
       "497            1         81.0              20.4  \n",
       "555            1        140.6              31.8  \n",
       "657            1         71.8              20.1  \n",
       "705            1        144.9              56.4  \n",
       "1202           1        124.2              52.2  \n",
       "1430           1         71.0              24.3  \n",
       "1501           1         21.6               6.0  \n",
       "1649           1         98.3              55.5  \n",
       "1759           1        133.4              22.2  \n",
       "1767           1         39.8              13.5  "
      ]
     },
     "execution_count": 28,
     "metadata": {},
     "output_type": "execute_result"
    }
   ],
   "source": [
    "bikes[bikes['duration'] > 4000]"
   ]
  },
  {
   "cell_type": "markdown",
   "id": "4a54d55c",
   "metadata": {},
   "source": [
    "I believe nothing funny is going on here, people've just done some leisure riding."
   ]
  },
  {
   "cell_type": "code",
   "execution_count": 29,
   "id": "18f70074",
   "metadata": {},
   "outputs": [
    {
     "data": {
      "image/png": "[encoded data removed]",
      "text/plain": [
       "<Figure size 640x480 with 1 Axes>"
      ]
     },
     "metadata": {},
     "output_type": "display_data"
    }
   ],
   "source": [
    "plt.scatter(bikes['duration'], bikes['distance'], edgecolor = 'black')\n",
    "plt.title('Duration vs. distance scatterplot')\n",
    "plt.ylabel('Duration')\n",
    "plt.xlabel('Distance')\n",
    "plt.show()"
   ]
  },
  {
   "cell_type": "markdown",
   "id": "a28ddc13",
   "metadata": {},
   "source": [
    "The scatterplot further supports that duration is more or less ok"
   ]
  },
  {
   "cell_type": "markdown",
   "id": "0f9dd464",
   "metadata": {},
   "source": [
    "<h4> Duration summary </h4>\n",
    "Nothing out of ordinary I could find"
   ]
  },
  {
   "cell_type": "markdown",
   "id": "8e28379d",
   "metadata": {},
   "source": [
    "<h4> Numerical summary </h4>\n",
    "There were a few hiccups here and there, and they've been dealt with accordingly. For example, cost had a few outliers which could've been due to a bug. Distance also had a few negative values which were checked from Google Maps to be completely possible if just turned positive. Cost outliers were removed and distance values were fixed. Energy collected and used were left untouched since the initial describe() and boxplots showed nothing out of ordinary. \n",
    "\n",
    "Cost were dropped because they didn't match the cost formula presented in kaupunkipyorat.kuopio.fi/hinnasto and thus could distort further analysis. Distances were fixed so that they don't distort future analysis."
   ]
  },
  {
   "cell_type": "markdown",
   "id": "cec45027",
   "metadata": {},
   "source": [
    "<h3> Data exploration </h3>"
   ]
  },
  {
   "cell_type": "markdown",
   "id": "30c9dd37",
   "metadata": {},
   "source": [
    "<h4> For each ticket type, calculate the number of trips made, the total distance travelled, the total time travelled and the total amount of fees paid. Examine your results and make comments about the customers. </h4>"
   ]
  },
  {
   "cell_type": "code",
   "execution_count": 40,
   "id": "92e4e127",
   "metadata": {},
   "outputs": [],
   "source": [
    "# Group by 'ticket' and calculate the statistics\n",
    "ticket_stats = bikes.groupby('ticket').agg({\n",
    "    'distance': 'sum',\n",
    "    'duration': 'sum',\n",
    "    'cost': 'sum',\n",
    "    'ticket': 'size'\n",
    "})\n",
    "\n",
    "ticket_stats['distance'] = ticket_stats['distance'] / 1000\n",
    "ticket_stats['duration'] = ticket_stats['duration'] / 3600\n",
    "\n",
    "\n",
    "# Rename columns for clarity\n",
    "ticket_stats = ticket_stats.rename(columns={\n",
    "    'ticket': 'Total Trips',\n",
    "    'distance': 'Total Distance (km)',\n",
    "    'duration': 'Total Time (hours)',\n",
    "    'cost': 'Total Fees Paid'\n",
    "}).reset_index()"
   ]
  },
  {
   "cell_type": "code",
   "execution_count": 41,
   "id": "c8b9e2cc",
   "metadata": {},
   "outputs": [
    {
     "data": {
      "text/html": [
       "<div>\n",
       "<style scoped>\n",
       "    .dataframe tbody tr th:only-of-type {\n",
       "        vertical-align: middle;\n",
       "    }\n",
       "\n",
       "    .dataframe tbody tr th {\n",
       "        vertical-align: top;\n",
       "    }\n",
       "\n",
       "    .dataframe thead th {\n",
       "        text-align: right;\n",
       "    }\n",
       "</style>\n",
       "<table border=\"1\" class=\"dataframe\">\n",
       "  <thead>\n",
       "    <tr style=\"text-align: right;\">\n",
       "      <th></th>\n",
       "      <th>ticket</th>\n",
       "      <th>Total Distance (km)</th>\n",
       "      <th>Total Time (hours)</th>\n",
       "      <th>Total Fees Paid</th>\n",
       "      <th>Total Trips</th>\n",
       "    </tr>\n",
       "  </thead>\n",
       "  <tbody>\n",
       "    <tr>\n",
       "      <th>0</th>\n",
       "      <td>savonia</td>\n",
       "      <td>495.26</td>\n",
       "      <td>39.276667</td>\n",
       "      <td>2.00</td>\n",
       "      <td>252</td>\n",
       "    </tr>\n",
       "    <tr>\n",
       "      <th>1</th>\n",
       "      <td>season</td>\n",
       "      <td>1315.88</td>\n",
       "      <td>90.545278</td>\n",
       "      <td>3.00</td>\n",
       "      <td>553</td>\n",
       "    </tr>\n",
       "    <tr>\n",
       "      <th>2</th>\n",
       "      <td>single</td>\n",
       "      <td>2559.67</td>\n",
       "      <td>180.430000</td>\n",
       "      <td>566.45</td>\n",
       "      <td>966</td>\n",
       "    </tr>\n",
       "  </tbody>\n",
       "</table>\n",
       "</div>"
      ],
      "text/plain": [
       "    ticket  Total Distance (km)  Total Time (hours)  Total Fees Paid  \\\n",
       "0  savonia               495.26           39.276667             2.00   \n",
       "1   season              1315.88           90.545278             3.00   \n",
       "2   single              2559.67          180.430000           566.45   \n",
       "\n",
       "   Total Trips  \n",
       "0          252  \n",
       "1          553  \n",
       "2          966  "
      ]
     },
     "execution_count": 41,
     "metadata": {},
     "output_type": "execute_result"
    }
   ],
   "source": [
    "ticket_stats"
   ]
  },
  {
   "cell_type": "markdown",
   "id": "165eb008",
   "metadata": {},
   "source": [
    "There still seems to be some fees paid in savonia and seasonal, even though I though they were paid in beforehand. \n",
    "However it'd seem that the single ticket is the most popular by a wide margin, judging by total distance, hours and trips. \n",
    "\n",
    "I believe it's due to just ease of use and the fact that people don't want to 'tie' themselves to using these bikes by subscribing to a seasonal ticket. Also, as there are 118000 inhabitants in Kuopio, where 4500 are students (https://www.savonia.fi/opiskele-tutkinto/savonia-yhteishaku-2021/opiskelu-kuopion-alueella/), that would explain why the Savonia ticket is so unpopular; it doesn't have that many eligible users. "
   ]
  },
  {
   "cell_type": "markdown",
   "id": "80635130",
   "metadata": {},
   "source": [
    "<h4> For each ticket type, visualise the monthly rental activity in terms of the total distance travelled. Examine your results and make comments about the development of the rental activity over time. </h4>"
   ]
  },
  {
   "cell_type": "code",
   "execution_count": 42,
   "id": "744c0f6d",
   "metadata": {},
   "outputs": [
    {
     "data": {
      "image/png": "[encoded data removed]",
      "text/plain": [
       "<Figure size 1000x600 with 1 Axes>"
      ]
     },
     "metadata": {},
     "output_type": "display_data"
    }
   ],
   "source": [
    "# Group the data by 'month' and 'ticket' and calculate the total distance traveled\n",
    "monthly_distance = bikes.groupby(['month', 'ticket'])['distance'].sum().unstack()\n",
    "\n",
    "# Turn distance into kilometers for readability\n",
    "monthly_distance = monthly_distance / 1000\n",
    "\n",
    "monthly_distance.plot(kind = 'bar', figsize=(10, 6))\n",
    "\n",
    "# Set plot labels and title\n",
    "plt.xlabel('Month')\n",
    "plt.ylabel('Total Distance Traveled (Km)')\n",
    "plt.title('Monthly Rental Activity by Ticket Type')\n",
    "plt.legend(title = 'Ticket Type')\n",
    "plt.show()"
   ]
  },
  {
   "cell_type": "markdown",
   "id": "862e68a8",
   "metadata": {},
   "source": [
    "As one might expect, there's only a handful of riding done in April. This is probably due to weather conditions. Also, according to https://kaupunkipyorat.kuopio.fi/hinnasto.html, bikes become available from 24.4., which also explains the small percentage of usage; people only have a week or so to ride in April.\n",
    "\n",
    "Then, once summer goes on, riding steadily grows to a peak in June, and then starts it's decline towards autumn. This holds true, however, for single tickets. There's not much fluctuation within seasonal tickets although they follow the same pattern of declining towards colder weathers.\n",
    "\n",
    "The savonia tickets only see use once schools start, from september to october. This makes sense as they're exclusive to students and staff of Savonia AMK. "
   ]
  },
  {
   "cell_type": "markdown",
   "id": "2bc0338b",
   "metadata": {},
   "source": [
    "<h4> Find the three stations that have the highest total deficit of bikes (i.e. the largest negative difference between the number of arrived bikes and the number of departured bikes) and the three stations that have the highest total surplus of bikes (i.e. the largest positive difference). Examine your results and make suggestions about how bikes could be relocated. </h4>"
   ]
  },
  {
   "cell_type": "code",
   "execution_count": 44,
   "id": "70ca050c",
   "metadata": {
    "scrolled": true
   },
   "outputs": [
    {
     "data": {
      "text/plain": [
       "TORI              418\n",
       "KAUPPAKATU        237\n",
       "SATAMA            200\n",
       "MICROTEKNIA       182\n",
       "PUIJONLAAKSO      161\n",
       "NEULAMÄKI         155\n",
       "KEILANKANTA       153\n",
       "TASAVALLANKATU    143\n",
       "KYS                94\n",
       "PIRTTI             28\n",
       "Name: location_from, dtype: int64"
      ]
     },
     "execution_count": 44,
     "metadata": {},
     "output_type": "execute_result"
    }
   ],
   "source": [
    "bikes['location_from'].value_counts()"
   ]
  },
  {
   "cell_type": "code",
   "execution_count": 45,
   "id": "d689f575",
   "metadata": {
    "scrolled": true
   },
   "outputs": [
    {
     "data": {
      "text/plain": [
       "TORI              400\n",
       "KAUPPAKATU        287\n",
       "PUIJONLAAKSO      190\n",
       "MICROTEKNIA       174\n",
       "SATAMA            163\n",
       "TASAVALLANKATU    156\n",
       "NEULAMÄKI         155\n",
       "KEILANKANTA       142\n",
       "KYS                75\n",
       "PIRTTI             29\n",
       "Name: location_to, dtype: int64"
      ]
     },
     "execution_count": 45,
     "metadata": {},
     "output_type": "execute_result"
    }
   ],
   "source": [
    "bikes['location_to'].value_counts()"
   ]
  },
  {
   "cell_type": "code",
   "execution_count": 56,
   "id": "d0d2ef5e",
   "metadata": {},
   "outputs": [
    {
     "name": "stdout",
     "output_type": "stream",
     "text": [
      "Top 3 Stations with Highest Deficit:\n",
      "  Station  Net Change\n",
      "7  SATAMA         -37\n",
      "2     KYS         -19\n",
      "9    TORI         -18\n",
      "\n",
      "Top 3 Stations with Highest Surplus:\n",
      "          Station  Net Change\n",
      "0      KAUPPAKATU          50\n",
      "6    PUIJONLAAKSO          29\n",
      "8  TASAVALLANKATU          13\n"
     ]
    }
   ],
   "source": [
    "# Calculate the net change in bikes for each station\n",
    "deficit_surplus = (bikes['location_to'].value_counts() - bikes['location_from'].value_counts()).reset_index()\n",
    "deficit_surplus.columns = ['Station', 'Net Change']\n",
    "\n",
    "# Sort stations by net change (deficit or surplus)\n",
    "deficit_stations = deficit_surplus.sort_values(by = 'Net Change', ascending = True).head(3)\n",
    "surplus_stations = deficit_surplus.sort_values(by = 'Net Change', ascending = False).head(3)\n",
    "\n",
    "print(\"Top 3 Stations with Highest Deficit:\")\n",
    "print(deficit_stations)\n",
    "\n",
    "print(\"\\nTop 3 Stations with Highest Surplus:\")\n",
    "print(surplus_stations)\n"
   ]
  },
  {
   "cell_type": "markdown",
   "id": "8fa1aead",
   "metadata": {},
   "source": [
    "The three stations with highest net deficit seem to have one characteristic in common; they're all places where people leave and don't return during the same trip. You arrive to the harbour from your cruise but you probably won't arrive during the same day. You leave from the hospital but rarely have a reason to return. Same with Tori; you'll just grab a bike and go home with it.\n",
    "\n",
    "on the contrary, Kauppakatu is a place where you arrive from someplace else and leave with some other means than bike. Puijonlaakso however isn't so self-explanatory. I didn't find any attractions or similar from Google Maps so this isn't so clear to me. Apparently there's something of interest there. Tasavallankatu is the same; no apparent reason why bikes would be left there more than taken. \n",
    "\n",
    "Bikes could be relocated from Kauppakatu to the harbour as there are the largest surpluses and deficits. Puijonlaakso could be redistributed to KYS and Tori. Tasavallankatu could be used to patch other deficit areas."
   ]
  },
  {
   "cell_type": "markdown",
   "id": "a8ebbebb",
   "metadata": {},
   "source": [
    "<h4> For each trip in the data set, calculate its net energy gain, which is defined as the difference between the energy collected and consumed during a trip. Visualise the distribution of this new variable. Make comments about how much battery levels tend to change during trips. </h4>"
   ]
  },
  {
   "cell_type": "code",
   "execution_count": 71,
   "id": "a73d69c8",
   "metadata": {},
   "outputs": [],
   "source": [
    "bikes['energy_gain'] = bikes['energy_collected'] - bikes['energy_used']"
   ]
  },
  {
   "cell_type": "code",
   "execution_count": 75,
   "id": "acd8dc5f",
   "metadata": {},
   "outputs": [
    {
     "data": {
      "image/png": "[encoded data removed]",
      "text/plain": [
       "<Figure size 800x600 with 1 Axes>"
      ]
     },
     "metadata": {},
     "output_type": "display_data"
    }
   ],
   "source": [
    "# Visualize the distribution of net energy gain\n",
    "plt.figure(figsize = (8, 6))\n",
    "plt.hist(bikes['energy_gain'], bins = 10, edgecolor = 'black')\n",
    "plt.xlabel('Net Energy Gain')\n",
    "plt.ylabel('Frequency')\n",
    "plt.title('Distribution of Net Energy Gain for Trips')\n",
    "plt.show()"
   ]
  },
  {
   "cell_type": "markdown",
   "id": "e7cad34a",
   "metadata": {},
   "source": [
    "As one might expect, battery levels tend to decrease during trips, however most poeple seem to reach net gain of -20-0, indicating that the changes aren't that radical."
   ]
  },
  {
   "cell_type": "code",
   "execution_count": 76,
   "id": "e7743596",
   "metadata": {
    "scrolled": true
   },
   "outputs": [
    {
     "data": {
      "text/plain": [
       "1    1624\n",
       "0     147\n",
       "Name: assistance, dtype: int64"
      ]
     },
     "execution_count": 76,
     "metadata": {},
     "output_type": "execute_result"
    }
   ],
   "source": [
    "bikes['assistance'].value_counts()"
   ]
  },
  {
   "cell_type": "code",
   "execution_count": 77,
   "id": "ea2ccbdf",
   "metadata": {},
   "outputs": [
    {
     "data": {
      "text/plain": [
       "-11.736194240542066"
      ]
     },
     "execution_count": 77,
     "metadata": {},
     "output_type": "execute_result"
    }
   ],
   "source": [
    "bikes['energy_gain'].mean()"
   ]
  },
  {
   "cell_type": "markdown",
   "id": "89946156",
   "metadata": {},
   "source": [
    "Vast majority of people seem to drive with assistance on as well, so the above histogram supports that, on average, rides net a negative of 11 kwH."
   ]
  },
  {
   "cell_type": "markdown",
   "id": "2e8c6a54",
   "metadata": {},
   "source": [
    "<h3> Hypothesis testing </h3>"
   ]
  },
  {
   "cell_type": "markdown",
   "id": "ebc2892a",
   "metadata": {},
   "source": [
    "<h4> Is there statistical evidence to claim that the travel times tend to be shorter or longer for the single than for the season ticket type. Justify your design choices, interpret the results and use your discoveries to make conclusions about customers.</h4>"
   ]
  },
  {
   "cell_type": "markdown",
   "id": "78a0101b",
   "metadata": {},
   "source": [
    "Null Hypothesis (H0): The mean travel time for the single ticket type is equal to the mean travel time for the season ticket type.\n",
    "<br>Alternative Hypothesis (H1): The mean travel time for the single ticket type is not equal to the mean travel time for the season ticket type."
   ]
  },
  {
   "cell_type": "code",
   "execution_count": 79,
   "id": "038fb482",
   "metadata": {},
   "outputs": [],
   "source": [
    "# Separate data into two groups based on ticket type\n",
    "single_tickets = bikes[bikes['ticket'] == 'single']['duration']\n",
    "season_tickets = bikes[bikes['ticket'] == 'season']['duration']"
   ]
  },
  {
   "cell_type": "code",
   "execution_count": 83,
   "id": "8be77d09",
   "metadata": {},
   "outputs": [
    {
     "name": "stdout",
     "output_type": "stream",
     "text": [
      "966 samples of single tickets\n",
      "553 samples of season tickets\n"
     ]
    }
   ],
   "source": [
    "print(f\"{len(single_tickets)} samples of single tickets\")\n",
    "print(f\"{len(season_tickets)} samples of season tickets\")"
   ]
  },
  {
   "cell_type": "markdown",
   "id": "dbbd974c",
   "metadata": {},
   "source": [
    "sample sizes are reasonably large (typically considered as 30 or more observations in each group), violations of the normality assumption may be less critical due to the Central Limit Theorem, which states that the sampling distribution of the sample mean becomes approximately normal as the sample size increases."
   ]
  },
  {
   "cell_type": "code",
   "execution_count": 84,
   "id": "446aca73",
   "metadata": {},
   "outputs": [
    {
     "name": "stdout",
     "output_type": "stream",
     "text": [
      "Statistic: 4.9779\n",
      "P-value: 0.0258\n",
      "Reject the null hypothesis. Variances are significantly different.\n"
     ]
    }
   ],
   "source": [
    "# Perform Levene's test for equal variances\n",
    "statistic, p_value = stats.levene(single_tickets, season_tickets)\n",
    "\n",
    "# Set significance level (alpha)\n",
    "alpha = 0.05\n",
    "\n",
    "# Print the results\n",
    "print(f'Statistic: {statistic:.4f}')\n",
    "print(f'P-value: {p_value:.4f}')\n",
    "\n",
    "# Check for equal variances\n",
    "if p_value < alpha:\n",
    "    print(\"Reject the null hypothesis. Variances are significantly different.\")\n",
    "else:\n",
    "    print(\"Fail to reject the null hypothesis. Variances are not significantly different.\")"
   ]
  },
  {
   "cell_type": "markdown",
   "id": "859ec0d6",
   "metadata": {},
   "source": [
    "Since variances are significantly different, two-sample-t-test is out the window."
   ]
  },
  {
   "cell_type": "code",
   "execution_count": 85,
   "id": "d04a3ab5",
   "metadata": {},
   "outputs": [
    {
     "name": "stdout",
     "output_type": "stream",
     "text": [
      "T-statistic: 2.9160\n",
      "P-value: 0.0036\n",
      "Reject the null hypothesis. There is evidence of a difference in travel times.\n"
     ]
    }
   ],
   "source": [
    "# Perform Welch's t-test for unequal variances\n",
    "t_statistic, p_value = stats.ttest_ind(single_tickets, season_tickets, equal_var = False)\n",
    "\n",
    "# Significance level (alpha)\n",
    "alpha = 0.05\n",
    "\n",
    "print(f'T-statistic: {t_statistic:.4f}')\n",
    "print(f'P-value: {p_value:.4f}')\n",
    "\n",
    "# Check for statistical significance\n",
    "if p_value < alpha:\n",
    "    print(\"Reject the null hypothesis. There is evidence of a difference in travel times.\")\n",
    "else:\n",
    "    print(\"Fail to reject the null hypothesis. There is no evidence of a difference in travel times.\")"
   ]
  },
  {
   "cell_type": "markdown",
   "id": "7a9a0656",
   "metadata": {},
   "source": [
    "If the t-statistic is positive, it means that the travel times for the first group (e.g., 'single' ticket type) are longer on average compared to the second group (e.g., 'season' ticket type).\n",
    "\n",
    "As there is evidence of shorter rides for single fares, this could indicate that the bikes are used similarly to Voi Scooters in Turku; people want to get quickly and easily from point A to point B where the distance between A and B is relatively short."
   ]
  },
  {
   "cell_type": "markdown",
   "id": "1c8706d8",
   "metadata": {},
   "source": [
    "<h4> Is there statistical evidence to claim that the travel distance positively correlates with the average rate at which electricity is consumed during the trip? Justify your design choices, interpret the results and use your discoveries to make conclusions about customers. </h4>"
   ]
  },
  {
   "cell_type": "markdown",
   "id": "1b1b9f38",
   "metadata": {},
   "source": [
    "Null Hypothesis (H0): There is no significant correlation between travel distance and the average rate of electricity consumption during a trip (Pearson correlation coefficient = 0).\n",
    "<br>Alternative Hypothesis (H1): There is a significant positive correlation between travel distance and the average rate of electricity consumption during a trip (Pearson correlation coefficient ≠ 0)."
   ]
  },
  {
   "cell_type": "code",
   "execution_count": 92,
   "id": "e5b173f4",
   "metadata": {},
   "outputs": [],
   "source": [
    "# Separate data\n",
    "energy_consumption = bikes['energy_gain']\n",
    "distance = bikes['distance']"
   ]
  },
  {
   "cell_type": "markdown",
   "id": "db108225",
   "metadata": {},
   "source": [
    "Since Pearson Correlation Coefficient assumes normal distribution, let's test for that first"
   ]
  },
  {
   "cell_type": "code",
   "execution_count": 93,
   "id": "77a48a55",
   "metadata": {},
   "outputs": [
    {
     "name": "stdout",
     "output_type": "stream",
     "text": [
      "Shapiro-Wilk Test for Travel Distance:\n",
      "P-value: 0.0000\n",
      "Reject the null hypothesis. The data for travel distance is not normally distributed.\n",
      "\n",
      "Shapiro-Wilk Test for Electricity Consumption Rate:\n",
      "P-value: 0.0000\n",
      "Reject the null hypothesis. The data for electricity consumption rate is not normally distributed.\n"
     ]
    }
   ],
   "source": [
    "# Perform the Shapiro-Wilk test for normali distribution\n",
    "_, p_value_distance = stats.shapiro(distance)\n",
    "_, p_value_consumption = stats.shapiro(energy_consumption)\n",
    "\n",
    "# Signifigance\n",
    "alpha = 0.05\n",
    "\n",
    "# Print the results for travel distance\n",
    "print(\"Shapiro-Wilk Test for Travel Distance:\")\n",
    "print(f'P-value: {p_value_distance:.4f}')\n",
    "\n",
    "if p_value_distance < alpha:\n",
    "    print(\"Reject the null hypothesis. The data for travel distance is not normally distributed.\")\n",
    "else:\n",
    "    print(\"Fail to reject the null hypothesis. The data for travel distance follows a normal distribution.\")\n",
    "\n",
    "# Print the results for electricity consumption rate\n",
    "print(\"\\nShapiro-Wilk Test for Electricity Consumption Rate:\")\n",
    "print(f'P-value: {p_value_consumption:.4f}')\n",
    "\n",
    "if p_value_consumption < alpha:\n",
    "    print(\"Reject the null hypothesis. The data for electricity consumption rate is not normally distributed.\")\n",
    "else:\n",
    "    print(\"Fail to reject the null hypothesis. The data for electricity consumption rate follows a normal distribution.\")"
   ]
  },
  {
   "cell_type": "code",
   "execution_count": 102,
   "id": "85c342fb",
   "metadata": {},
   "outputs": [
    {
     "data": {
      "image/png": "[encoded data removed]",
      "text/plain": [
       "<Figure size 640x480 with 1 Axes>"
      ]
     },
     "metadata": {},
     "output_type": "display_data"
    }
   ],
   "source": [
    "# Determine distributions (I should've remembered that energy consumption isn't normally distributed\n",
    "# from the histogram from before)\n",
    "\n",
    "energy_consumption.hist(bins = 10, edgecolor = 'black')\n",
    "plt.show()"
   ]
  },
  {
   "cell_type": "code",
   "execution_count": 101,
   "id": "e3d0803b",
   "metadata": {},
   "outputs": [
    {
     "data": {
      "image/png": "[encoded data removed]",
      "text/plain": [
       "<Figure size 640x480 with 1 Axes>"
      ]
     },
     "metadata": {},
     "output_type": "display_data"
    }
   ],
   "source": [
    "distance.hist(bins = 10, edgecolor = 'black')\n",
    "plt.show()"
   ]
  },
  {
   "cell_type": "code",
   "execution_count": 104,
   "id": "4f337b7b",
   "metadata": {},
   "outputs": [
    {
     "name": "stdout",
     "output_type": "stream",
     "text": [
      "Spearman Rank Correlation Coefficient: -0.7006\n",
      "P-value: 0.0000\n",
      "Reject the null hypothesis. There is a statistically significant correlation.\n"
     ]
    }
   ],
   "source": [
    "# Since the data is skewed, Spearman Rank test seems appropriate\n",
    "\n",
    "# Perform Spearman rank correlation test\n",
    "correlation_coefficient, p_value = stats.spearmanr(distance, energy_consumption)\n",
    "\n",
    "# Significance level (alpha)\n",
    "alpha = 0.05\n",
    "\n",
    "print(f'Spearman Rank Correlation Coefficient: {correlation_coefficient:.4f}')\n",
    "print(f'P-value: {p_value:.4f}')\n",
    "\n",
    "# Check for statistical significance\n",
    "if p_value < alpha:\n",
    "    print(\"Reject the null hypothesis. There is a statistically significant correlation.\")\n",
    "else:\n",
    "    print(\"Fail to reject the null hypothesis. There is no statistically significant correlation.\")"
   ]
  },
  {
   "cell_type": "markdown",
   "id": "8f1f5a0e",
   "metadata": {},
   "source": [
    "There seems to be statistical evidence that the longer the trips, the larger the energy consumption."
   ]
  },
  {
   "cell_type": "markdown",
   "id": "17da801f",
   "metadata": {},
   "source": [
    "<h4> Is there statistical evidence to claim that the savonia ticket type differs from the others with respect to how often the electric assistance is used? Justify your design choices, interpret the results and use your discoveries to make conclusions about customers.</h4>"
   ]
  },
  {
   "cell_type": "markdown",
   "id": "97d662b1",
   "metadata": {},
   "source": [
    "The chi-squared test is suitable for analyzing the association between two categorical variables.\n",
    "\n",
    "\n",
    "Null Hypothesis (H0): There is no significant association between the ticket type (including Savonia) and the use of electric assistance.\n",
    "<br>Alternative Hypothesis (H1): There is a significant association between the ticket type (including Savonia) and the use of electric assistance."
   ]
  },
  {
   "cell_type": "code",
   "execution_count": 123,
   "id": "f48e3fdb",
   "metadata": {
    "scrolled": true
   },
   "outputs": [
    {
     "name": "stdout",
     "output_type": "stream",
     "text": [
      "Chi-Squared Statistic: 11.2146\n",
      "P-value: 0.0008\n",
      "Reject the null hypothesis. There is a statistically significant association.\n"
     ]
    }
   ],
   "source": [
    "# Create a contingency table (reference: https://en.wikipedia.org/wiki/Contingency_table)\n",
    "\n",
    "# Create a temporary table where tickets are savonia and other\n",
    "temp_table = bikes[['ticket', 'assistance']].copy()\n",
    "temp_table.loc[temp_table['ticket'] != 'savonia', 'ticket'] = \"other\"\n",
    "\n",
    "contingency_table = pd.crosstab(temp_table['ticket'], temp_table['assistance'])\n",
    "\n",
    "# Chi-squared test for independence\n",
    "chi2, p_value, _, _ = stats.chi2_contingency(contingency_table)\n",
    "\n",
    "# Significance level (alpha)\n",
    "alpha = 0.05\n",
    "\n",
    "print(f'Chi-Squared Statistic: {chi2:.4f}')\n",
    "print(f'P-value: {p_value:.4f}')\n",
    "\n",
    "# Check for statistical significance\n",
    "if p_value < alpha:\n",
    "    print(\"Reject the null hypothesis. There is a statistically significant association.\")\n",
    "else:\n",
    "    print(\"Fail to reject the null hypothesis. There is no statistically significant association.\")"
   ]
  },
  {
   "cell_type": "code",
   "execution_count": 125,
   "id": "bb940d14",
   "metadata": {},
   "outputs": [
    {
     "data": {
      "text/html": [
       "<div>\n",
       "<style scoped>\n",
       "    .dataframe tbody tr th:only-of-type {\n",
       "        vertical-align: middle;\n",
       "    }\n",
       "\n",
       "    .dataframe tbody tr th {\n",
       "        vertical-align: top;\n",
       "    }\n",
       "\n",
       "    .dataframe thead th {\n",
       "        text-align: right;\n",
       "    }\n",
       "</style>\n",
       "<table border=\"1\" class=\"dataframe\">\n",
       "  <thead>\n",
       "    <tr style=\"text-align: right;\">\n",
       "      <th>assistance</th>\n",
       "      <th>0</th>\n",
       "      <th>1</th>\n",
       "    </tr>\n",
       "    <tr>\n",
       "      <th>ticket</th>\n",
       "      <th></th>\n",
       "      <th></th>\n",
       "    </tr>\n",
       "  </thead>\n",
       "  <tbody>\n",
       "    <tr>\n",
       "      <th>other</th>\n",
       "      <td>112</td>\n",
       "      <td>1407</td>\n",
       "    </tr>\n",
       "    <tr>\n",
       "      <th>savonia</th>\n",
       "      <td>35</td>\n",
       "      <td>217</td>\n",
       "    </tr>\n",
       "  </tbody>\n",
       "</table>\n",
       "</div>"
      ],
      "text/plain": [
       "assistance    0     1\n",
       "ticket               \n",
       "other       112  1407\n",
       "savonia      35   217"
      ]
     },
     "execution_count": 125,
     "metadata": {},
     "output_type": "execute_result"
    }
   ],
   "source": [
    "contingency_table"
   ]
  },
  {
   "cell_type": "markdown",
   "id": "4f2e1200",
   "metadata": {},
   "source": [
    "There is a statistically significant association with Savonia ticket riders differ from others. It would appear that they use assistance significantly less. It could be that the riders of Savonia AMK are more climatically aware and opt-out of using electricity for cycling. Other could be that they're just in it for exercise."
   ]
  },
  {
   "cell_type": "markdown",
   "id": "eef81483",
   "metadata": {},
   "source": [
    "<h5> (2p) Choose either (A) or (B) below.\n",
    "\n",
    "\n",
    "(A) Formulate your own hypothesis about the use of rental electric bikes. Explain why your hypothesis would be important to explore. Describe how the hypothesis could be tested. (You do not have to perform the analysis.)\n",
    "\n",
    "\n",
    "(B) Point out one or more problems in the questions asked or the approaches used above. Propose changes to address the problem(s). Explain how the changes would improve the statistical analysis. </h5>"
   ]
  },
  {
   "cell_type": "markdown",
   "id": "8fe548d6",
   "metadata": {},
   "source": [
    "Hypothesis: The usage of rental electric bikes increases during the summer months compared to the autumn months.\n",
    "\n",
    "Exploring the seasonality of rental electric bike usage could be interesting for several reasons:\n",
    "\n",
    "Bike rental businesses can optimize their operations, including bike maintenance and staffing, based on seasonal fluctuations in demand. If there is a clear trend of increased bike usage during the summer, they can prepare accordingly.\n",
    "\n",
    "Also understanding the seasonality of bike usage allows businesses to tailor their marketing efforts. They can focus promotional campaigns on attracting more customers during peak seasons.\n",
    "\n",
    "Other municipalities can use this information to plan and invest in bike infrastructure, such as bike lanes and parking facilities, to accommodate higher usage during certain times of the year.\n"
   ]
  },
  {
   "cell_type": "markdown",
   "id": "03d347ee",
   "metadata": {},
   "source": [
    "Data Analysis:\n",
    "\n",
    "Calculate the average monthly usage for both summer and fall months.\n",
    "Perform a statistical test (e.g., t-test or ANOVA) to compare the means of summer and winter bike usage. The null hypothesis would be that there is no significant difference between the two seasons."
   ]
  }
 ],
 "metadata": {
  "kernelspec": {
   "display_name": "Python 3 (ipykernel)",
   "language": "python",
   "name": "python3"
  },
  "language_info": {
   "codemirror_mode": {
    "name": "ipython",
    "version": 3
   },
   "file_extension": ".py",
   "mimetype": "text/x-python",
   "name": "python",
   "nbconvert_exporter": "python",
   "pygments_lexer": "ipython3",
   "version": "3.10.1"
  }
 },
 "nbformat": 4,
 "nbformat_minor": 5
}
