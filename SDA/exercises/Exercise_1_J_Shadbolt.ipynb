{
 "cells": [
  {
   "cell_type": "markdown",
   "id": "25b1fe1b",
   "metadata": {},
   "source": [
    "### Exercise 1 \n",
    "#### Jeremias Shadbolt, 1900386\n"
   ]
  },
  {
   "cell_type": "code",
   "execution_count": 587,
   "id": "5edac1e7",
   "metadata": {},
   "outputs": [],
   "source": [
    "# Import necessary libraries\n",
    "import numpy as np\n",
    "import matplotlib.pyplot as plt\n",
    "import seaborn as sns\n",
    "from scipy.stats import shapiro\n",
    "import pandas as pd"
   ]
  },
  {
   "cell_type": "code",
   "execution_count": 557,
   "id": "8863a8fc",
   "metadata": {},
   "outputs": [],
   "source": [
    "# Import (or in this case, just hardcode) datasets as lists\n",
    "\n",
    "dataset_a = [5, 8, 7, 6, 7, 8]\n",
    "dataset_b = [1.3, 2.1, 1.7, 1.1, 1.4, 2.3]\n",
    "dataset_c = ['y', 'y', 'n', 'y', 'n', 'n']"
   ]
  },
  {
   "cell_type": "markdown",
   "id": "3dde875e",
   "metadata": {},
   "source": [
    "##### 1. Combine the vectors into a data matrix with 3 columns and 6 rows. From the data matrix\n",
    "a) print element (3,2). \n",
    "\n",
    "b) print the 4th row.\n",
    "\n",
    "c) create submatrix of 2 last columns and rows 2-5.\n",
    "\n",
    "d) transpose the data matrix so that it has 6 columns and 3 rows"
   ]
  },
  {
   "cell_type": "code",
   "execution_count": 591,
   "id": "98ceb187",
   "metadata": {},
   "outputs": [
    {
     "data": {
      "text/plain": [
       "[5, 8, 7, 6, 7, 8, 1.3, 2.1, 1.7, 1.1, 1.4, 2.3, 'y', 'y', 'n', 'y', 'n', 'n']"
      ]
     },
     "execution_count": 591,
     "metadata": {},
     "output_type": "execute_result"
    }
   ],
   "source": [
    "# Combine vectors\n",
    "full_dataset = dataset_a + dataset_b + dataset_c\n",
    "\n",
    "# Validate \n",
    "full_dataset"
   ]
  },
  {
   "cell_type": "code",
   "execution_count": 592,
   "id": "0b39353f",
   "metadata": {},
   "outputs": [
    {
     "name": "stdout",
     "output_type": "stream",
     "text": [
      "Matrix:\n",
      "[['5' '8' '7' '6' '7' '8']\n",
      " ['1.3' '2.1' '1.7' '1.1' '1.4' '2.3']\n",
      " ['y' 'y' 'n' 'y' 'n' 'n']]\n",
      "Shape: (3, 6)\n"
     ]
    }
   ],
   "source": [
    "# Turn full dataset into a NumPy matrix\n",
    "full_dataset = np.matrix(full_dataset)\n",
    "\n",
    "# Reshape the matrix to have 3 columns and 6 rows\n",
    "shape = (3, 6)\n",
    "full_dataset = full_dataset.reshape(shape)\n",
    "\n",
    "# Validate\n",
    "print(f\"Matrix:\\n{full_dataset}\")\n",
    "print(f\"Shape: {full_dataset.shape}\")"
   ]
  },
  {
   "cell_type": "code",
   "execution_count": 608,
   "id": "15d4fced",
   "metadata": {},
   "outputs": [
    {
     "name": "stdout",
     "output_type": "stream",
     "text": [
      "using NumPy function: y \n",
      "or \n",
      "using vanilla Python: y\n"
     ]
    }
   ],
   "source": [
    "# a) Print element (3,2)\n",
    "element = (2, 3)\n",
    "print(f\"using NumPy function: {full_dataset.item(element)} \\nor \")\n",
    "print(f\"using vanilla Python: {full_dataset[element]}\")"
   ]
  },
  {
   "cell_type": "code",
   "execution_count": 598,
   "id": "89211b8e",
   "metadata": {},
   "outputs": [
    {
     "data": {
      "text/plain": [
       "matrix([['1.3', '2.1', '1.7', '1.1', '1.4', '2.3']], dtype='<U32')"
      ]
     },
     "execution_count": 598,
     "metadata": {},
     "output_type": "execute_result"
    }
   ],
   "source": [
    "# b) Print the 4th row (count from 0 so index 3)\n",
    "row = 1\n",
    "full_dataset[row]"
   ]
  },
  {
   "cell_type": "code",
   "execution_count": 606,
   "id": "f041dd37",
   "metadata": {},
   "outputs": [
    {
     "data": {
      "text/plain": [
       "matrix([['1.4', '2.3'],\n",
       "        ['n', 'n']], dtype='<U32')"
      ]
     },
     "execution_count": 606,
     "metadata": {},
     "output_type": "execute_result"
    }
   ],
   "source": [
    "# c) Create submatrix of 2 last columns and rows 2-5\n",
    "# I had a little trouble understanding the assignment's \"2 last columns\" -part (and couldn't participate in the QA\n",
    "# session due to work) so the way i understood it was that we want columns 2 and 3 (indexes 1 and 2)\n",
    "# out of the possible 3 and rows 2 through 5 so indexes 1-5. \n",
    "\n",
    "# ASK AT GROUP SESSION: Why does the 1st part of slicing follow the 0-count principle\n",
    "# but the 2nd part doesn't? I.E why does the counting start at 1 like it's supposed to,\n",
    "# but end at the ACTUAL row/column? \n",
    "submatrix = full_dataset[1:5, -2:] # [rows 2 to 5][columns 2 and 3]\n",
    "submatrix"
   ]
  },
  {
   "cell_type": "code",
   "execution_count": 599,
   "id": "73b7be23",
   "metadata": {},
   "outputs": [
    {
     "name": "stdout",
     "output_type": "stream",
     "text": [
      "Matrix before transposing:\n",
      "[['5' '8' '7' '6' '7' '8']\n",
      " ['1.3' '2.1' '1.7' '1.1' '1.4' '2.3']\n",
      " ['y' 'y' 'n' 'y' 'n' 'n']]\n",
      "Shape: (3, 6)\n",
      "\n",
      "Matrix after transpose:\n",
      "[['5' '1.3' 'y']\n",
      " ['8' '2.1' 'y']\n",
      " ['7' '1.7' 'n']\n",
      " ['6' '1.1' 'y']\n",
      " ['7' '1.4' 'n']\n",
      " ['8' '2.3' 'n']]\n",
      "Shape: (6, 3)\n"
     ]
    }
   ],
   "source": [
    "# d) Transpose\n",
    "\n",
    "full_dataset_transposed = full_dataset.transpose()\n",
    "print(f\"Matrix before transposing:\\n{full_dataset}\")\n",
    "print(f\"Shape: {full_dataset.shape}\\n\")\n",
    "print(f\"Matrix after transpose:\\n{full_dataset_transposed}\")\n",
    "print(f\"Shape: {full_dataset_transposed.shape}\")"
   ]
  },
  {
   "cell_type": "markdown",
   "id": "8474f5fb",
   "metadata": {},
   "source": [
    "##### 2. Variables"
   ]
  },
  {
   "cell_type": "markdown",
   "id": "868bcbd3",
   "metadata": {},
   "source": [
    "https://www-nature-com.ezproxy.utu.fi/articles/s41467-020-15524-1\n",
    "\n",
    "https://link-springer-com.ezproxy.utu.fi/article/10.1007/s12350-018-1304-x\n",
    "\n",
    "### Used variables\n",
    "\n",
    "\n",
    "\n",
    "### Amount of samples\n",
    "\n",
    "### Variables\n",
    "\n",
    "#### Their types"
   ]
  },
  {
   "cell_type": "markdown",
   "id": "cd12e409",
   "metadata": {},
   "source": [
    "##### 3. Normal Distribution"
   ]
  },
  {
   "cell_type": "code",
   "execution_count": 564,
   "id": "cc157818",
   "metadata": {},
   "outputs": [],
   "source": [
    "# Datasets\n",
    "nd_dataset_a = [170, 192, 184, 165, 176, 181, 163]\n",
    "nd_dataset_b = [170, 170, 170, 170, 192, 192, 192, 192, 184, 184, 184, 184, 165, 165, 165, 165, 176, 176,\n",
    "176, 176, 181, 181, 181, 181, 163, 163, 163, 163]"
   ]
  },
  {
   "cell_type": "code",
   "execution_count": 565,
   "id": "38cace43",
   "metadata": {
    "scrolled": true
   },
   "outputs": [
    {
     "data": {
      "image/png": "[encoded data removed]",
      "text/plain": [
       "<Figure size 432x288 with 1 Axes>"
      ]
     },
     "metadata": {},
     "output_type": "display_data"
    }
   ],
   "source": [
    "# Create a histogram of the 1st dataset\n",
    "\n",
    "plt.hist(nd_dataset_a, bins = 8, color = 'black', edgecolor = 'white')\n",
    "plt.ylabel('Count')\n",
    "plt.xlabel('Value')\n",
    "plt.show()"
   ]
  },
  {
   "cell_type": "markdown",
   "id": "887df0a0",
   "metadata": {},
   "source": [
    "The dataset doesn't seem to be normally distributed as the histogram doesn't produce a bell curve."
   ]
  },
  {
   "cell_type": "code",
   "execution_count": 566,
   "id": "f1cf536f",
   "metadata": {},
   "outputs": [
    {
     "data": {
      "image/png": "[encoded data removed]",
      "text/plain": [
       "<Figure size 432x288 with 1 Axes>"
      ]
     },
     "metadata": {},
     "output_type": "display_data"
    }
   ],
   "source": [
    "# Create a histogram of the 2nd dataset\n",
    "\n",
    "plt.hist(nd_dataset_b, bins = 8, color = 'black', edgecolor = 'white')\n",
    "plt.ylabel('Count')\n",
    "plt.xlabel('Value')\n",
    "plt.show()"
   ]
  },
  {
   "cell_type": "markdown",
   "id": "779ba089",
   "metadata": {},
   "source": [
    "Nope, still not normally distributed. Lack of bell curve.\n",
    "The data would be normally distributed if it had more data in the 170-180 area -- and a little less in the 160-165 -- than other areas, since the mean of the dataset is 175,86 and the median is 176.0. (see below)"
   ]
  },
  {
   "cell_type": "code",
   "execution_count": 567,
   "id": "f0bbb9bf",
   "metadata": {},
   "outputs": [
    {
     "name": "stdout",
     "output_type": "stream",
     "text": [
      "Mean: 175.86\n",
      "Median: 176.00\n"
     ]
    }
   ],
   "source": [
    "print(f\"Mean: {np.mean(nd_dataset_b):.2f}\")\n",
    "print(f\"Median: {np.median(nd_dataset_b):.2f}\")"
   ]
  },
  {
   "cell_type": "markdown",
   "id": "681178bc",
   "metadata": {},
   "source": [
    "#### Normal distribution vol. 2"
   ]
  },
  {
   "cell_type": "code",
   "execution_count": 568,
   "id": "cc168e42",
   "metadata": {},
   "outputs": [
    {
     "data": {
      "text/plain": [
       "<seaborn.axisgrid.FacetGrid at 0x7fbd7f875c50>"
      ]
     },
     "execution_count": 568,
     "metadata": {},
     "output_type": "execute_result"
    },
    {
     "data": {
      "image/png": "[encoded data removed]",
      "text/plain": [
       "<Figure size 360x360 with 1 Axes>"
      ]
     },
     "metadata": {},
     "output_type": "display_data"
    }
   ],
   "source": [
    "sns.displot(nd_dataset_a, kde = True, bins = 8, color = 'black')"
   ]
  },
  {
   "cell_type": "code",
   "execution_count": 569,
   "id": "6bbc5c43",
   "metadata": {
    "scrolled": true
   },
   "outputs": [
    {
     "data": {
      "text/plain": [
       "<seaborn.axisgrid.FacetGrid at 0x7fbd7ff0a910>"
      ]
     },
     "execution_count": 569,
     "metadata": {},
     "output_type": "execute_result"
    },
    {
     "data": {
      "image/png": "[encoded data removed]",
      "text/plain": [
       "<Figure size 360x360 with 1 Axes>"
      ]
     },
     "metadata": {},
     "output_type": "display_data"
    }
   ],
   "source": [
    "sns.displot(nd_dataset_b, kde = True, bins = 8, color = 'black')"
   ]
  },
  {
   "cell_type": "markdown",
   "id": "2da2dfaf",
   "metadata": {},
   "source": [
    "### Confirm hypotheses with the Shapiro-Wilk test\n",
    "If the P-Value of the Shapiro Wilk Test is larger than 0.05, we assume a normal distribution\n",
    "\n",
    "If the P-Value of the Shapiro Wilk Test is smaller than 0.05, we do not assume a normal distribution"
   ]
  },
  {
   "cell_type": "code",
   "execution_count": 570,
   "id": "b65e3e8c",
   "metadata": {},
   "outputs": [
    {
     "name": "stdout",
     "output_type": "stream",
     "text": [
      "P-value for 1st dataset is: 0.82\n"
     ]
    }
   ],
   "source": [
    "print(f\"P-value for 1st dataset is: {shapiro(nd_dataset_a).pvalue:.2f}\")"
   ]
  },
  {
   "cell_type": "code",
   "execution_count": 571,
   "id": "2606ca07",
   "metadata": {},
   "outputs": [
    {
     "name": "stdout",
     "output_type": "stream",
     "text": [
      "P-value for 2nd dataset is: 0.02\n"
     ]
    }
   ],
   "source": [
    "print(f\"P-value for 2nd dataset is: {shapiro(nd_dataset_b).pvalue:.2f}\")"
   ]
  },
  {
   "cell_type": "markdown",
   "id": "0dd4a0a0",
   "metadata": {},
   "source": [
    "### Conclusion\n",
    "\n",
    "The histograms apparently didn't give such accurate results. The Shapiro Wilk test would argue that the 1st dataset is normally distributed and the 2nd is not. "
   ]
  },
  {
   "cell_type": "markdown",
   "id": "68f29bf6",
   "metadata": {},
   "source": [
    "#### 4. Density plot (histograms are already done in exc. 3)"
   ]
  },
  {
   "cell_type": "code",
   "execution_count": 572,
   "id": "66904771",
   "metadata": {},
   "outputs": [
    {
     "data": {
      "text/plain": [
       "<AxesSubplot:ylabel='Density'>"
      ]
     },
     "execution_count": 572,
     "metadata": {},
     "output_type": "execute_result"
    },
    {
     "data": {
      "image/png": "[encoded data removed]",
      "text/plain": [
       "<Figure size 432x288 with 1 Axes>"
      ]
     },
     "metadata": {},
     "output_type": "display_data"
    }
   ],
   "source": [
    "sns.set_style('whitegrid')\n",
    "sns.kdeplot(nd_dataset_a, bw_method = 1) # bw_method smoothes out the noise; if it were, say, 0.1,  the plot'd\n",
    "                                         # be way more wobbly since it accounts for variation in data "
   ]
  },
  {
   "cell_type": "code",
   "execution_count": 573,
   "id": "0d8c3d38",
   "metadata": {},
   "outputs": [
    {
     "data": {
      "text/plain": [
       "<AxesSubplot:ylabel='Density'>"
      ]
     },
     "execution_count": 573,
     "metadata": {},
     "output_type": "execute_result"
    },
    {
     "data": {
      "image/png": "[encoded data removed]",
      "text/plain": [
       "<Figure size 432x288 with 1 Axes>"
      ]
     },
     "metadata": {},
     "output_type": "display_data"
    }
   ],
   "source": [
    "sns.set_style('whitegrid')\n",
    "sns.kdeplot(nd_dataset_b, bw_method = 1)"
   ]
  },
  {
   "cell_type": "markdown",
   "id": "2c8555ec",
   "metadata": {},
   "source": [
    "### Density plots but with less smoothing"
   ]
  },
  {
   "cell_type": "markdown",
   "id": "0a5d9463",
   "metadata": {},
   "source": [
    "##### 1st dataset"
   ]
  },
  {
   "cell_type": "code",
   "execution_count": 611,
   "id": "fd5e4c1d",
   "metadata": {},
   "outputs": [
    {
     "data": {
      "text/plain": [
       "<AxesSubplot:ylabel='Density'>"
      ]
     },
     "execution_count": 611,
     "metadata": {},
     "output_type": "execute_result"
    },
    {
     "data": {
      "image/png": "[encoded data removed]",
      "text/plain": [
       "<Figure size 432x288 with 1 Axes>"
      ]
     },
     "metadata": {},
     "output_type": "display_data"
    }
   ],
   "source": [
    "sns.set_style('whitegrid')\n",
    "sns.kdeplot(nd_dataset_a, bw_method = 0.3)"
   ]
  },
  {
   "cell_type": "markdown",
   "id": "32280789",
   "metadata": {},
   "source": [
    "###### 2nd dataset"
   ]
  },
  {
   "cell_type": "code",
   "execution_count": 575,
   "id": "fc920808",
   "metadata": {},
   "outputs": [
    {
     "data": {
      "text/plain": [
       "<AxesSubplot:ylabel='Density'>"
      ]
     },
     "execution_count": 575,
     "metadata": {},
     "output_type": "execute_result"
    },
    {
     "data": {
      "image/png": "[encoded data removed]",
      "text/plain": [
       "<Figure size 432x288 with 1 Axes>"
      ]
     },
     "metadata": {},
     "output_type": "display_data"
    }
   ],
   "source": [
    "sns.set_style('whitegrid')\n",
    "sns.kdeplot(nd_dataset_b, bw_method = 0.3)"
   ]
  },
  {
   "cell_type": "markdown",
   "id": "332bd0bc",
   "metadata": {},
   "source": [
    "### Conclusion\n",
    "Density plots' peaks help to display where values are concentrated. The less the smoothing, bigger the accuracy. "
   ]
  },
  {
   "cell_type": "markdown",
   "id": "3399c6c1",
   "metadata": {},
   "source": [
    "#### 5. NASA data"
   ]
  },
  {
   "cell_type": "code",
   "execution_count": 580,
   "id": "df89fedc",
   "metadata": {},
   "outputs": [],
   "source": [
    "# import data\n",
    "url = 'https://data.giss.nasa.gov/gistemp/graphs/graph_data/Global_Mean_Estimates_based_on_Land_and_Ocean_Data/graph.txt'\n",
    "data = pd.read_csv(url, sep = \"\\s+\", skiprows = (0, 1, 2, 3, 4), header = None)\n",
    "data.columns = ['Year', 'No_Smoothing', 'Lowess(5)']\n"
   ]
  },
  {
   "cell_type": "code",
   "execution_count": 590,
   "id": "bd24b176",
   "metadata": {},
   "outputs": [
    {
     "data": {
      "text/html": [
       "<div>\n",
       "<style scoped>\n",
       "    .dataframe tbody tr th:only-of-type {\n",
       "        vertical-align: middle;\n",
       "    }\n",
       "\n",
       "    .dataframe tbody tr th {\n",
       "        vertical-align: top;\n",
       "    }\n",
       "\n",
       "    .dataframe thead th {\n",
       "        text-align: right;\n",
       "    }\n",
       "</style>\n",
       "<table border=\"1\" class=\"dataframe\">\n",
       "  <thead>\n",
       "    <tr style=\"text-align: right;\">\n",
       "      <th></th>\n",
       "      <th>Year</th>\n",
       "      <th>No_Smoothing</th>\n",
       "      <th>Lowess(5)</th>\n",
       "    </tr>\n",
       "  </thead>\n",
       "  <tbody>\n",
       "    <tr>\n",
       "      <th>0</th>\n",
       "      <td>1880</td>\n",
       "      <td>-0.17</td>\n",
       "      <td>-0.09</td>\n",
       "    </tr>\n",
       "    <tr>\n",
       "      <th>1</th>\n",
       "      <td>1881</td>\n",
       "      <td>-0.08</td>\n",
       "      <td>-0.13</td>\n",
       "    </tr>\n",
       "    <tr>\n",
       "      <th>2</th>\n",
       "      <td>1882</td>\n",
       "      <td>-0.11</td>\n",
       "      <td>-0.17</td>\n",
       "    </tr>\n",
       "    <tr>\n",
       "      <th>3</th>\n",
       "      <td>1883</td>\n",
       "      <td>-0.18</td>\n",
       "      <td>-0.20</td>\n",
       "    </tr>\n",
       "    <tr>\n",
       "      <th>4</th>\n",
       "      <td>1884</td>\n",
       "      <td>-0.28</td>\n",
       "      <td>-0.24</td>\n",
       "    </tr>\n",
       "  </tbody>\n",
       "</table>\n",
       "</div>"
      ],
      "text/plain": [
       "   Year  No_Smoothing  Lowess(5)\n",
       "0  1880         -0.17      -0.09\n",
       "1  1881         -0.08      -0.13\n",
       "2  1882         -0.11      -0.17\n",
       "3  1883         -0.18      -0.20\n",
       "4  1884         -0.28      -0.24"
      ]
     },
     "execution_count": 590,
     "metadata": {},
     "output_type": "execute_result"
    }
   ],
   "source": [
    "# verify data\n",
    "data.head()"
   ]
  },
  {
   "cell_type": "code",
   "execution_count": 582,
   "id": "e6d4b4d0",
   "metadata": {},
   "outputs": [
    {
     "name": "stdout",
     "output_type": "stream",
     "text": [
      "No_Smoothing mean: 0.05\n",
      "No_Smoothing median: -0.07\n"
     ]
    }
   ],
   "source": [
    "print(f\"No_Smoothing mean: {data['No_Smoothing'].mean():.2f}\")\n",
    "print(f\"No_Smoothing median: {data['No_Smoothing'].median():.2f}\")"
   ]
  },
  {
   "cell_type": "code",
   "execution_count": 583,
   "id": "56c5596a",
   "metadata": {},
   "outputs": [
    {
     "name": "stdout",
     "output_type": "stream",
     "text": [
      "P-value for no_smoothing_variable variable is: 0.00\n"
     ]
    }
   ],
   "source": [
    "# Normal distribution with the Shapiro Wilk -test\n",
    "\n",
    "print(f\"P-value for no_smoothing_variable variable is: {shapiro(data['No_Smoothing']).pvalue:.2f}\")"
   ]
  },
  {
   "cell_type": "code",
   "execution_count": 584,
   "id": "bcbf8dcf",
   "metadata": {},
   "outputs": [],
   "source": [
    "# From 2000's onwards\n",
    "\n",
    "later_smoothing = data[data['Year'] >= 2000]"
   ]
  },
  {
   "cell_type": "code",
   "execution_count": 585,
   "id": "546b90ad",
   "metadata": {},
   "outputs": [
    {
     "name": "stdout",
     "output_type": "stream",
     "text": [
      "P-value for no_smoothing_variable from 2000 onwards variable is: 0.22\n"
     ]
    }
   ],
   "source": [
    "# Normal distribution with the Shapiro Wilk -test\n",
    "\n",
    "print(f\"P-value for no_smoothing_variable from 2000 onwards variable is: {shapiro(later_smoothing['No_Smoothing']).pvalue:.2f}\")\n"
   ]
  },
  {
   "cell_type": "code",
   "execution_count": 586,
   "id": "731e8df3",
   "metadata": {},
   "outputs": [
    {
     "name": "stdout",
     "output_type": "stream",
     "text": [
      "The mean is: 0.72\n",
      "The median is: 0.67\n"
     ]
    }
   ],
   "source": [
    "# Mean and median for 2000's data\n",
    "\n",
    "print(f\"The mean is: {later_smoothing['No_Smoothing'].mean():.2f}\")\n",
    "print(f\"The median is: {later_smoothing['No_Smoothing'].median():.2f}\")"
   ]
  },
  {
   "cell_type": "markdown",
   "id": "3d6cb956",
   "metadata": {},
   "source": [
    "#### Conclusion\n",
    "No_Smoothing with all data is not normally distributed whilst from 2000's onward it is"
   ]
  },
  {
   "cell_type": "code",
   "execution_count": null,
   "id": "80d4a648",
   "metadata": {},
   "outputs": [],
   "source": []
  }
 ],
 "metadata": {
  "kernelspec": {
   "display_name": "Python 3 (ipykernel)",
   "language": "python",
   "name": "python3"
  },
  "language_info": {
   "codemirror_mode": {
    "name": "ipython",
    "version": 3
   },
   "file_extension": ".py",
   "mimetype": "text/x-python",
   "name": "python",
   "nbconvert_exporter": "python",
   "pygments_lexer": "ipython3",
   "version": "3.7.11"
  }
 },
 "nbformat": 4,
 "nbformat_minor": 5
}
