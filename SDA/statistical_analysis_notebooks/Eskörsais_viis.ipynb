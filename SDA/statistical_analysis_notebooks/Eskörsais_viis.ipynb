{
 "cells": [
  {
   "cell_type": "markdown",
   "id": "a658a73f",
   "metadata": {},
   "source": [
    "jery 1900386"
   ]
  },
  {
   "cell_type": "code",
   "execution_count": 2,
   "id": "cfb689d1",
   "metadata": {},
   "outputs": [],
   "source": [
    "import pandas as pd\n",
    "import numpy as np "
   ]
  },
  {
   "cell_type": "code",
   "execution_count": 3,
   "id": "421460fc",
   "metadata": {},
   "outputs": [],
   "source": [
    "pd.options.display.float_format = '{:,.2f}'.format"
   ]
  },
  {
   "cell_type": "markdown",
   "id": "608ac2ee",
   "metadata": {},
   "source": [
    "    1.\n",
    "    Load the data available in the file 51-data.csv.\n",
    "\n",
    "    Find invalid values in the data and replace them either with a correct value (if possible) or with NaN.\n",
    "\n",
    "    Replace all missing values of the purchases variable with zero.\n",
    "\n",
    "    Use median imputation to fill in all missing values of the retention_time variable.\n",
    "    (BONUS) Group the observations by sex and location before calculating the substitute median(s)."
   ]
  },
  {
   "cell_type": "code",
   "execution_count": 4,
   "id": "197e1c2b",
   "metadata": {},
   "outputs": [],
   "source": [
    "# read data\n",
    "data_1 = pd.read_csv('51-data.csv')"
   ]
  },
  {
   "cell_type": "code",
   "execution_count": 165,
   "id": "c68d69f0",
   "metadata": {
    "scrolled": true
   },
   "outputs": [
    {
     "data": {
      "text/html": [
       "<div>\n",
       "<style scoped>\n",
       "    .dataframe tbody tr th:only-of-type {\n",
       "        vertical-align: middle;\n",
       "    }\n",
       "\n",
       "    .dataframe tbody tr th {\n",
       "        vertical-align: top;\n",
       "    }\n",
       "\n",
       "    .dataframe thead th {\n",
       "        text-align: right;\n",
       "    }\n",
       "</style>\n",
       "<table border=\"1\" class=\"dataframe\">\n",
       "  <thead>\n",
       "    <tr style=\"text-align: right;\">\n",
       "      <th></th>\n",
       "      <th>sex</th>\n",
       "      <th>location</th>\n",
       "      <th>purchases</th>\n",
       "      <th>retention_time</th>\n",
       "    </tr>\n",
       "  </thead>\n",
       "  <tbody>\n",
       "    <tr>\n",
       "      <th>0</th>\n",
       "      <td>female</td>\n",
       "      <td>Helsinki</td>\n",
       "      <td>7.00</td>\n",
       "      <td>57.10</td>\n",
       "    </tr>\n",
       "    <tr>\n",
       "      <th>1</th>\n",
       "      <td>female</td>\n",
       "      <td>Helsinki</td>\n",
       "      <td>5.00</td>\n",
       "      <td>nan</td>\n",
       "    </tr>\n",
       "    <tr>\n",
       "      <th>2</th>\n",
       "      <td>female</td>\n",
       "      <td>Turku</td>\n",
       "      <td>8.00</td>\n",
       "      <td>50.60</td>\n",
       "    </tr>\n",
       "    <tr>\n",
       "      <th>3</th>\n",
       "      <td>male</td>\n",
       "      <td>Helsinki</td>\n",
       "      <td>5.00</td>\n",
       "      <td>31.70</td>\n",
       "    </tr>\n",
       "    <tr>\n",
       "      <th>4</th>\n",
       "      <td>female</td>\n",
       "      <td>Helsinki</td>\n",
       "      <td>2.00</td>\n",
       "      <td>120.00</td>\n",
       "    </tr>\n",
       "  </tbody>\n",
       "</table>\n",
       "</div>"
      ],
      "text/plain": [
       "      sex  location  purchases  retention_time\n",
       "0  female  Helsinki       7.00           57.10\n",
       "1  female  Helsinki       5.00             nan\n",
       "2  female     Turku       8.00           50.60\n",
       "3    male  Helsinki       5.00           31.70\n",
       "4  female  Helsinki       2.00          120.00"
      ]
     },
     "execution_count": 165,
     "metadata": {},
     "output_type": "execute_result"
    }
   ],
   "source": [
    "# see what we're dealing with\n",
    "data_1.head()"
   ]
  },
  {
   "cell_type": "code",
   "execution_count": 166,
   "id": "e9dc779c",
   "metadata": {},
   "outputs": [
    {
     "data": {
      "text/plain": [
       "sex                0\n",
       "location           0\n",
       "purchases          9\n",
       "retention_time    23\n",
       "dtype: int64"
      ]
     },
     "execution_count": 166,
     "metadata": {},
     "output_type": "execute_result"
    }
   ],
   "source": [
    "# find missing values\n",
    "data_1.isna().sum()"
   ]
  },
  {
   "cell_type": "code",
   "execution_count": 167,
   "id": "1015a890",
   "metadata": {},
   "outputs": [],
   "source": [
    "# Fill missing retention times with median\n",
    "data_1['retention_time'] = data_1['retention_time'].fillna(data_1['retention_time'].median())"
   ]
  },
  {
   "cell_type": "code",
   "execution_count": 168,
   "id": "2eb65803",
   "metadata": {},
   "outputs": [
    {
     "data": {
      "text/plain": [
       "0"
      ]
     },
     "execution_count": 168,
     "metadata": {},
     "output_type": "execute_result"
    }
   ],
   "source": [
    "# succesfully filled 'em \n",
    "data_1['retention_time'].isna().sum()"
   ]
  },
  {
   "cell_type": "code",
   "execution_count": 169,
   "id": "e689b666",
   "metadata": {},
   "outputs": [],
   "source": [
    "# fill NaN Purchases with zero as requeseted\n",
    "data_1['purchases'] = data_1['purchases'].fillna(0)"
   ]
  },
  {
   "cell_type": "code",
   "execution_count": 170,
   "id": "32c1197a",
   "metadata": {},
   "outputs": [
    {
     "data": {
      "text/plain": [
       "sex               0\n",
       "location          0\n",
       "purchases         0\n",
       "retention_time    0\n",
       "dtype: int64"
      ]
     },
     "execution_count": 170,
     "metadata": {},
     "output_type": "execute_result"
    }
   ],
   "source": [
    "# it's alive!! - Frankenstein, ca. 1931\n",
    "data_1.isna().sum()"
   ]
  },
  {
   "cell_type": "code",
   "execution_count": 171,
   "id": "097ea197",
   "metadata": {},
   "outputs": [
    {
     "name": "stdout",
     "output_type": "stream",
     "text": [
      "(('female', '20100'),        sex location  purchases  retention_time\n",
      "86  female    20100       9.00           95.00)\n",
      "(('female', '33100'),         sex location  purchases  retention_time\n",
      "43   female    33100       1.00           66.00\n",
      "44   female    33100       3.00           12.20\n",
      "45   female    33100       5.00           39.90\n",
      "90   female    33100       8.00          140.90\n",
      "93   female    33100       5.00            3.50\n",
      "131  female    33100       3.00           64.50)\n",
      "(('female', 'Helsinki'),         sex  location  purchases  retention_time\n",
      "0    female  Helsinki       7.00           57.10\n",
      "1    female  Helsinki       5.00           32.90\n",
      "4    female  Helsinki       2.00          120.00\n",
      "6    female  Helsinki       2.00          122.20\n",
      "9    female  Helsinki       5.00          101.10\n",
      "16   female  Helsinki       6.00           59.40\n",
      "20   female  Helsinki       3.00            6.50\n",
      "34   female  Helsinki       6.00           87.00\n",
      "36   female  Helsinki       3.00           47.40\n",
      "53   female  Helsinki       8.00           97.60\n",
      "54   female  Helsinki       8.00            9.80\n",
      "58   female  Helsinki       8.00            6.60\n",
      "64   female  Helsinki       1.00           20.50\n",
      "66   female  Helsinki       7.00           32.90\n",
      "69   female  Helsinki       7.00          199.90\n",
      "71   female  Helsinki       5.00           60.80\n",
      "74   female  Helsinki       1.00           86.70\n",
      "76   female  Helsinki      10.00           58.70\n",
      "79   female  Helsinki       7.00          179.60\n",
      "81   female  Helsinki       6.00           30.50\n",
      "84   female  Helsinki       3.00           32.90\n",
      "85   female  Helsinki       6.00           44.40\n",
      "94   female  Helsinki       7.00           32.00\n",
      "101  female  Helsinki       3.00           88.90\n",
      "134  female  Helsinki       5.00          103.50\n",
      "137  female  Helsinki       4.00           56.90\n",
      "146  female  Helsinki       8.00            3.20\n",
      "151  female  Helsinki       6.00           17.70\n",
      "152  female  Helsinki       6.00           14.60\n",
      "156  female  Helsinki       0.00            9.20\n",
      "157  female  Helsinki       4.00            8.80\n",
      "159  female  Helsinki       5.00           67.90\n",
      "173  female  Helsinki       3.00           22.30\n",
      "174  female  Helsinki       4.00           11.10\n",
      "176  female  Helsinki       8.00           32.90\n",
      "178  female  Helsinki       5.00           21.10\n",
      "187  female  Helsinki       3.00          114.90\n",
      "194  female  Helsinki       5.00           32.90\n",
      "197  female  Helsinki       6.00           59.20\n",
      "199  female  Helsinki       6.00          181.90)\n",
      "(('female', 'Tampere'),         sex location  purchases  retention_time\n",
      "30   female  Tampere       6.00            2.30\n",
      "47   female  Tampere       6.00           36.60\n",
      "48   female  Tampere       7.00           11.70\n",
      "70   female  Tampere       2.00            7.90\n",
      "80   female  Tampere       6.00            9.40\n",
      "92   female  Tampere       0.00          101.50\n",
      "125  female  Tampere       8.00           96.10\n",
      "138  female  Tampere       5.00           11.20\n",
      "172  female  Tampere       9.00            8.30\n",
      "175  female  Tampere       8.00           68.10\n",
      "183  female  Tampere       4.00           72.00\n",
      "185  female  Tampere       3.00            7.60\n",
      "193  female  Tampere       6.00           16.80)\n",
      "(('female', 'Turku'),         sex location  purchases  retention_time\n",
      "2    female    Turku       8.00           50.60\n",
      "19   female    Turku       5.00            8.90\n",
      "21   female    Turku       8.00           43.70\n",
      "27   female    Turku       4.00           56.00\n",
      "33   female    Turku       5.00           51.30\n",
      "35   female    Turku       5.00           32.90\n",
      "50   female    Turku       2.00           81.10\n",
      "51   female    Turku       4.00           16.60\n",
      "56   female    Turku       8.00           31.60\n",
      "96   female    Turku       1.00           50.20\n",
      "103  female    Turku       4.00           32.90\n",
      "105  female    Turku      12.00          101.50\n",
      "109  female    Turku       3.00           47.60\n",
      "118  female    Turku       7.00            0.30\n",
      "122  female    Turku       2.00           19.80\n",
      "127  female    Turku       3.00          140.10\n",
      "128  female    Turku       7.00           10.60\n",
      "135  female    Turku       4.00           32.90\n",
      "141  female    Turku       0.00           63.20\n",
      "144  female    Turku       6.00           18.80\n",
      "160  female    Turku       7.00            8.00\n",
      "166  female    Turku       5.00          143.10\n",
      "171  female    Turku       2.00           72.40\n",
      "177  female    Turku       2.00           32.90\n",
      "179  female    Turku       3.00           19.70\n",
      "189  female    Turku       9.00           25.10\n",
      "191  female    Turku       5.00           21.80)\n",
      "(('male', '20100'),       sex location  purchases  retention_time\n",
      "119  male    20100       7.00           87.60\n",
      "155  male    20100       1.00           32.90)\n",
      "(('male', '33100'),       sex location  purchases  retention_time\n",
      "129  male    33100       6.00           49.70\n",
      "133  male    33100       0.00           93.60)\n",
      "(('male', 'Helsinki'),       sex  location  purchases  retention_time\n",
      "3    male  Helsinki       5.00           31.70\n",
      "5    male  Helsinki       2.00           32.90\n",
      "10   male  Helsinki       0.00           34.10\n",
      "12   male  Helsinki       9.00            0.50\n",
      "15   male  Helsinki       6.00           32.90\n",
      "17   male  Helsinki       6.00           20.20\n",
      "22   male  Helsinki       1.00           55.60\n",
      "23   male  Helsinki       4.00           21.40\n",
      "25   male  Helsinki       2.00           14.70\n",
      "38   male  Helsinki       7.00           45.50\n",
      "39   male  Helsinki       9.00            1.20\n",
      "40   male  Helsinki       4.00           15.30\n",
      "42   male  Helsinki       8.00           36.70\n",
      "46   male  Helsinki       9.00           71.80\n",
      "52   male  Helsinki       7.00           32.90\n",
      "55   male  Helsinki       2.00          123.80\n",
      "59   male  Helsinki       3.00          -14.90\n",
      "65   male  Helsinki       8.00           88.30\n",
      "67   male  Helsinki       4.00           32.90\n",
      "68   male  Helsinki       2.00          219.30\n",
      "72   male  Helsinki       7.00           16.70\n",
      "75   male  Helsinki       9.00            7.20\n",
      "77   male  Helsinki       1.00          144.60\n",
      "95   male  Helsinki       5.00           86.30\n",
      "98   male  Helsinki       2.00            4.90\n",
      "102  male  Helsinki       2.00           71.00\n",
      "104  male  Helsinki       5.00           75.50\n",
      "111  male  Helsinki       4.00           32.90\n",
      "112  male  Helsinki       5.00           78.10\n",
      "113  male  Helsinki       6.00           13.90\n",
      "114  male  Helsinki       4.00           32.90\n",
      "115  male  Helsinki       7.00           28.10\n",
      "116  male  Helsinki       3.00           10.80\n",
      "120  male  Helsinki       3.00           26.10\n",
      "121  male  Helsinki       5.00           13.80\n",
      "123  male  Helsinki       6.00          135.40\n",
      "139  male  Helsinki       0.00           32.90\n",
      "147  male  Helsinki       7.00           13.60\n",
      "149  male  Helsinki       1.00           14.60\n",
      "154  male  Helsinki       6.00           55.30\n",
      "158  male  Helsinki       5.00            3.80\n",
      "161  male  Helsinki       5.00           17.10\n",
      "163  male  Helsinki       7.00           51.70\n",
      "164  male  Helsinki      10.00            9.10\n",
      "167  male  Helsinki       3.00           55.90\n",
      "168  male  Helsinki       4.00           32.90\n",
      "182  male  Helsinki       6.00           26.40\n",
      "184  male  Helsinki       5.00           32.70\n",
      "186  male  Helsinki       7.00            0.90\n",
      "192  male  Helsinki       4.00           32.90\n",
      "196  male  Helsinki       3.00           36.90\n",
      "198  male  Helsinki       5.00           31.80)\n",
      "(('male', 'Tampere'),       sex location  purchases  retention_time\n",
      "11   male  Tampere       7.00           54.50\n",
      "37   male  Tampere       8.00           23.60\n",
      "61   male  Tampere       4.00           39.70\n",
      "73   male  Tampere       6.00           90.30\n",
      "83   male  Tampere      13.00            0.50\n",
      "89   male  Tampere       4.00          113.70\n",
      "100  male  Tampere       4.00           96.40\n",
      "108  male  Tampere       4.00           40.30\n",
      "117  male  Tampere       2.00            1.90\n",
      "136  male  Tampere       3.00           32.90\n",
      "140  male  Tampere       5.00           56.30\n",
      "142  male  Tampere       4.00           32.90\n",
      "143  male  Tampere       3.00            1.90\n",
      "145  male  Tampere       3.00          237.80)\n",
      "(('male', 'Turku'),       sex location  purchases  retention_time\n",
      "7    male    Turku       0.00           87.90\n",
      "8    male    Turku       3.00            0.50\n",
      "13   male    Turku       5.00           61.20\n",
      "14   male    Turku       4.00            7.00\n",
      "18   male    Turku       4.00           32.90\n",
      "24   male    Turku      10.00            6.00\n",
      "26   male    Turku       6.00           52.00\n",
      "28   male    Turku       5.00           21.40\n",
      "29   male    Turku       4.00           17.70\n",
      "31   male    Turku       3.00           32.90\n",
      "32   male    Turku       5.00            6.40\n",
      "41   male    Turku       5.00           12.80\n",
      "49   male    Turku       2.00           32.90\n",
      "57   male    Turku       0.00           75.10\n",
      "62   male    Turku       5.00           74.50\n",
      "63   male    Turku       6.00           14.50\n",
      "78   male    Turku       6.00            1.90\n",
      "82   male    Turku       4.00           30.10\n",
      "87   male    Turku       3.00           64.10\n",
      "88   male    Turku       0.00           17.80\n",
      "91   male    Turku       2.00           16.10\n",
      "97   male    Turku       5.00          100.00\n",
      "99   male    Turku       4.00           42.90\n",
      "106  male    Turku       7.00           99.10\n",
      "107  male    Turku       4.00          104.00\n",
      "110  male    Turku       9.00           19.40\n",
      "124  male    Turku       3.00            9.90\n",
      "126  male    Turku       1.00            3.40\n",
      "130  male    Turku       5.00          117.20\n",
      "132  male    Turku       3.00           13.00\n",
      "148  male    Turku       5.00           25.30\n",
      "150  male    Turku       7.00           81.10\n",
      "153  male    Turku       5.00           28.10\n",
      "162  male    Turku       8.00          133.20\n",
      "165  male    Turku       5.00            4.30\n",
      "169  male    Turku       2.00           14.70\n",
      "170  male    Turku       4.00           26.10\n",
      "180  male    Turku       8.00            9.20\n",
      "181  male    Turku       3.00           16.70\n",
      "188  male    Turku       4.00           12.10\n",
      "190  male    Turku       7.00           67.80\n",
      "195  male    Turku       3.00           40.50)\n",
      "(('nale', 'Turku'),      sex location  purchases  retention_time\n",
      "60  nale    Turku       0.00          106.10)\n"
     ]
    }
   ],
   "source": [
    "# it's safe to skim it manually since there's only 200 rows\n",
    "grouped_data = data_1.groupby(['sex', 'location'])\n",
    "for x in grouped_data:\n",
    "    print(x)"
   ]
  },
  {
   "cell_type": "markdown",
   "id": "1df60d53",
   "metadata": {},
   "source": [
    "Apparently some city values are encoded by their respective area codes and male is nale. Let's fix that"
   ]
  },
  {
   "cell_type": "code",
   "execution_count": 172,
   "id": "8316e7fd",
   "metadata": {},
   "outputs": [],
   "source": [
    "data_1.loc[data_1['location'] == 33100, 'location'] = 'Tampere'\n",
    "data_1.loc[data_1['location'] == 20100, 'location'] = 'Turku'\n",
    "data_1.loc[data_1['location'] == '33100', 'location'] = 'Tampere'\n",
    "data_1.loc[data_1['location'] == '20100', 'location'] = 'Turku'\n",
    "data_1.loc[data_1['sex'] == 'nale', 'sex'] = 'male'"
   ]
  },
  {
   "cell_type": "code",
   "execution_count": 173,
   "id": "c9c6bd65",
   "metadata": {},
   "outputs": [
    {
     "data": {
      "text/html": [
       "<div>\n",
       "<style scoped>\n",
       "    .dataframe tbody tr th:only-of-type {\n",
       "        vertical-align: middle;\n",
       "    }\n",
       "\n",
       "    .dataframe tbody tr th {\n",
       "        vertical-align: top;\n",
       "    }\n",
       "\n",
       "    .dataframe thead th {\n",
       "        text-align: right;\n",
       "    }\n",
       "</style>\n",
       "<table border=\"1\" class=\"dataframe\">\n",
       "  <thead>\n",
       "    <tr style=\"text-align: right;\">\n",
       "      <th></th>\n",
       "      <th></th>\n",
       "      <th>purchases</th>\n",
       "      <th>retention_time</th>\n",
       "    </tr>\n",
       "    <tr>\n",
       "      <th>sex</th>\n",
       "      <th>location</th>\n",
       "      <th></th>\n",
       "      <th></th>\n",
       "    </tr>\n",
       "  </thead>\n",
       "  <tbody>\n",
       "    <tr>\n",
       "      <th rowspan=\"3\" valign=\"top\">female</th>\n",
       "      <th>Helsinki</th>\n",
       "      <td>5.00</td>\n",
       "      <td>45.90</td>\n",
       "    </tr>\n",
       "    <tr>\n",
       "      <th>Tampere</th>\n",
       "      <td>5.00</td>\n",
       "      <td>16.80</td>\n",
       "    </tr>\n",
       "    <tr>\n",
       "      <th>Turku</th>\n",
       "      <td>5.00</td>\n",
       "      <td>32.90</td>\n",
       "    </tr>\n",
       "    <tr>\n",
       "      <th rowspan=\"3\" valign=\"top\">male</th>\n",
       "      <th>Helsinki</th>\n",
       "      <td>5.00</td>\n",
       "      <td>32.90</td>\n",
       "    </tr>\n",
       "    <tr>\n",
       "      <th>Tampere</th>\n",
       "      <td>4.00</td>\n",
       "      <td>45.00</td>\n",
       "    </tr>\n",
       "    <tr>\n",
       "      <th>Turku</th>\n",
       "      <td>4.00</td>\n",
       "      <td>28.10</td>\n",
       "    </tr>\n",
       "  </tbody>\n",
       "</table>\n",
       "</div>"
      ],
      "text/plain": [
       "                 purchases  retention_time\n",
       "sex    location                           \n",
       "female Helsinki       5.00           45.90\n",
       "       Tampere        5.00           16.80\n",
       "       Turku          5.00           32.90\n",
       "male   Helsinki       5.00           32.90\n",
       "       Tampere        4.00           45.00\n",
       "       Turku          4.00           28.10"
      ]
     },
     "execution_count": 173,
     "metadata": {},
     "output_type": "execute_result"
    }
   ],
   "source": [
    "data_1.groupby(['sex', 'location']).median()"
   ]
  },
  {
   "cell_type": "markdown",
   "id": "ca4bd420",
   "metadata": {},
   "source": [
    "    Load the data available in the file 53-data.csv, which contains daily numbers of cyclists spotted on selected streets.\n",
    "\n",
    "    For each weekday (Monday - Sunday), calculate the mean daily number of cyclists for each street. Plot the means as a bar plot.\n",
    "\n",
    "    For each month (January - December), calculate the mean daily number of cyclists for each street. Plot the means as a bar plot.\n",
    "\n",
    "    Calculate the Spearman's correlation coefficient and create a scatter plot for each pair of streets.\n",
    "\n",
    "    What information do these plots reveal?"
   ]
  },
  {
   "cell_type": "code",
   "execution_count": 174,
   "id": "182c947f",
   "metadata": {},
   "outputs": [],
   "source": [
    "data_3 = pd.read_csv('53-data.csv')"
   ]
  },
  {
   "cell_type": "code",
   "execution_count": 175,
   "id": "6e648126",
   "metadata": {},
   "outputs": [
    {
     "data": {
      "text/plain": [
       "Eteläesplanadi     0\n",
       "Kaivokatu          0\n",
       "Kuusisaarentie     0\n",
       "Merikannontie      0\n",
       "Länsituulenkuja    0\n",
       "year               0\n",
       "month              0\n",
       "day                0\n",
       "weekday            0\n",
       "dtype: int64"
      ]
     },
     "execution_count": 175,
     "metadata": {},
     "output_type": "execute_result"
    }
   ],
   "source": [
    "data_3.isna().sum()"
   ]
  },
  {
   "cell_type": "code",
   "execution_count": 176,
   "id": "c5893a7c",
   "metadata": {},
   "outputs": [
    {
     "data": {
      "text/html": [
       "<div>\n",
       "<style scoped>\n",
       "    .dataframe tbody tr th:only-of-type {\n",
       "        vertical-align: middle;\n",
       "    }\n",
       "\n",
       "    .dataframe tbody tr th {\n",
       "        vertical-align: top;\n",
       "    }\n",
       "\n",
       "    .dataframe thead th {\n",
       "        text-align: right;\n",
       "    }\n",
       "</style>\n",
       "<table border=\"1\" class=\"dataframe\">\n",
       "  <thead>\n",
       "    <tr style=\"text-align: right;\">\n",
       "      <th></th>\n",
       "      <th>Eteläesplanadi</th>\n",
       "      <th>Kaivokatu</th>\n",
       "      <th>Kuusisaarentie</th>\n",
       "      <th>Merikannontie</th>\n",
       "      <th>Länsituulenkuja</th>\n",
       "      <th>year</th>\n",
       "      <th>month</th>\n",
       "      <th>day</th>\n",
       "      <th>weekday</th>\n",
       "    </tr>\n",
       "  </thead>\n",
       "  <tbody>\n",
       "    <tr>\n",
       "      <th>0</th>\n",
       "      <td>999</td>\n",
       "      <td>1608</td>\n",
       "      <td>699</td>\n",
       "      <td>1287</td>\n",
       "      <td>646</td>\n",
       "      <td>2017</td>\n",
       "      <td>11</td>\n",
       "      <td>10</td>\n",
       "      <td>4</td>\n",
       "    </tr>\n",
       "    <tr>\n",
       "      <th>1</th>\n",
       "      <td>328</td>\n",
       "      <td>377</td>\n",
       "      <td>110</td>\n",
       "      <td>266</td>\n",
       "      <td>267</td>\n",
       "      <td>2017</td>\n",
       "      <td>11</td>\n",
       "      <td>11</td>\n",
       "      <td>5</td>\n",
       "    </tr>\n",
       "    <tr>\n",
       "      <th>2</th>\n",
       "      <td>316</td>\n",
       "      <td>474</td>\n",
       "      <td>252</td>\n",
       "      <td>564</td>\n",
       "      <td>228</td>\n",
       "      <td>2017</td>\n",
       "      <td>11</td>\n",
       "      <td>12</td>\n",
       "      <td>6</td>\n",
       "    </tr>\n",
       "    <tr>\n",
       "      <th>3</th>\n",
       "      <td>1149</td>\n",
       "      <td>1753</td>\n",
       "      <td>888</td>\n",
       "      <td>1537</td>\n",
       "      <td>730</td>\n",
       "      <td>2017</td>\n",
       "      <td>11</td>\n",
       "      <td>13</td>\n",
       "      <td>0</td>\n",
       "    </tr>\n",
       "    <tr>\n",
       "      <th>4</th>\n",
       "      <td>1246</td>\n",
       "      <td>1825</td>\n",
       "      <td>812</td>\n",
       "      <td>1505</td>\n",
       "      <td>787</td>\n",
       "      <td>2017</td>\n",
       "      <td>11</td>\n",
       "      <td>14</td>\n",
       "      <td>1</td>\n",
       "    </tr>\n",
       "  </tbody>\n",
       "</table>\n",
       "</div>"
      ],
      "text/plain": [
       "   Eteläesplanadi  Kaivokatu  Kuusisaarentie  Merikannontie  Länsituulenkuja  \\\n",
       "0             999       1608             699           1287              646   \n",
       "1             328        377             110            266              267   \n",
       "2             316        474             252            564              228   \n",
       "3            1149       1753             888           1537              730   \n",
       "4            1246       1825             812           1505              787   \n",
       "\n",
       "   year  month  day  weekday  \n",
       "0  2017     11   10        4  \n",
       "1  2017     11   11        5  \n",
       "2  2017     11   12        6  \n",
       "3  2017     11   13        0  \n",
       "4  2017     11   14        1  "
      ]
     },
     "execution_count": 176,
     "metadata": {},
     "output_type": "execute_result"
    }
   ],
   "source": [
    "data_3.head()"
   ]
  },
  {
   "cell_type": "code",
   "execution_count": 177,
   "id": "85d9e58e",
   "metadata": {},
   "outputs": [],
   "source": [
    "weekday_data = data_3.drop(columns = ['year', 'month', 'day'])"
   ]
  },
  {
   "cell_type": "code",
   "execution_count": 178,
   "id": "5162f0f1",
   "metadata": {
    "scrolled": true
   },
   "outputs": [
    {
     "data": {
      "text/html": [
       "<div>\n",
       "<style scoped>\n",
       "    .dataframe tbody tr th:only-of-type {\n",
       "        vertical-align: middle;\n",
       "    }\n",
       "\n",
       "    .dataframe tbody tr th {\n",
       "        vertical-align: top;\n",
       "    }\n",
       "\n",
       "    .dataframe thead th {\n",
       "        text-align: right;\n",
       "    }\n",
       "</style>\n",
       "<table border=\"1\" class=\"dataframe\">\n",
       "  <thead>\n",
       "    <tr style=\"text-align: right;\">\n",
       "      <th></th>\n",
       "      <th>Eteläesplanadi</th>\n",
       "      <th>Kaivokatu</th>\n",
       "      <th>Kuusisaarentie</th>\n",
       "      <th>Merikannontie</th>\n",
       "      <th>Länsituulenkuja</th>\n",
       "    </tr>\n",
       "    <tr>\n",
       "      <th>weekday</th>\n",
       "      <th></th>\n",
       "      <th></th>\n",
       "      <th></th>\n",
       "      <th></th>\n",
       "      <th></th>\n",
       "    </tr>\n",
       "  </thead>\n",
       "  <tbody>\n",
       "    <tr>\n",
       "      <th>0</th>\n",
       "      <td>1,226.75</td>\n",
       "      <td>2,379.02</td>\n",
       "      <td>1,226.71</td>\n",
       "      <td>1,939.71</td>\n",
       "      <td>1,107.78</td>\n",
       "    </tr>\n",
       "    <tr>\n",
       "      <th>1</th>\n",
       "      <td>1,280.68</td>\n",
       "      <td>2,454.70</td>\n",
       "      <td>1,237.83</td>\n",
       "      <td>2,001.72</td>\n",
       "      <td>1,092.74</td>\n",
       "    </tr>\n",
       "    <tr>\n",
       "      <th>2</th>\n",
       "      <td>1,291.27</td>\n",
       "      <td>2,486.91</td>\n",
       "      <td>1,212.19</td>\n",
       "      <td>1,965.70</td>\n",
       "      <td>1,093.91</td>\n",
       "    </tr>\n",
       "    <tr>\n",
       "      <th>3</th>\n",
       "      <td>1,265.63</td>\n",
       "      <td>2,451.12</td>\n",
       "      <td>1,153.93</td>\n",
       "      <td>1,891.72</td>\n",
       "      <td>1,077.50</td>\n",
       "    </tr>\n",
       "    <tr>\n",
       "      <th>4</th>\n",
       "      <td>1,129.94</td>\n",
       "      <td>2,199.50</td>\n",
       "      <td>976.36</td>\n",
       "      <td>1,613.91</td>\n",
       "      <td>1,031.50</td>\n",
       "    </tr>\n",
       "    <tr>\n",
       "      <th>5</th>\n",
       "      <td>773.02</td>\n",
       "      <td>1,434.66</td>\n",
       "      <td>659.73</td>\n",
       "      <td>1,225.36</td>\n",
       "      <td>824.58</td>\n",
       "    </tr>\n",
       "    <tr>\n",
       "      <th>6</th>\n",
       "      <td>658.16</td>\n",
       "      <td>1,259.18</td>\n",
       "      <td>782.76</td>\n",
       "      <td>1,349.11</td>\n",
       "      <td>680.36</td>\n",
       "    </tr>\n",
       "  </tbody>\n",
       "</table>\n",
       "</div>"
      ],
      "text/plain": [
       "         Eteläesplanadi  Kaivokatu  Kuusisaarentie  Merikannontie  \\\n",
       "weekday                                                             \n",
       "0              1,226.75   2,379.02        1,226.71       1,939.71   \n",
       "1              1,280.68   2,454.70        1,237.83       2,001.72   \n",
       "2              1,291.27   2,486.91        1,212.19       1,965.70   \n",
       "3              1,265.63   2,451.12        1,153.93       1,891.72   \n",
       "4              1,129.94   2,199.50          976.36       1,613.91   \n",
       "5                773.02   1,434.66          659.73       1,225.36   \n",
       "6                658.16   1,259.18          782.76       1,349.11   \n",
       "\n",
       "         Länsituulenkuja  \n",
       "weekday                   \n",
       "0               1,107.78  \n",
       "1               1,092.74  \n",
       "2               1,093.91  \n",
       "3               1,077.50  \n",
       "4               1,031.50  \n",
       "5                 824.58  \n",
       "6                 680.36  "
      ]
     },
     "execution_count": 178,
     "metadata": {},
     "output_type": "execute_result"
    }
   ],
   "source": [
    "weekday_data.groupby(['weekday']).mean()"
   ]
  },
  {
   "cell_type": "code",
   "execution_count": 179,
   "id": "395005a9",
   "metadata": {},
   "outputs": [],
   "source": [
    "monthly_data = data_3.drop(columns = ['year','day','weekday'])"
   ]
  },
  {
   "cell_type": "code",
   "execution_count": 180,
   "id": "03efc7c6",
   "metadata": {},
   "outputs": [
    {
     "data": {
      "text/html": [
       "<div>\n",
       "<style scoped>\n",
       "    .dataframe tbody tr th:only-of-type {\n",
       "        vertical-align: middle;\n",
       "    }\n",
       "\n",
       "    .dataframe tbody tr th {\n",
       "        vertical-align: top;\n",
       "    }\n",
       "\n",
       "    .dataframe thead th {\n",
       "        text-align: right;\n",
       "    }\n",
       "</style>\n",
       "<table border=\"1\" class=\"dataframe\">\n",
       "  <thead>\n",
       "    <tr style=\"text-align: right;\">\n",
       "      <th></th>\n",
       "      <th>Eteläesplanadi</th>\n",
       "      <th>Kaivokatu</th>\n",
       "      <th>Kuusisaarentie</th>\n",
       "      <th>Merikannontie</th>\n",
       "      <th>Länsituulenkuja</th>\n",
       "    </tr>\n",
       "    <tr>\n",
       "      <th>month</th>\n",
       "      <th></th>\n",
       "      <th></th>\n",
       "      <th></th>\n",
       "      <th></th>\n",
       "      <th></th>\n",
       "    </tr>\n",
       "  </thead>\n",
       "  <tbody>\n",
       "    <tr>\n",
       "      <th>1</th>\n",
       "      <td>264.61</td>\n",
       "      <td>580.18</td>\n",
       "      <td>295.36</td>\n",
       "      <td>469.43</td>\n",
       "      <td>468.35</td>\n",
       "    </tr>\n",
       "    <tr>\n",
       "      <th>2</th>\n",
       "      <td>203.58</td>\n",
       "      <td>548.17</td>\n",
       "      <td>287.19</td>\n",
       "      <td>407.61</td>\n",
       "      <td>433.85</td>\n",
       "    </tr>\n",
       "    <tr>\n",
       "      <th>3</th>\n",
       "      <td>310.86</td>\n",
       "      <td>781.59</td>\n",
       "      <td>455.05</td>\n",
       "      <td>646.56</td>\n",
       "      <td>608.61</td>\n",
       "    </tr>\n",
       "    <tr>\n",
       "      <th>4</th>\n",
       "      <td>1,067.61</td>\n",
       "      <td>2,010.75</td>\n",
       "      <td>1,157.62</td>\n",
       "      <td>1,819.67</td>\n",
       "      <td>956.93</td>\n",
       "    </tr>\n",
       "    <tr>\n",
       "      <th>5</th>\n",
       "      <td>1,881.64</td>\n",
       "      <td>3,249.58</td>\n",
       "      <td>1,728.73</td>\n",
       "      <td>2,969.60</td>\n",
       "      <td>1,292.04</td>\n",
       "    </tr>\n",
       "    <tr>\n",
       "      <th>6</th>\n",
       "      <td>2,246.46</td>\n",
       "      <td>3,752.10</td>\n",
       "      <td>2,013.76</td>\n",
       "      <td>3,437.76</td>\n",
       "      <td>1,691.71</td>\n",
       "    </tr>\n",
       "    <tr>\n",
       "      <th>7</th>\n",
       "      <td>1,512.07</td>\n",
       "      <td>3,410.94</td>\n",
       "      <td>1,563.34</td>\n",
       "      <td>2,885.59</td>\n",
       "      <td>1,268.85</td>\n",
       "    </tr>\n",
       "    <tr>\n",
       "      <th>8</th>\n",
       "      <td>2,095.73</td>\n",
       "      <td>4,152.60</td>\n",
       "      <td>2,010.89</td>\n",
       "      <td>3,152.58</td>\n",
       "      <td>1,532.34</td>\n",
       "    </tr>\n",
       "    <tr>\n",
       "      <th>9</th>\n",
       "      <td>1,681.79</td>\n",
       "      <td>3,351.07</td>\n",
       "      <td>1,545.97</td>\n",
       "      <td>2,368.98</td>\n",
       "      <td>1,373.31</td>\n",
       "    </tr>\n",
       "    <tr>\n",
       "      <th>10</th>\n",
       "      <td>1,211.36</td>\n",
       "      <td>2,271.55</td>\n",
       "      <td>990.04</td>\n",
       "      <td>1,586.45</td>\n",
       "      <td>1,125.37</td>\n",
       "    </tr>\n",
       "    <tr>\n",
       "      <th>11</th>\n",
       "      <td>761.47</td>\n",
       "      <td>1,383.13</td>\n",
       "      <td>592.92</td>\n",
       "      <td>1,060.14</td>\n",
       "      <td>880.60</td>\n",
       "    </tr>\n",
       "    <tr>\n",
       "      <th>12</th>\n",
       "      <td>374.43</td>\n",
       "      <td>701.95</td>\n",
       "      <td>271.95</td>\n",
       "      <td>535.84</td>\n",
       "      <td>558.78</td>\n",
       "    </tr>\n",
       "  </tbody>\n",
       "</table>\n",
       "</div>"
      ],
      "text/plain": [
       "       Eteläesplanadi  Kaivokatu  Kuusisaarentie  Merikannontie  \\\n",
       "month                                                             \n",
       "1              264.61     580.18          295.36         469.43   \n",
       "2              203.58     548.17          287.19         407.61   \n",
       "3              310.86     781.59          455.05         646.56   \n",
       "4            1,067.61   2,010.75        1,157.62       1,819.67   \n",
       "5            1,881.64   3,249.58        1,728.73       2,969.60   \n",
       "6            2,246.46   3,752.10        2,013.76       3,437.76   \n",
       "7            1,512.07   3,410.94        1,563.34       2,885.59   \n",
       "8            2,095.73   4,152.60        2,010.89       3,152.58   \n",
       "9            1,681.79   3,351.07        1,545.97       2,368.98   \n",
       "10           1,211.36   2,271.55          990.04       1,586.45   \n",
       "11             761.47   1,383.13          592.92       1,060.14   \n",
       "12             374.43     701.95          271.95         535.84   \n",
       "\n",
       "       Länsituulenkuja  \n",
       "month                   \n",
       "1               468.35  \n",
       "2               433.85  \n",
       "3               608.61  \n",
       "4               956.93  \n",
       "5             1,292.04  \n",
       "6             1,691.71  \n",
       "7             1,268.85  \n",
       "8             1,532.34  \n",
       "9             1,373.31  \n",
       "10            1,125.37  \n",
       "11              880.60  \n",
       "12              558.78  "
      ]
     },
     "execution_count": 180,
     "metadata": {},
     "output_type": "execute_result"
    }
   ],
   "source": [
    "monthly_data.groupby(['month']).mean()"
   ]
  },
  {
   "cell_type": "code",
   "execution_count": 181,
   "id": "62c2e65d",
   "metadata": {},
   "outputs": [
    {
     "data": {
      "text/plain": [
       "<AxesSubplot:xlabel='month'>"
      ]
     },
     "execution_count": 181,
     "metadata": {},
     "output_type": "execute_result"
    },
    {
     "data": {
      "image/png": "[encoded data removed]",
      "text/plain": [
       "<Figure size 432x288 with 1 Axes>"
      ]
     },
     "metadata": {
      "needs_background": "light"
     },
     "output_type": "display_data"
    }
   ],
   "source": [
    "monthly_data.groupby(['month']).mean().plot.bar()"
   ]
  },
  {
   "cell_type": "code",
   "execution_count": 182,
   "id": "6ac08081",
   "metadata": {},
   "outputs": [
    {
     "data": {
      "text/plain": [
       "<AxesSubplot:xlabel='weekday'>"
      ]
     },
     "execution_count": 182,
     "metadata": {},
     "output_type": "execute_result"
    },
    {
     "data": {
      "image/png": "[encoded data removed]",
      "text/plain": [
       "<Figure size 432x288 with 1 Axes>"
      ]
     },
     "metadata": {
      "needs_background": "light"
     },
     "output_type": "display_data"
    }
   ],
   "source": [
    "weekday_data.groupby(['weekday']).mean().plot.bar()"
   ]
  },
  {
   "cell_type": "markdown",
   "id": "8730a97c",
   "metadata": {},
   "source": [
    "\n",
    "    An advertisement company followed online customers to discover how effectively advertisements lure them to spend money. The data files 54-image.csv and 54-video.csv contain information on how much customers spent in total after clicking on advertisements.\n",
    "\n",
    "    Is there statistical evidence to claim that the total amount spent by customers is different if they click on image advertisements than on video advertisements?"
   ]
  },
  {
   "cell_type": "code",
   "execution_count": 19,
   "id": "33050b2d",
   "metadata": {},
   "outputs": [],
   "source": [
    "img_data = pd.read_csv('54-image.csv')\n",
    "vid_data = pd.read_csv('54-video.csv')"
   ]
  },
  {
   "cell_type": "code",
   "execution_count": 24,
   "id": "81790db2",
   "metadata": {},
   "outputs": [
    {
     "name": "stdout",
     "output_type": "stream",
     "text": [
      "195\n",
      "175\n"
     ]
    }
   ],
   "source": [
    "print(len(img_data))\n",
    "print(len(vid_data))"
   ]
  },
  {
   "cell_type": "code",
   "execution_count": 29,
   "id": "16557eff",
   "metadata": {},
   "outputs": [
    {
     "data": {
      "text/plain": [
       "199"
      ]
     },
     "execution_count": 29,
     "metadata": {},
     "output_type": "execute_result"
    }
   ],
   "source": [
    "total_data = pd.merge(img_data, vid_data, on = 'person_id', how = 'outer')\n",
    "len(total_data)"
   ]
  },
  {
   "cell_type": "code",
   "execution_count": 184,
   "id": "edf4f5cc",
   "metadata": {
    "scrolled": true
   },
   "outputs": [
    {
     "data": {
      "text/plain": [
       "person_id       0\n",
       "amount_spent    0\n",
       "dtype: int64"
      ]
     },
     "execution_count": 184,
     "metadata": {},
     "output_type": "execute_result"
    }
   ],
   "source": [
    "img_data.isna().sum()"
   ]
  },
  {
   "cell_type": "code",
   "execution_count": 185,
   "id": "b22d6cca",
   "metadata": {
    "scrolled": true
   },
   "outputs": [
    {
     "data": {
      "text/plain": [
       "person_id       0\n",
       "amount_spent    0\n",
       "dtype: int64"
      ]
     },
     "execution_count": 185,
     "metadata": {},
     "output_type": "execute_result"
    }
   ],
   "source": [
    "vid_data.isna().sum()"
   ]
  },
  {
   "cell_type": "code",
   "execution_count": 186,
   "id": "bd5b5b16",
   "metadata": {
    "scrolled": true
   },
   "outputs": [
    {
     "data": {
      "text/plain": [
       "count   175.00\n",
       "mean     43.62\n",
       "std      42.17\n",
       "min       0.18\n",
       "25%      14.32\n",
       "50%      31.99\n",
       "75%      59.72\n",
       "max     214.34\n",
       "Name: amount_spent, dtype: float64"
      ]
     },
     "execution_count": 186,
     "metadata": {},
     "output_type": "execute_result"
    }
   ],
   "source": [
    "vid_data['amount_spent'].describe()"
   ]
  },
  {
   "cell_type": "code",
   "execution_count": 187,
   "id": "b9597579",
   "metadata": {
    "scrolled": true
   },
   "outputs": [
    {
     "data": {
      "text/plain": [
       "count   195.00\n",
       "mean     50.47\n",
       "std      47.40\n",
       "min       0.92\n",
       "25%      17.99\n",
       "50%      36.57\n",
       "75%      71.58\n",
       "max     329.23\n",
       "Name: amount_spent, dtype: float64"
      ]
     },
     "execution_count": 187,
     "metadata": {},
     "output_type": "execute_result"
    }
   ],
   "source": [
    "img_data['amount_spent'].describe()"
   ]
  },
  {
   "cell_type": "markdown",
   "id": "0052306e",
   "metadata": {},
   "source": [
    "There'd be some suggestions that people spent, on average, more time on image ads"
   ]
  }
 ],
 "metadata": {
  "kernelspec": {
   "display_name": "Python 3 (ipykernel)",
   "language": "python",
   "name": "python3"
  },
  "language_info": {
   "codemirror_mode": {
    "name": "ipython",
    "version": 3
   },
   "file_extension": ".py",
   "mimetype": "text/x-python",
   "name": "python",
   "nbconvert_exporter": "python",
   "pygments_lexer": "ipython3",
   "version": "3.7.11"
  }
 },
 "nbformat": 4,
 "nbformat_minor": 5
}
