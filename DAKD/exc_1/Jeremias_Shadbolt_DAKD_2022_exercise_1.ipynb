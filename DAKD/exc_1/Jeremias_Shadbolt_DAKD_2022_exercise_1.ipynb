{
 "cells": [
  {
   "cell_type": "markdown",
   "metadata": {},
   "source": [
    "<div class=\"alert alert-block alert-warning\">\n",
    "    <h1><center> DAKD 2022 EXERCISE 1: DATA UNDERSTANDING  </center></h1>"
   ]
  },
  {
   "cell_type": "markdown",
   "metadata": {},
   "source": [
    "This exercise relates to the _data understanding_ and  _data preparation_ stages of the Crisp Data Mining (CRISP-DM) model presented on the course. The questions at this stage of a data-analysis project are for example: \n",
    "\n",
    "- Is the data quality sufficient?\n",
    "- How can we check the data for problems?\n",
    "- How do we have to clean the data?\n",
    "- How is the data best transformed for modeling?\n",
    "\n",
    "It may be tempting to just run a model on data without checking it. However, not doing basic checks can ruin your whole analysis and make your results invalid as well as mislead you in further analyses. There is no excuse for not plotting and checking that the data is as we expect and clean. In this exercise we do just that, check the validity of data and familiarize ourselves with a dataset, also discussing preprocessing and multi-dimensional plotting. \n",
    " \n",
    "------------"
   ]
  },
  {
   "cell_type": "markdown",
   "metadata": {},
   "source": [
    "### <font color = red> *** FILL YOUR INFORMATION BELOW *** </font>\n",
    "Jeremias Shadbolt <br>\n",
    "1900386 <br>\n",
    "jrshad@utu.fi  <br>\n",
    "5. - 13.11.  <br>"
   ]
  },
  {
   "cell_type": "markdown",
   "metadata": {
    "id": "W3jIT0S_3BPb"
   },
   "source": [
    "\n",
    "#### General guidance for exercises \n",
    "\n",
    "-  You can add more code and markup cells, as long as the flow of the notebook stays readable and logical.\n",
    "- Answer **all** questions (except the bonus if you do not want to attempt it), even if you can't get your script to fully work\n",
    "- Write clear and easily readable code, include explanations of what your code does\n",
    "- Make informative illustrations: include labels for x and y axes, legends and captions for your plots\n",
    "- Before saving the ipynb file (and possible printing) run: \"Restart & Run all\", to make sure you return a file that works as expected.\n",
    "- Grading: *Fail*/*Pass*/*Pass with honors* (+1)\n",
    "- If you encounter problems, Google first. If you can't find an answer to the problem, don't hesitate to ask in the Moodle discussion or directly via moodle chat.\n",
    "- Don't leave it to the last moment! No feedback service during weekends."
   ]
  },
  {
   "cell_type": "markdown",
   "metadata": {
    "id": "2I2WLapM3BPc"
   },
   "source": [
    "### <font color = red> Packages needed for this exercise: </font>\n",
    "- The exercise can be done without importing any extra packages, but you can import new ones but bear in mind that if you are importing many new packages, you may be complicating your answer. "
   ]
  },
  {
   "cell_type": "code",
   "execution_count": 1,
   "metadata": {
    "id": "kNsRA1WF3BPc"
   },
   "outputs": [],
   "source": [
    "# --- Libraries with a short description ---\n",
    "import pandas as pd # for data manipulation\n",
    "import matplotlib.pyplot as plt # for plotting\n",
    "import numpy as np #for numeric calculations and making simulated data.\n",
    "import seaborn as sns # for plotting, an extension on matplotlib \n",
    "import matplotlib\n",
    "\n",
    "# - sklearn has many data analysis utility functions like scaling as well as a large variety of modeling tools.\n",
    "from sklearn.decomposition import PCA \n",
    "from sklearn.preprocessing import StandardScaler\n",
    "from sklearn.preprocessing import minmax_scale\n",
    "from sklearn.preprocessing import scale\n",
    "from sklearn.manifold import TSNE\n",
    "\n",
    "# This forces plots to be shown inline in the notebook\n",
    "%matplotlib inline"
   ]
  },
  {
   "cell_type": "markdown",
   "metadata": {},
   "source": [
    "\n",
    "<div class=\"alert alert-block alert-warning\">\n",
    "    <h1><center> PLOTTING TUTORIAL </center></h1>"
   ]
  },
  {
   "cell_type": "markdown",
   "metadata": {},
   "source": [
    "This small explanation of the matplotlib package aims to avoid confusion and help you avoid common mistakes and frustration. Matplotlib is an object-oriented plotting package with the benefit of giving the user a lot of control. The downside is that it can be confusing to new users. **If you are having problems with the plotting exercises, return to this tutorial as it explains the needed concepts to do the exercises!**\n",
    "\n",
    "-----------"
   ]
  },
  {
   "cell_type": "markdown",
   "metadata": {},
   "source": [
    "###  Figure and axes \n",
    "\n",
    "\n",
    "All plots in matplotlib are structured with the **<font color = dimgrey> figure </font>** and **<font color = blue> axes </font>** objects. \n",
    "\n",
    "- The **<font color = dimgrey> figure </font>** object is a container for all plotting elements (in other words, everything we see).  \n",
    "- A figure can have many **<font color = blue> axes </font>**. They are the objects you plot on to. The axes can be anywhere inside the figure and can even overlap. Position of axes is defined relative to the figure. \n",
    "\n",
    "The **<font color = blue> axes </font>** objects have the methods you will use to define most of your plots. For example axes.hist() is used to draw a histogram and axes.set_title() to give one axes a title. The name of the object can be a bit confusing as it does not refer to the axes in the way \"x-axis\" does but to the container of a single plot.\n",
    "\n",
    "\n",
    "--------------\n",
    "     \n",
    "- Below is an example that illustrates how **<font color = dimgrey> figures </font>**and **<font color = blue> axes </font>** work together in matplotlib. The comments explain what is done in every row of code. <font color = green> You are encouraged to play around with it, but its not required in terms of the exercise </font>. Below, we will create all figures and axes separately, but later on we will use a quicker way to do so. \n",
    "\n",
    " This is not yet a part of the exercises themselves and you do not need to change anything ! "
   ]
  },
  {
   "cell_type": "code",
   "execution_count": 2,
   "metadata": {},
   "outputs": [],
   "source": [
    "#  --- Lets make some example data. ---\n",
    "x_example_data = np.linspace(0,5,10)\n",
    "y_example_data = x_example_data**2"
   ]
  },
  {
   "cell_type": "code",
   "execution_count": 3,
   "metadata": {
    "scrolled": true
   },
   "outputs": [
    {
     "data": {
      "text/plain": [
       "Text(3, 5, 'This is a text object relative to the inner axes')"
      ]
     },
     "execution_count": 3,
     "metadata": {},
     "output_type": "execute_result"
    },
    {
     "data": {
      "image/png": "[encoded data removed]",
      "text/plain": [
       "<Figure size 360x360 with 2 Axes>"
      ]
     },
     "metadata": {
      "needs_background": "light"
     },
     "output_type": "display_data"
    }
   ],
   "source": [
    "### Create a figure ###\n",
    "example_figure = plt.figure(figsize =(5,5)) #you give the size of the figure as a tuple of inches\n",
    "\n",
    "### Create an axes separately and add it to the figure ###\n",
    "example_axes_outer = example_figure.add_axes([0.1, 0.1, 0.9, 0.9]) #the argument gives the relative location of the axes in percentage from the corners of the figure. The order is left, bottom, right, top. \n",
    "\n",
    "### Set labels and titles to the axes ###\n",
    "example_axes_outer.set_xlabel(\"This is how you set an x-axis label to an axes\")\n",
    "example_axes_outer.set_ylabel(\"The y-label of an axes is set like this\")\n",
    "example_axes_outer.set_title(\"We learned how to give an axes a title!\")\n",
    "example_axes_inner = example_figure.add_axes([0.45, 0.45, 0.4, 0.3])\n",
    "example_axes_inner.set_title(\"This axes has a title too\")\n",
    "\n",
    "### Add something to the axes ###\n",
    "example_axes_inner.scatter(x_example_data, y_example_data)\n",
    "\n",
    "# Multiple things, like lines can be plotted on same axis. \n",
    "example_axes_outer.plot(x_example_data**4, y_example_data**2)\n",
    "example_axes_outer.plot(x_example_data**7, y_example_data**2)\n",
    "\n",
    "# If you want to add other objects, you add them to axes too, like text\n",
    "# Now you specify the location relative to the parent axes\n",
    "example_axes_inner.text(3, 5, \"This is a text object relative to the inner axes\")\n",
    "\n",
    "#Many more things can be added to axes in a similar way, not just text. \n",
    "#For more information there are many good tutorials available for example in youtube. "
   ]
  },
  {
   "cell_type": "markdown",
   "metadata": {},
   "source": [
    "###  Subplots: creating multiple axes and placing them in a grid on the figure \n",
    "An established convention of using matplotlib is to start plotting by calling the **<font color = blue> plt.subplots </font>** function, which automatically creates a figure and a determined number of axes in a grid inside it and automatically links the axes to the figure. Even when creating just one axes this is a often used way to start making a plot.\n",
    "\n",
    "The most important arguments to **<font color = blue> plt.subplots </font>** are **nrows**, **ncols**, **figsize**, **sharex** and **sharey**\n",
    "- **nrows** controls how many subplots there will be in the grid by row, **ncol** controls the number of columns\n",
    "- **figsize** is a tuple e.g (1,5) which controls the size of the **<font color = dimgrey> figure </font>**, first is width and then height.\n",
    "- sharex (True, False) tells matplotlib whether all axes in the grid should have same x-axis scale and ticks, sharey does the same for all y.\n",
    "\n",
    "--------\n",
    "Below an example on creating subplots is presented. There is also a template-like example on how to fill the subplots in a loop using the  **enumerate** function of python for indexing into the subplots. The function **enumerate()** will give you an additional int indexer over the object you are looping over. This indexer can be used to loop over the different subplot elements like the axes for each of the subplots.\n",
    "\n",
    "**<font color = dimgrey> plt.tight_layout() </font>** is also a good command to know with subplots. It attempts to automatically arrange the different axes in a pretty way. It should be called after the plot is finished. "
   ]
  },
  {
   "cell_type": "code",
   "execution_count": 4,
   "metadata": {},
   "outputs": [],
   "source": [
    "# ----- Create some random data for the example, 3 continuous numeric features and 3 binary -----\n",
    "#dont worry about understanding the function, it creates lists and is shorthand for a for loop called list comprehension.\n",
    "numeric_datas = [np.random.rand(10,2) for _ in range(0,3)] #this creates list of lists of linear data, using list comprehension\n",
    "binary_datas = [(np.unique(np.random.randint(0, 2, size= 10), return_counts = True)[1]) for _ in range(0,3)] # create list of lists of samples of 0,1 like (co"
   ]
  },
  {
   "cell_type": "code",
   "execution_count": 5,
   "metadata": {},
   "outputs": [
    {
     "data": {
      "image/png": "[encoded data removed]",
      "text/plain": [
       "<Figure size 720x360 with 6 Axes>"
      ]
     },
     "metadata": {
      "needs_background": "light"
     },
     "output_type": "display_data"
    }
   ],
   "source": [
    "# Create figure with six axes in a 2*3 grid and set up titles --------------------------------------------------------\n",
    "fig, axes = plt.subplots(2,3, figsize = (10,5)) # now axes have indexes like axes[i, j]\n",
    "numeric_plot_titles = ['scatter_plot_1', 'a second plot', 'yet a third plot' ]#some titles for the different axes\n",
    "binary_plot_titles = ['coin_tosses1', 'tossing again', 'still tossing' ]#some titles for the different axes\n",
    "\n",
    "\n",
    "# Enumerate the index into the axes, fill the first 3 columns of first row with scatterplots of numeric_datas --------\n",
    "i = 0 # for indexing to the row of the axes [**i**, j]\n",
    "for j, numeric_data in enumerate(numeric_datas): # j = [0,1, ... n_datasets] for filling the columns, i stays constant as its the row\n",
    "    axes[i, j].scatter(x = numeric_data[:, 0], y = numeric_data[:, 1]) #plots are called on the axes\n",
    "    axes[i, j].set_title(numeric_plot_titles[j]) #set a title for each axes\n",
    "plt.tight_layout()\n",
    "\n",
    "\n",
    "# Plot the binary data -----------------------------------------------------------------------------------------------\n",
    "i = 1 # second row\n",
    "for j, binary_data in enumerate(binary_datas): # j = [0,1, ... n_datasets] for filling the columns, i stays constant as its the row\n",
    "    axes[i, j].bar(x = [\"0\",\"1\"], height = binary_data) #make a barplot\n",
    "    axes[i, j].set_title(binary_plot_titles[j]) #set a title for each axes\n",
    "    axes[i, j].set_ylim((0,10)) # set the yaxis limits, set_xlim works the same way.  \n",
    "\n",
    "fig.suptitle(\"fig.suptitle gives the figure a title and axes.set_title the axes\")\n",
    "plt.tight_layout()"
   ]
  },
  {
   "cell_type": "markdown",
   "metadata": {},
   "source": [
    "####  <font color = maroon> Seaborn and matplotlib </font>\n",
    "- Finally, it is good to know, that the popular Seaborn plotting library is based on matplotlib, and was designed to be an extension of it and to be more user-friendly and faster to use.  \n",
    "\n",
    "- One tip in particular that might help new users with seaborn is that two kinnds of plotting functions: for figure-level and axes-level plots. Axes level plots can be put into subplots like matplotlib plots as you saw in the example above whereas figure-level plots are done completely with seaborn. (For more information on this see https://seaborn.pydata.org/tutorial/function_overview.html)\n",
    "\n",
    "- For axes-level plots, the matplotlib-axes object is usually given to the seaborn plotting function as an argument. There is an example below."
   ]
  },
  {
   "cell_type": "code",
   "execution_count": 6,
   "metadata": {},
   "outputs": [
    {
     "data": {
      "text/plain": [
       "<AxesSubplot:ylabel='Count'>"
      ]
     },
     "execution_count": 6,
     "metadata": {},
     "output_type": "execute_result"
    },
    {
     "data": {
      "image/png": "[encoded data removed]",
      "text/plain": [
       "<Figure size 432x288 with 2 Axes>"
      ]
     },
     "metadata": {
      "needs_background": "light"
     },
     "output_type": "display_data"
    }
   ],
   "source": [
    "fig, axes = plt.subplots(2)\n",
    "\n",
    "# make some data \n",
    "random_data_a = np.random.rand(30)\n",
    "random_data_b = np.random.rand(100)\n",
    "\n",
    "# print the data we are plotting\n",
    "sns.histplot(data = random_data_a, ax = axes[0]) # we make a seaborn plot and put it into one of the axes we created\n",
    "sns.histplot(data =  random_data_b, ax = axes[1]) # we make a seaborn plot and put it into one of the axes we created"
   ]
  },
  {
   "cell_type": "markdown",
   "metadata": {},
   "source": [
    "\n",
    "<div class=\"alert alert-block alert-warning\">\n",
    "    <h1><center> START OF EXERCISES </center></h1>"
   ]
  },
  {
   "cell_type": "markdown",
   "metadata": {
    "id": "8AZs1Rdr3BPd"
   },
   "source": [
    "##  <font color = dimgrey> 1. Introduction to the dataset </font>"
   ]
  },
  {
   "cell_type": "markdown",
   "metadata": {
    "id": "2Y4dstDz3BPe"
   },
   "source": [
    "The exercise data depicts data gathered on hospital patients with and without cardiovascular disease, depicted by the target variable **_cardio_**, a common disease associated with a buildup of fatty deposits inside the arteries (blood vessels) of the heart. \n",
    " \n",
    " -------\n",
    "As is often the case with data analysis projects, the features/variables have been retrieved from different sources: \n",
    "- doctors notes (texts)\n",
    "- examination variables that have come from a database containing lab results or taken during a doctors examination\n",
    "- self reported variables\n",
    "\n",
    "--------------\n",
    "The exercise data has the following columns/attributes:\n",
    "\n",
    "| Feature | Type | Explanation |\n",
    "| :- | :- | :-\n",
    "| age | numeric | The age of the patient in days \n",
    "| sex | binary | Male/Female\n",
    "| weight | numeric | Measured weight of the patient (cm)\n",
    "| height | numeric | Measured weight of the patient (kg)\n",
    "| ap_hi | numeric | Measured Systolic blood pressure\n",
    "| ap_lo | numeric | Measured Diastolic blood pressure\n",
    "| smoke | binary | A subjective feature based on asking the patient whether or not he/she smokes\n",
    "| active | binary |  A subjective feature based on asking the patient whether or not he/she exercises regularly\n",
    "| cholesterol | categorical | Cholesterol associated risk information evaluated by a doctor\n",
    "| cardio | binary | Whether or not the patient has been diagnosed with cardiac disease."
   ]
  },
  {
   "cell_type": "markdown",
   "metadata": {},
   "source": [
    "# Small typo here btw, weight and height got mixed up"
   ]
  },
  {
   "cell_type": "markdown",
   "metadata": {
    "id": "jMatXBHE3BPh"
   },
   "source": [
    "-----------\n",
    "#### ***Reading data*** \n",
    "\n",
    "It is good practice to read the features in using their correct types instead of fixing them later. Below, there is ready-maed code for you to read in the data, using the data types and column names listed in the above table. Don't change the name of the variable, _data_. It is important in later exercises (for example in ex. 5e) that this is the name of the variable. <font color = red> If you have the dataset in the same folder as this notebook, the path already given to you should work. </font>\n",
    "\n",
    "---------------"
   ]
  },
  {
   "cell_type": "code",
   "execution_count": 7,
   "metadata": {},
   "outputs": [],
   "source": [
    "# --- READ IN DATA (no need to change) --------\n",
    "data_path = \"cardiovascular_disease_data_ex_1.csv\" #if you just give the name of the file it will look for the data in the same folder as your script\n",
    "data = pd.read_csv(data_path, dtype = {'age': 'int', 'height': 'int', 'weight':'int', 'ap_lo':'int', 'ap_hi':'int', 'sex': 'boolean', 'smoke': 'boolean',\n",
    "       'active':'boolean', 'cardio':'boolean', 'cholesterol':'category'}) #the main data you use in this exercise should have this variable name, so that code given for you further on will run. "
   ]
  },
  {
   "cell_type": "markdown",
   "metadata": {},
   "source": [
    "---------\n",
    "***Exercise 1 a)***\n",
    "1. First, print out the first five rows of the data.\n",
    "\n",
    "2. Then, save the feature names to lists by their types: make three lists named **numeric_features**, **binary_features** and **categorical_features**, containing the **names** of the features of each corresponding type (*you can think in terms of this exercise that binary variables can also be called booleans*).\n",
    "\n",
    "_Saving the feature names to a list or lists and using them to subset prevents typing errors and avoids repetition!_"
   ]
  },
  {
   "cell_type": "code",
   "execution_count": 8,
   "metadata": {
    "scrolled": false
   },
   "outputs": [
    {
     "data": {
      "text/html": [
       "<div>\n",
       "<style scoped>\n",
       "    .dataframe tbody tr th:only-of-type {\n",
       "        vertical-align: middle;\n",
       "    }\n",
       "\n",
       "    .dataframe tbody tr th {\n",
       "        vertical-align: top;\n",
       "    }\n",
       "\n",
       "    .dataframe thead th {\n",
       "        text-align: right;\n",
       "    }\n",
       "</style>\n",
       "<table border=\"1\" class=\"dataframe\">\n",
       "  <thead>\n",
       "    <tr style=\"text-align: right;\">\n",
       "      <th></th>\n",
       "      <th>age</th>\n",
       "      <th>sex</th>\n",
       "      <th>height</th>\n",
       "      <th>weight</th>\n",
       "      <th>ap_hi</th>\n",
       "      <th>ap_lo</th>\n",
       "      <th>smoke</th>\n",
       "      <th>active</th>\n",
       "      <th>cardio</th>\n",
       "      <th>cholesterol</th>\n",
       "    </tr>\n",
       "  </thead>\n",
       "  <tbody>\n",
       "    <tr>\n",
       "      <th>0</th>\n",
       "      <td>19797</td>\n",
       "      <td>False</td>\n",
       "      <td>161</td>\n",
       "      <td>55</td>\n",
       "      <td>102</td>\n",
       "      <td>68</td>\n",
       "      <td>False</td>\n",
       "      <td>True</td>\n",
       "      <td>False</td>\n",
       "      <td>elevated</td>\n",
       "    </tr>\n",
       "    <tr>\n",
       "      <th>1</th>\n",
       "      <td>22571</td>\n",
       "      <td>True</td>\n",
       "      <td>178</td>\n",
       "      <td>68</td>\n",
       "      <td>120</td>\n",
       "      <td>70</td>\n",
       "      <td>False</td>\n",
       "      <td>False</td>\n",
       "      <td>False</td>\n",
       "      <td>normal</td>\n",
       "    </tr>\n",
       "    <tr>\n",
       "      <th>2</th>\n",
       "      <td>16621</td>\n",
       "      <td>True</td>\n",
       "      <td>169</td>\n",
       "      <td>69</td>\n",
       "      <td>120</td>\n",
       "      <td>80</td>\n",
       "      <td>False</td>\n",
       "      <td>True</td>\n",
       "      <td>False</td>\n",
       "      <td>normal</td>\n",
       "    </tr>\n",
       "    <tr>\n",
       "      <th>3</th>\n",
       "      <td>16688</td>\n",
       "      <td>False</td>\n",
       "      <td>156</td>\n",
       "      <td>77</td>\n",
       "      <td>120</td>\n",
       "      <td>80</td>\n",
       "      <td>False</td>\n",
       "      <td>True</td>\n",
       "      <td>False</td>\n",
       "      <td>normal</td>\n",
       "    </tr>\n",
       "    <tr>\n",
       "      <th>4</th>\n",
       "      <td>19498</td>\n",
       "      <td>True</td>\n",
       "      <td>170</td>\n",
       "      <td>98</td>\n",
       "      <td>130</td>\n",
       "      <td>80</td>\n",
       "      <td>True</td>\n",
       "      <td>True</td>\n",
       "      <td>True</td>\n",
       "      <td>elevated</td>\n",
       "    </tr>\n",
       "  </tbody>\n",
       "</table>\n",
       "</div>"
      ],
      "text/plain": [
       "     age    sex  height  weight  ap_hi  ap_lo  smoke  active  cardio  \\\n",
       "0  19797  False     161      55    102     68  False    True   False   \n",
       "1  22571   True     178      68    120     70  False   False   False   \n",
       "2  16621   True     169      69    120     80  False    True   False   \n",
       "3  16688  False     156      77    120     80  False    True   False   \n",
       "4  19498   True     170      98    130     80   True    True    True   \n",
       "\n",
       "  cholesterol  \n",
       "0    elevated  \n",
       "1      normal  \n",
       "2      normal  \n",
       "3      normal  \n",
       "4    elevated  "
      ]
     },
     "execution_count": 8,
     "metadata": {},
     "output_type": "execute_result"
    }
   ],
   "source": [
    "# --- Your code here for 1a) ---\n",
    "\n",
    "# Extract aforementioned features\n",
    "numeric_features = list(data.select_dtypes(\"int\").keys())\n",
    "binary_features = list(data.select_dtypes(\"boolean\").keys())\n",
    "categorical_features = list(data.select_dtypes(\"category\").keys())\n",
    "\n",
    "# Print the first 5 rows. Head() defaults to first 5.\n",
    "data.head()"
   ]
  },
  {
   "cell_type": "code",
   "execution_count": 9,
   "metadata": {},
   "outputs": [
    {
     "name": "stdout",
     "output_type": "stream",
     "text": [
      "Columns in numeric_features: ['age', 'height', 'weight', 'ap_hi', 'ap_lo']\n",
      "Columns in binary_features: ['sex', 'smoke', 'active', 'cardio']\n",
      "Columns in categorical_features: ['cholesterol']\n"
     ]
    }
   ],
   "source": [
    "# Verify features\n",
    "print(f\"Columns in numeric_features: {numeric_features}\")\n",
    "print(f\"Columns in binary_features: {binary_features}\")\n",
    "print(f\"Columns in categorical_features: {categorical_features}\")"
   ]
  },
  {
   "cell_type": "markdown",
   "metadata": {},
   "source": [
    "_________\n",
    "## <font color = dimgrey> 2. Checking data quality\n",
    "    \n",
    "Often in data analysis projects the data has not been gathered exclusively for the data analysis only but originally for other reasons. Because of this, the features are most often not nicely formatted and may have mistakes. It might be tempting to just use the data as is with a model, but it is very important to first check the data for possible mistakes as they can make all the conclusions you make based on your analysis misleading. One good routine for checking data quality is to first calculate statistical descriptives and then to plot the features to check if the values are realistic. \n",
    "\n",
    "  \n",
    "-----------    \n",
    "    \n",
    "Some descriptive statistics don't really make sense for certain kinds of features. In pandas, like in many other packages, some functions work differently depending on the data type of a column. In the following exercise we will look at the data descriptive statistics as well as how the behavior can change when the data types are different. "
   ]
  },
  {
   "cell_type": "markdown",
   "metadata": {},
   "source": [
    "----------\n",
    "***2 a)***  Print out the data types of your dataset below.\n",
    "\n",
    "_Perhaps the most common data types in pandas (see https://pandas.pydata.org/docs/user_guide/basics.html#basics-dtypes) are **float**, **int**, **bool** and **category**._"
   ]
  },
  {
   "cell_type": "code",
   "execution_count": 10,
   "metadata": {},
   "outputs": [
    {
     "data": {
      "text/plain": [
       "age               int64\n",
       "sex             boolean\n",
       "height            int64\n",
       "weight            int64\n",
       "ap_hi             int64\n",
       "ap_lo             int64\n",
       "smoke           boolean\n",
       "active          boolean\n",
       "cardio          boolean\n",
       "cholesterol    category\n",
       "dtype: object"
      ]
     },
     "execution_count": 10,
     "metadata": {},
     "output_type": "execute_result"
    }
   ],
   "source": [
    "# --- 2a) Print the feature types of your dataset --- #\n",
    "\n",
    "# print datatypes with dtypes\n",
    "data.dtypes"
   ]
  },
  {
   "cell_type": "markdown",
   "metadata": {},
   "source": [
    "--------\n",
    "***2 b)*** Use the **DataFrame.describe() method** in the cell below on your data.   \n"
   ]
  },
  {
   "cell_type": "code",
   "execution_count": 11,
   "metadata": {},
   "outputs": [
    {
     "data": {
      "text/html": [
       "<div>\n",
       "<style scoped>\n",
       "    .dataframe tbody tr th:only-of-type {\n",
       "        vertical-align: middle;\n",
       "    }\n",
       "\n",
       "    .dataframe tbody tr th {\n",
       "        vertical-align: top;\n",
       "    }\n",
       "\n",
       "    .dataframe thead th {\n",
       "        text-align: right;\n",
       "    }\n",
       "</style>\n",
       "<table border=\"1\" class=\"dataframe\">\n",
       "  <thead>\n",
       "    <tr style=\"text-align: right;\">\n",
       "      <th></th>\n",
       "      <th>age</th>\n",
       "      <th>height</th>\n",
       "      <th>weight</th>\n",
       "      <th>ap_hi</th>\n",
       "      <th>ap_lo</th>\n",
       "    </tr>\n",
       "  </thead>\n",
       "  <tbody>\n",
       "    <tr>\n",
       "      <th>count</th>\n",
       "      <td>210.000000</td>\n",
       "      <td>210.000000</td>\n",
       "      <td>210.000000</td>\n",
       "      <td>210.000000</td>\n",
       "      <td>210.000000</td>\n",
       "    </tr>\n",
       "    <tr>\n",
       "      <th>mean</th>\n",
       "      <td>19455.504762</td>\n",
       "      <td>164.180952</td>\n",
       "      <td>73.895238</td>\n",
       "      <td>127.857143</td>\n",
       "      <td>81.814286</td>\n",
       "    </tr>\n",
       "    <tr>\n",
       "      <th>std</th>\n",
       "      <td>2429.010199</td>\n",
       "      <td>7.534648</td>\n",
       "      <td>14.612326</td>\n",
       "      <td>17.508947</td>\n",
       "      <td>9.947652</td>\n",
       "    </tr>\n",
       "    <tr>\n",
       "      <th>min</th>\n",
       "      <td>14367.000000</td>\n",
       "      <td>142.000000</td>\n",
       "      <td>45.000000</td>\n",
       "      <td>90.000000</td>\n",
       "      <td>50.000000</td>\n",
       "    </tr>\n",
       "    <tr>\n",
       "      <th>25%</th>\n",
       "      <td>17635.750000</td>\n",
       "      <td>158.000000</td>\n",
       "      <td>64.000000</td>\n",
       "      <td>120.000000</td>\n",
       "      <td>80.000000</td>\n",
       "    </tr>\n",
       "    <tr>\n",
       "      <th>50%</th>\n",
       "      <td>19778.000000</td>\n",
       "      <td>164.000000</td>\n",
       "      <td>70.000000</td>\n",
       "      <td>120.000000</td>\n",
       "      <td>80.000000</td>\n",
       "    </tr>\n",
       "    <tr>\n",
       "      <th>75%</th>\n",
       "      <td>21230.500000</td>\n",
       "      <td>170.000000</td>\n",
       "      <td>81.000000</td>\n",
       "      <td>140.000000</td>\n",
       "      <td>90.000000</td>\n",
       "    </tr>\n",
       "    <tr>\n",
       "      <th>max</th>\n",
       "      <td>23565.000000</td>\n",
       "      <td>195.000000</td>\n",
       "      <td>125.000000</td>\n",
       "      <td>190.000000</td>\n",
       "      <td>120.000000</td>\n",
       "    </tr>\n",
       "  </tbody>\n",
       "</table>\n",
       "</div>"
      ],
      "text/plain": [
       "                age      height      weight       ap_hi       ap_lo\n",
       "count    210.000000  210.000000  210.000000  210.000000  210.000000\n",
       "mean   19455.504762  164.180952   73.895238  127.857143   81.814286\n",
       "std     2429.010199    7.534648   14.612326   17.508947    9.947652\n",
       "min    14367.000000  142.000000   45.000000   90.000000   50.000000\n",
       "25%    17635.750000  158.000000   64.000000  120.000000   80.000000\n",
       "50%    19778.000000  164.000000   70.000000  120.000000   80.000000\n",
       "75%    21230.500000  170.000000   81.000000  140.000000   90.000000\n",
       "max    23565.000000  195.000000  125.000000  190.000000  120.000000"
      ]
     },
     "execution_count": 11,
     "metadata": {},
     "output_type": "execute_result"
    }
   ],
   "source": [
    "# --- Your code for 2b) --- #\n",
    "# vanilla describe() to get basic stats of numerical values\n",
    "data.describe()"
   ]
  },
  {
   "cell_type": "markdown",
   "metadata": {},
   "source": [
    "--------\n",
    "***2 c)*** Did you get all of the features statistics or not? What do you think happened? "
   ]
  },
  {
   "cell_type": "markdown",
   "metadata": {},
   "source": [
    "<font color = red> No, i did not since by default DataFrame.describe() includes only numerical values. In order to get data for all features with DataFrame.describe(include = 'all') as I'll do below. </font>"
   ]
  },
  {
   "cell_type": "code",
   "execution_count": 12,
   "metadata": {},
   "outputs": [
    {
     "data": {
      "text/html": [
       "<div>\n",
       "<style scoped>\n",
       "    .dataframe tbody tr th:only-of-type {\n",
       "        vertical-align: middle;\n",
       "    }\n",
       "\n",
       "    .dataframe tbody tr th {\n",
       "        vertical-align: top;\n",
       "    }\n",
       "\n",
       "    .dataframe thead th {\n",
       "        text-align: right;\n",
       "    }\n",
       "</style>\n",
       "<table border=\"1\" class=\"dataframe\">\n",
       "  <thead>\n",
       "    <tr style=\"text-align: right;\">\n",
       "      <th></th>\n",
       "      <th>age</th>\n",
       "      <th>sex</th>\n",
       "      <th>height</th>\n",
       "      <th>weight</th>\n",
       "      <th>ap_hi</th>\n",
       "      <th>ap_lo</th>\n",
       "      <th>smoke</th>\n",
       "      <th>active</th>\n",
       "      <th>cardio</th>\n",
       "      <th>cholesterol</th>\n",
       "    </tr>\n",
       "  </thead>\n",
       "  <tbody>\n",
       "    <tr>\n",
       "      <th>count</th>\n",
       "      <td>210.000000</td>\n",
       "      <td>210</td>\n",
       "      <td>210.000000</td>\n",
       "      <td>210.000000</td>\n",
       "      <td>210.000000</td>\n",
       "      <td>210.000000</td>\n",
       "      <td>210</td>\n",
       "      <td>210</td>\n",
       "      <td>210</td>\n",
       "      <td>210</td>\n",
       "    </tr>\n",
       "    <tr>\n",
       "      <th>unique</th>\n",
       "      <td>NaN</td>\n",
       "      <td>2</td>\n",
       "      <td>NaN</td>\n",
       "      <td>NaN</td>\n",
       "      <td>NaN</td>\n",
       "      <td>NaN</td>\n",
       "      <td>2</td>\n",
       "      <td>2</td>\n",
       "      <td>2</td>\n",
       "      <td>4</td>\n",
       "    </tr>\n",
       "    <tr>\n",
       "      <th>top</th>\n",
       "      <td>NaN</td>\n",
       "      <td>False</td>\n",
       "      <td>NaN</td>\n",
       "      <td>NaN</td>\n",
       "      <td>NaN</td>\n",
       "      <td>NaN</td>\n",
       "      <td>False</td>\n",
       "      <td>True</td>\n",
       "      <td>False</td>\n",
       "      <td>normal</td>\n",
       "    </tr>\n",
       "    <tr>\n",
       "      <th>freq</th>\n",
       "      <td>NaN</td>\n",
       "      <td>129</td>\n",
       "      <td>NaN</td>\n",
       "      <td>NaN</td>\n",
       "      <td>NaN</td>\n",
       "      <td>NaN</td>\n",
       "      <td>186</td>\n",
       "      <td>162</td>\n",
       "      <td>105</td>\n",
       "      <td>153</td>\n",
       "    </tr>\n",
       "    <tr>\n",
       "      <th>mean</th>\n",
       "      <td>19455.504762</td>\n",
       "      <td>NaN</td>\n",
       "      <td>164.180952</td>\n",
       "      <td>73.895238</td>\n",
       "      <td>127.857143</td>\n",
       "      <td>81.814286</td>\n",
       "      <td>NaN</td>\n",
       "      <td>NaN</td>\n",
       "      <td>NaN</td>\n",
       "      <td>NaN</td>\n",
       "    </tr>\n",
       "    <tr>\n",
       "      <th>std</th>\n",
       "      <td>2429.010199</td>\n",
       "      <td>NaN</td>\n",
       "      <td>7.534648</td>\n",
       "      <td>14.612326</td>\n",
       "      <td>17.508947</td>\n",
       "      <td>9.947652</td>\n",
       "      <td>NaN</td>\n",
       "      <td>NaN</td>\n",
       "      <td>NaN</td>\n",
       "      <td>NaN</td>\n",
       "    </tr>\n",
       "    <tr>\n",
       "      <th>min</th>\n",
       "      <td>14367.000000</td>\n",
       "      <td>NaN</td>\n",
       "      <td>142.000000</td>\n",
       "      <td>45.000000</td>\n",
       "      <td>90.000000</td>\n",
       "      <td>50.000000</td>\n",
       "      <td>NaN</td>\n",
       "      <td>NaN</td>\n",
       "      <td>NaN</td>\n",
       "      <td>NaN</td>\n",
       "    </tr>\n",
       "    <tr>\n",
       "      <th>25%</th>\n",
       "      <td>17635.750000</td>\n",
       "      <td>NaN</td>\n",
       "      <td>158.000000</td>\n",
       "      <td>64.000000</td>\n",
       "      <td>120.000000</td>\n",
       "      <td>80.000000</td>\n",
       "      <td>NaN</td>\n",
       "      <td>NaN</td>\n",
       "      <td>NaN</td>\n",
       "      <td>NaN</td>\n",
       "    </tr>\n",
       "    <tr>\n",
       "      <th>50%</th>\n",
       "      <td>19778.000000</td>\n",
       "      <td>NaN</td>\n",
       "      <td>164.000000</td>\n",
       "      <td>70.000000</td>\n",
       "      <td>120.000000</td>\n",
       "      <td>80.000000</td>\n",
       "      <td>NaN</td>\n",
       "      <td>NaN</td>\n",
       "      <td>NaN</td>\n",
       "      <td>NaN</td>\n",
       "    </tr>\n",
       "    <tr>\n",
       "      <th>75%</th>\n",
       "      <td>21230.500000</td>\n",
       "      <td>NaN</td>\n",
       "      <td>170.000000</td>\n",
       "      <td>81.000000</td>\n",
       "      <td>140.000000</td>\n",
       "      <td>90.000000</td>\n",
       "      <td>NaN</td>\n",
       "      <td>NaN</td>\n",
       "      <td>NaN</td>\n",
       "      <td>NaN</td>\n",
       "    </tr>\n",
       "    <tr>\n",
       "      <th>max</th>\n",
       "      <td>23565.000000</td>\n",
       "      <td>NaN</td>\n",
       "      <td>195.000000</td>\n",
       "      <td>125.000000</td>\n",
       "      <td>190.000000</td>\n",
       "      <td>120.000000</td>\n",
       "      <td>NaN</td>\n",
       "      <td>NaN</td>\n",
       "      <td>NaN</td>\n",
       "      <td>NaN</td>\n",
       "    </tr>\n",
       "  </tbody>\n",
       "</table>\n",
       "</div>"
      ],
      "text/plain": [
       "                 age    sex      height      weight       ap_hi       ap_lo  \\\n",
       "count     210.000000    210  210.000000  210.000000  210.000000  210.000000   \n",
       "unique           NaN      2         NaN         NaN         NaN         NaN   \n",
       "top              NaN  False         NaN         NaN         NaN         NaN   \n",
       "freq             NaN    129         NaN         NaN         NaN         NaN   \n",
       "mean    19455.504762    NaN  164.180952   73.895238  127.857143   81.814286   \n",
       "std      2429.010199    NaN    7.534648   14.612326   17.508947    9.947652   \n",
       "min     14367.000000    NaN  142.000000   45.000000   90.000000   50.000000   \n",
       "25%     17635.750000    NaN  158.000000   64.000000  120.000000   80.000000   \n",
       "50%     19778.000000    NaN  164.000000   70.000000  120.000000   80.000000   \n",
       "75%     21230.500000    NaN  170.000000   81.000000  140.000000   90.000000   \n",
       "max     23565.000000    NaN  195.000000  125.000000  190.000000  120.000000   \n",
       "\n",
       "        smoke active cardio cholesterol  \n",
       "count     210    210    210         210  \n",
       "unique      2      2      2           4  \n",
       "top     False   True  False      normal  \n",
       "freq      186    162    105         153  \n",
       "mean      NaN    NaN    NaN         NaN  \n",
       "std       NaN    NaN    NaN         NaN  \n",
       "min       NaN    NaN    NaN         NaN  \n",
       "25%       NaN    NaN    NaN         NaN  \n",
       "50%       NaN    NaN    NaN         NaN  \n",
       "75%       NaN    NaN    NaN         NaN  \n",
       "max       NaN    NaN    NaN         NaN  "
      ]
     },
     "execution_count": 12,
     "metadata": {},
     "output_type": "execute_result"
    }
   ],
   "source": [
    "# Describe with include = 'all' to get stats of all variables\n",
    "data.describe(include = 'all')"
   ]
  },
  {
   "cell_type": "markdown",
   "metadata": {},
   "source": [
    "----------\n",
    "***2 d)*** Calculate descriptives for the binary (boolean) features and the categorical feature <br>\n",
    "\n",
    "_tip: in python, same type data structures can in many cases be concatenated using the + operator. If youre using the lists of names you created to subset, you can concatenate the two lists of feature names and use the resulting list to help you subset the dataframe_"
   ]
  },
  {
   "cell_type": "code",
   "execution_count": 13,
   "metadata": {
    "scrolled": true
   },
   "outputs": [
    {
     "data": {
      "text/html": [
       "<div>\n",
       "<style scoped>\n",
       "    .dataframe tbody tr th:only-of-type {\n",
       "        vertical-align: middle;\n",
       "    }\n",
       "\n",
       "    .dataframe tbody tr th {\n",
       "        vertical-align: top;\n",
       "    }\n",
       "\n",
       "    .dataframe thead th {\n",
       "        text-align: right;\n",
       "    }\n",
       "</style>\n",
       "<table border=\"1\" class=\"dataframe\">\n",
       "  <thead>\n",
       "    <tr style=\"text-align: right;\">\n",
       "      <th></th>\n",
       "      <th>sex</th>\n",
       "      <th>smoke</th>\n",
       "      <th>active</th>\n",
       "      <th>cardio</th>\n",
       "      <th>cholesterol</th>\n",
       "    </tr>\n",
       "  </thead>\n",
       "  <tbody>\n",
       "    <tr>\n",
       "      <th>count</th>\n",
       "      <td>210</td>\n",
       "      <td>210</td>\n",
       "      <td>210</td>\n",
       "      <td>210</td>\n",
       "      <td>210</td>\n",
       "    </tr>\n",
       "    <tr>\n",
       "      <th>unique</th>\n",
       "      <td>2</td>\n",
       "      <td>2</td>\n",
       "      <td>2</td>\n",
       "      <td>2</td>\n",
       "      <td>4</td>\n",
       "    </tr>\n",
       "    <tr>\n",
       "      <th>top</th>\n",
       "      <td>False</td>\n",
       "      <td>False</td>\n",
       "      <td>True</td>\n",
       "      <td>False</td>\n",
       "      <td>normal</td>\n",
       "    </tr>\n",
       "    <tr>\n",
       "      <th>freq</th>\n",
       "      <td>129</td>\n",
       "      <td>186</td>\n",
       "      <td>162</td>\n",
       "      <td>105</td>\n",
       "      <td>153</td>\n",
       "    </tr>\n",
       "  </tbody>\n",
       "</table>\n",
       "</div>"
      ],
      "text/plain": [
       "          sex  smoke active cardio cholesterol\n",
       "count     210    210    210    210         210\n",
       "unique      2      2      2      2           4\n",
       "top     False  False   True  False      normal\n",
       "freq      129    186    162    105         153"
      ]
     },
     "execution_count": 13,
     "metadata": {},
     "output_type": "execute_result"
    }
   ],
   "source": [
    "# 2d) Your code here #\n",
    "\n",
    "# concat lists to get required columns\n",
    "bool_and_categorical = binary_features + categorical_features\n",
    "\n",
    "# extract descriptives\n",
    "data[bool_and_categorical].describe()"
   ]
  },
  {
   "cell_type": "markdown",
   "metadata": {},
   "source": [
    "----------\n",
    "Now, we will see ***what would have happened if the data was read in using default settings*** and not giving information about the types of the features (dtypes), giving no arguments to pd.read_csv. \n",
    "\n",
    "Run the below cell (no need to modify the code) and look at the output of the cell with the wrongly read data. Compare it with the output of the cell where you used the correctly read data to get the descriptives. "
   ]
  },
  {
   "cell_type": "code",
   "execution_count": 14,
   "metadata": {},
   "outputs": [
    {
     "data": {
      "text/html": [
       "<div>\n",
       "<style scoped>\n",
       "    .dataframe tbody tr th:only-of-type {\n",
       "        vertical-align: middle;\n",
       "    }\n",
       "\n",
       "    .dataframe tbody tr th {\n",
       "        vertical-align: top;\n",
       "    }\n",
       "\n",
       "    .dataframe thead th {\n",
       "        text-align: right;\n",
       "    }\n",
       "</style>\n",
       "<table border=\"1\" class=\"dataframe\">\n",
       "  <thead>\n",
       "    <tr style=\"text-align: right;\">\n",
       "      <th></th>\n",
       "      <th>age</th>\n",
       "      <th>sex</th>\n",
       "      <th>height</th>\n",
       "      <th>weight</th>\n",
       "      <th>ap_hi</th>\n",
       "      <th>ap_lo</th>\n",
       "      <th>smoke</th>\n",
       "      <th>active</th>\n",
       "      <th>cardio</th>\n",
       "    </tr>\n",
       "  </thead>\n",
       "  <tbody>\n",
       "    <tr>\n",
       "      <th>count</th>\n",
       "      <td>210.000000</td>\n",
       "      <td>210.000000</td>\n",
       "      <td>210.000000</td>\n",
       "      <td>210.000000</td>\n",
       "      <td>210.000000</td>\n",
       "      <td>210.000000</td>\n",
       "      <td>210.000000</td>\n",
       "      <td>210.000000</td>\n",
       "      <td>210.000000</td>\n",
       "    </tr>\n",
       "    <tr>\n",
       "      <th>mean</th>\n",
       "      <td>19455.504762</td>\n",
       "      <td>0.385714</td>\n",
       "      <td>164.180952</td>\n",
       "      <td>73.895238</td>\n",
       "      <td>127.857143</td>\n",
       "      <td>81.814286</td>\n",
       "      <td>0.114286</td>\n",
       "      <td>0.771429</td>\n",
       "      <td>0.500000</td>\n",
       "    </tr>\n",
       "    <tr>\n",
       "      <th>std</th>\n",
       "      <td>2429.010199</td>\n",
       "      <td>0.487927</td>\n",
       "      <td>7.534648</td>\n",
       "      <td>14.612326</td>\n",
       "      <td>17.508947</td>\n",
       "      <td>9.947652</td>\n",
       "      <td>0.318918</td>\n",
       "      <td>0.420916</td>\n",
       "      <td>0.501195</td>\n",
       "    </tr>\n",
       "    <tr>\n",
       "      <th>min</th>\n",
       "      <td>14367.000000</td>\n",
       "      <td>0.000000</td>\n",
       "      <td>142.000000</td>\n",
       "      <td>45.000000</td>\n",
       "      <td>90.000000</td>\n",
       "      <td>50.000000</td>\n",
       "      <td>0.000000</td>\n",
       "      <td>0.000000</td>\n",
       "      <td>0.000000</td>\n",
       "    </tr>\n",
       "    <tr>\n",
       "      <th>25%</th>\n",
       "      <td>17635.750000</td>\n",
       "      <td>0.000000</td>\n",
       "      <td>158.000000</td>\n",
       "      <td>64.000000</td>\n",
       "      <td>120.000000</td>\n",
       "      <td>80.000000</td>\n",
       "      <td>0.000000</td>\n",
       "      <td>1.000000</td>\n",
       "      <td>0.000000</td>\n",
       "    </tr>\n",
       "    <tr>\n",
       "      <th>50%</th>\n",
       "      <td>19778.000000</td>\n",
       "      <td>0.000000</td>\n",
       "      <td>164.000000</td>\n",
       "      <td>70.000000</td>\n",
       "      <td>120.000000</td>\n",
       "      <td>80.000000</td>\n",
       "      <td>0.000000</td>\n",
       "      <td>1.000000</td>\n",
       "      <td>0.500000</td>\n",
       "    </tr>\n",
       "    <tr>\n",
       "      <th>75%</th>\n",
       "      <td>21230.500000</td>\n",
       "      <td>1.000000</td>\n",
       "      <td>170.000000</td>\n",
       "      <td>81.000000</td>\n",
       "      <td>140.000000</td>\n",
       "      <td>90.000000</td>\n",
       "      <td>0.000000</td>\n",
       "      <td>1.000000</td>\n",
       "      <td>1.000000</td>\n",
       "    </tr>\n",
       "    <tr>\n",
       "      <th>max</th>\n",
       "      <td>23565.000000</td>\n",
       "      <td>1.000000</td>\n",
       "      <td>195.000000</td>\n",
       "      <td>125.000000</td>\n",
       "      <td>190.000000</td>\n",
       "      <td>120.000000</td>\n",
       "      <td>1.000000</td>\n",
       "      <td>1.000000</td>\n",
       "      <td>1.000000</td>\n",
       "    </tr>\n",
       "  </tbody>\n",
       "</table>\n",
       "</div>"
      ],
      "text/plain": [
       "                age         sex      height      weight       ap_hi  \\\n",
       "count    210.000000  210.000000  210.000000  210.000000  210.000000   \n",
       "mean   19455.504762    0.385714  164.180952   73.895238  127.857143   \n",
       "std     2429.010199    0.487927    7.534648   14.612326   17.508947   \n",
       "min    14367.000000    0.000000  142.000000   45.000000   90.000000   \n",
       "25%    17635.750000    0.000000  158.000000   64.000000  120.000000   \n",
       "50%    19778.000000    0.000000  164.000000   70.000000  120.000000   \n",
       "75%    21230.500000    1.000000  170.000000   81.000000  140.000000   \n",
       "max    23565.000000    1.000000  195.000000  125.000000  190.000000   \n",
       "\n",
       "            ap_lo       smoke      active      cardio  \n",
       "count  210.000000  210.000000  210.000000  210.000000  \n",
       "mean    81.814286    0.114286    0.771429    0.500000  \n",
       "std      9.947652    0.318918    0.420916    0.501195  \n",
       "min     50.000000    0.000000    0.000000    0.000000  \n",
       "25%     80.000000    0.000000    1.000000    0.000000  \n",
       "50%     80.000000    0.000000    1.000000    0.500000  \n",
       "75%     90.000000    0.000000    1.000000    1.000000  \n",
       "max    120.000000    1.000000    1.000000    1.000000  "
      ]
     },
     "execution_count": 14,
     "metadata": {},
     "output_type": "execute_result"
    }
   ],
   "source": [
    "# read in the dataset with no arguments\n",
    "wrongly_read_data = pd.read_csv(data_path)\n",
    "\n",
    "# calculate descriptives for the data that was wrongly read in. \n",
    "wrongly_read_data.describe()"
   ]
  },
  {
   "cell_type": "markdown",
   "metadata": {},
   "source": [
    "***2 e)*** \n",
    "- Looking at the above output, can you now say whats wrong with this presentation and why it was important to define the data types? "
   ]
  },
  {
   "cell_type": "markdown",
   "metadata": {},
   "source": [
    "<font color = red> Boolean values seem to be numerical at least. Age is still completely off but i believe we'll get to it later on. It was important to define dtypes right away so we won't waste time on searching through them figuring out what's wrong, and *then* redefining them with .astype(), for example </font>"
   ]
  },
  {
   "cell_type": "markdown",
   "metadata": {},
   "source": [
    "-----------------------\n",
    "## 3. Plotting numeric features\n",
    "Descriptives don't really give a full or intuitive picture of the distribution of features. Next, we will make use of different plots to check the data quality.  "
   ]
  },
  {
   "cell_type": "markdown",
   "metadata": {},
   "source": [
    "----------\n",
    "***3 a)*** \n",
    "\n",
    "Plot the numeric features as histograms (see tutorial if you need help).\n",
    "\n",
    "_tip: if you give only one grid-size argument for plt.subplots() like plt.subplots(3) the grid will be one-dimensional and you can index it with only one indexer._  \n"
   ]
  },
  {
   "cell_type": "code",
   "execution_count": 15,
   "metadata": {
    "scrolled": true
   },
   "outputs": [
    {
     "data": {
      "text/html": [
       "<div>\n",
       "<style scoped>\n",
       "    .dataframe tbody tr th:only-of-type {\n",
       "        vertical-align: middle;\n",
       "    }\n",
       "\n",
       "    .dataframe tbody tr th {\n",
       "        vertical-align: top;\n",
       "    }\n",
       "\n",
       "    .dataframe thead th {\n",
       "        text-align: right;\n",
       "    }\n",
       "</style>\n",
       "<table border=\"1\" class=\"dataframe\">\n",
       "  <thead>\n",
       "    <tr style=\"text-align: right;\">\n",
       "      <th></th>\n",
       "      <th>age</th>\n",
       "      <th>height</th>\n",
       "      <th>weight</th>\n",
       "      <th>ap_hi</th>\n",
       "      <th>ap_lo</th>\n",
       "    </tr>\n",
       "  </thead>\n",
       "  <tbody>\n",
       "    <tr>\n",
       "      <th>0</th>\n",
       "      <td>19797</td>\n",
       "      <td>161</td>\n",
       "      <td>55</td>\n",
       "      <td>102</td>\n",
       "      <td>68</td>\n",
       "    </tr>\n",
       "    <tr>\n",
       "      <th>1</th>\n",
       "      <td>22571</td>\n",
       "      <td>178</td>\n",
       "      <td>68</td>\n",
       "      <td>120</td>\n",
       "      <td>70</td>\n",
       "    </tr>\n",
       "    <tr>\n",
       "      <th>2</th>\n",
       "      <td>16621</td>\n",
       "      <td>169</td>\n",
       "      <td>69</td>\n",
       "      <td>120</td>\n",
       "      <td>80</td>\n",
       "    </tr>\n",
       "    <tr>\n",
       "      <th>3</th>\n",
       "      <td>16688</td>\n",
       "      <td>156</td>\n",
       "      <td>77</td>\n",
       "      <td>120</td>\n",
       "      <td>80</td>\n",
       "    </tr>\n",
       "    <tr>\n",
       "      <th>4</th>\n",
       "      <td>19498</td>\n",
       "      <td>170</td>\n",
       "      <td>98</td>\n",
       "      <td>130</td>\n",
       "      <td>80</td>\n",
       "    </tr>\n",
       "  </tbody>\n",
       "</table>\n",
       "</div>"
      ],
      "text/plain": [
       "     age  height  weight  ap_hi  ap_lo\n",
       "0  19797     161      55    102     68\n",
       "1  22571     178      68    120     70\n",
       "2  16621     169      69    120     80\n",
       "3  16688     156      77    120     80\n",
       "4  19498     170      98    130     80"
      ]
     },
     "execution_count": 15,
     "metadata": {},
     "output_type": "execute_result"
    }
   ],
   "source": [
    "# extract dataset for plotting\n",
    "numeric_data = data[numeric_features].copy()\n",
    "numeric_data.head()"
   ]
  },
  {
   "cell_type": "code",
   "execution_count": 16,
   "metadata": {
    "scrolled": true
   },
   "outputs": [
    {
     "data": {
      "image/png": "[encoded data removed]",
      "text/plain": [
       "<Figure size 432x288 with 1 Axes>"
      ]
     },
     "metadata": {
      "needs_background": "light"
     },
     "output_type": "display_data"
    }
   ],
   "source": [
    "plt.title('Numerical values')\n",
    "plt.xlabel('Values')\n",
    "plt.ylabel('Amounts')\n",
    "plt.grid()\n",
    "plt.hist(numeric_data, bins = 10, label = numeric_features)\n",
    "plt.legend()\n",
    "plt.show()"
   ]
  },
  {
   "cell_type": "markdown",
   "metadata": {},
   "source": [
    "What we're seeing here is that all the other values have been binned to the far left corner since the 'age' value is so large in comparison. I believe it's safe to assume there's been a mistake in age, whereas weights and others seems to be fine. Let's make sure by everything but age below"
   ]
  },
  {
   "cell_type": "code",
   "execution_count": 17,
   "metadata": {},
   "outputs": [],
   "source": [
    "# numeric values excluding age\n",
    "numeric_exc_age = [feature for feature in numeric_features if feature != 'age']"
   ]
  },
  {
   "cell_type": "code",
   "execution_count": 18,
   "metadata": {
    "scrolled": true
   },
   "outputs": [
    {
     "data": {
      "image/png": "[encoded data removed]",
      "text/plain": [
       "<Figure size 432x288 with 1 Axes>"
      ]
     },
     "metadata": {
      "needs_background": "light"
     },
     "output_type": "display_data"
    }
   ],
   "source": [
    "plt.title('Numerical values excluding age')\n",
    "plt.xlabel('Values')\n",
    "plt.ylabel('Amounts')\n",
    "plt.grid()\n",
    "plt.hist(numeric_data[numeric_exc_age], bins = 15, label = numeric_exc_age)\n",
    "plt.legend()\n",
    "plt.show()"
   ]
  },
  {
   "cell_type": "markdown",
   "metadata": {},
   "source": [
    "LGTM so far! I've no idea how much or little those blood pressures are so fingers crossed(?) Good thing I'm not in med school. Although after consulting an actual (soon-to-be) doctor the values are ok"
   ]
  },
  {
   "cell_type": "markdown",
   "metadata": {},
   "source": [
    "Edit 1: added individual histograms per feature"
   ]
  },
  {
   "cell_type": "code",
   "execution_count": 68,
   "metadata": {},
   "outputs": [
    {
     "data": {
      "image/png": "[encoded data removed]",
      "text/plain": [
       "<Figure size 432x288 with 1 Axes>"
      ]
     },
     "metadata": {
      "needs_background": "light"
     },
     "output_type": "display_data"
    },
    {
     "data": {
      "image/png": "[encoded data removed]",
      "text/plain": [
       "<Figure size 432x288 with 1 Axes>"
      ]
     },
     "metadata": {
      "needs_background": "light"
     },
     "output_type": "display_data"
    },
    {
     "data": {
      "image/png": "[encoded data removed]",
      "text/plain": [
       "<Figure size 432x288 with 1 Axes>"
      ]
     },
     "metadata": {
      "needs_background": "light"
     },
     "output_type": "display_data"
    },
    {
     "data": {
      "image/png": "[encoded data removed]",
      "text/plain": [
       "<Figure size 432x288 with 1 Axes>"
      ]
     },
     "metadata": {
      "needs_background": "light"
     },
     "output_type": "display_data"
    },
    {
     "data": {
      "image/png": "[encoded data removed]",
      "text/plain": [
       "<Figure size 432x288 with 1 Axes>"
      ]
     },
     "metadata": {
      "needs_background": "light"
     },
     "output_type": "display_data"
    }
   ],
   "source": [
    "# separate data\n",
    "age = data[numeric_features].age\n",
    "height = data[numeric_features].height\n",
    "weight = data[numeric_features].weight\n",
    "ap_hi = data[numeric_features].ap_hi\n",
    "ap_lo = data[numeric_features].ap_lo\n",
    "\n",
    "\n",
    "# plot age\n",
    "plt.title('Age histogram')\n",
    "plt.xlabel('Values')\n",
    "plt.ylabel('Amounts')\n",
    "plt.grid()\n",
    "plt.hist(age, bins = 10, label = 'age', edgecolor = 'black')\n",
    "plt.legend()\n",
    "plt.show()\n",
    "\n",
    "# height plot\n",
    "plt.title('Height histogram')\n",
    "plt.xlabel('Values')\n",
    "plt.ylabel('Amounts')\n",
    "plt.grid()\n",
    "plt.hist(height, bins = 10, label = 'height', edgecolor = 'black')\n",
    "plt.legend()\n",
    "plt.show()\n",
    "\n",
    "\n",
    "# weight plot\n",
    "plt.title('Weight histogram')\n",
    "plt.xlabel('Values')\n",
    "plt.ylabel('Amounts')\n",
    "plt.grid()\n",
    "plt.hist(weight, bins = 10, label = 'weight', edgecolor = 'black')\n",
    "plt.legend()\n",
    "plt.show()\n",
    "\n",
    "# ap_hi plot\n",
    "plt.title('ap_hi histogram')\n",
    "plt.xlabel('Values')\n",
    "plt.ylabel('Amounts')\n",
    "plt.grid()\n",
    "plt.hist(ap_hi, bins = 10, label = 'ap_hi', edgecolor = 'black')\n",
    "plt.legend()\n",
    "plt.show()\n",
    "\n",
    "\n",
    "# ap_lo plot\n",
    "plt.title('ap_lo histogram')\n",
    "plt.xlabel('Values')\n",
    "plt.ylabel('Amounts')\n",
    "plt.grid()\n",
    "plt.hist(ap_lo, bins = 10, label = 'ap_lo', edgecolor = 'black')\n",
    "plt.legend()\n",
    "plt.show()"
   ]
  },
  {
   "cell_type": "markdown",
   "metadata": {},
   "source": [
    "I'm still failing to see how age is ok, but if you say so then I've got to believe you. \n",
    "\n",
    "Nevertheless, all the data seems to be distributed in a logical way -- 180-190cm people quite rare, as well as people over 90 kilos. They'd seem to go hand in hand since people who tend to be taller tend to be heavier as well. Also there seems to be an about equal amount of high blood pressures with (relative to this dataset) heavy weight. "
   ]
  },
  {
   "cell_type": "markdown",
   "metadata": {},
   "source": [
    "_______\n",
    "## 4. Plotting binary and categorical features"
   ]
  },
  {
   "cell_type": "markdown",
   "metadata": {},
   "source": [
    "***4 a)*** Plot **barplots** for each of the non-numeric features. **Use fractions, not the real frequencies of the levels of these features**.\n",
    "\n",
    "--------------\n",
    "\n",
    "_tip: For plotting, see documentation on axes.bar. To get the fractions, see the value_counts function and its optional argument normalize._\n",
    "\n",
    "_If you read in the dtypes to be pandas dtype.boolean, in some cases its easier to work with other packages, suchs as matplotlib when they are represented as numbers [0,1] and not True or False. If you get errors you can try to cast them momentarily to be int or float with astype. This does not mean that you've done the exercise incorrectly, just that you have to change them for the plotting package._ "
   ]
  },
  {
   "cell_type": "code",
   "execution_count": 19,
   "metadata": {
    "scrolled": false
   },
   "outputs": [
    {
     "name": "stdout",
     "output_type": "stream",
     "text": [
      "<BooleanArray>\n",
      "[False, True]\n",
      "Length: 2, dtype: boolean\n",
      "<BooleanArray>\n",
      "[False, True]\n",
      "Length: 2, dtype: boolean\n",
      "<BooleanArray>\n",
      "[True, False]\n",
      "Length: 2, dtype: boolean\n",
      "<BooleanArray>\n",
      "[False, True]\n",
      "Length: 2, dtype: boolean\n",
      "['elevated', 'normal', 'at risk', 'elev ated']\n",
      "Categories (4, object): ['elevated', 'normal', 'at risk', 'elev ated']\n"
     ]
    }
   ],
   "source": [
    "# Check values before plotting\n",
    "for value in data[bool_and_categorical]:\n",
    "    print(data[value].unique())"
   ]
  },
  {
   "cell_type": "code",
   "execution_count": 20,
   "metadata": {
    "scrolled": false
   },
   "outputs": [],
   "source": [
    "# fix 'elev ated' in dataset\n",
    "data.loc[data['cholesterol'] == 'elev ated', 'cholesterol'] = 'elevated'"
   ]
  },
  {
   "cell_type": "code",
   "execution_count": 21,
   "metadata": {
    "scrolled": true
   },
   "outputs": [
    {
     "name": "stdout",
     "output_type": "stream",
     "text": [
      "['elevated', 'normal', 'at risk']\n",
      "Categories (3, object): ['elevated', 'normal', 'at risk']\n"
     ]
    }
   ],
   "source": [
    "# verify\n",
    "print(data['cholesterol'].unique())"
   ]
  },
  {
   "cell_type": "code",
   "execution_count": 22,
   "metadata": {},
   "outputs": [
    {
     "data": {
      "text/plain": [
       "Index(['sex', 'smoke', 'active', 'cardio', 'cholesterol'], dtype='object')"
      ]
     },
     "execution_count": 22,
     "metadata": {},
     "output_type": "execute_result"
    }
   ],
   "source": [
    "# remind me of the keys\n",
    "data[bool_and_categorical].keys()"
   ]
  },
  {
   "cell_type": "code",
   "execution_count": 23,
   "metadata": {},
   "outputs": [
    {
     "data": {
      "image/png": "[encoded data removed]",
      "text/plain": [
       "<Figure size 432x288 with 1 Axes>"
      ]
     },
     "metadata": {
      "needs_background": "light"
     },
     "output_type": "display_data"
    },
    {
     "data": {
      "image/png": "[encoded data removed]",
      "text/plain": [
       "<Figure size 432x288 with 1 Axes>"
      ]
     },
     "metadata": {
      "needs_background": "light"
     },
     "output_type": "display_data"
    },
    {
     "data": {
      "image/png": "[encoded data removed]",
      "text/plain": [
       "<Figure size 432x288 with 1 Axes>"
      ]
     },
     "metadata": {
      "needs_background": "light"
     },
     "output_type": "display_data"
    },
    {
     "data": {
      "image/png": "[encoded data removed]",
      "text/plain": [
       "<Figure size 432x288 with 1 Axes>"
      ]
     },
     "metadata": {
      "needs_background": "light"
     },
     "output_type": "display_data"
    },
    {
     "data": {
      "image/png": "[encoded data removed]",
      "text/plain": [
       "<Figure size 432x288 with 1 Axes>"
      ]
     },
     "metadata": {
      "needs_background": "light"
     },
     "output_type": "display_data"
    }
   ],
   "source": [
    "# get value counts\n",
    "sex = data.sex.value_counts(normalize = True)\n",
    "smoke = data.smoke.value_counts(normalize = True)\n",
    "active = data.active.value_counts(normalize = True)\n",
    "cardio = data.cardio.value_counts(normalize = True)\n",
    "cholesterol = data.cholesterol.value_counts(normalize = True)\n",
    "\n",
    "# sex plot\n",
    "\n",
    "sns.barplot(x = sex.index, y = sex)\n",
    "plt.title('Sex')\n",
    "plt.ylabel('Fraction')\n",
    "plt.show()\n",
    "\n",
    "\n",
    "# smoke plot\n",
    "sns.barplot(x = smoke.index, y = smoke)\n",
    "plt.title('Smoke')\n",
    "plt.ylabel('Fraction')\n",
    "plt.show()\n",
    "\n",
    "# active plot\n",
    "sns.barplot(x = active.index, y = active)\n",
    "plt.title('Active')\n",
    "plt.ylabel('Fraction')\n",
    "plt.show()\n",
    "\n",
    "# cardio plot\n",
    "sns.barplot(x = cardio.index, y = cardio)\n",
    "plt.title('Cardio')\n",
    "plt.ylabel('Fraction')\n",
    "plt.show()\n",
    "\n",
    "# cholesterol plot\n",
    "sns.barplot(x = cholesterol.index, y = cholesterol)\n",
    "plt.title('Cholesterol')\n",
    "plt.ylabel('Fraction')\n",
    "plt.show()"
   ]
  },
  {
   "cell_type": "markdown",
   "metadata": {},
   "source": [
    "**4 b)** \n",
    "\n",
    "Do you see something odd with one of the features? Fix it. \n",
    "\n",
    "_If you read the dtype of the categorical feature to be pandas dtype.categorical, **you have to also use the pandas function remove_categories to remove the category level from the feature**, even if you would have already removed the value. You can do this like: _data['feature_name'] = data['feature_name'].cat.remove_categories(\"category name to delete\")_"
   ]
  },
  {
   "cell_type": "markdown",
   "metadata": {},
   "source": [
    "#### Lol i thought i were slick when i figured out that there was something funky with the data in beforehand. This i didn't know about though"
   ]
  },
  {
   "cell_type": "code",
   "execution_count": 24,
   "metadata": {
    "scrolled": false
   },
   "outputs": [],
   "source": [
    "# fix categorical data\n",
    "data['cholesterol'] = data['cholesterol'].cat.remove_categories('elev ated')"
   ]
  },
  {
   "cell_type": "code",
   "execution_count": 25,
   "metadata": {
    "scrolled": true
   },
   "outputs": [
    {
     "name": "stdout",
     "output_type": "stream",
     "text": [
      "['at risk', 'elevated', 'normal']\n",
      "normal      153\n",
      "at risk      35\n",
      "elevated     22\n",
      "Name: cholesterol, dtype: int64\n"
     ]
    }
   ],
   "source": [
    "#verify\n",
    "print(data['cholesterol'].cat.categories.tolist())\n",
    "print(data['cholesterol'].value_counts())"
   ]
  },
  {
   "cell_type": "markdown",
   "metadata": {},
   "source": [
    "-------------\n",
    "\n",
    "## 5. Preprocessing numeric features"
   ]
  },
  {
   "cell_type": "markdown",
   "metadata": {},
   "source": [
    "Scaling the data improves the performance of machine learning algorithms in many cases, or perhaps better put, can ruin performance if not done. For instance with distance based algorithms covered in the course such as PCA, T-SNE and KNN some features with large values can dominate the distance calculations. \n",
    "\n",
    "-----------\n",
    "We will look at two often used ways of bringing the values to the same scale: **min-max scaling to [0,1]** and **standardizing the features to 0 mean and unit variance**. We will see, that the decision has implications on how the data will look afterwards. Standardizing values is very common in statistics and min-max scaling is for example used in training neural networks, where we want the range to match the range of an activation function in the network. Its good to know both. \n",
    "\n",
    "Two functions, sklearn.minmax_scale and sklearn.scale have been imported for you and you can use them in the following exercises.\n",
    "__________________________\n",
    "\n"
   ]
  },
  {
   "cell_type": "markdown",
   "metadata": {},
   "source": [
    "**5 a)** In this exercise we will use boxplots. Explain what a boxplot is and what information it gives you. "
   ]
  },
  {
   "cell_type": "markdown",
   "metadata": {},
   "source": [
    "A boxplot is a standardized way of visualizing the distribution of data.\n",
    "Looking at the boxplot created below there are five key points to look at.\n",
    "\n",
    "    -minimum\n",
    "    -maximum\n",
    "    -median\n",
    "    -first quartile\n",
    "    -third quartile\n",
    "\n",
    "- Minimum is the 0th quartile or 0th percentile. Lowest point in data excluding outliers.\n",
    "- Maximum is the 4th quartile or 100th percentile. Highest point in data excluding outliers. \n",
    "- The median is the 2nd quartile or 50th percentile of the data. The value in the middle. \n",
    "- The first quartile or 25th percentile of the data is the median of the lower half of the dataset. One way to think about this is that 75 % of the data is larger than the 1st quartile and 25 % is less. \n",
    "- The third quartile or 75th percentile is the median of the upper half of the dataset. One way to think about this is that 25 % of the data is larger than this *or* that 75 % of data is less than this.\n",
    "\n",
    "\n",
    "Those strange lines at the end of those lines represent the minimums and maximums. So in this dataset, the maximum age of the passengers was around 65, excluding outliers, and the smallest was a little more than 0. \n",
    "\n",
    "Minimums and maximums are calculated as follows: \n",
    "- Maximum: Q3 + 1.5*IQR\n",
    "- Minimum: Q1 -1.5*IQR\n",
    "\n",
    "Where IQR stands for interquantile range is the distance between the first and third quartiles. It's calculated by subtracting the first quartile value from the third. \n",
    "\n",
    "So everything larger or smaller than Maximum or Minimum are considered an outlier.\n",
    "\n",
    "Outliers can be spotted as dots above the line for maximum. Here, for example, outliers under the minimum line would mean the data isn't reliable, since age can't be negative and procedures would be needed. \n",
    "\n",
    "The black line in the middle of the blue box is the median. It's the middle value of the whole dataset. \n",
    "\n",
    "The upper line of the blue box is the third quartile -- it's larger than 75 % of the rest of the data. \n",
    "\n",
    "The lower line is the first quartile -- it's smaller than 75 % of the data. \n",
    "\n",
    "The box itself is the Interquartile range.\n",
    "\n",
    "Here we can interpret that people aged 40 were older than 75 % of the rest whilst people around 20 were younger than 75 % of the rest. \n",
    "\n",
    "The lines between max and min represent the 25 % of values higher or lower than 1st or 3rd quartile. "
   ]
  },
  {
   "cell_type": "code",
   "execution_count": 26,
   "metadata": {},
   "outputs": [],
   "source": [
    "# use titanic-data from Seaborn datasets\n",
    "boxplot_reference_data = sns.load_dataset('titanic')"
   ]
  },
  {
   "cell_type": "code",
   "execution_count": 27,
   "metadata": {},
   "outputs": [
    {
     "data": {
      "text/plain": [
       "<AxesSubplot:>"
      ]
     },
     "execution_count": 27,
     "metadata": {},
     "output_type": "execute_result"
    },
    {
     "data": {
      "image/png": "[encoded data removed]",
      "text/plain": [
       "<Figure size 432x288 with 1 Axes>"
      ]
     },
     "metadata": {
      "needs_background": "light"
     },
     "output_type": "display_data"
    }
   ],
   "source": [
    " # create boxplot with Seaborn\n",
    "sns.boxplot(boxplot_reference_data['age'])"
   ]
  },
  {
   "cell_type": "markdown",
   "metadata": {},
   "source": [
    "**5 b)** Min-max numeric attributes to [0,1] and **store the results in a new dataframe called data_min_maxed**. You might have to wrap the data to a dataframe again using pd.DataFrame()"
   ]
  },
  {
   "cell_type": "code",
   "execution_count": 28,
   "metadata": {},
   "outputs": [],
   "source": [
    "# --- Your code for 5b) here --- #\n",
    "# use the variable name data_min_maxed\n",
    "\n",
    "# Creating a new df with the numeric values minmaxxed, giving them their column names instead of 0...n which\n",
    "# they'd have by default\n",
    "\n",
    "data_min_maxed = pd.DataFrame(minmax_scale(data[numeric_features]), columns = numeric_features)"
   ]
  },
  {
   "cell_type": "code",
   "execution_count": 29,
   "metadata": {},
   "outputs": [
    {
     "data": {
      "text/html": [
       "<div>\n",
       "<style scoped>\n",
       "    .dataframe tbody tr th:only-of-type {\n",
       "        vertical-align: middle;\n",
       "    }\n",
       "\n",
       "    .dataframe tbody tr th {\n",
       "        vertical-align: top;\n",
       "    }\n",
       "\n",
       "    .dataframe thead th {\n",
       "        text-align: right;\n",
       "    }\n",
       "</style>\n",
       "<table border=\"1\" class=\"dataframe\">\n",
       "  <thead>\n",
       "    <tr style=\"text-align: right;\">\n",
       "      <th></th>\n",
       "      <th>age</th>\n",
       "      <th>height</th>\n",
       "      <th>weight</th>\n",
       "      <th>ap_hi</th>\n",
       "      <th>ap_lo</th>\n",
       "    </tr>\n",
       "  </thead>\n",
       "  <tbody>\n",
       "    <tr>\n",
       "      <th>0</th>\n",
       "      <td>0.590346</td>\n",
       "      <td>0.358491</td>\n",
       "      <td>0.1250</td>\n",
       "      <td>0.12</td>\n",
       "      <td>0.257143</td>\n",
       "    </tr>\n",
       "    <tr>\n",
       "      <th>1</th>\n",
       "      <td>0.891933</td>\n",
       "      <td>0.679245</td>\n",
       "      <td>0.2875</td>\n",
       "      <td>0.30</td>\n",
       "      <td>0.285714</td>\n",
       "    </tr>\n",
       "    <tr>\n",
       "      <th>2</th>\n",
       "      <td>0.245053</td>\n",
       "      <td>0.509434</td>\n",
       "      <td>0.3000</td>\n",
       "      <td>0.30</td>\n",
       "      <td>0.428571</td>\n",
       "    </tr>\n",
       "    <tr>\n",
       "      <th>3</th>\n",
       "      <td>0.252337</td>\n",
       "      <td>0.264151</td>\n",
       "      <td>0.4000</td>\n",
       "      <td>0.30</td>\n",
       "      <td>0.428571</td>\n",
       "    </tr>\n",
       "    <tr>\n",
       "      <th>4</th>\n",
       "      <td>0.557839</td>\n",
       "      <td>0.528302</td>\n",
       "      <td>0.6625</td>\n",
       "      <td>0.40</td>\n",
       "      <td>0.428571</td>\n",
       "    </tr>\n",
       "  </tbody>\n",
       "</table>\n",
       "</div>"
      ],
      "text/plain": [
       "        age    height  weight  ap_hi     ap_lo\n",
       "0  0.590346  0.358491  0.1250   0.12  0.257143\n",
       "1  0.891933  0.679245  0.2875   0.30  0.285714\n",
       "2  0.245053  0.509434  0.3000   0.30  0.428571\n",
       "3  0.252337  0.264151  0.4000   0.30  0.428571\n",
       "4  0.557839  0.528302  0.6625   0.40  0.428571"
      ]
     },
     "execution_count": 29,
     "metadata": {},
     "output_type": "execute_result"
    }
   ],
   "source": [
    "# verify\n",
    "data_min_maxed.head()"
   ]
  },
  {
   "cell_type": "markdown",
   "metadata": {},
   "source": [
    "**5 c)** Standardize numeric attributes to 0 mean and unit variance and **store the results in a new dataframe called data_standardized**"
   ]
  },
  {
   "cell_type": "code",
   "execution_count": 30,
   "metadata": {},
   "outputs": [],
   "source": [
    "# Your code for 5c here --- #\n",
    "data_standardized = pd.DataFrame(scale(data[numeric_features]), columns = numeric_features)"
   ]
  },
  {
   "cell_type": "code",
   "execution_count": 31,
   "metadata": {},
   "outputs": [
    {
     "data": {
      "text/html": [
       "<div>\n",
       "<style scoped>\n",
       "    .dataframe tbody tr th:only-of-type {\n",
       "        vertical-align: middle;\n",
       "    }\n",
       "\n",
       "    .dataframe tbody tr th {\n",
       "        vertical-align: top;\n",
       "    }\n",
       "\n",
       "    .dataframe thead th {\n",
       "        text-align: right;\n",
       "    }\n",
       "</style>\n",
       "<table border=\"1\" class=\"dataframe\">\n",
       "  <thead>\n",
       "    <tr style=\"text-align: right;\">\n",
       "      <th></th>\n",
       "      <th>age</th>\n",
       "      <th>height</th>\n",
       "      <th>weight</th>\n",
       "      <th>ap_hi</th>\n",
       "      <th>ap_lo</th>\n",
       "    </tr>\n",
       "  </thead>\n",
       "  <tbody>\n",
       "    <tr>\n",
       "      <th>0</th>\n",
       "      <td>0.140926</td>\n",
       "      <td>-0.423185</td>\n",
       "      <td>-1.296193</td>\n",
       "      <td>-1.480325</td>\n",
       "      <td>-1.392016</td>\n",
       "    </tr>\n",
       "    <tr>\n",
       "      <th>1</th>\n",
       "      <td>1.285684</td>\n",
       "      <td>1.838449</td>\n",
       "      <td>-0.404407</td>\n",
       "      <td>-0.449822</td>\n",
       "      <td>-1.190484</td>\n",
       "    </tr>\n",
       "    <tr>\n",
       "      <th>2</th>\n",
       "      <td>-1.169727</td>\n",
       "      <td>0.641113</td>\n",
       "      <td>-0.335808</td>\n",
       "      <td>-0.449822</td>\n",
       "      <td>-0.182819</td>\n",
       "    </tr>\n",
       "    <tr>\n",
       "      <th>3</th>\n",
       "      <td>-1.142077</td>\n",
       "      <td>-1.088372</td>\n",
       "      <td>0.212983</td>\n",
       "      <td>-0.449822</td>\n",
       "      <td>-0.182819</td>\n",
       "    </tr>\n",
       "    <tr>\n",
       "      <th>4</th>\n",
       "      <td>0.017537</td>\n",
       "      <td>0.774151</td>\n",
       "      <td>1.653560</td>\n",
       "      <td>0.122679</td>\n",
       "      <td>-0.182819</td>\n",
       "    </tr>\n",
       "  </tbody>\n",
       "</table>\n",
       "</div>"
      ],
      "text/plain": [
       "        age    height    weight     ap_hi     ap_lo\n",
       "0  0.140926 -0.423185 -1.296193 -1.480325 -1.392016\n",
       "1  1.285684  1.838449 -0.404407 -0.449822 -1.190484\n",
       "2 -1.169727  0.641113 -0.335808 -0.449822 -0.182819\n",
       "3 -1.142077 -1.088372  0.212983 -0.449822 -0.182819\n",
       "4  0.017537  0.774151  1.653560  0.122679 -0.182819"
      ]
     },
     "execution_count": 31,
     "metadata": {},
     "output_type": "execute_result"
    }
   ],
   "source": [
    "data_standardized.head()"
   ]
  },
  {
   "cell_type": "code",
   "execution_count": 32,
   "metadata": {
    "scrolled": true
   },
   "outputs": [
    {
     "name": "stdout",
     "output_type": "stream",
     "text": [
      "unit variance:\n",
      " age       1.002389\n",
      "height    1.002389\n",
      "weight    1.002389\n",
      "ap_hi     1.002389\n",
      "ap_lo     1.002389\n",
      "dtype: float64\n",
      "\n",
      "\n",
      "mean:\n",
      " age       6.132661e-17\n",
      "height   -1.341784e-15\n",
      "weight   -2.511219e-16\n",
      "ap_hi    -3.156205e-16\n",
      "ap_lo    -2.558800e-16\n",
      "dtype: float64\n"
     ]
    }
   ],
   "source": [
    "# verify\n",
    "print(f\"unit variance:\\n {data_standardized.std()}\")\n",
    "print('\\n')\n",
    "print(f\"mean:\\n {data_standardized.mean()}\")"
   ]
  },
  {
   "cell_type": "markdown",
   "metadata": {},
   "source": [
    "##### no clue how to get 0 mean and unit variance, this is as far as i got in this excercise"
   ]
  },
  {
   "cell_type": "markdown",
   "metadata": {},
   "source": [
    "**5 d)** Make two boxplots of the 'age' feature, one plot with the data_min_maxed and one with the data_standardized. Preferably put the plots side-by-side and give each titles. See the tutorial in the beginning for help. "
   ]
  },
  {
   "cell_type": "code",
   "execution_count": 33,
   "metadata": {},
   "outputs": [],
   "source": [
    "# create dataframes\n",
    "minmax_age = pd.DataFrame(minmax_scale(data['age']), columns = ['ageminmax'])\n",
    "standardized_age = pd.DataFrame(scale(data['age']), columns = ['agestd'])\n",
    "\n",
    "# merge dataframes to one by their indexes\n",
    "exc_data = pd.merge(minmax_age, standardized_age, right_index = True, left_index = True)"
   ]
  },
  {
   "cell_type": "code",
   "execution_count": 34,
   "metadata": {
    "scrolled": true
   },
   "outputs": [
    {
     "data": {
      "text/html": [
       "<div>\n",
       "<style scoped>\n",
       "    .dataframe tbody tr th:only-of-type {\n",
       "        vertical-align: middle;\n",
       "    }\n",
       "\n",
       "    .dataframe tbody tr th {\n",
       "        vertical-align: top;\n",
       "    }\n",
       "\n",
       "    .dataframe thead th {\n",
       "        text-align: right;\n",
       "    }\n",
       "</style>\n",
       "<table border=\"1\" class=\"dataframe\">\n",
       "  <thead>\n",
       "    <tr style=\"text-align: right;\">\n",
       "      <th></th>\n",
       "      <th>ageminmax</th>\n",
       "      <th>agestd</th>\n",
       "    </tr>\n",
       "  </thead>\n",
       "  <tbody>\n",
       "    <tr>\n",
       "      <th>0</th>\n",
       "      <td>0.590346</td>\n",
       "      <td>0.140926</td>\n",
       "    </tr>\n",
       "    <tr>\n",
       "      <th>1</th>\n",
       "      <td>0.891933</td>\n",
       "      <td>1.285684</td>\n",
       "    </tr>\n",
       "    <tr>\n",
       "      <th>2</th>\n",
       "      <td>0.245053</td>\n",
       "      <td>-1.169727</td>\n",
       "    </tr>\n",
       "    <tr>\n",
       "      <th>3</th>\n",
       "      <td>0.252337</td>\n",
       "      <td>-1.142077</td>\n",
       "    </tr>\n",
       "    <tr>\n",
       "      <th>4</th>\n",
       "      <td>0.557839</td>\n",
       "      <td>0.017537</td>\n",
       "    </tr>\n",
       "  </tbody>\n",
       "</table>\n",
       "</div>"
      ],
      "text/plain": [
       "   ageminmax    agestd\n",
       "0   0.590346  0.140926\n",
       "1   0.891933  1.285684\n",
       "2   0.245053 -1.169727\n",
       "3   0.252337 -1.142077\n",
       "4   0.557839  0.017537"
      ]
     },
     "execution_count": 34,
     "metadata": {},
     "output_type": "execute_result"
    }
   ],
   "source": [
    "# verify\n",
    "exc_data.head()"
   ]
  },
  {
   "cell_type": "code",
   "execution_count": 35,
   "metadata": {},
   "outputs": [
    {
     "data": {
      "image/png": "[encoded data removed]",
      "text/plain": [
       "<Figure size 720x576 with 2 Axes>"
      ]
     },
     "metadata": {
      "needs_background": "light"
     },
     "output_type": "display_data"
    }
   ],
   "source": [
    "# Setup vizualization\n",
    "fig, (ax1, ax2) = plt.subplots(1, 2, figsize = (10,8))\n",
    "\n",
    "fig.suptitle('Age data minmaxed and standardized')\n",
    "\n",
    "#Visualize min maxed age\n",
    "ax1.boxplot(exc_data['ageminmax'])\n",
    "ax1.set_title('Min maxed')\n",
    "\n",
    "#visualize standardized age\n",
    "ax2.boxplot(exc_data['agestd'])\n",
    "ax2.set_title('Standardized')\n",
    "\n",
    "plt.tight_layout()"
   ]
  },
  {
   "cell_type": "markdown",
   "metadata": {},
   "source": [
    "---------\n",
    "\n",
    "Lets see the differences of these preprocessing methods through an example. We will add an \"outlier\" point (some point with a large value) to replace the \n",
    "last value in both data, then again minmax and standardize and plot. The code to add the value is given for you and you shouldn't change it. \n",
    "\n",
    "--------------------\n",
    "\n",
    "***5e) Do the following:***\n",
    "1. Take the data for the age feature (age_w_outlier) provided for you\n",
    "2. Make two variables, age_w_outlier_minmaxed, containing the min-maxed values of the age_w_outlier and\n",
    "3.  age_w_outlier_standardized containing the standardized values for the age_w_outlier\n"
   ]
  },
  {
   "cell_type": "code",
   "execution_count": 36,
   "metadata": {},
   "outputs": [],
   "source": [
    "### Add an outlier, DONT CHANGE THIS CELL CODE, JUST RUN IT ###\n",
    "data_w_outlier = data.copy() #data should be the name of the variable where you have stored your data!\n",
    "data_w_outlier.loc[data.shape[0] -1 , 'age'] = 150 #change the last value of age to be 150\n",
    "age_w_outlier = data_w_outlier.age"
   ]
  },
  {
   "cell_type": "code",
   "execution_count": 37,
   "metadata": {},
   "outputs": [],
   "source": [
    "# --- Your code for 5e) --- \n",
    "\n",
    "# create age_w_outlier_minmaxed \n",
    "age_w_outlier_minmaxed = minmax_scale(age_w_outlier)\n",
    "\n",
    "# create age_w_outlier_standardized\n",
    "age_w_outlier_standardized = scale(age_w_outlier)"
   ]
  },
  {
   "cell_type": "markdown",
   "metadata": {},
   "source": [
    "***Below there is pre-written code for you to plot the different cases. Run it. The code should run if you have named your features appropriately. Run the code.***"
   ]
  },
  {
   "cell_type": "code",
   "execution_count": 38,
   "metadata": {
    "scrolled": false
   },
   "outputs": [
    {
     "data": {
      "image/png": "[encoded data removed]",
      "text/plain": [
       "<Figure size 432x288 with 1 Axes>"
      ]
     },
     "metadata": {
      "needs_background": "light"
     },
     "output_type": "display_data"
    },
    {
     "data": {
      "image/png": "[encoded data removed]",
      "text/plain": [
       "<Figure size 432x288 with 1 Axes>"
      ]
     },
     "metadata": {
      "needs_background": "light"
     },
     "output_type": "display_data"
    }
   ],
   "source": [
    "# Wrap in a dataframe that will have two features - the age feature without the outlier, and the age feature with it, min-maxed.\n",
    "minmaxed_datas = pd.DataFrame({\"minmaxed_age_no_outlier\" : data_min_maxed.age, \n",
    "              \"minmaxed_age_with_outlier\": age_w_outlier_minmaxed })\n",
    "\n",
    "# Wrap in a dataframe that will have two features - the age feature without the outlier, and the age feature with it, standardized. \n",
    "standardized_datas = pd.DataFrame({\"standardized_data_no_outlier\" : data_standardized.age, \n",
    "              \"standardized_data_w_outlier\": age_w_outlier_standardized })\n",
    "\n",
    "axes_minmaxed = minmaxed_datas[['minmaxed_age_no_outlier', 'minmaxed_age_with_outlier']].plot(kind='box', title='Minmax with and without outlier')\n",
    "axes_std = standardized_datas[['standardized_data_no_outlier', 'standardized_data_w_outlier']].plot(kind='box', title='Standardized with and without outlier')"
   ]
  },
  {
   "cell_type": "markdown",
   "metadata": {},
   "source": [
    "----------\n",
    "**5 f) Look at the output of the above cell and answer the following**: \n",
    "\n",
    "1. Can you notice a difference between the two cases (min-maxed and standardized)? \n",
    "2. Can you say something about the difference of the effect of min-maxing and standardization?\n"
   ]
  },
  {
   "cell_type": "markdown",
   "metadata": {},
   "source": [
    "1. Minmax seems to be quite aggressively affected by the outlier. Judging by the boxplots, all the boxplot variables (mentioned above) are affected by the singular outlier. Standardized data on the other hand seems to be quite robust to the outlier. I believe it's because minmax's formula is X = (X - Xmin) / (Xmax - Xmin) where min and max values have greater effect on the value X. Standardization on the other hand is calculated with X = (X - mean(values)) / standard_deviation, so the outliers don't affect as much. \n",
    "\n",
    "2. As minmax tries to keep all values between [0,1], one exceptionally large/small value causes the other values to be  far different from the outlier thus causing the results to be negatively affected. Standardizing uses mean and std to calculate the values so it's more robust to outliers since one or two values that are completely different don't affect the calculations as much. "
   ]
  },
  {
   "cell_type": "markdown",
   "metadata": {},
   "source": [
    "---------------\n",
    "## 6. Preprocessing categorical features\n",
    "\n"
   ]
  },
  {
   "cell_type": "markdown",
   "metadata": {},
   "source": [
    "We can roughly divide categorical variables/features to two types:  ***nominal categorical***  and  ***ordinal categorical*** variables/features. Some cases are clear in terms of which of the two a feature falls into. For example nationality is not an ordered feature, but which grade in school someone is has a natural ordering. **One-hot encoding** was presented in the lectures and will be used in the following exercises with different learning methods.\n",
    "\n",
    "\n",
    "-----\n",
    "***Nominal categorical features need to be encoded***, because not encoding them implies that they have an order. For example, consider a dataset where you would have rows by different countries, encoded randomly with numbers, for ex. Finland = 1, Norway = 2 and so on. For some analyses and methods this would imply that Norway is somehow \"greater\" in value than Finland. For some algorithms, the implication would also be, that some of the countries would be \"closer\" to each other. \n",
    "\n",
    "------\n",
    "***Ordinal categorical features do not necessarily need to be encoded***, but there are cases where it can be wise. One case is that the categories are not even distance from each other, which is the case with the 'cholesterol' feature with the levels 'normal', 'elevated' and 'at risk'. Its not clear that these are equal in distance from each other. When unsure, it may also be better to one-hot encode, and a lot of packages do it for you behind the scenes. Here we decide to one-hot encode.  \n",
    "\n",
    "---------------------\n"
   ]
  },
  {
   "cell_type": "markdown",
   "metadata": {},
   "source": [
    "**6 a)** One-hot-encode the cholesterol-feature and add the one-hot features to the data. Give the new features meaningful names. Print the first rows of the resulting dataframe. \n",
    "\n",
    "_tip: pandas has a function for this, google!_"
   ]
  },
  {
   "cell_type": "code",
   "execution_count": 39,
   "metadata": {},
   "outputs": [
    {
     "data": {
      "text/html": [
       "<div>\n",
       "<style scoped>\n",
       "    .dataframe tbody tr th:only-of-type {\n",
       "        vertical-align: middle;\n",
       "    }\n",
       "\n",
       "    .dataframe tbody tr th {\n",
       "        vertical-align: top;\n",
       "    }\n",
       "\n",
       "    .dataframe thead th {\n",
       "        text-align: right;\n",
       "    }\n",
       "</style>\n",
       "<table border=\"1\" class=\"dataframe\">\n",
       "  <thead>\n",
       "    <tr style=\"text-align: right;\">\n",
       "      <th></th>\n",
       "      <th>age</th>\n",
       "      <th>sex</th>\n",
       "      <th>height</th>\n",
       "      <th>weight</th>\n",
       "      <th>ap_hi</th>\n",
       "      <th>ap_lo</th>\n",
       "      <th>smoke</th>\n",
       "      <th>active</th>\n",
       "      <th>cardio</th>\n",
       "      <th>cholesterol_at risk</th>\n",
       "      <th>cholesterol_elevated</th>\n",
       "      <th>cholesterol_normal</th>\n",
       "    </tr>\n",
       "  </thead>\n",
       "  <tbody>\n",
       "    <tr>\n",
       "      <th>0</th>\n",
       "      <td>19797</td>\n",
       "      <td>False</td>\n",
       "      <td>161</td>\n",
       "      <td>55</td>\n",
       "      <td>102</td>\n",
       "      <td>68</td>\n",
       "      <td>False</td>\n",
       "      <td>True</td>\n",
       "      <td>False</td>\n",
       "      <td>0</td>\n",
       "      <td>1</td>\n",
       "      <td>0</td>\n",
       "    </tr>\n",
       "    <tr>\n",
       "      <th>1</th>\n",
       "      <td>22571</td>\n",
       "      <td>True</td>\n",
       "      <td>178</td>\n",
       "      <td>68</td>\n",
       "      <td>120</td>\n",
       "      <td>70</td>\n",
       "      <td>False</td>\n",
       "      <td>False</td>\n",
       "      <td>False</td>\n",
       "      <td>0</td>\n",
       "      <td>0</td>\n",
       "      <td>1</td>\n",
       "    </tr>\n",
       "    <tr>\n",
       "      <th>2</th>\n",
       "      <td>16621</td>\n",
       "      <td>True</td>\n",
       "      <td>169</td>\n",
       "      <td>69</td>\n",
       "      <td>120</td>\n",
       "      <td>80</td>\n",
       "      <td>False</td>\n",
       "      <td>True</td>\n",
       "      <td>False</td>\n",
       "      <td>0</td>\n",
       "      <td>0</td>\n",
       "      <td>1</td>\n",
       "    </tr>\n",
       "    <tr>\n",
       "      <th>3</th>\n",
       "      <td>16688</td>\n",
       "      <td>False</td>\n",
       "      <td>156</td>\n",
       "      <td>77</td>\n",
       "      <td>120</td>\n",
       "      <td>80</td>\n",
       "      <td>False</td>\n",
       "      <td>True</td>\n",
       "      <td>False</td>\n",
       "      <td>0</td>\n",
       "      <td>0</td>\n",
       "      <td>1</td>\n",
       "    </tr>\n",
       "    <tr>\n",
       "      <th>4</th>\n",
       "      <td>19498</td>\n",
       "      <td>True</td>\n",
       "      <td>170</td>\n",
       "      <td>98</td>\n",
       "      <td>130</td>\n",
       "      <td>80</td>\n",
       "      <td>True</td>\n",
       "      <td>True</td>\n",
       "      <td>True</td>\n",
       "      <td>0</td>\n",
       "      <td>1</td>\n",
       "      <td>0</td>\n",
       "    </tr>\n",
       "  </tbody>\n",
       "</table>\n",
       "</div>"
      ],
      "text/plain": [
       "     age    sex  height  weight  ap_hi  ap_lo  smoke  active  cardio  \\\n",
       "0  19797  False     161      55    102     68  False    True   False   \n",
       "1  22571   True     178      68    120     70  False   False   False   \n",
       "2  16621   True     169      69    120     80  False    True   False   \n",
       "3  16688  False     156      77    120     80  False    True   False   \n",
       "4  19498   True     170      98    130     80   True    True    True   \n",
       "\n",
       "   cholesterol_at risk  cholesterol_elevated  cholesterol_normal  \n",
       "0                    0                     1                   0  \n",
       "1                    0                     0                   1  \n",
       "2                    0                     0                   1  \n",
       "3                    0                     0                   1  \n",
       "4                    0                     1                   0  "
      ]
     },
     "execution_count": 39,
     "metadata": {},
     "output_type": "execute_result"
    }
   ],
   "source": [
    "# --- Your code for 6 a) here ---\n",
    "\n",
    "# one-hot-encode cholesterol\n",
    "pd.get_dummies(data = data, columns = ['cholesterol']).head()"
   ]
  },
  {
   "cell_type": "markdown",
   "metadata": {},
   "source": [
    "----------"
   ]
  },
  {
   "cell_type": "markdown",
   "metadata": {},
   "source": [
    "<div class=\"alert alert-block alert-warning\">\n",
    "    <h1><center> BONUS EXERCISES </center></h1>"
   ]
  },
  {
   "cell_type": "markdown",
   "metadata": {},
   "source": [
    "- Below are the bonus exercises. You can stop here, and get the \"pass\" grade. \n",
    "- By doing the bonus exercises below, you can get a \"pass with honors\", which means you will get one point bonus for the exam. \n",
    "\n",
    "The following exercises are more challenging and not as straight-forward and may require some research of your own. However, perfect written answers are not required, but answers that show that you have tried to understand the problems and explain them with your own words. "
   ]
  },
  {
   "cell_type": "markdown",
   "metadata": {
    "id": "bea2hNxp3BPv"
   },
   "source": [
    "____________\n",
    "##  <font color = dollargreen > 7. BONUS: Dimensionality reduction and plotting with PCA </font>\n",
    "In the lectures, PCA was introduced as a dimensionality reduction technique. Here we will use it to reduce the dimensionality of the numeric features of this dataset and use the resulting compressed view of the dataset to plot it. This means you have to, run PCA  and then project the data you used to fit the PCA to the new space, where the principal components are the axes.\n",
    "____________"
   ]
  },
  {
   "cell_type": "markdown",
   "metadata": {
    "id": "4mco9ZWp3BPv"
   },
   "source": [
    "**7 a)** Explain _in your own words_ what principal component analysis is.\n",
    "\n",
    "--------"
   ]
  },
  {
   "cell_type": "markdown",
   "metadata": {},
   "source": [
    "Imagine we've got >= 4 cells with 10 different genes. so we've got a matrix with shape 10 x >= 4. We want to distinguish these cells from eachother based on what their genes are doing, so the values of the rows.\n",
    "\n",
    "One way'd be to create a scatterplot visualizing the correlations, right? That'd work, yes, if we had 2 cells to compare, but are we going to do tons of scatterplots visualizing the correlations of all the cells? No.\n",
    "\n",
    "Introduce PCA, where we reduce the dimensionality of the data. We can draw a PCA plot which clusters all the cells based on their genes (correlations or lack there of) thus showing us how the cells differ from each other. The Principal Component Analysis is a unsupervised learning technique for reducing the dimensionality of data. It increases interpretability whilst it minimizes information loss. It helps to find the most significant features in a dataset and makes the data easy for plotting in 2D and 3D. PCA helps in finding a sequence of linear combinations of variables."
   ]
  },
  {
   "cell_type": "markdown",
   "metadata": {
    "id": "4mco9ZWp3BPv"
   },
   "source": [
    "-------------\n",
    "**7 b)** Do PCA with two components with and without z-score standardization **for the numeric features in the data**. "
   ]
  },
  {
   "cell_type": "code",
   "execution_count": 40,
   "metadata": {},
   "outputs": [],
   "source": [
    "# import necessary libary\n",
    "from sklearn.decomposition import PCA"
   ]
  },
  {
   "cell_type": "markdown",
   "metadata": {},
   "source": [
    "without z-score standardization"
   ]
  },
  {
   "cell_type": "code",
   "execution_count": 41,
   "metadata": {
    "scrolled": false
   },
   "outputs": [
    {
     "data": {
      "text/html": [
       "<div>\n",
       "<style scoped>\n",
       "    .dataframe tbody tr th:only-of-type {\n",
       "        vertical-align: middle;\n",
       "    }\n",
       "\n",
       "    .dataframe tbody tr th {\n",
       "        vertical-align: top;\n",
       "    }\n",
       "\n",
       "    .dataframe thead th {\n",
       "        text-align: right;\n",
       "    }\n",
       "</style>\n",
       "<table border=\"1\" class=\"dataframe\">\n",
       "  <thead>\n",
       "    <tr style=\"text-align: right;\">\n",
       "      <th></th>\n",
       "      <th>age</th>\n",
       "      <th>height</th>\n",
       "      <th>weight</th>\n",
       "      <th>ap_hi</th>\n",
       "      <th>ap_lo</th>\n",
       "    </tr>\n",
       "  </thead>\n",
       "  <tbody>\n",
       "    <tr>\n",
       "      <th>0</th>\n",
       "      <td>19797</td>\n",
       "      <td>161</td>\n",
       "      <td>55</td>\n",
       "      <td>102</td>\n",
       "      <td>68</td>\n",
       "    </tr>\n",
       "    <tr>\n",
       "      <th>1</th>\n",
       "      <td>22571</td>\n",
       "      <td>178</td>\n",
       "      <td>68</td>\n",
       "      <td>120</td>\n",
       "      <td>70</td>\n",
       "    </tr>\n",
       "    <tr>\n",
       "      <th>2</th>\n",
       "      <td>16621</td>\n",
       "      <td>169</td>\n",
       "      <td>69</td>\n",
       "      <td>120</td>\n",
       "      <td>80</td>\n",
       "    </tr>\n",
       "    <tr>\n",
       "      <th>3</th>\n",
       "      <td>16688</td>\n",
       "      <td>156</td>\n",
       "      <td>77</td>\n",
       "      <td>120</td>\n",
       "      <td>80</td>\n",
       "    </tr>\n",
       "    <tr>\n",
       "      <th>4</th>\n",
       "      <td>19498</td>\n",
       "      <td>170</td>\n",
       "      <td>98</td>\n",
       "      <td>130</td>\n",
       "      <td>80</td>\n",
       "    </tr>\n",
       "  </tbody>\n",
       "</table>\n",
       "</div>"
      ],
      "text/plain": [
       "     age  height  weight  ap_hi  ap_lo\n",
       "0  19797     161      55    102     68\n",
       "1  22571     178      68    120     70\n",
       "2  16621     169      69    120     80\n",
       "3  16688     156      77    120     80\n",
       "4  19498     170      98    130     80"
      ]
     },
     "execution_count": 41,
     "metadata": {},
     "output_type": "execute_result"
    }
   ],
   "source": [
    "# verify data is intact after all the other exercises\n",
    "data[numeric_features].head()"
   ]
  },
  {
   "cell_type": "code",
   "execution_count": 42,
   "metadata": {},
   "outputs": [],
   "source": [
    "# define PCA with 2 components\n",
    "non_standard_pca = PCA(n_components = 2)"
   ]
  },
  {
   "cell_type": "code",
   "execution_count": 43,
   "metadata": {},
   "outputs": [],
   "source": [
    "# Create aforementioned 2 components to plot\n",
    "non_standard_components = non_standard_pca.fit_transform(data[numeric_features].values)"
   ]
  },
  {
   "cell_type": "code",
   "execution_count": 44,
   "metadata": {
    "scrolled": true
   },
   "outputs": [
    {
     "data": {
      "text/plain": [
       "array([[-3.41442910e+02, -3.48199248e+01],\n",
       "       [-3.11547133e+03, -1.71082272e+01],\n",
       "       [ 2.83451446e+03, -4.83166306e+00],\n",
       "       [ 2.76750883e+03, -2.59547757e+00],\n",
       "       [-4.25166038e+01,  1.04056847e+01],\n",
       "       [-4.00525264e+02,  2.28064278e+01],\n",
       "       [-2.89247958e+03, -1.29460747e+01],\n",
       "       [-9.81503266e+02,  8.48958038e+00],\n",
       "       [ 4.30651220e+03, -1.95776732e+00],\n",
       "       [ 3.54453057e+03, -1.19621109e+01],\n",
       "       [-2.23151222e+03,  2.51746146e+00],\n",
       "       [-7.85474405e+02, -1.32971241e+01],\n",
       "       [ 3.24252025e+03, -7.32474163e+00],\n",
       "       [-1.78155546e+03,  4.39269901e+01],\n",
       "       [-9.95502258e+02, -8.97455012e-01],\n",
       "       [ 6.89529505e+02, -1.43292586e+01],\n",
       "       [-2.17147377e+03, -1.48621157e+01],\n",
       "       [ 3.46852285e+03, -1.27065539e+01],\n",
       "       [-2.31145777e+03, -2.34141467e+01],\n",
       "       [-1.84148696e+03, -4.57165853e+00],\n",
       "       [ 4.14554272e+03, -2.09144066e+01],\n",
       "       [ 1.93850785e+03, -2.68834157e+00],\n",
       "       [ 1.86852742e+03, -1.17731905e+01],\n",
       "       [-3.28051469e+03,  1.10688249e+01],\n",
       "       [ 4.16351846e+03, -5.48439169e+00],\n",
       "       [-3.25350666e+03,  3.19127126e+00],\n",
       "       [ 2.65550583e+03, -1.02398728e+00],\n",
       "       [-9.64519579e+02,  1.64444391e+01],\n",
       "       [ 1.24645656e+03,  2.78592510e+01],\n",
       "       [ 1.16449716e+03,  9.35848945e+00],\n",
       "       [-9.61539251e+02,  2.86418998e+01],\n",
       "       [-2.73456366e+02, -2.54918032e+01],\n",
       "       [ 5.08853420e+03, -1.64238495e+01],\n",
       "       [-1.46757129e+03,  5.43490668e+01],\n",
       "       [-4.08247741e+03, -1.50320087e+01],\n",
       "       [ 1.95950212e+03,  5.97615055e-02],\n",
       "       [-7.29475071e+02, -1.33409846e+01],\n",
       "       [-1.73747841e+03, -1.61967182e+01],\n",
       "       [ 2.55848797e+03,  1.66149153e+01],\n",
       "       [ 1.89449227e+03,  8.20496674e+00],\n",
       "       [ 1.95751476e+03, -5.82001838e+00],\n",
       "       [-1.08050063e+03,  6.14557522e+00],\n",
       "       [-2.88500384e+02,  7.04670480e+00],\n",
       "       [ 3.73526961e+02, -1.28610687e+01],\n",
       "       [ 3.52051994e+03, -7.07733095e+00],\n",
       "       [ 2.75847406e+03,  2.18330429e+01],\n",
       "       [-3.67478298e+02, -1.11426519e+01],\n",
       "       [-5.00475181e+02, -1.27702616e+01],\n",
       "       [ 3.32252579e+03, -9.68330147e+00],\n",
       "       [ 1.81747629e+03,  2.36826430e+01],\n",
       "       [ 1.21949027e+03,  8.86112414e+00],\n",
       "       [ 2.08953866e+03, -2.47153822e+01],\n",
       "       [-3.27048882e+03, -6.98429878e-01],\n",
       "       [ 3.59941592e+03,  6.81035928e+01],\n",
       "       [ 1.37351792e+03, -7.97864613e+00],\n",
       "       [-3.53571043e+00,  2.31646730e+01],\n",
       "       [ 1.35352366e+03, -1.03398800e+01],\n",
       "       [ 3.33852029e+03, -7.09735367e+00],\n",
       "       [-1.70050615e+03,  4.45747336e+00],\n",
       "       [ 4.79450231e+03,  1.02527850e+01],\n",
       "       [-3.16449796e+03, -8.92379378e-01],\n",
       "       [-2.55847402e+03, -1.51461755e+01],\n",
       "       [-9.03472904e+02, -1.42038255e+01],\n",
       "       [-1.27946014e+03, -2.12970310e+01],\n",
       "       [ 3.92463688e+02,  2.41820563e+01],\n",
       "       [-2.43950779e+03,  8.69148121e+00],\n",
       "       [-2.34152199e+03,  1.54574505e+01],\n",
       "       [-3.38490586e+02, -5.48234486e+00],\n",
       "       [ 4.90348765e+03,  1.71923330e+01],\n",
       "       [-1.73150314e+03,  2.63158698e+00],\n",
       "       [ 5.07052981e+03, -1.42245260e+01],\n",
       "       [-3.76549170e+03, -8.39945995e+00],\n",
       "       [ 3.78482885e+02,  1.53843231e+01],\n",
       "       [-1.74547281e+02,  3.25494383e+01],\n",
       "       [-1.03654452e+03,  3.42920546e+01],\n",
       "       [-9.60480104e+02, -6.89150866e+00],\n",
       "       [ 3.36249515e+03,  1.25527056e+01],\n",
       "       [-3.84347684e+03, -1.50639872e+01],\n",
       "       [-9.76483097e+02, -9.45504013e+00],\n",
       "       [ 1.37052697e+03, -1.41711015e+01],\n",
       "       [-2.62747234e+03, -1.59447000e+01],\n",
       "       [-4.10951556e+03,  1.48607358e+01],\n",
       "       [-3.77499981e+02, -1.25290818e+00],\n",
       "       [-2.45546436e+03, -2.29812804e+01],\n",
       "       [-3.20353472e+03,  2.81253971e+01],\n",
       "       [-3.10548935e+03, -4.76922329e+00],\n",
       "       [ 4.58493382e+02,  1.02868051e+01],\n",
       "       [-1.09449727e+02, -2.48723768e+01],\n",
       "       [-1.66448020e+03, -1.15048700e+01],\n",
       "       [-1.53048392e+03, -9.65528937e+00],\n",
       "       [ 2.71848643e+03,  1.61052689e+01],\n",
       "       [-1.57648212e+03, -1.03313516e+01],\n",
       "       [ 2.53144212e+03,  4.34615961e+01],\n",
       "       [ 5.20465869e+02,  2.69860434e+01],\n",
       "       [-3.98948384e+03, -1.21525996e+01],\n",
       "       [-9.16484420e+02, -1.34423115e+01],\n",
       "       [-2.58251250e+03,  1.00980417e+01],\n",
       "       [-1.53461454e+02, -2.25803646e+01],\n",
       "       [-1.67950416e+03, -1.03620684e+00],\n",
       "       [-2.57549687e+03, -3.10847036e-01],\n",
       "       [ 4.00473765e+02,  1.49285775e+01],\n",
       "       [-3.60500872e+02,  2.98294687e+00],\n",
       "       [-2.96477137e+02, -1.46278160e+01],\n",
       "       [-4.89480930e+02, -6.54549890e+00],\n",
       "       [ 4.62252487e+03, -7.98363993e+00],\n",
       "       [-2.95352343e+03,  1.51011404e+01],\n",
       "       [-2.46650674e+03, -4.74287361e+00],\n",
       "       [-2.30555347e+03,  3.12299762e+01],\n",
       "       [ 3.32553976e+03, -2.04221373e+01],\n",
       "       [ 4.20452987e+03, -1.48493861e+01],\n",
       "       [ 4.74151933e+03, -5.30130254e+00],\n",
       "       [-3.05850135e+03,  7.10331043e-01],\n",
       "       [-3.76155387e+03,  4.37174260e+01],\n",
       "       [-2.60490329e+02, -9.95037646e+00],\n",
       "       [ 3.45656264e+03, -3.50042057e+01],\n",
       "       [ 2.90751628e+03, -1.39832074e+01],\n",
       "       [ 1.82048329e+03,  2.04763126e+01],\n",
       "       [-3.60476937e+02, -1.18696861e+01],\n",
       "       [-2.50748123e+03, -1.17589165e+01],\n",
       "       [ 5.51446505e+02,  4.44547367e+01],\n",
       "       [-8.69538145e+02,  3.79675647e+01],\n",
       "       [ 1.76353169e+03, -1.79307690e+01],\n",
       "       [-3.21476523e+02, -1.19308512e+01],\n",
       "       [-2.90553338e+03,  2.78027193e+01],\n",
       "       [-3.21151919e+03,  1.35453659e+01],\n",
       "       [ 4.73507711e+02,  3.72533862e-02],\n",
       "       [ 1.23851968e+03, -8.67931900e+00],\n",
       "       [-7.56477863e+02, -1.17017762e+01],\n",
       "       [-2.97948146e+03, -1.21134939e+01],\n",
       "       [-1.87457042e+02, -1.93102094e+01],\n",
       "       [-1.92748782e+03, -8.24508901e+00],\n",
       "       [ 6.00482366e+02,  1.18814028e+01],\n",
       "       [ 9.13487731e+02,  9.46120127e+00],\n",
       "       [-1.75550171e+03, -1.97592280e+00],\n",
       "       [-1.63448815e+03, -7.82394907e+00],\n",
       "       [-1.32255855e+03,  4.48824048e+01],\n",
       "       [-3.72951994e+03,  1.73221825e+01],\n",
       "       [ 5.98503720e+02, -2.33354313e+00],\n",
       "       [-1.73848514e+03, -9.35821978e+00],\n",
       "       [-2.44954299e+03,  2.02785067e+01],\n",
       "       [ 5.55461567e+02,  2.89655175e+01],\n",
       "       [-2.94768501e+01, -1.15111486e+01],\n",
       "       [ 4.88353420e+03, -1.62186500e+01],\n",
       "       [ 5.48493960e+02,  1.04888608e+01],\n",
       "       [-1.68848595e+03, -8.76979095e+00],\n",
       "       [-1.13653140e+03,  2.03929546e+01],\n",
       "       [ 2.73513373e+02, -6.59742646e+00],\n",
       "       [-3.91650933e+03,  4.74976096e+00],\n",
       "       [-1.49348572e+03, -8.79944727e+00],\n",
       "       [ 4.90517621e+02, -8.36965999e+00],\n",
       "       [-3.38253931e+03,  2.99346135e+01],\n",
       "       [-4.24479072e+02, -1.08490779e+01],\n",
       "       [ 4.88152934e+03, -1.40312771e+01],\n",
       "       [ 3.81423740e+02,  5.86157524e+01],\n",
       "       [-2.45545892e+03, -2.98660937e+01],\n",
       "       [-2.53846019e+03, -2.56106497e+01],\n",
       "       [-7.05486559e+01,  3.75135078e+01],\n",
       "       [-3.97476176e+02, -1.60309755e+01],\n",
       "       [-2.48948228e+03, -7.61102765e+00],\n",
       "       [-3.02253862e+03,  2.62378354e+01],\n",
       "       [-1.03151625e+03,  8.77040273e+00],\n",
       "       [-2.60441387e+03, -5.52029313e+01],\n",
       "       [-2.30947757e+03, -1.33379258e+01],\n",
       "       [-1.24248242e+03, -1.00956529e+01],\n",
       "       [-3.25249441e+03,  2.09421799e+00],\n",
       "       [-3.72747989e+03, -1.35700033e+01],\n",
       "       [-1.64751058e+03,  1.05431097e+01],\n",
       "       [ 4.75486810e+02,  1.35568302e+01],\n",
       "       [-2.41949176e+03, -7.25355521e+00],\n",
       "       [ 4.97052242e+03, -6.47416103e+00],\n",
       "       [-1.99517645e+02,  1.87788710e+01],\n",
       "       [ 2.77651027e+03, -2.98586142e+00],\n",
       "       [-3.28448797e+03, -9.44455182e+00],\n",
       "       [ 1.06852682e+03, -1.57664015e+01],\n",
       "       [ 2.10152529e+03, -1.43682359e+01],\n",
       "       [-9.51493545e+02,  3.15809670e+00],\n",
       "       [-1.12949027e+03, -2.42176749e+00],\n",
       "       [ 1.98455355e+03, -3.21490346e+01],\n",
       "       [-3.25546597e+03, -2.40798460e+01],\n",
       "       [ 2.75452000e+03, -1.20241794e+01],\n",
       "       [ 7.09507750e+02,  1.69840299e-01],\n",
       "       [ 5.99539888e+02, -1.94644992e+01],\n",
       "       [ 4.22846777e+03,  2.59406615e+01],\n",
       "       [-9.64481437e+02, -1.03815124e+01],\n",
       "       [ 2.04752037e+03, -8.40857697e+00],\n",
       "       [-1.67548894e+03, -7.50737771e+00],\n",
       "       [-4.84504354e+02,  2.92000628e-01],\n",
       "       [ 1.35851954e+03, -8.50683848e+00],\n",
       "       [ 5.69531419e+02, -1.86027168e+01],\n",
       "       [ 4.02951655e+03, -4.66770956e+00],\n",
       "       [-3.23512826e+02,  1.29627067e+01],\n",
       "       [-1.96746771e+03, -2.18292144e+01],\n",
       "       [-2.41470675e+02, -1.44960358e+01],\n",
       "       [-1.65145628e+03, -2.65315335e+01],\n",
       "       [ 1.31746997e+03,  2.99072224e+01],\n",
       "       [ 3.76490194e+02,  1.19641812e+01],\n",
       "       [-2.54346791e+03, -2.24743346e+01],\n",
       "       [ 4.39154009e+03, -2.05796081e+01],\n",
       "       [ 4.81552571e+03, -1.60496005e+01],\n",
       "       [ 3.34850850e+03, -3.78861024e+00],\n",
       "       [-4.35528949e+02,  2.39788097e+01],\n",
       "       [ 2.82941020e+03,  6.69326828e+01],\n",
       "       [ 3.88499332e+02,  1.90571157e+00],\n",
       "       [ 4.19449140e+03,  6.53848901e+00],\n",
       "       [ 1.78144600e+03,  4.16258098e+01],\n",
       "       [ 2.82552703e+03, -1.06698481e+01],\n",
       "       [ 2.71353268e+03, -1.75745836e+01],\n",
       "       [-3.66145025e+03, -3.58992763e+01],\n",
       "       [ 4.21952585e+03, -8.92448037e+00],\n",
       "       [ 1.41248104e+03,  1.73354360e+01]])"
      ]
     },
     "execution_count": 44,
     "metadata": {},
     "output_type": "execute_result"
    }
   ],
   "source": [
    "# check them out\n",
    "non_standard_components"
   ]
  },
  {
   "cell_type": "code",
   "execution_count": 45,
   "metadata": {},
   "outputs": [],
   "source": [
    "# Turn into pandas df for plotting\n",
    "non_standard_principal_df = pd.DataFrame(data = non_standard_components, columns = ['PCA1', 'PCA2'])"
   ]
  },
  {
   "cell_type": "code",
   "execution_count": 46,
   "metadata": {
    "scrolled": false
   },
   "outputs": [
    {
     "data": {
      "text/html": [
       "<div>\n",
       "<style scoped>\n",
       "    .dataframe tbody tr th:only-of-type {\n",
       "        vertical-align: middle;\n",
       "    }\n",
       "\n",
       "    .dataframe tbody tr th {\n",
       "        vertical-align: top;\n",
       "    }\n",
       "\n",
       "    .dataframe thead th {\n",
       "        text-align: right;\n",
       "    }\n",
       "</style>\n",
       "<table border=\"1\" class=\"dataframe\">\n",
       "  <thead>\n",
       "    <tr style=\"text-align: right;\">\n",
       "      <th></th>\n",
       "      <th>PCA1</th>\n",
       "      <th>PCA2</th>\n",
       "    </tr>\n",
       "  </thead>\n",
       "  <tbody>\n",
       "    <tr>\n",
       "      <th>0</th>\n",
       "      <td>-341.442910</td>\n",
       "      <td>-34.819925</td>\n",
       "    </tr>\n",
       "    <tr>\n",
       "      <th>1</th>\n",
       "      <td>-3115.471334</td>\n",
       "      <td>-17.108227</td>\n",
       "    </tr>\n",
       "    <tr>\n",
       "      <th>2</th>\n",
       "      <td>2834.514464</td>\n",
       "      <td>-4.831663</td>\n",
       "    </tr>\n",
       "    <tr>\n",
       "      <th>3</th>\n",
       "      <td>2767.508828</td>\n",
       "      <td>-2.595478</td>\n",
       "    </tr>\n",
       "    <tr>\n",
       "      <th>4</th>\n",
       "      <td>-42.516604</td>\n",
       "      <td>10.405685</td>\n",
       "    </tr>\n",
       "  </tbody>\n",
       "</table>\n",
       "</div>"
      ],
      "text/plain": [
       "          PCA1       PCA2\n",
       "0  -341.442910 -34.819925\n",
       "1 -3115.471334 -17.108227\n",
       "2  2834.514464  -4.831663\n",
       "3  2767.508828  -2.595478\n",
       "4   -42.516604  10.405685"
      ]
     },
     "execution_count": 46,
     "metadata": {},
     "output_type": "execute_result"
    }
   ],
   "source": [
    "# looks the same as the raw array from before\n",
    "non_standard_principal_df.head()"
   ]
  },
  {
   "cell_type": "code",
   "execution_count": 47,
   "metadata": {},
   "outputs": [],
   "source": [
    "# Create final df with the targets as well\n",
    "final_non_std = pd.concat([non_standard_principal_df, data['cholesterol']], axis = 1)"
   ]
  },
  {
   "cell_type": "code",
   "execution_count": 48,
   "metadata": {},
   "outputs": [
    {
     "data": {
      "text/html": [
       "<div>\n",
       "<style scoped>\n",
       "    .dataframe tbody tr th:only-of-type {\n",
       "        vertical-align: middle;\n",
       "    }\n",
       "\n",
       "    .dataframe tbody tr th {\n",
       "        vertical-align: top;\n",
       "    }\n",
       "\n",
       "    .dataframe thead th {\n",
       "        text-align: right;\n",
       "    }\n",
       "</style>\n",
       "<table border=\"1\" class=\"dataframe\">\n",
       "  <thead>\n",
       "    <tr style=\"text-align: right;\">\n",
       "      <th></th>\n",
       "      <th>PCA1</th>\n",
       "      <th>PCA2</th>\n",
       "      <th>cholesterol</th>\n",
       "    </tr>\n",
       "  </thead>\n",
       "  <tbody>\n",
       "    <tr>\n",
       "      <th>0</th>\n",
       "      <td>-341.442910</td>\n",
       "      <td>-34.819925</td>\n",
       "      <td>elevated</td>\n",
       "    </tr>\n",
       "    <tr>\n",
       "      <th>1</th>\n",
       "      <td>-3115.471334</td>\n",
       "      <td>-17.108227</td>\n",
       "      <td>normal</td>\n",
       "    </tr>\n",
       "    <tr>\n",
       "      <th>2</th>\n",
       "      <td>2834.514464</td>\n",
       "      <td>-4.831663</td>\n",
       "      <td>normal</td>\n",
       "    </tr>\n",
       "    <tr>\n",
       "      <th>3</th>\n",
       "      <td>2767.508828</td>\n",
       "      <td>-2.595478</td>\n",
       "      <td>normal</td>\n",
       "    </tr>\n",
       "    <tr>\n",
       "      <th>4</th>\n",
       "      <td>-42.516604</td>\n",
       "      <td>10.405685</td>\n",
       "      <td>elevated</td>\n",
       "    </tr>\n",
       "  </tbody>\n",
       "</table>\n",
       "</div>"
      ],
      "text/plain": [
       "          PCA1       PCA2 cholesterol\n",
       "0  -341.442910 -34.819925    elevated\n",
       "1 -3115.471334 -17.108227      normal\n",
       "2  2834.514464  -4.831663      normal\n",
       "3  2767.508828  -2.595478      normal\n",
       "4   -42.516604  10.405685    elevated"
      ]
     },
     "execution_count": 48,
     "metadata": {},
     "output_type": "execute_result"
    }
   ],
   "source": [
    "final_non_std.head()"
   ]
  },
  {
   "cell_type": "markdown",
   "metadata": {},
   "source": [
    "with z-score standardization"
   ]
  },
  {
   "cell_type": "code",
   "execution_count": 49,
   "metadata": {},
   "outputs": [],
   "source": [
    "# use this to calculate z-score\n",
    "import scipy.stats as stats"
   ]
  },
  {
   "cell_type": "code",
   "execution_count": 50,
   "metadata": {},
   "outputs": [],
   "source": [
    "# standardize data with z-score. use copy() so we don't mess with og data\n",
    "zscores_df = data[numeric_features].select_dtypes(include = 'number').apply(stats.zscore).copy()"
   ]
  },
  {
   "cell_type": "code",
   "execution_count": 51,
   "metadata": {
    "scrolled": true
   },
   "outputs": [
    {
     "data": {
      "text/html": [
       "<div>\n",
       "<style scoped>\n",
       "    .dataframe tbody tr th:only-of-type {\n",
       "        vertical-align: middle;\n",
       "    }\n",
       "\n",
       "    .dataframe tbody tr th {\n",
       "        vertical-align: top;\n",
       "    }\n",
       "\n",
       "    .dataframe thead th {\n",
       "        text-align: right;\n",
       "    }\n",
       "</style>\n",
       "<table border=\"1\" class=\"dataframe\">\n",
       "  <thead>\n",
       "    <tr style=\"text-align: right;\">\n",
       "      <th></th>\n",
       "      <th>age</th>\n",
       "      <th>height</th>\n",
       "      <th>weight</th>\n",
       "      <th>ap_hi</th>\n",
       "      <th>ap_lo</th>\n",
       "    </tr>\n",
       "  </thead>\n",
       "  <tbody>\n",
       "    <tr>\n",
       "      <th>0</th>\n",
       "      <td>0.140926</td>\n",
       "      <td>-0.423185</td>\n",
       "      <td>-1.296193</td>\n",
       "      <td>-1.480325</td>\n",
       "      <td>-1.392016</td>\n",
       "    </tr>\n",
       "    <tr>\n",
       "      <th>1</th>\n",
       "      <td>1.285684</td>\n",
       "      <td>1.838449</td>\n",
       "      <td>-0.404407</td>\n",
       "      <td>-0.449822</td>\n",
       "      <td>-1.190484</td>\n",
       "    </tr>\n",
       "    <tr>\n",
       "      <th>2</th>\n",
       "      <td>-1.169727</td>\n",
       "      <td>0.641113</td>\n",
       "      <td>-0.335808</td>\n",
       "      <td>-0.449822</td>\n",
       "      <td>-0.182819</td>\n",
       "    </tr>\n",
       "    <tr>\n",
       "      <th>3</th>\n",
       "      <td>-1.142077</td>\n",
       "      <td>-1.088372</td>\n",
       "      <td>0.212983</td>\n",
       "      <td>-0.449822</td>\n",
       "      <td>-0.182819</td>\n",
       "    </tr>\n",
       "    <tr>\n",
       "      <th>4</th>\n",
       "      <td>0.017537</td>\n",
       "      <td>0.774151</td>\n",
       "      <td>1.653560</td>\n",
       "      <td>0.122679</td>\n",
       "      <td>-0.182819</td>\n",
       "    </tr>\n",
       "  </tbody>\n",
       "</table>\n",
       "</div>"
      ],
      "text/plain": [
       "        age    height    weight     ap_hi     ap_lo\n",
       "0  0.140926 -0.423185 -1.296193 -1.480325 -1.392016\n",
       "1  1.285684  1.838449 -0.404407 -0.449822 -1.190484\n",
       "2 -1.169727  0.641113 -0.335808 -0.449822 -0.182819\n",
       "3 -1.142077 -1.088372  0.212983 -0.449822 -0.182819\n",
       "4  0.017537  0.774151  1.653560  0.122679 -0.182819"
      ]
     },
     "execution_count": 51,
     "metadata": {},
     "output_type": "execute_result"
    }
   ],
   "source": [
    "# LGTM(?)\n",
    "zscores_df.head()"
   ]
  },
  {
   "cell_type": "code",
   "execution_count": 52,
   "metadata": {},
   "outputs": [],
   "source": [
    "standard_pca = PCA(n_components = 2)"
   ]
  },
  {
   "cell_type": "code",
   "execution_count": 53,
   "metadata": {},
   "outputs": [],
   "source": [
    "standard_components = standard_pca.fit_transform(zscores_df.values)"
   ]
  },
  {
   "cell_type": "code",
   "execution_count": 54,
   "metadata": {},
   "outputs": [],
   "source": [
    "standard_principal_df = pd.DataFrame(data = standard_components, columns = ['PCA1', 'PCA2'])"
   ]
  },
  {
   "cell_type": "code",
   "execution_count": 55,
   "metadata": {},
   "outputs": [],
   "source": [
    "final_std = pd.concat([standard_principal_df, data['cholesterol']], axis = 1)"
   ]
  },
  {
   "cell_type": "code",
   "execution_count": 56,
   "metadata": {},
   "outputs": [
    {
     "data": {
      "text/html": [
       "<div>\n",
       "<style scoped>\n",
       "    .dataframe tbody tr th:only-of-type {\n",
       "        vertical-align: middle;\n",
       "    }\n",
       "\n",
       "    .dataframe tbody tr th {\n",
       "        vertical-align: top;\n",
       "    }\n",
       "\n",
       "    .dataframe thead th {\n",
       "        text-align: right;\n",
       "    }\n",
       "</style>\n",
       "<table border=\"1\" class=\"dataframe\">\n",
       "  <thead>\n",
       "    <tr style=\"text-align: right;\">\n",
       "      <th></th>\n",
       "      <th>PCA1</th>\n",
       "      <th>PCA2</th>\n",
       "      <th>cholesterol</th>\n",
       "    </tr>\n",
       "  </thead>\n",
       "  <tbody>\n",
       "    <tr>\n",
       "      <th>0</th>\n",
       "      <td>-2.295030</td>\n",
       "      <td>-0.221627</td>\n",
       "      <td>elevated</td>\n",
       "    </tr>\n",
       "    <tr>\n",
       "      <th>1</th>\n",
       "      <td>-0.500399</td>\n",
       "      <td>1.658088</td>\n",
       "      <td>normal</td>\n",
       "    </tr>\n",
       "    <tr>\n",
       "      <th>2</th>\n",
       "      <td>-0.724038</td>\n",
       "      <td>0.437488</td>\n",
       "      <td>normal</td>\n",
       "    </tr>\n",
       "    <tr>\n",
       "      <th>3</th>\n",
       "      <td>-0.797025</td>\n",
       "      <td>-0.552528</td>\n",
       "      <td>normal</td>\n",
       "    </tr>\n",
       "    <tr>\n",
       "      <th>4</th>\n",
       "      <td>0.738079</td>\n",
       "      <td>1.497078</td>\n",
       "      <td>elevated</td>\n",
       "    </tr>\n",
       "    <tr>\n",
       "      <th>...</th>\n",
       "      <td>...</td>\n",
       "      <td>...</td>\n",
       "      <td>...</td>\n",
       "    </tr>\n",
       "    <tr>\n",
       "      <th>205</th>\n",
       "      <td>-1.339295</td>\n",
       "      <td>-1.168248</td>\n",
       "      <td>normal</td>\n",
       "    </tr>\n",
       "    <tr>\n",
       "      <th>206</th>\n",
       "      <td>-1.678774</td>\n",
       "      <td>0.955716</td>\n",
       "      <td>normal</td>\n",
       "    </tr>\n",
       "    <tr>\n",
       "      <th>207</th>\n",
       "      <td>-1.968996</td>\n",
       "      <td>0.542201</td>\n",
       "      <td>normal</td>\n",
       "    </tr>\n",
       "    <tr>\n",
       "      <th>208</th>\n",
       "      <td>-1.604801</td>\n",
       "      <td>-1.673384</td>\n",
       "      <td>normal</td>\n",
       "    </tr>\n",
       "    <tr>\n",
       "      <th>209</th>\n",
       "      <td>1.058973</td>\n",
       "      <td>0.489478</td>\n",
       "      <td>normal</td>\n",
       "    </tr>\n",
       "  </tbody>\n",
       "</table>\n",
       "<p>210 rows × 3 columns</p>\n",
       "</div>"
      ],
      "text/plain": [
       "         PCA1      PCA2 cholesterol\n",
       "0   -2.295030 -0.221627    elevated\n",
       "1   -0.500399  1.658088      normal\n",
       "2   -0.724038  0.437488      normal\n",
       "3   -0.797025 -0.552528      normal\n",
       "4    0.738079  1.497078    elevated\n",
       "..        ...       ...         ...\n",
       "205 -1.339295 -1.168248      normal\n",
       "206 -1.678774  0.955716      normal\n",
       "207 -1.968996  0.542201      normal\n",
       "208 -1.604801 -1.673384      normal\n",
       "209  1.058973  0.489478      normal\n",
       "\n",
       "[210 rows x 3 columns]"
      ]
     },
     "execution_count": 56,
     "metadata": {},
     "output_type": "execute_result"
    }
   ],
   "source": [
    "# final sexually transmitted disease lol\n",
    "final_std"
   ]
  },
  {
   "cell_type": "markdown",
   "metadata": {},
   "source": [
    "-------------\n",
    "\n",
    "\n",
    "**7 c) Plot the data, projected on to the PCA space as a scatterplot, the x-axis being one component and y the other. **Add the total explained variance to your plot as an annotation**. See the documentation of the pca method on how to get the explained variance.\n",
    "\n",
    "- _Tip: It may be easier to try the seaborn scatterplot for this one. For help see documentation on how to do annotation see tutorial. The total explained variance is the sum of both the components explained variance_.\n",
    "\n",
    "- _Tip2_: Depending on how you approach annotating the plot, you might have to cast the feature name to be a string. One nice way to format values in python is the f - formatting string, which allows you to insert expressions inside strings (see example below):\n",
    "\n",
    "\n",
    "\n",
    "------\n",
    "name = Valtteri<br>\n",
    "print(f\"hello_{name}\")\n",
    "\n",
    "---------\n",
    "You can also set the number of wanted decimals for floats<br>\n",
    "For example f'{float_variable:.2f}' would result in 2 decimals making it to the string created\n",
    "\n",
    "----------"
   ]
  },
  {
   "cell_type": "code",
   "execution_count": 57,
   "metadata": {
    "scrolled": false
   },
   "outputs": [
    {
     "data": {
      "image/png": "[encoded data removed]",
      "text/plain": [
       "<Figure size 576x576 with 1 Axes>"
      ]
     },
     "metadata": {
      "needs_background": "light"
     },
     "output_type": "display_data"
    }
   ],
   "source": [
    "fig = plt.figure(figsize = (8,8))\n",
    "ax = fig.add_subplot(1,1,1) \n",
    "ax.set_xlabel('Principal Component 1', fontsize = 15)\n",
    "ax.set_ylabel('Principal Component 2', fontsize = 15)\n",
    "ax.set_title('2 Component PCA for standardized data', fontsize = 20)\n",
    "\n",
    "\n",
    "targets = data.cholesterol.unique()\n",
    "colors = ['r', 'g', 'b']\n",
    "for target, color in zip(targets,colors):\n",
    "    indicesToKeep = final_std['cholesterol'] == target\n",
    "    ax.scatter(final_std.loc[indicesToKeep, 'PCA1'],\n",
    "                final_std.loc[indicesToKeep, 'PCA2'],\n",
    "                c = color,\n",
    "                s = 50)\n",
    "standard_pca_variance = sum(standard_pca.explained_variance_)\n",
    "\n",
    "\n",
    "plt.annotate(f\"Standardized total explained variance: {standard_pca_variance:.2f}\", xycoords = 'axes fraction', xy = (0,1.1))\n",
    "ax.legend(targets)\n",
    "ax.grid()"
   ]
  },
  {
   "cell_type": "markdown",
   "metadata": {},
   "source": [
    "##### I might've screwed up somewhere since neither of the PCA's are showing any clustering whatsoever. "
   ]
  },
  {
   "cell_type": "code",
   "execution_count": 58,
   "metadata": {},
   "outputs": [
    {
     "data": {
      "image/png": "[encoded data removed]",
      "text/plain": [
       "<Figure size 576x576 with 1 Axes>"
      ]
     },
     "metadata": {
      "needs_background": "light"
     },
     "output_type": "display_data"
    }
   ],
   "source": [
    "fig = plt.figure(figsize = (8,8))\n",
    "ax = fig.add_subplot(1,1,1) \n",
    "ax.set_xlabel('Principal Component 1', fontsize = 15)\n",
    "ax.set_ylabel('Principal Component 2', fontsize = 15)\n",
    "ax.set_title('2 Component PCA for non-standardized data', fontsize = 20)\n",
    "\n",
    "\n",
    "targets = data.cholesterol.unique()\n",
    "colors = ['r', 'g', 'b']\n",
    "for target, color in zip(targets,colors):\n",
    "    indicesToKeep = final_non_std['cholesterol'] == target\n",
    "    ax.scatter(final_non_std.loc[indicesToKeep, 'PCA1'],\n",
    "                final_non_std.loc[indicesToKeep, 'PCA2'],\n",
    "                c = color,\n",
    "                s = 50)\n",
    "non_standard_pca_variance = sum(non_standard_pca.explained_variance_)\n",
    "\n",
    "\n",
    "plt.annotate(f\"non-standardized total explained variance: {non_standard_pca_variance:.2f}\", xycoords = 'axes fraction', xy = (0,1.1))\n",
    "ax.legend(targets)\n",
    "ax.grid()"
   ]
  },
  {
   "cell_type": "markdown",
   "metadata": {},
   "source": [
    " \n",
    "\n",
    "**7 d) Gather information for the next part of the exercise and print out the following things:**\n",
    "- First, the standard deviation of the original data features (not standardized, and with the numeric features only).\n",
    "- Second, the standard deviation of the standardized numeric features "
   ]
  },
  {
   "cell_type": "code",
   "execution_count": 59,
   "metadata": {},
   "outputs": [
    {
     "name": "stdout",
     "output_type": "stream",
     "text": [
      "+++++++++ Standard deviations of numeric features, original data +++++++++\n",
      "age       2429.010199\n",
      "height       7.534648\n",
      "weight      14.612326\n",
      "ap_hi       17.508947\n",
      "ap_lo        9.947652\n",
      "dtype: float64\n",
      "+++++++++ Standard deviations of numeric features, standardized data +++++++++\n",
      "age       1.002389\n",
      "height    1.002389\n",
      "weight    1.002389\n",
      "ap_hi     1.002389\n",
      "ap_lo     1.002389\n",
      "dtype: float64\n"
     ]
    }
   ],
   "source": [
    "# --- Your code for 7d) here --- #\n",
    "\n",
    "print( \"+++\"*3, \"Standard deviations of numeric features, original data\", \"+++\" * 3)  \n",
    "print(f\"{data[numeric_features].std()}\")\n",
    "\n",
    "print( \"+++\"*3, \"Standard deviations of numeric features, standardized data\", \"+++\" * 3)  \n",
    "print(f\"{zscores_df[numeric_features].std()}\")"
   ]
  },
  {
   "cell_type": "markdown",
   "metadata": {
    "id": "4mco9ZWp3BPv"
   },
   "source": [
    "----------\n",
    "**7 e) Look at the output above and the explained variance information you added as annotations to the plots. Try to think about the following questions and give a short answer of what you think has happened:** \n",
    "\n",
    "1. Where do you think the difference between the amounts of explained variance might come from? \n",
    "\n",
    "2. Can you say something about why it is important to scale the features for PCA by looking at the evidence youve gathered?\n",
    "\n",
    "__Answer in your own words, here it is not important to get the perfect answer but to try to think and figure out what has happened__\n",
    "\n",
    "------------"
   ]
  },
  {
   "cell_type": "markdown",
   "metadata": {},
   "source": [
    "1. Explained variance is a statistical measure of how much variation in a dataset can be attributed to each of the principal components (eigenvectors) generated by the principal component analysis (PCA) method. In very basic terms, it refers to the amount of variability in a data set that can be attributed to each individual principal component. So when the values aren't standardized and are just plain large, the variation is also large. The total variance is the sum of variances of all individual principal components so large + large = very large :D. \n",
    "\n",
    "2. In PCA we are interested in the components that maximize the variance. If one component (e.g. human height) varies less than another (e.g. weight) because of their respective scales (meters vs. kilos), PCA might determine that the direction of maximal variance more closely corresponds with the ‘weight’ axis, if those features are not scaled. As a change in height of one meter can be considered much more important than the change in weight of one kilogram, this is clearly incorrect.\n"
   ]
  },
  {
   "cell_type": "markdown",
   "metadata": {},
   "source": [
    "------------------\n",
    "\n",
    "## <font color = dollargreen > 8. Bonus: t-SNE and high dimensional data </font> "
   ]
  },
  {
   "cell_type": "markdown",
   "metadata": {},
   "source": [
    "Another method that can be used to plot high-dimensional data introduced in the lectures was t-distributed Stochastic Neighbor Embedding (t-SNE)."
   ]
  },
  {
   "cell_type": "markdown",
   "metadata": {},
   "source": [
    "***8 a)*** Shortly explain t-SNE **in your own words**. "
   ]
  },
  {
   "cell_type": "markdown",
   "metadata": {},
   "source": [
    "<font color = red> Basically same as PCA, but it just plots them into 1-D plane, instead of 2-D. It finds a way to project data in to a low dimensional space -- 1 dimensional -- so that the clustering in the high dimensional space is preserved.</font>"
   ]
  },
  {
   "cell_type": "markdown",
   "metadata": {},
   "source": [
    "***8 b)*** Run t-SNE for both standardized and non standardized data (as you did with PCA)."
   ]
  },
  {
   "cell_type": "code",
   "execution_count": 60,
   "metadata": {},
   "outputs": [],
   "source": [
    "# TSNE was showing some annoying deprecation warnings so get rid of them\n",
    "import warnings\n",
    "warnings.filterwarnings('ignore')\n",
    "# --- Code for 8 c) --- #\n",
    "tsne = TSNE()\n",
    "\n",
    "# create standardized and non-standardized tsne's\n",
    "tsne_std = tsne.fit_transform(zscores_df)\n",
    "tsne_non_std = tsne.fit_transform(data[numeric_features])"
   ]
  },
  {
   "cell_type": "code",
   "execution_count": 61,
   "metadata": {
    "scrolled": true
   },
   "outputs": [
    {
     "data": {
      "text/plain": [
       "array([[ -2.6287231 ,  -8.598189  ],\n",
       "       [  3.451518  ,   2.9012165 ],\n",
       "       [  7.7773757 ,  -2.7825515 ],\n",
       "       [  9.099877  , -10.162029  ],\n",
       "       [  4.2591114 ,   6.7224364 ],\n",
       "       [ -5.742027  ,  10.5232725 ],\n",
       "       [ -1.9136647 ,  -1.802002  ],\n",
       "       [  0.22858807, -11.567415  ],\n",
       "       [  7.475126  ,  -4.9013643 ],\n",
       "       [  9.58592   ,  -6.161535  ],\n",
       "       [  5.301087  ,   7.4074693 ],\n",
       "       [  0.7873735 ,  -4.276267  ],\n",
       "       [  6.3363724 ,  -9.375895  ],\n",
       "       [-10.138755  ,  11.956297  ],\n",
       "       [  4.645741  ,   6.0808077 ],\n",
       "       [ -1.5867246 ,  -9.452962  ],\n",
       "       [ -0.68272185,  -3.0469398 ],\n",
       "       [ 10.706948  , -10.008359  ],\n",
       "       [ -4.644453  ,  -9.004615  ],\n",
       "       [  1.6574271 ,  -0.7692897 ],\n",
       "       [  9.460174  ,  -7.429062  ],\n",
       "       [  7.418604  ,  -1.0914302 ],\n",
       "       [  5.359379  ,  -8.840588  ],\n",
       "       [ -3.883855  ,   4.89432   ],\n",
       "       [  7.9699306 ,  -6.5337076 ],\n",
       "       [ -2.8455174 ,   2.8480115 ],\n",
       "       [  7.9463544 ,   0.07901213],\n",
       "       [ -5.618313  ,  12.570587  ],\n",
       "       [ -9.601363  ,   4.942649  ],\n",
       "       [  5.1827    ,  -0.5265783 ],\n",
       "       [ -6.786059  ,  10.387696  ],\n",
       "       [ -2.2607448 ,  -8.790386  ],\n",
       "       [  7.597937  , -10.512673  ],\n",
       "       [ -8.6349945 ,  10.913182  ],\n",
       "       [ -3.095972  ,  -1.6154846 ],\n",
       "       [  7.71688   ,   1.3600459 ],\n",
       "       [  5.295064  ,   1.9240859 ],\n",
       "       [  1.6629127 ,   2.1338458 ],\n",
       "       [ -0.5815964 ,   6.446177  ],\n",
       "       [  2.0921612 ,   5.484696  ],\n",
       "       [  6.767163  ,  -2.5297692 ],\n",
       "       [ -0.93048203,   4.534711  ],\n",
       "       [ -3.4181304 ,  12.0372715 ],\n",
       "       [  2.1809592 ,  -5.800088  ],\n",
       "       [ 10.103919  ,  -3.0156522 ],\n",
       "       [  1.062918  ,   8.504317  ],\n",
       "       [  1.7586496 ,  -3.7972572 ],\n",
       "       [  0.56882215,  -5.9967046 ],\n",
       "       [  6.6181617 ,  -8.545068  ],\n",
       "       [ -2.6618452 ,   9.315181  ],\n",
       "       [ -3.0996804 ,   7.8527884 ],\n",
       "       [ 11.182838  ,  -2.2198331 ],\n",
       "       [ -0.37286317,  12.06872   ],\n",
       "       [ -8.833     ,  13.287618  ],\n",
       "       [  4.2834654 ,  -8.485086  ],\n",
       "       [  4.2994075 ,   8.331053  ],\n",
       "       [  5.3428645 ,  -3.0824869 ],\n",
       "       [  7.4729276 ,  -6.85417   ],\n",
       "       [ -5.5623183 ,   6.1136756 ],\n",
       "       [  6.4992476 ,  -6.763751  ],\n",
       "       [ -2.451641  ,   1.8523523 ],\n",
       "       [ -1.5566906 ,  -3.4567893 ],\n",
       "       [  0.08373193,  -6.7643075 ],\n",
       "       [ -4.2294345 ,  -9.445841  ],\n",
       "       [  2.8918593 ,   8.616191  ],\n",
       "       [ -3.502019  ,   5.572294  ],\n",
       "       [ -6.9082127 ,   7.116532  ],\n",
       "       [  1.8391623 ,   2.9441612 ],\n",
       "       [  9.403328  ,   0.33379126],\n",
       "       [ -5.3505926 ,   1.5200628 ],\n",
       "       [ 10.431671  ,  -7.081274  ],\n",
       "       [ -5.1550736 ,  -0.06538957],\n",
       "       [ -3.6583908 ,   8.196296  ],\n",
       "       [  2.9038658 ,   8.885651  ],\n",
       "       [ -8.154401  ,   9.157355  ],\n",
       "       [  2.183233  ,  -2.533593  ],\n",
       "       [  5.4243493 ,  -6.6344943 ],\n",
       "       [ -2.7794466 ,  -2.0021162 ],\n",
       "       [  1.5867857 ,   0.8207906 ],\n",
       "       [  3.9249456 ,  -5.904727  ],\n",
       "       [ -1.3331623 ,  -3.024864  ],\n",
       "       [ -7.7973423 ,   8.020019  ],\n",
       "       [  4.290462  ,   5.5484753 ],\n",
       "       [  0.91257316,  -8.533156  ],\n",
       "       [ -6.5612464 ,   9.27142   ],\n",
       "       [ -2.3959155 ,  -0.9024392 ],\n",
       "       [ -0.44116873,   5.230743  ],\n",
       "       [ -3.6890006 ,  -9.791769  ],\n",
       "       [ -0.30848855,  -1.9588741 ],\n",
       "       [  0.33878696,   0.1783199 ],\n",
       "       [ -0.5097164 ,   8.744378  ],\n",
       "       [  3.0809524 ,   2.032722  ],\n",
       "       [ -9.981505  ,   6.533018  ],\n",
       "       [ -9.419268  ,   7.621176  ],\n",
       "       [ -4.5926237 ,  -0.9934349 ],\n",
       "       [ -6.9850626 ,  -0.44421414],\n",
       "       [ -3.882227  ,   2.4589195 ],\n",
       "       [  1.3766093 ,  -7.068046  ],\n",
       "       [ -8.000948  ,   1.5619562 ],\n",
       "       [ -3.1890545 ,   5.211816  ],\n",
       "       [ -8.9454565 ,   2.709844  ],\n",
       "       [  0.32848287,   4.1468344 ],\n",
       "       [  1.6593764 ,  -9.374167  ],\n",
       "       [  5.53365   ,   1.4978786 ],\n",
       "       [  7.5396013 ,  -7.5894527 ],\n",
       "       [ -6.4820323 ,   5.2734375 ],\n",
       "       [  6.5996685 ,   7.3117867 ],\n",
       "       [  4.876881  ,   8.99212   ],\n",
       "       [  8.930649  ,  -8.319335  ],\n",
       "       [ 10.53864   ,  -3.4100487 ],\n",
       "       [  8.218061  ,  -5.8247123 ],\n",
       "       [ -2.984609  ,   2.0491073 ],\n",
       "       [ -9.846201  ,  10.189183  ],\n",
       "       [  6.4160976 ,   5.6890945 ],\n",
       "       [ 11.743073  ,  -6.857037  ],\n",
       "       [  7.4700823 ,   4.9113054 ],\n",
       "       [ -2.9367304 ,  10.073503  ],\n",
       "       [  0.52650684,  -6.3936696 ],\n",
       "       [ -0.66423017,   0.33636257],\n",
       "       [ -7.3015265 ,  11.6968    ],\n",
       "       [-10.567137  ,  11.233435  ],\n",
       "       [ 10.859239  ,  -2.3017976 ],\n",
       "       [  1.2865602 ,  -4.7472076 ],\n",
       "       [ -6.5704355 ,   9.313437  ],\n",
       "       [ -6.143671  ,   7.9418554 ],\n",
       "       [  4.5012603 ,  -0.36144826],\n",
       "       [  5.5612125 ,  -2.5494297 ],\n",
       "       [  0.84505355,  -3.365309  ],\n",
       "       [ -1.4310647 ,   0.04572582],\n",
       "       [ -4.1232424 , -10.458648  ],\n",
       "       [ -0.11456252,   1.5198706 ],\n",
       "       [ -2.9126632 ,   7.291746  ],\n",
       "       [  3.6134434 ,   6.281163  ],\n",
       "       [ -6.230148  ,   0.68029994],\n",
       "       [  0.573853  ,   1.6405436 ],\n",
       "       [ -7.8032613 ,  10.840038  ],\n",
       "       [ -6.8659205 ,   8.276009  ],\n",
       "       [ -8.229403  ,   0.3578172 ],\n",
       "       [ -0.56452274,  -0.7472495 ],\n",
       "       [ -9.252813  ,   3.5454094 ],\n",
       "       [ -9.433872  ,   7.2783804 ],\n",
       "       [  1.9339089 ,  -4.784242  ],\n",
       "       [  6.869523  , -10.744968  ],\n",
       "       [ -3.1440604 ,  10.867953  ],\n",
       "       [  2.310243  ,   2.0747566 ],\n",
       "       [ -6.957253  ,   5.287986  ],\n",
       "       [  3.8595753 ,   1.175053  ],\n",
       "       [ -6.5344715 ,   2.787819  ],\n",
       "       [  0.5270504 ,   0.8779206 ],\n",
       "       [  4.202331  ,   0.15666857],\n",
       "       [ -5.957144  ,   9.275427  ],\n",
       "       [  1.4233807 ,  -3.5120997 ],\n",
       "       [ 10.504824  ,  -4.186917  ],\n",
       "       [ -7.883978  ,  12.041287  ],\n",
       "       [ -3.1800556 ,  -5.244276  ],\n",
       "       [ -2.5998776 ,  -5.104897  ],\n",
       "       [ -8.576761  ,   9.750035  ],\n",
       "       [  2.197634  ,   0.7972863 ],\n",
       "       [ -0.9411879 ,  -7.083622  ],\n",
       "       [ -7.5555124 ,   7.076195  ],\n",
       "       [  6.0276117 ,   6.8792524 ],\n",
       "       [ -3.6431675 ,  -8.126825  ],\n",
       "       [ -2.0155253 ,  -3.2024062 ],\n",
       "       [  0.23145096,  -1.2049202 ],\n",
       "       [-11.830488  ,   8.042358  ],\n",
       "       [ -2.1829598 ,  -0.02450283],\n",
       "       [ -4.991292  ,   7.011794  ],\n",
       "       [ -3.8819668 ,  11.15528   ],\n",
       "       [ -7.1834784 ,   1.396846  ],\n",
       "       [  8.136975  ,  -6.0030727 ],\n",
       "       [-11.037691  ,   9.265355  ],\n",
       "       [  7.8393283 ,  -1.8799733 ],\n",
       "       [ -1.4953183 ,   1.5252292 ],\n",
       "       [  2.7411714 ,  -8.99477   ],\n",
       "       [  7.129044  ,  -3.1526706 ],\n",
       "       [  2.6341584 ,  -1.5549605 ],\n",
       "       [  1.9850497 ,  -0.48911992],\n",
       "       [ 11.850946  ,  -5.1808376 ],\n",
       "       [ -5.137958  ,  -5.9360833 ],\n",
       "       [ 10.849303  ,  -9.945441  ],\n",
       "       [  4.7381787 ,  -1.1517789 ],\n",
       "       [ -3.4419672 , -10.204002  ],\n",
       "       [  1.1500217 ,   8.783306  ],\n",
       "       [ -0.4005753 ,  -5.0205684 ],\n",
       "       [  5.065394  ,  -8.251528  ],\n",
       "       [  0.32767063,   1.9648507 ],\n",
       "       [ -7.9476223 ,   0.86724555],\n",
       "       [  5.848196  ,  -2.6992483 ],\n",
       "       [  3.4320571 ,  -4.540226  ],\n",
       "       [  8.336958  ,  -4.628031  ],\n",
       "       [ -1.4139996 ,   7.6939273 ],\n",
       "       [  4.92693   ,   2.7378519 ],\n",
       "       [  1.5479505 ,  -5.727496  ],\n",
       "       [ -0.46258152,  -8.042012  ],\n",
       "       [ -3.8783345 ,  10.115522  ],\n",
       "       [ -3.5591629 ,  11.16638   ],\n",
       "       [ -5.0555897 ,  -5.854329  ],\n",
       "       [ 11.011946  ,  -6.1129613 ],\n",
       "       [ 11.007929  ,  -8.331807  ],\n",
       "       [  9.994211  ,  -9.662134  ],\n",
       "       [ -4.6815605 ,   8.542462  ],\n",
       "       [ -7.7109685 ,  13.079055  ],\n",
       "       [  1.389237  ,   4.4328656 ],\n",
       "       [ 10.161576  , -11.149107  ],\n",
       "       [ -9.184349  ,   9.106722  ],\n",
       "       [  6.256867  ,  -8.2079735 ],\n",
       "       [ 10.971592  ,  -3.4381588 ],\n",
       "       [ -5.369802  ,  -6.697339  ],\n",
       "       [  7.0066814 ,  -9.163176  ],\n",
       "       [ -0.47584784,   8.286368  ]], dtype=float32)"
      ]
     },
     "metadata": {},
     "output_type": "display_data"
    },
    {
     "data": {
      "text/plain": [
       "array([[  1.1388272 ,   1.202341  ],\n",
       "       [ 14.248462  , -11.61774   ],\n",
       "       [-12.040826  ,  11.568362  ],\n",
       "       [-11.752773  ,  11.507263  ],\n",
       "       [ -0.3681328 ,   1.8654977 ],\n",
       "       [  1.1004049 ,   0.4718019 ],\n",
       "       [ 13.633493  , -10.953053  ],\n",
       "       [  5.695976  ,  -2.6246054 ],\n",
       "       [-14.509036  ,  13.911129  ],\n",
       "       [-13.28316   ,  12.868955  ],\n",
       "       [ 11.500512  ,  -8.486814  ],\n",
       "       [  4.8246946 ,  -2.16442   ],\n",
       "       [-12.658559  ,  12.257215  ],\n",
       "       [  8.929456  ,  -5.827878  ],\n",
       "       [  5.5011444 ,  -3.0039487 ],\n",
       "       [ -5.999253  ,   6.1678667 ],\n",
       "       [ 11.295971  ,  -8.271541  ],\n",
       "       [-13.133144  ,  12.734612  ],\n",
       "       [ 11.717378  ,  -8.751452  ],\n",
       "       [  9.062929  ,  -5.991614  ],\n",
       "       [-14.156477  ,  13.79019   ],\n",
       "       [ -9.735211  ,   9.421762  ],\n",
       "       [ -9.511604  ,   9.25005   ],\n",
       "       [ 14.521564  , -12.184091  ],\n",
       "       [-14.187065  ,  13.820218  ],\n",
       "       [ 14.4118185 , -12.14431   ],\n",
       "       [-11.543538  ,  11.129395  ],\n",
       "       [  5.616331  ,  -2.545144  ],\n",
       "       [ -8.093643  ,   7.9322968 ],\n",
       "       [ -7.8924246 ,   7.7565494 ],\n",
       "       [  5.342881  ,  -2.8416486 ],\n",
       "       [  0.4362936 ,   0.95621896],\n",
       "       [-15.176285  ,  14.63151   ],\n",
       "       [  7.7746205 ,  -4.758429  ],\n",
       "       [ 15.740761  , -13.259543  ],\n",
       "       [ -9.800602  ,   9.461346  ],\n",
       "       [  4.587205  ,  -1.9927408 ],\n",
       "       [  8.878621  ,  -5.5687084 ],\n",
       "       [-11.35718   ,  10.937934  ],\n",
       "       [ -9.660192  ,   9.264719  ],\n",
       "       [ -9.789901  ,   9.457139  ],\n",
       "       [  5.9582453 ,  -3.1309009 ],\n",
       "       [  0.48019683,   0.86060196],\n",
       "       [ -5.0464563 ,   5.144381  ],\n",
       "       [-13.243621  ,  12.82995   ],\n",
       "       [-11.726251  ,  11.48796   ],\n",
       "       [  0.90636814,   0.576643  ],\n",
       "       [  1.7116082 ,   0.35188287],\n",
       "       [-12.813616  ,  12.414274  ],\n",
       "       [ -9.425226  ,   9.124215  ],\n",
       "       [ -8.027811  ,   7.876134  ],\n",
       "       [-10.119911  ,   9.766335  ],\n",
       "       [ 14.489184  , -12.16782   ],\n",
       "       [-13.376287  ,  12.967658  ],\n",
       "       [ -8.454249  ,   8.252419  ],\n",
       "       [ -0.5191492 ,   1.973639  ],\n",
       "       [ -8.3961115 ,   8.200858  ],\n",
       "       [-12.857593  ,  12.443206  ],\n",
       "       [  8.773446  ,  -5.375916  ],\n",
       "       [-14.712872  ,  14.609785  ],\n",
       "       [ 14.2054615 , -11.870511  ],\n",
       "       [ 12.625575  ,  -9.464708  ],\n",
       "       [  5.199893  ,  -2.4622889 ],\n",
       "       [  6.74588   ,  -3.8302581 ],\n",
       "       [ -4.876619  ,   5.4629164 ],\n",
       "       [ 12.261447  ,  -8.980949  ],\n",
       "       [ 11.858452  ,  -8.779192  ],\n",
       "       [  0.74682105,   0.6828157 ],\n",
       "       [-15.132553  ,  14.372185  ],\n",
       "       [  8.619502  ,  -5.8049345 ],\n",
       "       [-15.135692  ,  14.633567  ],\n",
       "       [ 15.305806  , -13.046076  ],\n",
       "       [ -4.999752  ,   5.201827  ],\n",
       "       [  0.2578109 ,   1.6377178 ],\n",
       "       [  5.8625336 ,  -2.9335084 ],\n",
       "       [  5.3320894 ,  -2.8326669 ],\n",
       "       [-12.917438  ,  12.491219  ],\n",
       "       [ 15.61934   , -12.949853  ],\n",
       "       [  5.4186554 ,  -2.894672  ],\n",
       "       [ -8.446066  ,   8.244406  ],\n",
       "       [ 12.721986  ,  -9.854111  ],\n",
       "       [ 15.7550955 , -13.275501  ],\n",
       "       [  1.3192002 ,   0.97683734],\n",
       "       [ 11.978297  ,  -9.334086  ],\n",
       "       [ 14.557437  , -11.757054  ],\n",
       "       [ 14.207309  , -11.598039  ],\n",
       "       [ -5.4425797 ,   5.280693  ],\n",
       "       [ -0.11318097,   1.6512607 ],\n",
       "       [  8.32202   ,  -5.536026  ],\n",
       "       [  7.9971366 ,  -4.9793015 ],\n",
       "       [-11.691325  ,  11.289978  ],\n",
       "       [  8.162753  ,  -5.104079  ],\n",
       "       [-11.29736   ,  10.882957  ],\n",
       "       [ -5.6311088 ,   5.4393296 ],\n",
       "       [ 15.68208   , -13.198757  ],\n",
       "       [  5.2093697 ,  -2.5640047 ],\n",
       "       [ 12.537866  ,  -9.720999  ],\n",
       "       [  0.11086631,   1.5927862 ],\n",
       "       [  8.35685   ,  -5.6270976 ],\n",
       "       [ 12.61892   ,  -9.599811  ],\n",
       "       [ -5.2191896 ,   5.151223  ],\n",
       "       [  1.2225442 ,   1.0701833 ],\n",
       "       [  0.85561943,   1.3175647 ],\n",
       "       [  1.6697823 ,   0.39032787],\n",
       "       [-14.847488  ,  14.140941  ],\n",
       "       [ 13.815655  , -11.186909  ],\n",
       "       [ 11.99232   ,  -9.377116  ],\n",
       "       [ 11.715815  ,  -8.702083  ],\n",
       "       [-12.828069  ,  12.416669  ],\n",
       "       [-14.16152   ,  13.953238  ],\n",
       "       [-14.664863  ,  14.570096  ],\n",
       "       [ 14.07633   , -11.499296  ],\n",
       "       [ 15.293846  , -13.046249  ],\n",
       "       [  0.68856466,   1.4490583 ],\n",
       "       [-13.112139  ,  12.708016  ],\n",
       "       [-12.150816  ,  11.733778  ],\n",
       "       [ -9.430355  ,   9.1318655 ],\n",
       "       [  1.2222323 ,   1.0767379 ],\n",
       "       [ 12.14952   ,  -9.536592  ],\n",
       "       [ -5.400691  ,   5.9697685 ],\n",
       "       [  5.102217  ,  -2.3747425 ],\n",
       "       [ -9.302708  ,   8.986622  ],\n",
       "       [  0.9530581 ,   1.1915699 ],\n",
       "       [ 13.678575  , -11.00999   ],\n",
       "       [ 14.297703  , -12.03057   ],\n",
       "       [ -5.1038685 ,   5.765921  ],\n",
       "       [ -8.075406  ,   7.916541  ],\n",
       "       [  4.7156878 ,  -2.0777059 ],\n",
       "       [ 13.880558  , -11.278053  ],\n",
       "       [  0.11246374,   1.2982713 ],\n",
       "       [  9.305981  ,  -6.228048  ],\n",
       "       [ -5.835043  ,   5.781146  ],\n",
       "       [ -6.874892  ,   6.899487  ],\n",
       "       [  8.888789  ,  -5.7096663 ],\n",
       "       [  8.286339  ,  -5.3357267 ],\n",
       "       [  7.022951  ,  -4.077619  ],\n",
       "       [ 15.457448  , -12.786664  ],\n",
       "       [ -5.842093  ,   5.753522  ],\n",
       "       [  8.661333  ,  -5.8126254 ],\n",
       "       [ 12.316615  ,  -8.991189  ],\n",
       "       [ -5.728862  ,   5.5393405 ],\n",
       "       [ -0.41229188,   1.8933984 ],\n",
       "       [-14.809408  ,  14.682261  ],\n",
       "       [ -5.4105062 ,   5.941044  ],\n",
       "       [  8.7288475 ,  -5.319463  ],\n",
       "       [  6.164334  ,  -3.2799542 ],\n",
       "       [ -4.6156936 ,   5.037642  ],\n",
       "       [ 15.58977   , -13.154366  ],\n",
       "       [  7.879262  ,  -4.861352  ],\n",
       "       [ -5.1624336 ,   5.8220305 ],\n",
       "       [ 14.763468  , -12.377745  ],\n",
       "       [  1.4707364 ,   0.73311293],\n",
       "       [-15.11333   ,  14.343453  ],\n",
       "       [ -4.821603  ,   5.430484  ],\n",
       "       [ 11.976556  ,  -9.331892  ],\n",
       "       [ 12.588877  ,  -9.359232  ],\n",
       "       [ -0.26526952,   1.7881116 ],\n",
       "       [  1.1112145 ,   0.51712114],\n",
       "       [ 12.460838  ,  -9.143842  ],\n",
       "       [ 13.987835  , -11.399379  ],\n",
       "       [  5.74951   ,  -3.033272  ],\n",
       "       [ 12.640429  ,  -9.78929   ],\n",
       "       [ 11.721517  ,  -8.736856  ],\n",
       "       [  6.5554857 ,  -3.6546555 ],\n",
       "       [ 14.685952  , -11.890548  ],\n",
       "       [ 15.453849  , -12.787089  ],\n",
       "       [  8.516282  ,  -5.1972237 ],\n",
       "       [ -5.113273  ,   5.76775   ],\n",
       "       [ 12.151055  ,  -8.953104  ],\n",
       "       [-14.961096  ,  14.689619  ],\n",
       "       [  0.14450322,   1.2402781 ],\n",
       "       [-11.95593   ,  11.331419  ],\n",
       "       [ 14.703611  , -12.039884  ],\n",
       "       [ -7.6214657 ,   7.523996  ],\n",
       "       [-10.14722   ,   9.788727  ],\n",
       "       [  5.52898   ,  -2.5125966 ],\n",
       "       [  6.1421313 ,  -3.25633   ],\n",
       "       [ -9.870664  ,   9.51483   ],\n",
       "       [ 14.686956  , -11.903304  ],\n",
       "       [-11.91133   ,  11.2871    ],\n",
       "       [ -6.0649943 ,   6.201646  ],\n",
       "       [ -5.773524  ,   5.889415  ],\n",
       "       [-14.403652  ,  13.805967  ],\n",
       "       [  5.6012526 ,  -2.557335  ],\n",
       "       [-10.018454  ,   9.6643915 ],\n",
       "       [  8.355944  ,  -5.5912476 ],\n",
       "       [  1.6558003 ,   0.4114662 ],\n",
       "       [ -8.4114685 ,   8.211226  ],\n",
       "       [ -5.5031033 ,   5.991782  ],\n",
       "       [-14.004077  ,  13.598942  ],\n",
       "       [  0.6587016 ,   0.7285849 ],\n",
       "       [  9.44995   ,  -6.3754654 ],\n",
       "       [  0.5680618 ,   1.4466119 ],\n",
       "       [  8.554223  ,  -5.1966567 ],\n",
       "       [ -8.29044   ,   8.10545   ],\n",
       "       [ -4.854199  ,   5.347905  ],\n",
       "       [ 12.286976  ,  -9.645106  ],\n",
       "       [-14.381639  ,  14.238558  ],\n",
       "       [-15.06157   ,  14.276407  ],\n",
       "       [-12.8731    ,  12.472512  ],\n",
       "       [  1.3843408 ,   0.49719685],\n",
       "       [-11.926513  ,  11.649257  ],\n",
       "       [ -5.1332154 ,   5.15234   ],\n",
       "       [-14.137204  ,  13.955175  ],\n",
       "       [ -9.335845  ,   9.03932   ],\n",
       "       [-12.054726  ,  11.511053  ],\n",
       "       [-11.701692  ,  11.251855  ],\n",
       "       [ 15.231335  , -12.803809  ],\n",
       "       [-14.343506  ,  13.786424  ],\n",
       "       [ -8.5590925 ,   8.345319  ]], dtype=float32)"
      ]
     },
     "metadata": {},
     "output_type": "display_data"
    }
   ],
   "source": [
    "# verify\n",
    "\n",
    "display(tsne_std)\n",
    "display(tsne_non_std)"
   ]
  },
  {
   "cell_type": "code",
   "execution_count": 62,
   "metadata": {},
   "outputs": [],
   "source": [
    "final_tsne_std = pd.DataFrame(tsne_std)"
   ]
  },
  {
   "cell_type": "markdown",
   "metadata": {},
   "source": [
    "***8 c)*** Plot t-sne, similarly to PCA making the color of the points correspond to the levels of the cardio feature, but having only numerical features as a basis of the T-SNE.  "
   ]
  },
  {
   "cell_type": "code",
   "execution_count": 63,
   "metadata": {
    "scrolled": false
   },
   "outputs": [
    {
     "data": {
      "text/plain": [
       "[Text(0.5, 1.0, 'Cholesterol data T-SNE projection')]"
      ]
     },
     "execution_count": 63,
     "metadata": {},
     "output_type": "execute_result"
    },
    {
     "data": {
      "image/png": "[encoded data removed]",
      "text/plain": [
       "<Figure size 432x288 with 1 Axes>"
      ]
     },
     "metadata": {
      "needs_background": "light"
     },
     "output_type": "display_data"
    }
   ],
   "source": [
    "# non-standardized data\n",
    "\n",
    "non_std_df = pd.DataFrame()\n",
    "non_std_df['cholesterol'] = data['cholesterol']\n",
    "non_std_df[\"comp-1\"] = tsne_std[:,0]\n",
    "non_std_df[\"comp-2\"] = tsne_std[:,1]\n",
    "\n",
    "sns.scatterplot(x = \"comp-1\", \n",
    "                y = \"comp-2\", \n",
    "                hue = non_std_df.cholesterol.tolist(),\n",
    "                palette = sns.color_palette(\"hls\", 3),\n",
    "                data = non_std_df).set(title=\"Cholesterol data T-SNE projection\") "
   ]
  },
  {
   "cell_type": "markdown",
   "metadata": {},
   "source": [
    "#### Yet again little unsure of how correct this is -- the data isnt clustered at all? If possible I'd love some feedback either in Moodle or to jrshad@utu.fi.\n",
    "\n",
    "##### This kind of stuff is really important in my pursuit of a career in data science (= trying to transition away from my current job as a data engineer) so I'd love to know where i went wrong and how i can fix this"
   ]
  },
  {
   "cell_type": "code",
   "execution_count": 64,
   "metadata": {},
   "outputs": [
    {
     "data": {
      "text/plain": [
       "[Text(0.5, 1.0, 'Cholesterol data T-SNE projection')]"
      ]
     },
     "execution_count": 64,
     "metadata": {},
     "output_type": "execute_result"
    },
    {
     "data": {
      "image/png": "[encoded data removed]",
      "text/plain": [
       "<Figure size 432x288 with 1 Axes>"
      ]
     },
     "metadata": {
      "needs_background": "light"
     },
     "output_type": "display_data"
    }
   ],
   "source": [
    "# Standardized\n",
    "std_df = pd.DataFrame()\n",
    "std_df['cholesterol'] = data['cholesterol']\n",
    "std_df[\"comp-1\"] = tsne_non_std[:,0]\n",
    "std_df[\"comp-2\"] = tsne_non_std[:,1]\n",
    "\n",
    "sns.scatterplot(x = \"comp-1\", \n",
    "                y = \"comp-2\", \n",
    "                hue = std_df.cholesterol.tolist(),\n",
    "                palette = sns.color_palette(\"hls\", 3),\n",
    "                data = std_df).set(title=\"Cholesterol data T-SNE projection\") "
   ]
  },
  {
   "cell_type": "markdown",
   "metadata": {},
   "source": [
    "***8 d)*** \n",
    "\n",
    "- What do you think might have happened between the two runs of t-SNE on unstandardized and standardized data? Why is it important to standardize before using the algorithm?\n",
    "\n",
    "_Here the aim is to think about this and learn, not come up with a perfect explanation. Googling is encouraged. Think about whether t-sne is a distance based algorithm or not?_ "
   ]
  },
  {
   "cell_type": "markdown",
   "metadata": {},
   "source": [
    "<font color = red> Scaling is very important with t-SNE since the way it works is it creates a probability distribution representing similarities between neigbors. It then calculates the distances of various points in relation to one another thus effectively clustering them based on the distances. Now the reason the data has to be standardized is that if the standard deviation of the data is something else than 1 or 2 (i dunno if those are the limits), correctly calculating the distances won't work effectively rendering t-SNE useless. </font>"
   ]
  },
  {
   "cell_type": "code",
   "execution_count": null,
   "metadata": {},
   "outputs": [],
   "source": []
  }
 ],
 "metadata": {
  "colab": {
   "name": "DADK_exercise_2_2021.ipynb",
   "provenance": []
  },
  "kernelspec": {
   "display_name": "Python 3 (ipykernel)",
   "language": "python",
   "name": "python3"
  },
  "language_info": {
   "codemirror_mode": {
    "name": "ipython",
    "version": 3
   },
   "file_extension": ".py",
   "mimetype": "text/x-python",
   "name": "python",
   "nbconvert_exporter": "python",
   "pygments_lexer": "ipython3",
   "version": "3.7.11"
  },
  "toc": {
   "base_numbering": 1,
   "nav_menu": {
    "height": "180px",
    "width": "160px"
   },
   "number_sections": false,
   "sideBar": true,
   "skip_h1_title": true,
   "title_cell": "Table of Contents",
   "title_sidebar": "Contents",
   "toc_cell": false,
   "toc_position": {},
   "toc_section_display": true,
   "toc_window_display": true
  }
 },
 "nbformat": 4,
 "nbformat_minor": 1
}
