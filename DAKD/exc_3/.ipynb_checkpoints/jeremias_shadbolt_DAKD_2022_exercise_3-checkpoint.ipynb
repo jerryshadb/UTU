{
 "cells": [
  {
   "cell_type": "markdown",
   "metadata": {},
   "source": [
    "### Fill in your name, student id number and email address\n",
    "#### name: Jeremias Shadbolt\n",
    "#### student id: 1900386\n",
    "#### email: jrshad@utu.fi"
   ]
  },
  {
   "cell_type": "markdown",
   "metadata": {},
   "source": [
    "## Data analysis and knowledge discovery - Exercise 3: Unsupervised learning"
   ]
  },
  {
   "cell_type": "markdown",
   "metadata": {},
   "source": [
    "This is the template for the third exercise. The purpose of this exercise is to familiarize yourself with the basics of unsupervised learning by using the agglomerative hierarchical clustering and k-means clustering algorithms to find patterns.\n",
    "\n",
    "The data set utilised in this exercise is a simplified and downsampled version of a knowledge discovery and data mining competition data set. The data will be available on the course's Moodle page. For those who are interested, the original data can be found at https://kdd.ics.uci.edu/databases/kddcup99/kddcup99.html. However, please make sure to **use the version on Moodle** as `ex3_network_data.csv`. The data is described below.\n",
    "\n",
    "The data set contains samples of network activity simulated in a military network environment. There are different types of malicious activity, and also activity that is considered normal. It is **not necessary** to understand the details of the data set in order to complete the exercise.\n",
    "\n",
    "In addition to normal activity, there are 3 types of malicious activity - denial of service, unauthorized remote login, and network probing (e.g. port scanning) - simulated in a military network environment. There are 500 samples of each class. There are 6 numeric features, described below:\n",
    "\n",
    "`src_bytes`: number of bytes from source to destination\\\n",
    "`dst_bytes`: number of bytes from destination to source\\\n",
    "`duration`: length of connection (seconds)\\\n",
    "`count`: number of connections to the same host as the current connection in the past two seconds\\\n",
    "`serror_rate`: percentage of connections that have SYN errors\\\n",
    "`rerror_rate`: percentage of connections that have REJ errors\n",
    "\n",
    "In real applications, visualizing and cleaning the data are important steps. However, in this exercise you can treat the data as given, and focus on the unsupervised methods.\n",
    "\n",
    "Please consider the following things when returning your notebook:\n",
    "\n",
    " - As in the two previous exercises, the grading scale is failed/passed/passed with honors.\n",
    " \n",
    " - For a passing grade each part of the exercise, except for the BONUS, must be completed, and all questions should be answered. Some mistakes are allowed as long as you clearly attempt to solve all the exercises.\n",
    " \n",
    " - For doing both the exercise and the optional bonus task sufficiently well, you will be awarded one bonus point for the exam.\n",
    " \n",
    " - All the cells in the finished notebook should run without crashing. Please delete unnecessary cells. As a good rule of thumb, use \"Restart and run all\" on the finished notebook to make sure it runs without errors and produces the expected output.\n",
    "\n",
    " - Remember to comment your code to explain how it works and what you intend for it to do.\n",
    " \n",
    " - Answer the questions asked in the assignments in Markdown cells.\n",
    " \n",
    " - If you are having problems with this exercise, try an online search first, but don't just copy-paste any code you find. See exercise guidelines in the Moodle page of this course. If you can't find a solution to your problem, ask for advice in the course discussion forum on Moodle or contact oskari.s.heikkinen@utu.fi.\n",
    " \n",
    " - If/when you look things up during this exercise, please cite your sources (e.g. a link to a web page). It's better to cite too much than too little."
   ]
  },
  {
   "cell_type": "markdown",
   "metadata": {},
   "source": [
    "### Library imports, Jupyter Notebook settings etc."
   ]
  },
  {
   "cell_type": "markdown",
   "metadata": {},
   "source": [
    "The below libraries are sufficient to complete the exercise. You can import additional functionality here if you want."
   ]
  },
  {
   "cell_type": "code",
   "execution_count": 1,
   "metadata": {},
   "outputs": [],
   "source": [
    "import numpy as np\n",
    "import pandas as pd\n",
    "import matplotlib.pyplot as plt\n",
    "import seaborn as sns\n",
    "from sklearn.preprocessing import StandardScaler\n",
    "from sklearn.decomposition import PCA\n",
    "from sklearn.cluster import AgglomerativeClustering, KMeans\n",
    "from sklearn.metrics import silhouette_score, adjusted_rand_score\n",
    "from scipy.cluster.hierarchy import linkage, dendrogram\n",
    "\n",
    "%matplotlib inline"
   ]
  },
  {
   "cell_type": "markdown",
   "metadata": {},
   "source": [
    "### Read the data\n",
    "\n",
    "- Download the exercise 3 data on the Moodle page of this course.\n",
    "- Read the data into a Pandas dataframe.\n",
    "- Display a few rows and some basic information to make sure the data was loaded correctly"
   ]
  },
  {
   "cell_type": "code",
   "execution_count": 2,
   "metadata": {},
   "outputs": [],
   "source": [
    "# read data into df\n",
    "data = pd.read_csv('ex3_network_data.csv')"
   ]
  },
  {
   "cell_type": "code",
   "execution_count": 3,
   "metadata": {},
   "outputs": [
    {
     "data": {
      "text/html": [
       "<div>\n",
       "<style scoped>\n",
       "    .dataframe tbody tr th:only-of-type {\n",
       "        vertical-align: middle;\n",
       "    }\n",
       "\n",
       "    .dataframe tbody tr th {\n",
       "        vertical-align: top;\n",
       "    }\n",
       "\n",
       "    .dataframe thead th {\n",
       "        text-align: right;\n",
       "    }\n",
       "</style>\n",
       "<table border=\"1\" class=\"dataframe\">\n",
       "  <thead>\n",
       "    <tr style=\"text-align: right;\">\n",
       "      <th></th>\n",
       "      <th>src_bytes</th>\n",
       "      <th>dst_bytes</th>\n",
       "      <th>duration</th>\n",
       "      <th>count</th>\n",
       "      <th>serror_rate</th>\n",
       "      <th>rerror_rate</th>\n",
       "      <th>class</th>\n",
       "    </tr>\n",
       "  </thead>\n",
       "  <tbody>\n",
       "    <tr>\n",
       "      <th>0</th>\n",
       "      <td>0</td>\n",
       "      <td>0</td>\n",
       "      <td>0</td>\n",
       "      <td>223</td>\n",
       "      <td>1.0</td>\n",
       "      <td>0.0</td>\n",
       "      <td>denial_of_service</td>\n",
       "    </tr>\n",
       "    <tr>\n",
       "      <th>1</th>\n",
       "      <td>1032</td>\n",
       "      <td>0</td>\n",
       "      <td>0</td>\n",
       "      <td>511</td>\n",
       "      <td>0.0</td>\n",
       "      <td>0.0</td>\n",
       "      <td>denial_of_service</td>\n",
       "    </tr>\n",
       "    <tr>\n",
       "      <th>2</th>\n",
       "      <td>520</td>\n",
       "      <td>0</td>\n",
       "      <td>0</td>\n",
       "      <td>511</td>\n",
       "      <td>0.0</td>\n",
       "      <td>0.0</td>\n",
       "      <td>denial_of_service</td>\n",
       "    </tr>\n",
       "    <tr>\n",
       "      <th>3</th>\n",
       "      <td>1032</td>\n",
       "      <td>0</td>\n",
       "      <td>0</td>\n",
       "      <td>510</td>\n",
       "      <td>0.0</td>\n",
       "      <td>0.0</td>\n",
       "      <td>denial_of_service</td>\n",
       "    </tr>\n",
       "    <tr>\n",
       "      <th>4</th>\n",
       "      <td>520</td>\n",
       "      <td>0</td>\n",
       "      <td>0</td>\n",
       "      <td>448</td>\n",
       "      <td>0.0</td>\n",
       "      <td>0.0</td>\n",
       "      <td>denial_of_service</td>\n",
       "    </tr>\n",
       "  </tbody>\n",
       "</table>\n",
       "</div>"
      ],
      "text/plain": [
       "   src_bytes  dst_bytes  duration  count  serror_rate  rerror_rate  \\\n",
       "0          0          0         0    223          1.0          0.0   \n",
       "1       1032          0         0    511          0.0          0.0   \n",
       "2        520          0         0    511          0.0          0.0   \n",
       "3       1032          0         0    510          0.0          0.0   \n",
       "4        520          0         0    448          0.0          0.0   \n",
       "\n",
       "               class  \n",
       "0  denial_of_service  \n",
       "1  denial_of_service  \n",
       "2  denial_of_service  \n",
       "3  denial_of_service  \n",
       "4  denial_of_service  "
      ]
     },
     "metadata": {},
     "output_type": "display_data"
    },
    {
     "data": {
      "text/html": [
       "<div>\n",
       "<style scoped>\n",
       "    .dataframe tbody tr th:only-of-type {\n",
       "        vertical-align: middle;\n",
       "    }\n",
       "\n",
       "    .dataframe tbody tr th {\n",
       "        vertical-align: top;\n",
       "    }\n",
       "\n",
       "    .dataframe thead th {\n",
       "        text-align: right;\n",
       "    }\n",
       "</style>\n",
       "<table border=\"1\" class=\"dataframe\">\n",
       "  <thead>\n",
       "    <tr style=\"text-align: right;\">\n",
       "      <th></th>\n",
       "      <th>src_bytes</th>\n",
       "      <th>dst_bytes</th>\n",
       "      <th>duration</th>\n",
       "      <th>count</th>\n",
       "      <th>serror_rate</th>\n",
       "      <th>rerror_rate</th>\n",
       "    </tr>\n",
       "  </thead>\n",
       "  <tbody>\n",
       "    <tr>\n",
       "      <th>count</th>\n",
       "      <td>2000.000000</td>\n",
       "      <td>2000.00000</td>\n",
       "      <td>2000.000000</td>\n",
       "      <td>2000.000000</td>\n",
       "      <td>2000.000000</td>\n",
       "      <td>2000.00000</td>\n",
       "    </tr>\n",
       "    <tr>\n",
       "      <th>mean</th>\n",
       "      <td>402.324500</td>\n",
       "      <td>382.56600</td>\n",
       "      <td>20.246500</td>\n",
       "      <td>111.158000</td>\n",
       "      <td>0.059415</td>\n",
       "      <td>0.14014</td>\n",
       "    </tr>\n",
       "    <tr>\n",
       "      <th>std</th>\n",
       "      <td>464.815917</td>\n",
       "      <td>861.81793</td>\n",
       "      <td>241.867267</td>\n",
       "      <td>198.399713</td>\n",
       "      <td>0.234554</td>\n",
       "      <td>0.34661</td>\n",
       "    </tr>\n",
       "    <tr>\n",
       "      <th>min</th>\n",
       "      <td>0.000000</td>\n",
       "      <td>0.00000</td>\n",
       "      <td>0.000000</td>\n",
       "      <td>1.000000</td>\n",
       "      <td>0.000000</td>\n",
       "      <td>0.00000</td>\n",
       "    </tr>\n",
       "    <tr>\n",
       "      <th>25%</th>\n",
       "      <td>8.000000</td>\n",
       "      <td>0.00000</td>\n",
       "      <td>0.000000</td>\n",
       "      <td>1.000000</td>\n",
       "      <td>0.000000</td>\n",
       "      <td>0.00000</td>\n",
       "    </tr>\n",
       "    <tr>\n",
       "      <th>50%</th>\n",
       "      <td>286.500000</td>\n",
       "      <td>0.00000</td>\n",
       "      <td>0.000000</td>\n",
       "      <td>2.000000</td>\n",
       "      <td>0.000000</td>\n",
       "      <td>0.00000</td>\n",
       "    </tr>\n",
       "    <tr>\n",
       "      <th>75%</th>\n",
       "      <td>748.000000</td>\n",
       "      <td>146.00000</td>\n",
       "      <td>0.000000</td>\n",
       "      <td>105.250000</td>\n",
       "      <td>0.000000</td>\n",
       "      <td>0.00000</td>\n",
       "    </tr>\n",
       "    <tr>\n",
       "      <th>max</th>\n",
       "      <td>4703.000000</td>\n",
       "      <td>4982.00000</td>\n",
       "      <td>4776.000000</td>\n",
       "      <td>511.000000</td>\n",
       "      <td>1.000000</td>\n",
       "      <td>1.00000</td>\n",
       "    </tr>\n",
       "  </tbody>\n",
       "</table>\n",
       "</div>"
      ],
      "text/plain": [
       "         src_bytes   dst_bytes     duration        count  serror_rate  \\\n",
       "count  2000.000000  2000.00000  2000.000000  2000.000000  2000.000000   \n",
       "mean    402.324500   382.56600    20.246500   111.158000     0.059415   \n",
       "std     464.815917   861.81793   241.867267   198.399713     0.234554   \n",
       "min       0.000000     0.00000     0.000000     1.000000     0.000000   \n",
       "25%       8.000000     0.00000     0.000000     1.000000     0.000000   \n",
       "50%     286.500000     0.00000     0.000000     2.000000     0.000000   \n",
       "75%     748.000000   146.00000     0.000000   105.250000     0.000000   \n",
       "max    4703.000000  4982.00000  4776.000000   511.000000     1.000000   \n",
       "\n",
       "       rerror_rate  \n",
       "count   2000.00000  \n",
       "mean       0.14014  \n",
       "std        0.34661  \n",
       "min        0.00000  \n",
       "25%        0.00000  \n",
       "50%        0.00000  \n",
       "75%        0.00000  \n",
       "max        1.00000  "
      ]
     },
     "metadata": {},
     "output_type": "display_data"
    },
    {
     "data": {
      "text/plain": [
       "count                  2000\n",
       "unique                    4\n",
       "top       denial_of_service\n",
       "freq                    500\n",
       "Name: class, dtype: object"
      ]
     },
     "metadata": {},
     "output_type": "display_data"
    },
    {
     "data": {
      "text/plain": [
       "src_bytes        int64\n",
       "dst_bytes        int64\n",
       "duration         int64\n",
       "count            int64\n",
       "serror_rate    float64\n",
       "rerror_rate    float64\n",
       "class           object\n",
       "dtype: object"
      ]
     },
     "metadata": {},
     "output_type": "display_data"
    },
    {
     "data": {
      "text/plain": [
       "array(['denial_of_service', 'normal', 'probe',\n",
       "       'unauthorized_remote_login'], dtype=object)"
      ]
     },
     "metadata": {},
     "output_type": "display_data"
    },
    {
     "data": {
      "text/plain": [
       "src_bytes      0\n",
       "dst_bytes      0\n",
       "duration       0\n",
       "count          0\n",
       "serror_rate    0\n",
       "rerror_rate    0\n",
       "class          0\n",
       "dtype: int64"
      ]
     },
     "metadata": {},
     "output_type": "display_data"
    }
   ],
   "source": [
    "# verify\n",
    "display(data.head()) # first 5 rows\n",
    "display(data.describe()) # base statistics for numerics\n",
    "display(data['class'].describe()) # base stats for targets\n",
    "display(data.dtypes) # data types\n",
    "display(data['class'].unique()) # target variables\n",
    "display(data.isna().sum()) #NaNs"
   ]
  },
  {
   "cell_type": "markdown",
   "metadata": {},
   "source": [
    "### Part 1: Preprocess and visualize the data\n",
    "\n",
    " - Perform z-score standardization on the features to ensure that all features have the same scale.\n",
    " \n",
    " - Project the data to two dimensions by using principal component analysis (PCA) and visualize the resulting two-dimensional data in a scatter plot. Don't color the scatter plot yet.\n",
    " \n",
    " - Does it look like there are clear clusters? Don't worry if they're hard to see."
   ]
  },
  {
   "cell_type": "code",
   "execution_count": 4,
   "metadata": {},
   "outputs": [],
   "source": [
    "# features as list to ease handling\n",
    "features = [column for column in data.columns if column != 'class']\n",
    "target = ['class']"
   ]
  },
  {
   "cell_type": "code",
   "execution_count": 5,
   "metadata": {},
   "outputs": [
    {
     "name": "stdout",
     "output_type": "stream",
     "text": [
      "Features: ['src_bytes', 'dst_bytes', 'duration', 'count', 'serror_rate', 'rerror_rate']\n",
      "Target: ['class']\n"
     ]
    }
   ],
   "source": [
    "# verify\n",
    "print(f\"Features: {features}\")\n",
    "print(f\"Target: {target}\")"
   ]
  },
  {
   "cell_type": "code",
   "execution_count": 6,
   "metadata": {},
   "outputs": [],
   "source": [
    "# scale features \n",
    "data[features] = StandardScaler().fit_transform(data[features])"
   ]
  },
  {
   "cell_type": "code",
   "execution_count": 7,
   "metadata": {
    "scrolled": true
   },
   "outputs": [
    {
     "data": {
      "text/html": [
       "<div>\n",
       "<style scoped>\n",
       "    .dataframe tbody tr th:only-of-type {\n",
       "        vertical-align: middle;\n",
       "    }\n",
       "\n",
       "    .dataframe tbody tr th {\n",
       "        vertical-align: top;\n",
       "    }\n",
       "\n",
       "    .dataframe thead th {\n",
       "        text-align: right;\n",
       "    }\n",
       "</style>\n",
       "<table border=\"1\" class=\"dataframe\">\n",
       "  <thead>\n",
       "    <tr style=\"text-align: right;\">\n",
       "      <th></th>\n",
       "      <th>src_bytes</th>\n",
       "      <th>dst_bytes</th>\n",
       "      <th>duration</th>\n",
       "      <th>count</th>\n",
       "      <th>serror_rate</th>\n",
       "      <th>rerror_rate</th>\n",
       "    </tr>\n",
       "  </thead>\n",
       "  <tbody>\n",
       "    <tr>\n",
       "      <th>0</th>\n",
       "      <td>-0.865773</td>\n",
       "      <td>-0.444017</td>\n",
       "      <td>-0.08373</td>\n",
       "      <td>0.563862</td>\n",
       "      <td>4.011105</td>\n",
       "      <td>-0.404417</td>\n",
       "    </tr>\n",
       "    <tr>\n",
       "      <th>1</th>\n",
       "      <td>1.355016</td>\n",
       "      <td>-0.444017</td>\n",
       "      <td>-0.08373</td>\n",
       "      <td>2.015840</td>\n",
       "      <td>-0.253374</td>\n",
       "      <td>-0.404417</td>\n",
       "    </tr>\n",
       "    <tr>\n",
       "      <th>2</th>\n",
       "      <td>0.253229</td>\n",
       "      <td>-0.444017</td>\n",
       "      <td>-0.08373</td>\n",
       "      <td>2.015840</td>\n",
       "      <td>-0.253374</td>\n",
       "      <td>-0.404417</td>\n",
       "    </tr>\n",
       "    <tr>\n",
       "      <th>3</th>\n",
       "      <td>1.355016</td>\n",
       "      <td>-0.444017</td>\n",
       "      <td>-0.08373</td>\n",
       "      <td>2.010798</td>\n",
       "      <td>-0.253374</td>\n",
       "      <td>-0.404417</td>\n",
       "    </tr>\n",
       "    <tr>\n",
       "      <th>4</th>\n",
       "      <td>0.253229</td>\n",
       "      <td>-0.444017</td>\n",
       "      <td>-0.08373</td>\n",
       "      <td>1.698219</td>\n",
       "      <td>-0.253374</td>\n",
       "      <td>-0.404417</td>\n",
       "    </tr>\n",
       "  </tbody>\n",
       "</table>\n",
       "</div>"
      ],
      "text/plain": [
       "   src_bytes  dst_bytes  duration     count  serror_rate  rerror_rate\n",
       "0  -0.865773  -0.444017  -0.08373  0.563862     4.011105    -0.404417\n",
       "1   1.355016  -0.444017  -0.08373  2.015840    -0.253374    -0.404417\n",
       "2   0.253229  -0.444017  -0.08373  2.015840    -0.253374    -0.404417\n",
       "3   1.355016  -0.444017  -0.08373  2.010798    -0.253374    -0.404417\n",
       "4   0.253229  -0.444017  -0.08373  1.698219    -0.253374    -0.404417"
      ]
     },
     "execution_count": 7,
     "metadata": {},
     "output_type": "execute_result"
    }
   ],
   "source": [
    "# verify\n",
    "data[features].head()"
   ]
  },
  {
   "cell_type": "code",
   "execution_count": 8,
   "metadata": {},
   "outputs": [],
   "source": [
    "# implement PCA\n",
    "pca_components = pd.DataFrame(PCA(n_components = 2).fit_transform(data[features]), columns = ['PCA1', 'PCA2'])"
   ]
  },
  {
   "cell_type": "code",
   "execution_count": 9,
   "metadata": {
    "scrolled": false
   },
   "outputs": [
    {
     "data": {
      "text/html": [
       "<div>\n",
       "<style scoped>\n",
       "    .dataframe tbody tr th:only-of-type {\n",
       "        vertical-align: middle;\n",
       "    }\n",
       "\n",
       "    .dataframe tbody tr th {\n",
       "        vertical-align: top;\n",
       "    }\n",
       "\n",
       "    .dataframe thead th {\n",
       "        text-align: right;\n",
       "    }\n",
       "</style>\n",
       "<table border=\"1\" class=\"dataframe\">\n",
       "  <thead>\n",
       "    <tr style=\"text-align: right;\">\n",
       "      <th></th>\n",
       "      <th>PCA1</th>\n",
       "      <th>PCA2</th>\n",
       "    </tr>\n",
       "  </thead>\n",
       "  <tbody>\n",
       "    <tr>\n",
       "      <th>0</th>\n",
       "      <td>-0.784767</td>\n",
       "      <td>-2.372303</td>\n",
       "    </tr>\n",
       "    <tr>\n",
       "      <th>1</th>\n",
       "      <td>2.056440</td>\n",
       "      <td>-1.222154</td>\n",
       "    </tr>\n",
       "    <tr>\n",
       "      <th>2</th>\n",
       "      <td>1.306228</td>\n",
       "      <td>-1.295604</td>\n",
       "    </tr>\n",
       "    <tr>\n",
       "      <th>3</th>\n",
       "      <td>2.053927</td>\n",
       "      <td>-1.219385</td>\n",
       "    </tr>\n",
       "    <tr>\n",
       "      <th>4</th>\n",
       "      <td>1.147854</td>\n",
       "      <td>-1.121159</td>\n",
       "    </tr>\n",
       "  </tbody>\n",
       "</table>\n",
       "</div>"
      ],
      "text/plain": [
       "       PCA1      PCA2\n",
       "0 -0.784767 -2.372303\n",
       "1  2.056440 -1.222154\n",
       "2  1.306228 -1.295604\n",
       "3  2.053927 -1.219385\n",
       "4  1.147854 -1.121159"
      ]
     },
     "execution_count": 9,
     "metadata": {},
     "output_type": "execute_result"
    }
   ],
   "source": [
    "# verify\n",
    "pca_components.head()"
   ]
  },
  {
   "cell_type": "code",
   "execution_count": 10,
   "metadata": {},
   "outputs": [],
   "source": [
    "# Create a complete df with PCA reduced data\n",
    "pca_data = pd.concat([pca_components, data['class']], axis = 1)"
   ]
  },
  {
   "cell_type": "code",
   "execution_count": 11,
   "metadata": {
    "scrolled": false
   },
   "outputs": [
    {
     "data": {
      "image/png": "[encoded data removed]",
      "text/plain": [
       "<Figure size 800x960 with 1 Axes>"
      ]
     },
     "metadata": {},
     "output_type": "display_data"
    }
   ],
   "source": [
    "# scatter plot without colouring\n",
    "plt.style.use('classic')\n",
    "fig = plt.figure(figsize = (10,12))\n",
    "plt.scatter(data = pca_data, y = 'PCA1', x = 'PCA2')\n",
    "plt.title('Signal data reduced to 2-dimensions')\n",
    "plt.xlabel('X-axis')\n",
    "plt.ylabel('Y-axis')\n",
    "plt.grid(True)\n",
    "plt.show()"
   ]
  },
  {
   "cell_type": "markdown",
   "metadata": {},
   "source": [
    "There's some clustering to be found although it's not very clear due to lack of colours. We can, however, clearly see those two 'lines' in the bottom left corner as well as that one longer line from the center towards the right side. A few outliers can also be found such as X1Y6 and some between."
   ]
  },
  {
   "cell_type": "markdown",
   "metadata": {},
   "source": [
    "Because clustering is an unsupervised learning method, the `class` column is completely unnecessary for most of these tasks. You will only need the `class` column in **Part 4**, where it's used to compute a performance metric and to visually compare clustering results to the classes."
   ]
  },
  {
   "cell_type": "markdown",
   "metadata": {},
   "source": [
    "### Part 2a: Agglomerative hierarchical clustering\n",
    " \n",
    " - Cluster the data into 4 clusters using agglomerative hierarchical clustering. Try different values for the \"linkage\" parameter.\n",
    " \n",
    " - Use the z-score standardized 6-dimensional data for clustering - not the principal components!\n",
    " \n",
    " - What is the significance of the linkage criterion in a hierarchical clustering algorithm?\n",
    " \n",
    " - Evaluate the clustering performance for each linkage criterion using a metric called \"silhouette score\".\n",
    " \n",
    " - What does silhouette score quantify and how is it computed?"
   ]
  },
  {
   "cell_type": "code",
   "execution_count": 12,
   "metadata": {},
   "outputs": [],
   "source": [
    "# create clusters with different linkages to measure differences\n",
    "clustering_ward = AgglomerativeClustering(n_clusters = 4, linkage = 'ward').fit(data[features])\n",
    "clustering_complete = AgglomerativeClustering(n_clusters = 4, linkage = 'complete').fit(data[features])\n",
    "clustering_average = AgglomerativeClustering(n_clusters = 4, linkage = 'average').fit(data[features])\n",
    "clustering_single = AgglomerativeClustering(n_clusters = 4, linkage = 'single').fit(data[features])"
   ]
  },
  {
   "cell_type": "code",
   "execution_count": 13,
   "metadata": {
    "scrolled": true
   },
   "outputs": [
    {
     "name": "stdout",
     "output_type": "stream",
     "text": [
      "Silhouette score for Ward's linkage: 0.63\n",
      "Silhouette score for complete linkage: 0.48\n",
      "Silhouette score for average linkage: 0.62\n",
      "Silhouette score for single linkage: 0.73\n"
     ]
    }
   ],
   "source": [
    "print(f\"Silhouette score for Ward's linkage: {silhouette_score(data[features], clustering_ward.labels_):.2f}\")\n",
    "print(f\"Silhouette score for complete linkage: {silhouette_score(data[features], clustering_complete.labels_):.2f}\")\n",
    "print(f\"Silhouette score for average linkage: {silhouette_score(data[features], clustering_average.labels_):.2f}\")\n",
    "print(f\"Silhouette score for single linkage: {silhouette_score(data[features], clustering_single.labels_):.2f}\")"
   ]
  },
  {
   "cell_type": "markdown",
   "metadata": {},
   "source": [
    "##### The best score was -- quite clearly --  for single linkage with a score of 73."
   ]
  },
  {
   "cell_type": "markdown",
   "metadata": {},
   "source": [
    "##### Score evaluation\n",
    "Silhouette score, or silhouette coefficient measures how accurately an algorithm clusters data. It varies from -1 to 1, with -1 being the worst and 1 the best (probably overfit). The higher the score, the better the clusters distinguished and apart from eachother. So according to this, single linkages .73 is actually pretty good."
   ]
  },
  {
   "cell_type": "markdown",
   "metadata": {},
   "source": [
    " ##### Signifigance of linkage criterion \n",
    "It determines how the proximity of any two clusters are calculated at any step. Referenced from: https://stats.stackexchange.com/questions/195446/choosing-the-right-linkage-method-for-hierarchical-clustering\n",
    "So basically the best linkage to use is dependent of the data and/or problem we're facing, somewhat like choosing the best ML model for a business case."
   ]
  },
  {
   "cell_type": "markdown",
   "metadata": {},
   "source": [
    "### Part 2b: Dendrograms\n",
    "\n",
    " - Plot dendrograms to visualize the merging processes.\n",
    " - For this you will need a linkage matrix. Hint: while you can extract one from a fitted AgglomerativeClustering object, it is much easier to use the scipy implementation (scipy.cluster.hierarchy.linkage).\n",
    " - Compute the linkage matrix using both `average` and `complete` linkage, and plot the dendrograms using scipy.cluster.hierarchy.dendrogram).\n",
    " - Truncate the dendrogram so that three levels of the dendrogram tree are visible for better readability.\n",
    " - How do you interpret the dendrograms? How do they differ?"
   ]
  },
  {
   "cell_type": "code",
   "execution_count": 18,
   "metadata": {},
   "outputs": [],
   "source": [
    "# linkage matrix with scipy package\n",
    "linkage_matrix_avg = linkage(pca_data[['PCA1', 'PCA2']], method = 'average')\n",
    "linkage_matrix_complete = linkage(pca_data[['PCA1', 'PCA2']], method = 'complete')"
   ]
  },
  {
   "cell_type": "code",
   "execution_count": 25,
   "metadata": {
    "scrolled": false
   },
   "outputs": [
    {
     "data": {
      "image/png": "[encoded data removed]",
      "text/plain": [
       "<Figure size 640x480 with 1 Axes>"
      ]
     },
     "metadata": {},
     "output_type": "display_data"
    }
   ],
   "source": [
    "# plot the dendrogram of avg linkage\n",
    "dendro_avg = dendrogram(linkage_matrix_avg, p = 3, truncate_mode = 'level')"
   ]
  },
  {
   "cell_type": "code",
   "execution_count": 26,
   "metadata": {},
   "outputs": [
    {
     "data": {
      "image/png": "[encoded data removed]",
      "text/plain": [
       "<Figure size 640x480 with 1 Axes>"
      ]
     },
     "metadata": {},
     "output_type": "display_data"
    }
   ],
   "source": [
    "# plot dendr of complete linkage\n",
    "dendro_complete = dendrogram(linkage_matrix_complete, p = 3, truncate_mode = 'level')"
   ]
  },
  {
   "cell_type": "markdown",
   "metadata": {},
   "source": [
    "The dendrogram that used average linkage seems to have created a lot less clusters which are less distinctively separated whereas complete linkage has created more clusters which are more distinct. This makes sense since complete linkage had a silhouette coefficient of .48, so the data isn't all that clustered and separated whereas avg. linkage had .62. \n",
    "\n",
    "For fun, I'll see what single gives us, just because it had the best coefficient"
   ]
  },
  {
   "cell_type": "code",
   "execution_count": 28,
   "metadata": {},
   "outputs": [
    {
     "data": {
      "image/png": "[encoded data removed]",
      "text/plain": [
       "<Figure size 640x480 with 1 Axes>"
      ]
     },
     "metadata": {},
     "output_type": "display_data"
    }
   ],
   "source": [
    "# dendr with single linkage\n",
    "dendro_single = dendrogram(linkage(pca_data[['PCA1', 'PCA2']], method = 'single'), p = 3, truncate_mode = 'level')"
   ]
  },
  {
   "cell_type": "markdown",
   "metadata": {},
   "source": [
    "The single method, as expected, gave the least clusters and with less separation"
   ]
  },
  {
   "cell_type": "markdown",
   "metadata": {},
   "source": [
    "Also the single dendrogram seems to link the clusters at quite a low level whereas the previous dendrograms joins the clusters much higher. \n",
    "\n",
    "The average dendrogram also shows us that the average linkage joins the clusters a lot earlier than complete, further suggesting the superiority of the former. \n",
    "\n",
    "Referenced from https://www.displayr.com/what-is-dendrogram/"
   ]
  },
  {
   "cell_type": "markdown",
   "metadata": {},
   "source": [
    "### Part 3: _k_-means clustering\n",
    "\n",
    " - Perform _k_-means clustering on the data. Use 4 clusters.\n",
    " - Evaluate the clustering performance using silhouette score.\n",
    " - Experiment with some other numbers of clusters. Does the data fit better into a different number of clusters according to silhouette score?"
   ]
  },
  {
   "cell_type": "code",
   "execution_count": null,
   "metadata": {},
   "outputs": [],
   "source": []
  },
  {
   "cell_type": "markdown",
   "metadata": {},
   "source": []
  },
  {
   "cell_type": "markdown",
   "metadata": {},
   "source": [
    "#### Rand score briefly described\n",
    "\n",
    "Rand score is a measure of similarity between two partitions of a set of elements - in this case true classes and clusters found by the clustering algorithm - and it is one of the most frequently used performance metrics for clustering. It is computed by considering each pair of elements in the dataset and counting pairs of elements as follows:\n",
    " \n",
    "         a: number of pairs such that the elements are in the same class and in the same cluster\n",
    "         b: number of pairs such that the elements are in different classes and in different clusters\n",
    "         c: number of pairs such that the elements are in the same class but in different clusters\n",
    "         d: number of pairs such that the elements are in different classes but in the same cluster\n",
    "     \n",
    "     Given a, b, c, d, the formula for rand index is:\n",
    "     \n",
    "         rand_index = (a+b)/(a+b+c+d).\n",
    "     \n",
    "\"Adjusted Rand index\" is corrected for chance by using maximum and expected values of Rand index.\n",
    "\n",
    "        adj_rand_index = (rand_index - expected_rand_index) / (max_rand_index - expected_rand_index)"
   ]
  },
  {
   "cell_type": "markdown",
   "metadata": {},
   "source": [
    "###  Part 4a: Compare the clusters with the true labels (hierarchical clustering)\n",
    " \n",
    " - Cluster the data into 4 clusters using agglomerative hierarchical clustering.\n",
    " - Choose the linkage criterion that had the best silhouette score performance in Part 2a.\n",
    " - Visualize the data again using PCA, this time coloring the scatter plot based on the true class labels. Visually compare the two scatter plots: how well do the clusters found by the clustering algorithm match the true classes? Place the two scatter plots so that they can easily be compared (e.g. in subplots next to each other in the same figure).\n",
    " - For an objective evaluation of the clustering, compute the adjusted Rand score (use the scikit-learn implementation) using the true labels and the labels predicted by clustering algorithm. How do you interpret the result?\n",
    " - If the results seem unimpressive, don't get discouraged - clustering \"real life\" data sets to match classes is a difficult task, and a low Rand score does not necessarily mean that you have made a mistake."
   ]
  },
  {
   "cell_type": "code",
   "execution_count": null,
   "metadata": {},
   "outputs": [],
   "source": []
  },
  {
   "cell_type": "markdown",
   "metadata": {},
   "source": []
  },
  {
   "cell_type": "markdown",
   "metadata": {},
   "source": [
    "### Part 4b: Compare the clusters with true labels (_k_-means clustering)"
   ]
  },
  {
   "cell_type": "markdown",
   "metadata": {},
   "source": [
    " - Repeat the above steps, but this time using _k_-means clustering instead of hierarchical clustering.\n",
    " - Which performs better according to the adjusted Rand score?"
   ]
  },
  {
   "cell_type": "code",
   "execution_count": null,
   "metadata": {},
   "outputs": [],
   "source": []
  },
  {
   "cell_type": "markdown",
   "metadata": {},
   "source": []
  },
  {
   "cell_type": "markdown",
   "metadata": {},
   "source": [
    "### Part 5 (optional BONUS task): Clustering unlabeled data\n",
    "\n",
    "In this task, you are working with data where the classes are not available, given as `ex3_seeds_data_BONUS.csv` on Moodle. [The original data set](https://archive.ics.uci.edu/ml/datasets/seeds) is available for for those who are interested, but **use the slightly modified data on Moodle** instead.\n",
    "\n",
    "In general this is a very challenging and open-ended type of task that requires in-depth domain knowledge for meaningful results. Note, however, that in this exercise you are **not required** to research the domain in question (e.g. properties of different varieties of wheat). You might need to search for more information related to clustering in order to complete this exercise.\n",
    "\n",
    "Some of the questions are open-ended and have no correct answer. It's enough to clearly show that you thought about the questions.\n",
    "\n",
    " - As in Part 1, z-score standardize the data, project it to 2 dimensions using PCA and visualize the result in a scatter plot.\n",
    " - Does the scatter plot look like the data might have a clustered structure? How many clusters do you see?\n",
    " - Decide, based on what you've learned about silhouette score and Rand score, which performance metric you should use in this task. Justify your choice.\n",
    " - Get an objective evaluation of how many clusters the data most likely has by using your chosen performance metric. Try both _k_-means clustering and agglomerative hierarchical clustering with different linkage criterions and see which performs best.\n",
    " - Visualize (with color) the best-performing result in the PCA scatter plot you created earlier."
   ]
  },
  {
   "cell_type": "code",
   "execution_count": null,
   "metadata": {},
   "outputs": [],
   "source": []
  },
  {
   "cell_type": "markdown",
   "metadata": {},
   "source": []
  }
 ],
 "metadata": {
  "kernelspec": {
   "display_name": "Python 3 (ipykernel)",
   "language": "python",
   "name": "python3"
  },
  "language_info": {
   "codemirror_mode": {
    "name": "ipython",
    "version": 3
   },
   "file_extension": ".py",
   "mimetype": "text/x-python",
   "name": "python",
   "nbconvert_exporter": "python",
   "pygments_lexer": "ipython3",
   "version": "3.7.11"
  }
 },
 "nbformat": 4,
 "nbformat_minor": 4
}
