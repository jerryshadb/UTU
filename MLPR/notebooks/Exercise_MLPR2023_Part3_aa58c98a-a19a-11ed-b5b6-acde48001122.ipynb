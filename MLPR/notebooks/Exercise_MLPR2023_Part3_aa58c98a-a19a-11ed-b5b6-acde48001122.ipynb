{
 "cells": [
  {
   "cell_type": "markdown",
   "id": "48574939",
   "metadata": {},
   "source": [
    "This is the template for the image recognition exercise. <Br>\n",
    "Some **general instructions**, read these carefully:\n",
    " - The final assignment is returned as a clear and understandable *report*\n",
    "    - define shortly the concepts and explain the phases you use\n",
    "    - use the Markdown feature of the notebook for larger explanations\n",
    " - return your output as a *working* Jupyter notebook\n",
    " - name your file as Exercise_MLPR2023_Partx_uuid.jpynb\n",
    "    - use the uuid code determined below\n",
    "    - use this same code for each part of the assignment\n",
    " - write easily readable code with comments     \n",
    "     - if you exploit code from web, provide a reference\n",
    " - it is ok to discuss with a friend about the assignment. But it is not ok to copy someone's work. Everyone should submit their own implementation\n",
    "     - in case of identical submissions, both submissions are failed "
   ]
  },
  {
   "cell_type": "markdown",
   "id": "0bfbc2b3",
   "metadata": {},
   "source": [
    "**Deadlines:**\n",
    "- Part 1: Mon 6.2 at 23:59**\n",
    "- Part 2: Mon 20.2 at 23:59**\n",
    "- Part 3: Mon 6.3 at 23:59**\n",
    "\n",
    "**No extensions for the deadlines** <br>\n",
    "- after each deadline, example results are given, and it is not possible to submit anymore\n",
    "\n",
    "**If you encounter problems, Google first and if you can’t find an answer, ask for help**\n",
    "- Moodle area for questions\n",
    "- pekavir@utu.fi\n",
    "- teacher available for questions on Mondays 30.1, 13.2 (after lecture) and Thursday 2.3 (at lecture)"
   ]
  },
  {
   "cell_type": "markdown",
   "id": "ea03f4ab",
   "metadata": {},
   "source": [
    "**Grading**\n",
    "\n",
    "The exercise covers a part of the grading in this course. The course exam has 5 questions, 6 points of each. Exercise gives 6 points, i.e. the total score is 36 points.\n",
    "\n",
    "From the template below, you can see how many exercise points can be acquired from each task. Exam points are given according to the table below: <br>\n",
    "<br>\n",
    "7 exercise points: 1 exam point <br>\n",
    "8 exercise points: 2 exam points <br>\n",
    "9 exercise points: 3 exam points <br>\n",
    "10 exercise points: 4 exam points <br>\n",
    "11 exercise points: 5 exam points <br>\n",
    "12 exercise points: 6 exam points <br>\n",
    "<br>\n",
    "To pass the exercise, you need at least 7 exercise points, and at least 1 exercise point from each Part.\n",
    "    \n",
    "Each student will grade one submission from a peer and their own submission. After each Part deadline, example results are given. Study them carefully and perform the grading according to the given instructions. Mean value from the peer grading and self-grading is used for the final points. "
   ]
  },
  {
   "cell_type": "code",
   "execution_count": 1,
   "id": "20913a7e",
   "metadata": {},
   "outputs": [
    {
     "name": "stdout",
     "output_type": "stream",
     "text": [
      "The id code is: 81fef7e6-bc59-11ed-a097-c23d518f9365\n"
     ]
    }
   ],
   "source": [
    "import uuid\n",
    "# Run this cell only once and save the code. Use the same id code for each Part.\n",
    "# Printing random id using uuid1()\n",
    "print (\"The id code is: \",end=\"\")\n",
    "print (uuid.uuid1())"
   ]
  },
  {
   "cell_type": "code",
   "execution_count": 2,
   "id": "00e09f2f",
   "metadata": {},
   "outputs": [],
   "source": [
    "# Packages\n",
    "\n",
    "%matplotlib inline  \n",
    "\n",
    "# data handling\n",
    "import numpy as np\n",
    "import pandas as pd\n",
    "\n",
    "# preprocessing\n",
    "from sklearn.preprocessing import StandardScaler\n",
    "from sklearn.decomposition import PCA\n",
    "\n",
    "# visualization\n",
    "import matplotlib.pyplot as plt\n",
    "import seaborn as sns\n",
    "\n",
    "# classification\n",
    "from sklearn.neighbors import KNeighborsClassifier\n",
    "from sklearn.ensemble import RandomForestClassifier\n",
    "from sklearn.neural_network import MLPClassifier\n",
    "from sklearn.model_selection import cross_val_predict\n",
    "\n",
    "# validation\n",
    "from sklearn.model_selection import GridSearchCV\n",
    "from sklearn.model_selection import RepeatedStratifiedKFold\n",
    "from sklearn.model_selection import StratifiedKFold\n",
    "from sklearn.metrics import accuracy_score\n",
    "from sklearn.metrics import confusion_matrix"
   ]
  },
  {
   "cell_type": "markdown",
   "id": "3ce21d52",
   "metadata": {},
   "source": [
    "# Introduction (1 p)"
   ]
  },
  {
   "cell_type": "markdown",
   "id": "35ca8979",
   "metadata": {},
   "source": [
    "Write an introductory chapter for your report\n",
    "<br>\n",
    "- Explain what is the purpose of this task?\n",
    "- Describe, what kind of data were used? Where did it originate? Give correct reference.\n",
    "- Which methods did you use?\n",
    "- Describe shortly the results"
   ]
  },
  {
   "cell_type": "markdown",
   "id": "43ec1892",
   "metadata": {},
   "source": [
    "The purpose of this project was to determine whether different species of rice could be reliably identified with machine learning methods. \n",
    "<br>\n",
    "It began with extracting various features from three different species of rice (Arborio, Basmati and Jasmine). These features were various calculations of their colours as well as data from their respective sizes. A computer vision library, OpenCV was used to extract these features from the pictures of rice. \n",
    "\n",
    "<br>\n",
    "After the features were extracted, a small study on the features were done -- mainly histograms, box- and scatterplots as well as a PCA. This was done to receive insights on the data and figure out what features made the most difference in differentiating between the samples.\n",
    "\n",
    "<br>\n",
    "Data used in this project originated from a research conducted by I. Çınar and M. Koklu. in article: <br> Identification of rice varieties using machine learning algorithms. Journal of Agricultural Sciences, 28(2):307–325, 2022. doi: 10.15832/ankutbd.862482.\n",
    "\n",
    "<br> <br>\n",
    "Methods used to extract features were from OpenCV (https://opencv.org/) <br>\n",
    "Methods used for feature examination were mainly from matplotlib (https://matplotlib.org/) <br>\n",
    "Methods used for model selection were StratifiedRepeatedKFold and StratifiedKFold cross validation from sklearn (https://scikit-learn.org/) <br>\n",
    "Methods used to classify rice species were K-nn, Multilayer Perceptron and Random Forest -- different hyperparameters were experimented on, and the best ones used to classify."
   ]
  },
  {
   "cell_type": "markdown",
   "id": "f5023716",
   "metadata": {},
   "source": [
    "Knn and Random Forest seemed to work the best with both consistently giving > 96 % accuracy, whereas MLP's accuracy was between 87 and 91 %. However, due to reasons discussed below, the best models for generalizing on unseen data would be Random Forest or MLP. All in all, the models performed well even though I failed to extract all required features in Part 1."
   ]
  },
  {
   "cell_type": "markdown",
   "id": "9d49e7d2",
   "metadata": {},
   "source": [
    "# Part 2"
   ]
  },
  {
   "cell_type": "markdown",
   "id": "cbec0706",
   "metadata": {},
   "source": [
    "Data exploration and model selection"
   ]
  },
  {
   "cell_type": "markdown",
   "id": "9d85ec88",
   "metadata": {},
   "source": [
    "# Part 3"
   ]
  },
  {
   "cell_type": "markdown",
   "id": "d973b1d7",
   "metadata": {},
   "source": [
    "## Performance estimation (2 p)"
   ]
  },
  {
   "cell_type": "markdown",
   "id": "3929defa",
   "metadata": {},
   "source": [
    "Use the previously gathered data (again, use the standardized features). <br>\n",
    "Estimate the performance of each model using nested cross validation. Use 10-fold cross validation for outer and <br>\n",
    "5-fold repeated cross validation with 3 repetitions for inner loop.  <br> \n",
    "Select the best model in the inner loop using the hyperparameter combinations and ranges defined in the Part 2. <br>\n",
    "For each model, calculate the accuracy and the confusion matrix. <br> \n",
    "Which hyperparameter/hyperparameter combination is most often chosen as the best one for each classifier? "
   ]
  },
  {
   "cell_type": "code",
   "execution_count": 3,
   "id": "a1cf9fe2",
   "metadata": {},
   "outputs": [],
   "source": [
    "# import dataset\n",
    "data = pd.read_csv('../training_data/training_data.csv')"
   ]
  },
  {
   "cell_type": "code",
   "execution_count": 4,
   "id": "6ec2dba1",
   "metadata": {},
   "outputs": [],
   "source": [
    "# create mask to ease handling and increase readability\n",
    "features = data.select_dtypes(include = [np.number]).columns"
   ]
  },
  {
   "cell_type": "code",
   "execution_count": 5,
   "id": "b6e3db0b",
   "metadata": {},
   "outputs": [],
   "source": [
    "# standardize features\n",
    "data[features] = StandardScaler().fit_transform(data[features])"
   ]
  },
  {
   "cell_type": "code",
   "execution_count": 6,
   "id": "edcb9a29",
   "metadata": {
    "scrolled": true
   },
   "outputs": [
    {
     "data": {
      "text/html": [
       "<div>\n",
       "<style scoped>\n",
       "    .dataframe tbody tr th:only-of-type {\n",
       "        vertical-align: middle;\n",
       "    }\n",
       "\n",
       "    .dataframe tbody tr th {\n",
       "        vertical-align: top;\n",
       "    }\n",
       "\n",
       "    .dataframe thead th {\n",
       "        text-align: right;\n",
       "    }\n",
       "</style>\n",
       "<table border=\"1\" class=\"dataframe\">\n",
       "  <thead>\n",
       "    <tr style=\"text-align: right;\">\n",
       "      <th></th>\n",
       "      <th>major_axis</th>\n",
       "      <th>minor_axis</th>\n",
       "      <th>area</th>\n",
       "      <th>perimeter</th>\n",
       "      <th>roundness</th>\n",
       "      <th>aspect_ratio</th>\n",
       "      <th>rgb_mean</th>\n",
       "      <th>rgb_variance</th>\n",
       "      <th>rgb_skewness</th>\n",
       "      <th>rgb_kurtosis</th>\n",
       "      <th>rgb_entropy</th>\n",
       "    </tr>\n",
       "  </thead>\n",
       "  <tbody>\n",
       "    <tr>\n",
       "      <th>0</th>\n",
       "      <td>1.373212</td>\n",
       "      <td>-0.779302</td>\n",
       "      <td>0.527082</td>\n",
       "      <td>-0.513995</td>\n",
       "      <td>1.498212</td>\n",
       "      <td>1.357363</td>\n",
       "      <td>0.650976</td>\n",
       "      <td>1.018447</td>\n",
       "      <td>-0.460682</td>\n",
       "      <td>-0.572536</td>\n",
       "      <td>0.551575</td>\n",
       "    </tr>\n",
       "    <tr>\n",
       "      <th>1</th>\n",
       "      <td>1.494218</td>\n",
       "      <td>-0.799840</td>\n",
       "      <td>0.665078</td>\n",
       "      <td>-0.264143</td>\n",
       "      <td>1.138442</td>\n",
       "      <td>1.465991</td>\n",
       "      <td>0.530914</td>\n",
       "      <td>0.247158</td>\n",
       "      <td>-0.722419</td>\n",
       "      <td>-0.769325</td>\n",
       "      <td>0.724002</td>\n",
       "    </tr>\n",
       "  </tbody>\n",
       "</table>\n",
       "</div>"
      ],
      "text/plain": [
       "   major_axis  minor_axis      area  perimeter  roundness  aspect_ratio  \\\n",
       "0    1.373212   -0.779302  0.527082  -0.513995   1.498212      1.357363   \n",
       "1    1.494218   -0.799840  0.665078  -0.264143   1.138442      1.465991   \n",
       "\n",
       "   rgb_mean  rgb_variance  rgb_skewness  rgb_kurtosis  rgb_entropy  \n",
       "0  0.650976      1.018447     -0.460682     -0.572536     0.551575  \n",
       "1  0.530914      0.247158     -0.722419     -0.769325     0.724002  "
      ]
     },
     "execution_count": 6,
     "metadata": {},
     "output_type": "execute_result"
    }
   ],
   "source": [
    "# validate standardization\n",
    "data[features].head(2)"
   ]
  },
  {
   "cell_type": "code",
   "execution_count": 7,
   "id": "27ab8d4f",
   "metadata": {},
   "outputs": [],
   "source": [
    "# initialize vanilla models \n",
    "\n",
    "# K-nn\n",
    "knn = KNeighborsClassifier()\n",
    "# MLP\n",
    "mlp = MLPClassifier(early_stopping = True)\n",
    "# Random Forest\n",
    "rfc = RandomForestClassifier()\n",
    "\n",
    "# save models in a list to ease CV\n",
    "models = [knn, mlp, rfc]"
   ]
  },
  {
   "cell_type": "code",
   "execution_count": 8,
   "id": "7e4cbb82",
   "metadata": {},
   "outputs": [],
   "source": [
    "# initialize hyperparameter combinations\n",
    "\n",
    "knn_params = {'n_neighbors': range(2, 30)}\n",
    "\n",
    "mlp_params = {\n",
    "    'hidden_layer_sizes': [(n, ) for n in range(5, 100, 5)],\n",
    "    'activation': ['logistic', 'relu'],\n",
    "    'solver': ['adam', 'sgd'],\n",
    "    'validation_fraction': [0.1, 0.5]\n",
    "}\n",
    "\n",
    "rfc_params = {\n",
    "    'max_depth': [5, 10, 15, None],\n",
    "    'max_features': ['log2', 'sqrt', None]\n",
    "}\n"
   ]
  },
  {
   "cell_type": "code",
   "execution_count": 9,
   "id": "a2dd7034",
   "metadata": {},
   "outputs": [],
   "source": [
    "# Initialize dictionary with models and their respective params for gridCV\n",
    "\n",
    "models = {\n",
    "    'Random_forest': (rfc, rfc_params),\n",
    "    'Knn': (knn, knn_params),\n",
    "    'MLP': (mlp, mlp_params)\n",
    "}"
   ]
  },
  {
   "cell_type": "code",
   "execution_count": 18,
   "id": "c85de92d",
   "metadata": {},
   "outputs": [],
   "source": [
    "# CV function for a model\n",
    "# Stratified was used since we need to evenly split the classes to avoid uneven splits between classes\n",
    "def nested_cv(model, X, y, param_grid):\n",
    "    # outer cv\n",
    "    outer_cv = StratifiedKFold(n_splits = 10, shuffle = True)\n",
    "    \n",
    "    # inner cv \n",
    "    inner_cv = RepeatedStratifiedKFold(n_repeats = 3, n_splits = 5)\n",
    "    \n",
    "    # use inner cv to find best model params with GridSearch\n",
    "    gs = GridSearchCV(estimator = model, param_grid = param_grid, cv = inner_cv)\n",
    "    best_model = gs.fit(X, y).best_estimator_\n",
    "    \n",
    "    # make predictions and get accuracy with outer cv\n",
    "    prediction = cross_val_predict(best_model, X, y, cv = outer_cv)\n",
    "    accuracy = accuracy_score(y, prediction)\n",
    "    conf_matrix = confusion_matrix(list(y), list(prediction))\n",
    "    \n",
    "    return gs.best_params_, accuracy, conf_matrix"
   ]
  },
  {
   "cell_type": "code",
   "execution_count": 11,
   "id": "1643ad18",
   "metadata": {},
   "outputs": [],
   "source": [
    "# Store results in a dictionary for visualization\n",
    "results = {name: nested_cv(model, data[features], data['specie'], param_grid) for name, (model, param_grid) in models.items()}"
   ]
  },
  {
   "cell_type": "markdown",
   "id": "51e9d29c",
   "metadata": {},
   "source": [
    "###### Results for Knn"
   ]
  },
  {
   "cell_type": "code",
   "execution_count": 12,
   "id": "1b39695a",
   "metadata": {},
   "outputs": [],
   "source": [
    "# Store results to variables\n",
    "knn_params = results['Knn'][0]\n",
    "knn_accuracy = results['Knn'][1]\n",
    "knn_cm = results['Knn'][2]\n",
    "# Create DF to change the 0's, 1's and 2's in knn_cm heatmap to actual species\n",
    "knn_cm_df = pd.DataFrame(knn_cm, columns = data['specie'].unique(), index = data['specie'].unique())"
   ]
  },
  {
   "cell_type": "code",
   "execution_count": 13,
   "id": "a2fecd1a",
   "metadata": {
    "scrolled": false
   },
   "outputs": [
    {
     "data": {
      "image/png": "[encoded data removed]",
      "text/plain": [
       "<Figure size 640x480 with 1 Axes>"
      ]
     },
     "metadata": {},
     "output_type": "display_data"
    },
    {
     "name": "stdout",
     "output_type": "stream",
     "text": [
      "Knn best neighbours: 3\n",
      "Knn accuracy: 96.33 %\n"
     ]
    }
   ],
   "source": [
    "sns.heatmap(knn_cm_df, annot = True, cbar = False)\n",
    "plt.title('Confusion Matrix for Knn')\n",
    "plt.show()\n",
    "print(f\"Knn best neighbours: {knn_params['n_neighbors']}\")\n",
    "print(f\"Knn accuracy: {knn_accuracy * 100:.2f} %\")"
   ]
  },
  {
   "cell_type": "markdown",
   "id": "e358a068",
   "metadata": {},
   "source": [
    "###### Results for Random Forest"
   ]
  },
  {
   "cell_type": "code",
   "execution_count": 14,
   "id": "1b2a7289",
   "metadata": {},
   "outputs": [],
   "source": [
    "# Store results to variables\n",
    "rf_params = results['Random_forest'][0]\n",
    "rf_accuracy = results['Random_forest'][1]\n",
    "rf_cm = results['Random_forest'][2]\n",
    "# Create DF to change the 0's, 1's and 2's in knn_cm heatmap to actual species\n",
    "rf_cm_df = pd.DataFrame(rf_cm, columns = data['specie'].unique(), index = data['specie'].unique())"
   ]
  },
  {
   "cell_type": "code",
   "execution_count": 15,
   "id": "fdcef853",
   "metadata": {
    "scrolled": false
   },
   "outputs": [
    {
     "data": {
      "image/png": "[encoded data removed]",
      "text/plain": [
       "<Figure size 640x480 with 1 Axes>"
      ]
     },
     "metadata": {},
     "output_type": "display_data"
    },
    {
     "name": "stdout",
     "output_type": "stream",
     "text": [
      "Random_forest best params: {'max_depth': 5, 'max_features': 'sqrt'}\n",
      "Random_forest accuracy: 97.00 %\n"
     ]
    }
   ],
   "source": [
    "sns.heatmap(rf_cm_df, annot = True, cbar = False)\n",
    "plt.title('Confusion Matrix for Random Forest Classifier')\n",
    "plt.show()\n",
    "print(f\"Random_forest best params: {rf_params}\")\n",
    "print(f\"Random_forest accuracy: {rf_accuracy * 100:.2f} %\")"
   ]
  },
  {
   "cell_type": "markdown",
   "id": "9bdc4fb5",
   "metadata": {},
   "source": [
    "###### Results for Multilayer Perceptron"
   ]
  },
  {
   "cell_type": "code",
   "execution_count": 16,
   "id": "42b994b7",
   "metadata": {},
   "outputs": [],
   "source": [
    "# Store results to variables\n",
    "mlp_params = results['MLP'][0]\n",
    "mlp_accuracy = results['MLP'][1]\n",
    "mlp_cm = results['MLP'][2]\n",
    "# Create DF to change the 0's, 1's and 2's in knn_cm heatmap to actual species\n",
    "mlp_cm_df = pd.DataFrame(mlp_cm, columns = data['specie'].unique(), index = data['specie'].unique())"
   ]
  },
  {
   "cell_type": "code",
   "execution_count": 17,
   "id": "a78d0d43",
   "metadata": {},
   "outputs": [
    {
     "data": {
      "image/png": "[encoded data removed]",
      "text/plain": [
       "<Figure size 640x480 with 1 Axes>"
      ]
     },
     "metadata": {},
     "output_type": "display_data"
    },
    {
     "name": "stdout",
     "output_type": "stream",
     "text": [
      "MLP best params: {'activation': 'relu', 'hidden_layer_sizes': (95,), 'solver': 'adam', 'validation_fraction': 0.5}\n",
      "MLP accuracy: 91.00 %\n"
     ]
    }
   ],
   "source": [
    "sns.heatmap(mlp_cm_df, annot = True, cbar = False)\n",
    "plt.title('Confusion Matrix for Multilayer Perceptron')\n",
    "plt.show()\n",
    "print(f\"MLP best params: {mlp_params}\")\n",
    "print(f\"MLP accuracy: {mlp_accuracy * 100:.2f} %\")"
   ]
  },
  {
   "cell_type": "markdown",
   "id": "85f896a1",
   "metadata": {},
   "source": [
    "## Discussion (2 p)"
   ]
  },
  {
   "cell_type": "markdown",
   "id": "18c6e2e9",
   "metadata": {},
   "source": [
    "Discuss you results\n",
    "\n",
    "- Which model performs the best? Why?\n",
    "- Ponder the limitations and generalization of the models. How well will the classifiers perform for data outside this data set?\n",
    "- Compare your results with the original article. Are they comparable?\n",
    "- Ponder applications for these type of models (classifying rice or other plant species), who could benefit from them? Ponder also what would be interesting to study more on this area?\n",
    "- What did you learn? What was difficult? Could you improve your own working process in some way?"
   ]
  },
  {
   "cell_type": "markdown",
   "id": "ab762d58",
   "metadata": {},
   "source": [
    "##### Discussion"
   ]
  },
  {
   "cell_type": "markdown",
   "id": "5e6fbedf",
   "metadata": {},
   "source": [
    "The best model seems to be Random Forest by sub 1 %. I can't really say for sure where this marginal difference comes from, but if we were to choose between the three of them, I'd probably go with MLP or Random Forest. MLP and Random Forest both utilize built-in regularization which in turn prevents overfitting. Knn does not, therefore I'd trust MLP and RF in better generalizing on data outside this dataset. In this exercise, we utilized a fairly small amount of data which worked fine for both Knn and Random Forest -- they were really quick to train whereas MLP took its fair share of time. This could be problematic if we had tons of data, since MLP would take ages to train and evaluate, and Knn would be harder to optimize to prevent overfitting. In conclusion, we reached Knn's accuracy fairly quickly with a model which is robust to overfitting and can most probably generalize well on unseen data due to it utilizing multiple and emphasizing important features."
   ]
  },
  {
   "cell_type": "markdown",
   "id": "1ba29e0c",
   "metadata": {},
   "source": [
    "In the original article, best performing models were Random Forest, MLP and Logistic Regression. That further supports our hypothesis in utilizing either MLP or RF -- even though there were still some major differences in our respective experiments. <br>\n",
    "We utilized the same feature set on every model whereas in the study they switched between feature sets thus giving different results for different models. The article also used way more data, therefore their results better reflect the performance of the models -- even though we seemed to get quite similar accuracies. So in terms of accuracies, we're quite the same but the results are hardly comparable."
   ]
  },
  {
   "cell_type": "markdown",
   "id": "3403ef2b",
   "metadata": {},
   "source": [
    "People who'd benefit the most from applications such as these would probably be companies selling these products, whether it's rice or any other plant. They'd want an efficient and automated system to identify various species and sort them accordingly. The most interesting thing to study here, in my opinion, is customer segmentation in marketing. What different features should we extract, how to extract them and which models to use, for the marketing company to best differentiate between audiences. I am, though, a bit biased here since I work as a data scientist in this field and these classification problems. "
   ]
  },
  {
   "cell_type": "markdown",
   "id": "711668fe",
   "metadata": {},
   "source": [
    "Things I learned were the importance of evaluating your models further, how to evaluate them, importance of various features and how to find the importance of said features -- differentiate between irrelevant and relevant ones. I'd say the most difficult thing was the feature extraction. I've got zero prior experience in computer vision and I even managed to fail to extract different RGB-channels -- furthermore emphasizing the difference in the study and this exercise. I didn't even utilize all the features I should have. <br>\n",
    "But oh well, I'm here to learn and learn I did. My Achilles heel is also data visualization in which I got great practice here too. <br>\n",
    "All in all, a pleasant experience. "
   ]
  }
 ],
 "metadata": {
  "kernelspec": {
   "display_name": "Python 3 (ipykernel)",
   "language": "python",
   "name": "python3"
  },
  "language_info": {
   "codemirror_mode": {
    "name": "ipython",
    "version": 3
   },
   "file_extension": ".py",
   "mimetype": "text/x-python",
   "name": "python",
   "nbconvert_exporter": "python",
   "pygments_lexer": "ipython3",
   "version": "3.10.1"
  },
  "toc": {
   "base_numbering": 1,
   "nav_menu": {},
   "number_sections": true,
   "sideBar": true,
   "skip_h1_title": false,
   "title_cell": "Table of Contents",
   "title_sidebar": "Contents",
   "toc_cell": false,
   "toc_position": {
    "height": "calc(100% - 180px)",
    "left": "10px",
    "top": "150px",
    "width": "232px"
   },
   "toc_section_display": true,
   "toc_window_display": true
  }
 },
 "nbformat": 4,
 "nbformat_minor": 5
}
