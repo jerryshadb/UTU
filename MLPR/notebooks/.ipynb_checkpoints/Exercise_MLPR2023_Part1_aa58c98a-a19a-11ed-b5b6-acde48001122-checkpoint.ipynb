{
 "cells": [
  {
   "cell_type": "markdown",
   "id": "48574939",
   "metadata": {},
   "source": [
    "This is the template for the image recognition exercise. <Br>\n",
    "Some **general instructions**, read these carefully:\n",
    " - The final assignment is returned as a clear and understandable *report*\n",
    "    - define shortly the concepts and explain the phases you use\n",
    "    - use the Markdown feature of the notebook for larger explanations\n",
    " - return your output as a *working* Jupyter notebook\n",
    " - name your file as Exercise_MLPR2023_Partx_uuid.jpynb\n",
    "    - use the uuid code determined below\n",
    "    - use this same code for each part of the assignment\n",
    " - write easily readable code with comments     \n",
    "     - if you exploit code from web, provide a reference\n",
    " - it is ok to discuss with a friend about the assignment. But it is not ok to copy someone's work. Everyone should submit their own implementation\n",
    "     - in case of identical submissions, both submissions are failed "
   ]
  },
  {
   "cell_type": "markdown",
   "id": "0bfbc2b3",
   "metadata": {},
   "source": [
    "**Deadlines:**\n",
    "- Part 1: Mon 6.2 at 23:59\n",
    "- Part 2: Mon 20.2 at 23:59\n",
    "- Part 3: Mon 6.3 at 23:59\n",
    "\n",
    "**No extensions for the deadlines** <br>\n",
    "- after each deadline, example results are given, and it is not possible to submit anymore\n",
    "\n",
    "**If you encounter problems, Google first and if you can’t find an answer, ask for help**\n",
    "- Moodle area for questions\n",
    "- pekavir@utu.fi\n",
    "- teacher available for questions\n",
    "    - Monday 30.1 at 14:00-15:00 room 407B Honka (Agora 4th floor)\n",
    "    - Monday 13.2 at 14:00-15:00 room 407B Honka (Agora 4th floor)\n",
    "    - Thursday 2.3 at lecture 10:15-12:00 "
   ]
  },
  {
   "cell_type": "markdown",
   "id": "ea03f4ab",
   "metadata": {},
   "source": [
    "**Grading**\n",
    "\n",
    "The exercise covers a part of the grading in this course. The course exam has 5 questions, 6 points of each. Exercise gives 6 points, i.e. the total score is 36 points.\n",
    "\n",
    "From the template below, you can see how many exercise points can be acquired from each task. Exam points are given according to the table below: <br>\n",
    "<br>\n",
    "7 exercise points: 1 exam point <br>\n",
    "8 exercise points: 2 exam points <br>\n",
    "9 exercise points: 3 exam points <br>\n",
    "10 exercise points: 4 exam points <br>\n",
    "11 exercise points: 5 exam points <br>\n",
    "12 exercise points: 6 exam points <br>\n",
    "<br>\n",
    "To pass the exercise, you need at least 7 exercise points, and at least 1 exercise point from each Part.\n",
    "    \n",
    "Each student will grade one submission from a peer and their own submission. After each Part deadline, example results are given. Study them carefully and perform the grading according to the given instructions. Mean value from the peer grading and self-grading is used for the final points. "
   ]
  },
  {
   "cell_type": "code",
   "execution_count": 2,
   "id": "20913a7e",
   "metadata": {},
   "outputs": [
    {
     "name": "stdout",
     "output_type": "stream",
     "text": [
      "The id code is: 9cff1d5c-a57d-11ed-9bb8-acde48001122\n"
     ]
    }
   ],
   "source": [
    "import uuid\n",
    "# Run this cell only once and save the code. Use the same id code for each Part.\n",
    "# Printing random id using uuid1()\n",
    "print (\"The id code is: \",end=\"\")\n",
    "print (uuid.uuid1())"
   ]
  },
  {
   "cell_type": "markdown",
   "id": "1214450f",
   "metadata": {},
   "source": [
    "#### Imports"
   ]
  },
  {
   "cell_type": "code",
   "execution_count": 3,
   "id": "22c0ff71",
   "metadata": {},
   "outputs": [],
   "source": [
    "import cv2\n",
    "import pandas as pd\n",
    "import os\n",
    "import matplotlib.pyplot as plt\n",
    "import random\n",
    "import numpy as np\n",
    "from scipy.stats import skew, kurtosis, entropy\n",
    "import math"
   ]
  },
  {
   "cell_type": "markdown",
   "id": "fb9b2c64",
   "metadata": {},
   "source": [
    "# Part 1"
   ]
  },
  {
   "cell_type": "markdown",
   "id": "41f6c75d",
   "metadata": {},
   "source": [
    "Read the original research article:\n",
    "\n",
    "İ. Çınar and M. Koklu. Identification of rice varieties using machine learning algorithms. Journal of Agricultural Sciences, 28(2):307–325, 2022. doi: 10.15832/ankutbd.862482.\n",
    "\n",
    "https://dergipark.org.tr/en/download/article-file/1513632"
   ]
  },
  {
   "cell_type": "markdown",
   "id": "3ce21d52",
   "metadata": {},
   "source": [
    "## Introduction (1 p)"
   ]
  },
  {
   "cell_type": "markdown",
   "id": "35ca8979",
   "metadata": {},
   "source": [
    "Will be written in Part 3"
   ]
  },
  {
   "cell_type": "markdown",
   "id": "6f605da2",
   "metadata": {},
   "source": [
    "## Preparations of the data (1 p)"
   ]
  },
  {
   "cell_type": "markdown",
   "id": "bd900472",
   "metadata": {},
   "source": [
    "Make three folders in your working folder: \"notebooks\", \"data\" and \"training_data\". Save this notebook in \"notebooks\" folder.\n",
    "<br> <br>\n",
    "Perform preparations for the data\n",
    "- import all the packages needed for this notebook in one cell \n",
    "- import the images. Data can be found from (downloading starts as you press the link) https://www.muratkoklu.com/datasets/vtdhnd09.php <br>\n",
    "    - save the data folders \"Arborio\", \"Basmati\" and \"Jasmine\" in \"data\" folder \n",
    "- take a random sample of 100 images from Arborio, Basmati and Jasmine rice species (i.e. 300 images in total) \n",
    "- determine the contour of each rice (you can use e.g. *findContours* from OpenCV) \n",
    "- plot one example image of each rice species, including the contour "
   ]
  },
  {
   "cell_type": "markdown",
   "id": "b8386fd1",
   "metadata": {},
   "source": [
    "## Feature extraction (2 p)"
   ]
  },
  {
   "cell_type": "markdown",
   "id": "83cc994d",
   "metadata": {},
   "source": [
    "Gather the feature data <br>\n",
    "<br>\n",
    "Color features (15) <br>\n",
    "- Calculate the following color features for each image, including only the pixels within the contour (you can use e.g. *pointPolygonTest* from OpenCV)\n",
    "    - Mean for each RGB color channel \n",
    "    - Variance for each RGB color channel \n",
    "    - Skewness for each RGB color channel \n",
    "    - Kurtosis for each RGB color channel \n",
    "    - Entropy for each RGB color channel \n",
    "    \n",
    "Dimension features (6) <br>\n",
    "- Fit an ellipse to the contour points (you can use e.g. *fitEllipse* from OpenCV) \n",
    "- Plot one example image of each rice species including the fitted ellipse \n",
    "- Calculate the following features for each image (for details, see the original article)\n",
    "    - the major axis length the ellipse \n",
    "    - the minor axis length of the ellipse \n",
    "    - area inside the contour (you can use e.g. *contourArea* from OpenCV) \n",
    "    - perimeter of the contour (you can use e.g. *arcLength* from OpenCV) \n",
    "    - roundness \n",
    "    - aspect ratio \n",
    "    \n",
    "Gather all the features in one array or dataframe: one data point in one row, including all feature values in columns.  <br>\n",
    "For each data point, include also information of the original image and the label (rice species). Save the data in \"training_data\" folder. "
   ]
  },
  {
   "cell_type": "markdown",
   "id": "35a4e567",
   "metadata": {},
   "source": [
    "#### Pt1"
   ]
  },
  {
   "cell_type": "code",
   "execution_count": 4,
   "id": "ba3059b6",
   "metadata": {},
   "outputs": [],
   "source": [
    "'''\n",
    "Helper function to read rice data\n",
    "'amount of samples': how many samples are read from folder a.k.a K\n",
    "'path': path to folder\n",
    "\n",
    "OUTPUT:\n",
    "numpy array (much simpler and faster arithmetic operations) of random images of size K read from path\n",
    "'''\n",
    "def get_rice_samples(amount_of_samples = 100, path = \"\") -> list():    \n",
    "    images = list()\n",
    "    for pic in random.choices(os.listdir(path), k = amount_of_samples):\n",
    "        assert pic is not None, f\"file {pic} could not be read, check with os.path.exists()\"\n",
    "        images.append(cv2.imread(os.path.join(path, pic)))\n",
    "    return np.array(images)"
   ]
  },
  {
   "cell_type": "code",
   "execution_count": 5,
   "id": "8f1f9ae1",
   "metadata": {},
   "outputs": [],
   "source": [
    "arborio_path, jasmine_path, basmati_path = \"../data/Arborio\", \"../data/Jasmine\", \"../data/Basmati\"\n",
    "\n",
    "\n",
    "arborio_samples = get_rice_samples(path = arborio_path)\n",
    "basmati_samples = get_rice_samples(path = basmati_path)\n",
    "jasmine_samples = get_rice_samples(path = jasmine_path)"
   ]
  },
  {
   "cell_type": "code",
   "execution_count": 6,
   "id": "c2a5d1d8",
   "metadata": {},
   "outputs": [
    {
     "name": "stdout",
     "output_type": "stream",
     "text": [
      "100\n",
      "100\n",
      "100\n"
     ]
    }
   ],
   "source": [
    "# verify correct amount of data was read\n",
    "print(len(arborio_samples))\n",
    "print(len(basmati_samples))\n",
    "print(len(jasmine_samples))"
   ]
  },
  {
   "cell_type": "markdown",
   "id": "666cb356",
   "metadata": {},
   "source": [
    "Determining contour of each rice\n",
    "\n",
    "(Own future reference on contours: To put in simple words findContours detects change in the image color and marks it as contour. The part that you want to detect should be white. \n",
    "Referenced from: https://medium.com/analytics-vidhya/opencv-findcontours-detailed-guide-692ee19eeb18)"
   ]
  },
  {
   "cell_type": "code",
   "execution_count": 7,
   "id": "70e20e1e",
   "metadata": {},
   "outputs": [],
   "source": [
    "# get a random piece of each rice\n",
    "singular_rices = {\"Jasmine\": jasmine_samples[np.random.randint(0,99)],\"Basmati\": basmati_samples[np.random.randint(0,99)],\"Arborio\": arborio_samples[np.random.randint(0,99)]}"
   ]
  },
  {
   "cell_type": "code",
   "execution_count": 8,
   "id": "2b04b4e2",
   "metadata": {},
   "outputs": [],
   "source": [
    "# images grayscaled\n",
    "\n",
    "img_gray_jasmine = cv2.cvtColor(singular_rices.get('Jasmine'), cv2.COLOR_BGR2GRAY)\n",
    "\n",
    "img_gray_basmati = cv2.cvtColor(singular_rices.get('Basmati'), cv2.COLOR_BGR2GRAY)\n",
    "\n",
    "img_gray_arborio = cv2.cvtColor(singular_rices.get('Arborio'), cv2.COLOR_BGR2GRAY)"
   ]
  },
  {
   "cell_type": "code",
   "execution_count": 9,
   "id": "459e0812",
   "metadata": {},
   "outputs": [],
   "source": [
    "def contour_image(image = \"\", threshold_value = 100, maximum_value = 255):\n",
    "    '''\n",
    "    image: grayscaled image\n",
    "    threshold_value: threshold value which is used to classify the pixel values, used by cv.threshold\n",
    "    maximum_value: value which is assigned to pixel values exceeding the threshold, used by cv.threshold\n",
    "\n",
    "    THRESH_BINARY_INV makes the are we want to detect white. See link above.\n",
    "\n",
    "    cv.threshold The method returns two outputs. \n",
    "    The first is the threshold that was used and the second output is the thresholded image.\n",
    "\n",
    "    OUTPUT\n",
    "    contoured image\n",
    "    '''\n",
    "    threshold, image = cv2.threshold(image, 100, 255, cv2.THRESH_BINARY_INV)\n",
    "    contours, hierarchy  = cv2.findContours(image, cv2.RETR_EXTERNAL, cv2.CHAIN_APPROX_NONE)\n",
    "    return cv2.drawContours(image, contours, -1 , (0, 255, 0), 2)"
   ]
  },
  {
   "cell_type": "code",
   "execution_count": 10,
   "id": "858827d8",
   "metadata": {},
   "outputs": [],
   "source": [
    "def compare_images(image = \"\", title = \"\"):\n",
    "    '''\n",
    "    Function to compare contoured and original. It uses plt instead of CV2 due to CV2 opening an external window\n",
    "    which is annoying. However the code for CV2 imshow will be left as comments for you to try.\n",
    "\n",
    "    image: non-contoured image\n",
    "    title_contoured: title for the contoured image. Presented as '<title> contoured'\n",
    "    title_og: title for og image. Presented as '<title> original'\n",
    "\n",
    "    OUTPUT\n",
    "    nice picture of a grain of rice both contoured and non-contoured :)\n",
    "    '''\n",
    "    fig = plt.figure() \n",
    "    \n",
    "    ax1 = fig.add_subplot(2, 2, 1)\n",
    "    ax1.set_title(f'{title} contoured')\n",
    "    # cmap here means colourmap which maps numbers to colours\n",
    "    ax1.imshow(contour_image(image = image), cmap = 'winter')\n",
    "    \n",
    "    ax2 = fig.add_subplot(2, 2, 2)\n",
    "    ax2.set_title(f\"{title} original\")\n",
    "    ax2.imshow(image, cmap = 'Greys_r')\n",
    "    \n",
    "    # hide numbers for aestethic reasons\n",
    "    ax1.axes.get_xaxis().set_visible(False)\n",
    "    ax1.axes.get_yaxis().set_visible(False)\n",
    "    ax2.axes.get_xaxis().set_visible(False)\n",
    "    ax2.axes.get_yaxis().set_visible(False)\n",
    "    \n",
    "    plt.show()\n",
    "    #cv2.imshow('mjääy', get_contours(image = img_gray_jasmine))\n",
    "    #cv2.waitKey(1000)\n",
    "    #cv2.destroyAllWindows()  "
   ]
  },
  {
   "cell_type": "code",
   "execution_count": 11,
   "id": "3a757528",
   "metadata": {},
   "outputs": [
    {
     "data": {
      "image/png": "[encoded data removed]",
      "text/plain": [
       "<Figure size 432x288 with 2 Axes>"
      ]
     },
     "metadata": {
      "needs_background": "light"
     },
     "output_type": "display_data"
    }
   ],
   "source": [
    "# Jasmine\n",
    "compare_images(image = img_gray_jasmine, title = \"Jasmine\")"
   ]
  },
  {
   "cell_type": "code",
   "execution_count": 12,
   "id": "c80fbaa7",
   "metadata": {},
   "outputs": [
    {
     "data": {
      "image/png": "[encoded data removed]",
      "text/plain": [
       "<Figure size 432x288 with 2 Axes>"
      ]
     },
     "metadata": {
      "needs_background": "light"
     },
     "output_type": "display_data"
    }
   ],
   "source": [
    "# Basmati\n",
    "compare_images(image = img_gray_basmati, title = 'Basmati')"
   ]
  },
  {
   "cell_type": "code",
   "execution_count": 13,
   "id": "6d4e7c23",
   "metadata": {},
   "outputs": [
    {
     "data": {
      "image/png": "[encoded data removed]",
      "text/plain": [
       "<Figure size 432x288 with 2 Axes>"
      ]
     },
     "metadata": {
      "needs_background": "light"
     },
     "output_type": "display_data"
    }
   ],
   "source": [
    "# Arborio\n",
    "compare_images(image = img_gray_arborio, title = \"Arborio\")"
   ]
  },
  {
   "cell_type": "markdown",
   "id": "bd5bfd6f",
   "metadata": {},
   "source": [
    "###### Pt2"
   ]
  },
  {
   "cell_type": "markdown",
   "id": "5bfb8ae9",
   "metadata": {},
   "source": [
    "Gather the feature data <br>\n",
    "<br>\n",
    "Color features (15) <br>\n",
    "- Calculate the following color features for each image, including only the pixels within the contour (you can use e.g. *pointPolygonTest* from OpenCV)\n",
    "    - Mean for each RGB color channel \n",
    "    - Variance for each RGB color channel \n",
    "    - Skewness for each RGB color channel \n",
    "    - Kurtosis for each RGB color channel \n",
    "    - Entropy for each RGB color channel \n",
    "    \n",
    "Dimension features (6) <br>\n",
    "- Fit an ellipse to the contour points (you can use e.g. *fitEllipse* from OpenCV) \n",
    "- Plot one example image of each rice species including the fitted ellipse \n",
    "- Calculate the following features for each image (for details, see the original article)\n",
    "    - the major axis length the ellipse \n",
    "    - the minor axis length of the ellipse \n",
    "    - area inside the contour (you can use e.g. *contourArea* from OpenCV) \n",
    "    - perimeter of the contour (you can use e.g. *arcLength* from OpenCV) \n",
    "    - roundness \n",
    "    - aspect ratio \n",
    "    \n",
    "Gather all the features in one array or dataframe: one data point in one row, including all feature values in columns.  <br>\n",
    "For each data point, include also information of the original image and the label (rice species). Save the data in \"training_data\" folder. "
   ]
  },
  {
   "cell_type": "code",
   "execution_count": 14,
   "id": "cc4cdb6a",
   "metadata": {},
   "outputs": [],
   "source": [
    "def plot_ellipse_and_rice(img):\n",
    "    '''\n",
    "    'img': picture of a grain of rice\n",
    "\n",
    "    OUTPUT\n",
    "    picture of said rice and its fitted ellipse\n",
    "    '''\n",
    "\n",
    "    gray = cv2.cvtColor(img, cv2.COLOR_BGR2GRAY)\n",
    "\n",
    "    # apply thresholding to convert grayscale to binary image\n",
    "    ret,thresh = cv2.threshold(gray,150,255,0)\n",
    "\n",
    "    # find the contours\n",
    "    contours,hierarchy = cv2.findContours(thresh, cv2.RETR_TREE,cv2.CHAIN_APPROX_SIMPLE)\n",
    "    print(f\"Number of contours detected: {len(contours)}\")         \n",
    "        \n",
    "    # fit the ellipse to the selected object\n",
    "    # some contours had lenght of sub 5 which in turn threw an error, therefore some filtering was done\n",
    "    ellipse = cv2.fitEllipse([contour for contour in contours if len(contour) >= 5][0])\n",
    "\n",
    "    # draw the ellipse on the input image\n",
    "    cv2.ellipse(img,ellipse, (0,0,255), 3)\n",
    "\n",
    "    # display the image with an ellipse drawn on it.\n",
    "    plt.imshow(img)\n",
    "   "
   ]
  },
  {
   "cell_type": "code",
   "execution_count": 15,
   "id": "2401111e",
   "metadata": {},
   "outputs": [
    {
     "name": "stdout",
     "output_type": "stream",
     "text": [
      "Number of contours detected: 1\n"
     ]
    },
    {
     "data": {
      "image/png": "[encoded data removed]",
      "text/plain": [
       "<Figure size 432x288 with 1 Axes>"
      ]
     },
     "metadata": {
      "needs_background": "light"
     },
     "output_type": "display_data"
    }
   ],
   "source": [
    "# Jasmine\n",
    "plot_ellipse_and_rice(singular_rices.get('Jasmine'))"
   ]
  },
  {
   "cell_type": "code",
   "execution_count": 16,
   "id": "f32ddb33",
   "metadata": {},
   "outputs": [
    {
     "name": "stdout",
     "output_type": "stream",
     "text": [
      "Number of contours detected: 1\n"
     ]
    },
    {
     "data": {
      "image/png": "[encoded data removed]",
      "text/plain": [
       "<Figure size 432x288 with 1 Axes>"
      ]
     },
     "metadata": {
      "needs_background": "light"
     },
     "output_type": "display_data"
    }
   ],
   "source": [
    "# Basmati\n",
    "plot_ellipse_and_rice(singular_rices.get('Basmati'))"
   ]
  },
  {
   "cell_type": "code",
   "execution_count": 17,
   "id": "649a1704",
   "metadata": {},
   "outputs": [
    {
     "name": "stdout",
     "output_type": "stream",
     "text": [
      "Number of contours detected: 4\n"
     ]
    },
    {
     "data": {
      "image/png": "[encoded data removed]",
      "text/plain": [
       "<Figure size 432x288 with 1 Axes>"
      ]
     },
     "metadata": {
      "needs_background": "light"
     },
     "output_type": "display_data"
    }
   ],
   "source": [
    "# Arborio\n",
    "plot_ellipse_and_rice(singular_rices.get('Arborio'))"
   ]
  },
  {
   "cell_type": "code",
   "execution_count": 18,
   "id": "7c0f410d",
   "metadata": {},
   "outputs": [],
   "source": [
    "def calculate_roundness(area, perimeter):\n",
    "    '''\n",
    "    Calculates roundness from area and perimeter\n",
    "    accoring to https://dergipark.org.tr/en/download/article-file/1513632 equation 4\n",
    "\n",
    "    equation: (4 * pi * A) / Pˆ2\n",
    "    '''\n",
    "    return (4 * math.pi * area) / (math.pow(perimeter, 2))"
   ]
  },
  {
   "cell_type": "code",
   "execution_count": 19,
   "id": "043148a2",
   "metadata": {},
   "outputs": [],
   "source": [
    "def extract_features(img, specie) -> dict():\n",
    "    '''\n",
    "    Extract dimension and colour data from a grain of rice\n",
    "    Extracts \n",
    "        - the major axis length the ellipse \n",
    "        - the minor axis length of the ellipse \n",
    "        - area inside the contour\n",
    "        - perimeter of the contour\n",
    "        - roundness (explained above)\n",
    "        - aspect ratio (major axis divided by minor axis)\n",
    "    and\n",
    "\n",
    "        - Mean \n",
    "        - Variance\n",
    "        - Skewness\n",
    "        - Kurtosis\n",
    "        - Entropy \n",
    "\n",
    "    from rgb channels from an image of rices\n",
    "    OUTPUT\n",
    "    dictionary of aforementioned data\n",
    "    '''\n",
    "\n",
    "    rice_features = {'specie': specie}\n",
    "    \n",
    "    # image into grayscale\n",
    "    gray = cv2.cvtColor(img, cv2.COLOR_BGR2GRAY)\n",
    "\n",
    "    # apply thresholding to convert grayscale to binary image\n",
    "    ret, thresh = cv2.threshold(gray,150,255,0)\n",
    "\n",
    "    # find the contours\n",
    "    contours_dimensions,_ = cv2.findContours(thresh, cv2.RETR_TREE,cv2.CHAIN_APPROX_SIMPLE)\n",
    "    contours_colours, _ = cv2.findContours(gray, cv2.RETR_EXTERNAL, cv2.CHAIN_APPROX_SIMPLE)\n",
    "        \n",
    "    # create an 8bit integer mask to find colours within contour\n",
    "    mask = np.zeros(gray.shape[:2], dtype = np.uint8)\n",
    "    cv2.drawContours(mask, contours_colours, -1, (255, 255, 255), -1)\n",
    "    \n",
    "    pixels = gray[mask == 255]\n",
    "    # fit the ellipse to the selected object\n",
    "    # some contours had lenght of sub 5 which in turn threw an error, therefore some filtering was done\n",
    "    contour = [contour for contour in contours_dimensions if len(contour) >= 5][0]\n",
    "    (x, y), (major_axis, minor_axis), angle = cv2.fitEllipse(contour)\n",
    "    \n",
    "    # Extract features\n",
    "    \n",
    "    # dimensions\n",
    "    rice_features['major_axis'] = major_axis\n",
    "    rice_features['minor_axis'] =  minor_axis\n",
    "    rice_features['area'] = cv2.contourArea(contour)\n",
    "    rice_features['perimeter'] = cv2.arcLength(contour, True) # 2nd parameter True indicates the contour is closed\n",
    "    rice_features['roundness'] = calculate_roundness(cv2.contourArea(contour), cv2.arcLength(contour, True))\n",
    "    rice_features['aspect_ratio'] = (major_axis / minor_axis)\n",
    "    \n",
    "    # colours\n",
    "    rice_features['rgb_mean'] = np.mean(pixels)\n",
    "    rice_features['rgb_variance'] = np.var(pixels)\n",
    "    rice_features['rgb_skewness'] = skew(pixels)\n",
    "    rice_features['rgb_kurtosis'] = kurtosis(pixels)\n",
    "    rice_features['rgb_entropy'] = entropy(pixels)\n",
    "    \n",
    "    return rice_features"
   ]
  },
  {
   "cell_type": "code",
   "execution_count": 20,
   "id": "33befcf6",
   "metadata": {},
   "outputs": [
    {
     "data": {
      "text/plain": [
       "{'specie': 'Arborio',\n",
       " 'major_axis': 22.964153289794922,\n",
       " 'minor_axis': 30.195314407348633,\n",
       " 'area': 44.0,\n",
       " 'perimeter': 66.28427052497864,\n",
       " 'roundness': 0.1258466265311601,\n",
       " 'aspect_ratio': 0.7605204231357875,\n",
       " 'rgb_mean': 68.76637279596977,\n",
       " 'rgb_variance': 8710.330268995245,\n",
       " 'rgb_skewness': 0.8171138786466599,\n",
       " 'rgb_kurtosis': -1.203778067951415,\n",
       " 'rgb_entropy': 9.064042519901395}"
      ]
     },
     "execution_count": 20,
     "metadata": {},
     "output_type": "execute_result"
    }
   ],
   "source": [
    "# Verify \n",
    "extract_features(singular_rices.get('Arborio'), 'Arborio')"
   ]
  },
  {
   "cell_type": "code",
   "execution_count": 21,
   "id": "30e16717",
   "metadata": {},
   "outputs": [],
   "source": [
    "# concat all data to one df\n",
    "jasmine_data = pd.DataFrame(data = [extract_features(rice, 'jasmine') for rice in jasmine_samples])\n",
    "basmati_data = pd.DataFrame(data = [extract_features(rice, 'basmati') for rice in basmati_samples])\n",
    "arborio_data = pd.DataFrame(data = [extract_features(rice, 'arborio') for rice in arborio_samples])\n",
    "training_data = pd.concat([arborio_data, basmati_data, jasmine_data])"
   ]
  },
  {
   "cell_type": "code",
   "execution_count": 22,
   "id": "d39201a3",
   "metadata": {
    "scrolled": true
   },
   "outputs": [
    {
     "data": {
      "text/html": [
       "<div>\n",
       "<style scoped>\n",
       "    .dataframe tbody tr th:only-of-type {\n",
       "        vertical-align: middle;\n",
       "    }\n",
       "\n",
       "    .dataframe tbody tr th {\n",
       "        vertical-align: top;\n",
       "    }\n",
       "\n",
       "    .dataframe thead th {\n",
       "        text-align: right;\n",
       "    }\n",
       "</style>\n",
       "<table border=\"1\" class=\"dataframe\">\n",
       "  <thead>\n",
       "    <tr style=\"text-align: right;\">\n",
       "      <th></th>\n",
       "      <th>specie</th>\n",
       "      <th>major_axis</th>\n",
       "      <th>minor_axis</th>\n",
       "      <th>area</th>\n",
       "      <th>perimeter</th>\n",
       "      <th>roundness</th>\n",
       "      <th>aspect_ratio</th>\n",
       "      <th>rgb_mean</th>\n",
       "      <th>rgb_variance</th>\n",
       "      <th>rgb_skewness</th>\n",
       "      <th>rgb_kurtosis</th>\n",
       "      <th>rgb_entropy</th>\n",
       "    </tr>\n",
       "  </thead>\n",
       "  <tbody>\n",
       "    <tr>\n",
       "      <th>0</th>\n",
       "      <td>arborio</td>\n",
       "      <td>68.700218</td>\n",
       "      <td>129.603683</td>\n",
       "      <td>6791.0</td>\n",
       "      <td>367.847759</td>\n",
       "      <td>0.630678</td>\n",
       "      <td>0.530079</td>\n",
       "      <td>65.771250</td>\n",
       "      <td>8875.720352</td>\n",
       "      <td>0.828295</td>\n",
       "      <td>-1.273344</td>\n",
       "      <td>8.981935</td>\n",
       "    </tr>\n",
       "    <tr>\n",
       "      <th>1</th>\n",
       "      <td>arborio</td>\n",
       "      <td>70.672485</td>\n",
       "      <td>148.668976</td>\n",
       "      <td>8147.5</td>\n",
       "      <td>389.747254</td>\n",
       "      <td>0.674013</td>\n",
       "      <td>0.475368</td>\n",
       "      <td>78.728503</td>\n",
       "      <td>10587.668455</td>\n",
       "      <td>0.620455</td>\n",
       "      <td>-1.582806</td>\n",
       "      <td>9.130872</td>\n",
       "    </tr>\n",
       "    <tr>\n",
       "      <th>2</th>\n",
       "      <td>arborio</td>\n",
       "      <td>70.639702</td>\n",
       "      <td>137.116470</td>\n",
       "      <td>7407.0</td>\n",
       "      <td>372.617313</td>\n",
       "      <td>0.670388</td>\n",
       "      <td>0.515180</td>\n",
       "      <td>76.572642</td>\n",
       "      <td>10807.689699</td>\n",
       "      <td>0.705595</td>\n",
       "      <td>-1.460674</td>\n",
       "      <td>9.039958</td>\n",
       "    </tr>\n",
       "    <tr>\n",
       "      <th>3</th>\n",
       "      <td>arborio</td>\n",
       "      <td>77.463692</td>\n",
       "      <td>149.816025</td>\n",
       "      <td>9009.0</td>\n",
       "      <td>412.274165</td>\n",
       "      <td>0.666061</td>\n",
       "      <td>0.517059</td>\n",
       "      <td>82.916819</td>\n",
       "      <td>10808.555049</td>\n",
       "      <td>0.538893</td>\n",
       "      <td>-1.664097</td>\n",
       "      <td>9.225006</td>\n",
       "    </tr>\n",
       "    <tr>\n",
       "      <th>4</th>\n",
       "      <td>arborio</td>\n",
       "      <td>64.477417</td>\n",
       "      <td>135.189926</td>\n",
       "      <td>6533.0</td>\n",
       "      <td>342.107645</td>\n",
       "      <td>0.701450</td>\n",
       "      <td>0.476940</td>\n",
       "      <td>69.615338</td>\n",
       "      <td>10089.197770</td>\n",
       "      <td>0.842129</td>\n",
       "      <td>-1.239608</td>\n",
       "      <td>8.927149</td>\n",
       "    </tr>\n",
       "    <tr>\n",
       "      <th>...</th>\n",
       "      <td>...</td>\n",
       "      <td>...</td>\n",
       "      <td>...</td>\n",
       "      <td>...</td>\n",
       "      <td>...</td>\n",
       "      <td>...</td>\n",
       "      <td>...</td>\n",
       "      <td>...</td>\n",
       "      <td>...</td>\n",
       "      <td>...</td>\n",
       "      <td>...</td>\n",
       "      <td>...</td>\n",
       "    </tr>\n",
       "    <tr>\n",
       "      <th>95</th>\n",
       "      <td>jasmine</td>\n",
       "      <td>49.447021</td>\n",
       "      <td>135.235138</td>\n",
       "      <td>5022.5</td>\n",
       "      <td>333.060963</td>\n",
       "      <td>0.568961</td>\n",
       "      <td>0.365637</td>\n",
       "      <td>55.501363</td>\n",
       "      <td>8324.841332</td>\n",
       "      <td>1.145976</td>\n",
       "      <td>-0.653094</td>\n",
       "      <td>8.725921</td>\n",
       "    </tr>\n",
       "    <tr>\n",
       "      <th>96</th>\n",
       "      <td>jasmine</td>\n",
       "      <td>42.695312</td>\n",
       "      <td>155.380173</td>\n",
       "      <td>4828.0</td>\n",
       "      <td>337.563489</td>\n",
       "      <td>0.532435</td>\n",
       "      <td>0.274780</td>\n",
       "      <td>54.693157</td>\n",
       "      <td>8206.761998</td>\n",
       "      <td>1.161091</td>\n",
       "      <td>-0.626585</td>\n",
       "      <td>8.689506</td>\n",
       "    </tr>\n",
       "    <tr>\n",
       "      <th>97</th>\n",
       "      <td>jasmine</td>\n",
       "      <td>44.958813</td>\n",
       "      <td>153.548889</td>\n",
       "      <td>5238.5</td>\n",
       "      <td>354.776692</td>\n",
       "      <td>0.523006</td>\n",
       "      <td>0.292798</td>\n",
       "      <td>59.773636</td>\n",
       "      <td>9305.015640</td>\n",
       "      <td>1.092603</td>\n",
       "      <td>-0.781501</td>\n",
       "      <td>8.747848</td>\n",
       "    </tr>\n",
       "    <tr>\n",
       "      <th>98</th>\n",
       "      <td>jasmine</td>\n",
       "      <td>44.629654</td>\n",
       "      <td>155.253067</td>\n",
       "      <td>5202.0</td>\n",
       "      <td>350.534052</td>\n",
       "      <td>0.532010</td>\n",
       "      <td>0.287464</td>\n",
       "      <td>57.739960</td>\n",
       "      <td>8230.633994</td>\n",
       "      <td>1.037925</td>\n",
       "      <td>-0.890808</td>\n",
       "      <td>8.747614</td>\n",
       "    </tr>\n",
       "    <tr>\n",
       "      <th>99</th>\n",
       "      <td>jasmine</td>\n",
       "      <td>43.666508</td>\n",
       "      <td>150.374771</td>\n",
       "      <td>4868.5</td>\n",
       "      <td>338.859955</td>\n",
       "      <td>0.532800</td>\n",
       "      <td>0.290385</td>\n",
       "      <td>53.856815</td>\n",
       "      <td>8089.243032</td>\n",
       "      <td>1.185346</td>\n",
       "      <td>-0.565634</td>\n",
       "      <td>8.702754</td>\n",
       "    </tr>\n",
       "  </tbody>\n",
       "</table>\n",
       "<p>300 rows × 12 columns</p>\n",
       "</div>"
      ],
      "text/plain": [
       "     specie  major_axis  minor_axis    area   perimeter  roundness  \\\n",
       "0   arborio   68.700218  129.603683  6791.0  367.847759   0.630678   \n",
       "1   arborio   70.672485  148.668976  8147.5  389.747254   0.674013   \n",
       "2   arborio   70.639702  137.116470  7407.0  372.617313   0.670388   \n",
       "3   arborio   77.463692  149.816025  9009.0  412.274165   0.666061   \n",
       "4   arborio   64.477417  135.189926  6533.0  342.107645   0.701450   \n",
       "..      ...         ...         ...     ...         ...        ...   \n",
       "95  jasmine   49.447021  135.235138  5022.5  333.060963   0.568961   \n",
       "96  jasmine   42.695312  155.380173  4828.0  337.563489   0.532435   \n",
       "97  jasmine   44.958813  153.548889  5238.5  354.776692   0.523006   \n",
       "98  jasmine   44.629654  155.253067  5202.0  350.534052   0.532010   \n",
       "99  jasmine   43.666508  150.374771  4868.5  338.859955   0.532800   \n",
       "\n",
       "    aspect_ratio   rgb_mean  rgb_variance  rgb_skewness  rgb_kurtosis  \\\n",
       "0       0.530079  65.771250   8875.720352      0.828295     -1.273344   \n",
       "1       0.475368  78.728503  10587.668455      0.620455     -1.582806   \n",
       "2       0.515180  76.572642  10807.689699      0.705595     -1.460674   \n",
       "3       0.517059  82.916819  10808.555049      0.538893     -1.664097   \n",
       "4       0.476940  69.615338  10089.197770      0.842129     -1.239608   \n",
       "..           ...        ...           ...           ...           ...   \n",
       "95      0.365637  55.501363   8324.841332      1.145976     -0.653094   \n",
       "96      0.274780  54.693157   8206.761998      1.161091     -0.626585   \n",
       "97      0.292798  59.773636   9305.015640      1.092603     -0.781501   \n",
       "98      0.287464  57.739960   8230.633994      1.037925     -0.890808   \n",
       "99      0.290385  53.856815   8089.243032      1.185346     -0.565634   \n",
       "\n",
       "    rgb_entropy  \n",
       "0      8.981935  \n",
       "1      9.130872  \n",
       "2      9.039958  \n",
       "3      9.225006  \n",
       "4      8.927149  \n",
       "..          ...  \n",
       "95     8.725921  \n",
       "96     8.689506  \n",
       "97     8.747848  \n",
       "98     8.747614  \n",
       "99     8.702754  \n",
       "\n",
       "[300 rows x 12 columns]"
      ]
     },
     "execution_count": 22,
     "metadata": {},
     "output_type": "execute_result"
    }
   ],
   "source": [
    "training_data"
   ]
  },
  {
   "cell_type": "code",
   "execution_count": 23,
   "id": "7f3e70c6",
   "metadata": {},
   "outputs": [],
   "source": [
    "# save data into training data as csv\n",
    "# commented out to avoid creating multiple .csv's when re running the notebook\n",
    "#training_data.to_csv(path_or_buf = '../training_data/training_data.csv',index = False)"
   ]
  },
  {
   "cell_type": "code",
   "execution_count": 24,
   "id": "236f17f5",
   "metadata": {},
   "outputs": [
    {
     "data": {
      "text/html": [
       "<div>\n",
       "<style scoped>\n",
       "    .dataframe tbody tr th:only-of-type {\n",
       "        vertical-align: middle;\n",
       "    }\n",
       "\n",
       "    .dataframe tbody tr th {\n",
       "        vertical-align: top;\n",
       "    }\n",
       "\n",
       "    .dataframe thead th {\n",
       "        text-align: right;\n",
       "    }\n",
       "</style>\n",
       "<table border=\"1\" class=\"dataframe\">\n",
       "  <thead>\n",
       "    <tr style=\"text-align: right;\">\n",
       "      <th></th>\n",
       "      <th>specie</th>\n",
       "      <th>major_axis</th>\n",
       "      <th>minor_axis</th>\n",
       "      <th>area</th>\n",
       "      <th>perimeter</th>\n",
       "      <th>roundness</th>\n",
       "      <th>aspect_ratio</th>\n",
       "      <th>rgb_mean</th>\n",
       "      <th>rgb_variance</th>\n",
       "      <th>rgb_skewness</th>\n",
       "      <th>rgb_kurtosis</th>\n",
       "      <th>rgb_entropy</th>\n",
       "    </tr>\n",
       "  </thead>\n",
       "  <tbody>\n",
       "    <tr>\n",
       "      <th>0</th>\n",
       "      <td>arborio</td>\n",
       "      <td>70.683907</td>\n",
       "      <td>138.349289</td>\n",
       "      <td>7436.0</td>\n",
       "      <td>360.676187</td>\n",
       "      <td>0.718314</td>\n",
       "      <td>0.510909</td>\n",
       "      <td>77.698068</td>\n",
       "      <td>11337.075914</td>\n",
       "      <td>0.719969</td>\n",
       "      <td>-1.451262</td>\n",
       "      <td>9.045737</td>\n",
       "    </tr>\n",
       "    <tr>\n",
       "      <th>1</th>\n",
       "      <td>arborio</td>\n",
       "      <td>72.122490</td>\n",
       "      <td>137.612091</td>\n",
       "      <td>7625.5</td>\n",
       "      <td>375.747255</td>\n",
       "      <td>0.678714</td>\n",
       "      <td>0.524100</td>\n",
       "      <td>76.403899</td>\n",
       "      <td>10338.872754</td>\n",
       "      <td>0.663411</td>\n",
       "      <td>-1.521347</td>\n",
       "      <td>9.074005</td>\n",
       "    </tr>\n",
       "    <tr>\n",
       "      <th>2</th>\n",
       "      <td>arborio</td>\n",
       "      <td>68.586929</td>\n",
       "      <td>142.850555</td>\n",
       "      <td>7464.5</td>\n",
       "      <td>372.090400</td>\n",
       "      <td>0.677507</td>\n",
       "      <td>0.480131</td>\n",
       "      <td>71.443808</td>\n",
       "      <td>9695.130062</td>\n",
       "      <td>0.737846</td>\n",
       "      <td>-1.422285</td>\n",
       "      <td>9.061454</td>\n",
       "    </tr>\n",
       "    <tr>\n",
       "      <th>3</th>\n",
       "      <td>arborio</td>\n",
       "      <td>66.357811</td>\n",
       "      <td>118.031693</td>\n",
       "      <td>6005.5</td>\n",
       "      <td>328.149276</td>\n",
       "      <td>0.700836</td>\n",
       "      <td>0.562203</td>\n",
       "      <td>68.402912</td>\n",
       "      <td>10161.661355</td>\n",
       "      <td>0.881597</td>\n",
       "      <td>-1.193623</td>\n",
       "      <td>8.856184</td>\n",
       "    </tr>\n",
       "    <tr>\n",
       "      <th>4</th>\n",
       "      <td>arborio</td>\n",
       "      <td>75.477547</td>\n",
       "      <td>131.814529</td>\n",
       "      <td>7480.0</td>\n",
       "      <td>356.936072</td>\n",
       "      <td>0.737786</td>\n",
       "      <td>0.572604</td>\n",
       "      <td>79.287695</td>\n",
       "      <td>10994.320426</td>\n",
       "      <td>0.644148</td>\n",
       "      <td>-1.550212</td>\n",
       "      <td>9.046471</td>\n",
       "    </tr>\n",
       "    <tr>\n",
       "      <th>...</th>\n",
       "      <td>...</td>\n",
       "      <td>...</td>\n",
       "      <td>...</td>\n",
       "      <td>...</td>\n",
       "      <td>...</td>\n",
       "      <td>...</td>\n",
       "      <td>...</td>\n",
       "      <td>...</td>\n",
       "      <td>...</td>\n",
       "      <td>...</td>\n",
       "      <td>...</td>\n",
       "      <td>...</td>\n",
       "    </tr>\n",
       "    <tr>\n",
       "      <th>295</th>\n",
       "      <td>jasmine</td>\n",
       "      <td>46.139156</td>\n",
       "      <td>153.320953</td>\n",
       "      <td>5111.5</td>\n",
       "      <td>337.203099</td>\n",
       "      <td>0.564905</td>\n",
       "      <td>0.300932</td>\n",
       "      <td>54.750982</td>\n",
       "      <td>7824.693884</td>\n",
       "      <td>1.103757</td>\n",
       "      <td>-0.755142</td>\n",
       "      <td>8.740615</td>\n",
       "    </tr>\n",
       "    <tr>\n",
       "      <th>296</th>\n",
       "      <td>jasmine</td>\n",
       "      <td>57.052410</td>\n",
       "      <td>231.926605</td>\n",
       "      <td>9708.0</td>\n",
       "      <td>498.308657</td>\n",
       "      <td>0.491295</td>\n",
       "      <td>0.245993</td>\n",
       "      <td>102.387192</td>\n",
       "      <td>13153.347447</td>\n",
       "      <td>0.282330</td>\n",
       "      <td>-1.902339</td>\n",
       "      <td>9.272946</td>\n",
       "    </tr>\n",
       "    <tr>\n",
       "      <th>297</th>\n",
       "      <td>jasmine</td>\n",
       "      <td>46.841129</td>\n",
       "      <td>156.218246</td>\n",
       "      <td>5343.0</td>\n",
       "      <td>344.793938</td>\n",
       "      <td>0.564775</td>\n",
       "      <td>0.299844</td>\n",
       "      <td>55.429328</td>\n",
       "      <td>7714.310652</td>\n",
       "      <td>1.053469</td>\n",
       "      <td>-0.868308</td>\n",
       "      <td>8.775470</td>\n",
       "    </tr>\n",
       "    <tr>\n",
       "      <th>298</th>\n",
       "      <td>jasmine</td>\n",
       "      <td>45.635254</td>\n",
       "      <td>156.543533</td>\n",
       "      <td>5394.0</td>\n",
       "      <td>360.132030</td>\n",
       "      <td>0.522634</td>\n",
       "      <td>0.291518</td>\n",
       "      <td>62.853004</td>\n",
       "      <td>9850.611511</td>\n",
       "      <td>1.040942</td>\n",
       "      <td>-0.893338</td>\n",
       "      <td>8.771268</td>\n",
       "    </tr>\n",
       "    <tr>\n",
       "      <th>299</th>\n",
       "      <td>jasmine</td>\n",
       "      <td>43.075241</td>\n",
       "      <td>152.825897</td>\n",
       "      <td>4843.5</td>\n",
       "      <td>331.203097</td>\n",
       "      <td>0.554856</td>\n",
       "      <td>0.281858</td>\n",
       "      <td>57.625627</td>\n",
       "      <td>9425.323973</td>\n",
       "      <td>1.197735</td>\n",
       "      <td>-0.535566</td>\n",
       "      <td>8.678272</td>\n",
       "    </tr>\n",
       "  </tbody>\n",
       "</table>\n",
       "<p>300 rows × 12 columns</p>\n",
       "</div>"
      ],
      "text/plain": [
       "      specie  major_axis  minor_axis    area   perimeter  roundness  \\\n",
       "0    arborio   70.683907  138.349289  7436.0  360.676187   0.718314   \n",
       "1    arborio   72.122490  137.612091  7625.5  375.747255   0.678714   \n",
       "2    arborio   68.586929  142.850555  7464.5  372.090400   0.677507   \n",
       "3    arborio   66.357811  118.031693  6005.5  328.149276   0.700836   \n",
       "4    arborio   75.477547  131.814529  7480.0  356.936072   0.737786   \n",
       "..       ...         ...         ...     ...         ...        ...   \n",
       "295  jasmine   46.139156  153.320953  5111.5  337.203099   0.564905   \n",
       "296  jasmine   57.052410  231.926605  9708.0  498.308657   0.491295   \n",
       "297  jasmine   46.841129  156.218246  5343.0  344.793938   0.564775   \n",
       "298  jasmine   45.635254  156.543533  5394.0  360.132030   0.522634   \n",
       "299  jasmine   43.075241  152.825897  4843.5  331.203097   0.554856   \n",
       "\n",
       "     aspect_ratio    rgb_mean  rgb_variance  rgb_skewness  rgb_kurtosis  \\\n",
       "0        0.510909   77.698068  11337.075914      0.719969     -1.451262   \n",
       "1        0.524100   76.403899  10338.872754      0.663411     -1.521347   \n",
       "2        0.480131   71.443808   9695.130062      0.737846     -1.422285   \n",
       "3        0.562203   68.402912  10161.661355      0.881597     -1.193623   \n",
       "4        0.572604   79.287695  10994.320426      0.644148     -1.550212   \n",
       "..            ...         ...           ...           ...           ...   \n",
       "295      0.300932   54.750982   7824.693884      1.103757     -0.755142   \n",
       "296      0.245993  102.387192  13153.347447      0.282330     -1.902339   \n",
       "297      0.299844   55.429328   7714.310652      1.053469     -0.868308   \n",
       "298      0.291518   62.853004   9850.611511      1.040942     -0.893338   \n",
       "299      0.281858   57.625627   9425.323973      1.197735     -0.535566   \n",
       "\n",
       "     rgb_entropy  \n",
       "0       9.045737  \n",
       "1       9.074005  \n",
       "2       9.061454  \n",
       "3       8.856184  \n",
       "4       9.046471  \n",
       "..           ...  \n",
       "295     8.740615  \n",
       "296     9.272946  \n",
       "297     8.775470  \n",
       "298     8.771268  \n",
       "299     8.678272  \n",
       "\n",
       "[300 rows x 12 columns]"
      ]
     },
     "execution_count": 24,
     "metadata": {},
     "output_type": "execute_result"
    }
   ],
   "source": [
    "# verify it works\n",
    "pd.read_csv('../training_data/training_data.csv')"
   ]
  },
  {
   "cell_type": "code",
   "execution_count": null,
   "id": "3deece35",
   "metadata": {},
   "outputs": [],
   "source": []
  }
 ],
 "metadata": {
  "kernelspec": {
   "display_name": "Python 3 (ipykernel)",
   "language": "python",
   "name": "python3"
  },
  "language_info": {
   "codemirror_mode": {
    "name": "ipython",
    "version": 3
   },
   "file_extension": ".py",
   "mimetype": "text/x-python",
   "name": "python",
   "nbconvert_exporter": "python",
   "pygments_lexer": "ipython3",
   "version": "3.10.1"
  },
  "toc": {
   "base_numbering": 1,
   "nav_menu": {},
   "number_sections": true,
   "sideBar": true,
   "skip_h1_title": false,
   "title_cell": "Table of Contents",
   "title_sidebar": "Contents",
   "toc_cell": false,
   "toc_position": {
    "height": "calc(100% - 180px)",
    "left": "10px",
    "top": "150px",
    "width": "232px"
   },
   "toc_section_display": true,
   "toc_window_display": true
  }
 },
 "nbformat": 4,
 "nbformat_minor": 5
}
