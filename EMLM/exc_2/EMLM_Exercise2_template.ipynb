{
 "cells": [
  {
   "cell_type": "markdown",
   "metadata": {},
   "source": [
    "Jeremias Shadbolt <br>\n",
    "Student number 1900386 <br>\n",
    "7 - 8.2.2023  <br>"
   ]
  },
  {
   "cell_type": "markdown",
   "metadata": {},
   "source": [
    "# Exercise 2 | TKO_7092 Evaluation of Machine Learning Methods 2023"
   ]
  },
  {
   "cell_type": "markdown",
   "metadata": {},
   "source": [
    "### Prediction of the metal ion content from multi-parameter data\n",
    "##### Use K-Nearest Neighbor Regression with euclidean distance to predict total metal concentration (c_total), concentration of Cadmium (Cd) and concentration of Lead (Pb), for each sample using number of neighbors k = 3.<br> \n",
    "\n",
    "    - You may use Nearest Neighbor Regression from https://scikit-learn.org/stable/modules/neighbors.html\n",
    "    - The data should be standarized using z-score. (Using sklearn.preprocessing.StandardScaler is allowed)\n",
    "    - Implement your own Leave-One-Out cross-validation and calculate the C-index for each output (c_total, Cd, Pb). \n",
    "    - Implement your own Leave-Replicas-Out cross-validation and calculate the C-index for each output (c_total, Cd, Pb).\n",
    "    - Return your solution as a Jupyter Notebook .ipynb notebook and as a PDF-file made from it.\n",
    "    - Submit to moodle your solution on ** Wednesday 8 of February ** at the latest."
   ]
  },
  {
   "cell_type": "markdown",
   "metadata": {},
   "source": [
    "## Import libraries"
   ]
  },
  {
   "cell_type": "code",
   "execution_count": 1,
   "metadata": {},
   "outputs": [],
   "source": [
    "#In this cell import all libraries you need. For example: \n",
    "import numpy as np\n",
    "import pandas as pd\n",
    "from sklearn.preprocessing import StandardScaler\n",
    "import matplotlib.pyplot as plt\n",
    "from sklearn.neighbors import KNeighborsRegressor"
   ]
  },
  {
   "cell_type": "markdown",
   "metadata": {},
   "source": [
    "## Read and visualize the dataset"
   ]
  },
  {
   "cell_type": "code",
   "execution_count": 2,
   "metadata": {},
   "outputs": [
    {
     "data": {
      "text/plain": [
       "(225, 6)"
      ]
     },
     "metadata": {},
     "output_type": "display_data"
    },
    {
     "data": {
      "text/html": [
       "<div>\n",
       "<style scoped>\n",
       "    .dataframe tbody tr th:only-of-type {\n",
       "        vertical-align: middle;\n",
       "    }\n",
       "\n",
       "    .dataframe tbody tr th {\n",
       "        vertical-align: top;\n",
       "    }\n",
       "\n",
       "    .dataframe thead th {\n",
       "        text-align: right;\n",
       "    }\n",
       "</style>\n",
       "<table border=\"1\" class=\"dataframe\">\n",
       "  <thead>\n",
       "    <tr style=\"text-align: right;\">\n",
       "      <th></th>\n",
       "      <th>c_total</th>\n",
       "      <th>Cd</th>\n",
       "      <th>Pb</th>\n",
       "      <th>Mod1</th>\n",
       "      <th>Mod2</th>\n",
       "      <th>Mod3</th>\n",
       "    </tr>\n",
       "  </thead>\n",
       "  <tbody>\n",
       "    <tr>\n",
       "      <th>0</th>\n",
       "      <td>0</td>\n",
       "      <td>0.0</td>\n",
       "      <td>0.0</td>\n",
       "      <td>9945</td>\n",
       "      <td>119</td>\n",
       "      <td>72335</td>\n",
       "    </tr>\n",
       "    <tr>\n",
       "      <th>1</th>\n",
       "      <td>0</td>\n",
       "      <td>0.0</td>\n",
       "      <td>0.0</td>\n",
       "      <td>10786</td>\n",
       "      <td>117</td>\n",
       "      <td>82977</td>\n",
       "    </tr>\n",
       "    <tr>\n",
       "      <th>2</th>\n",
       "      <td>0</td>\n",
       "      <td>0.0</td>\n",
       "      <td>0.0</td>\n",
       "      <td>10812</td>\n",
       "      <td>120</td>\n",
       "      <td>98594</td>\n",
       "    </tr>\n",
       "    <tr>\n",
       "      <th>3</th>\n",
       "      <td>14</td>\n",
       "      <td>0.0</td>\n",
       "      <td>14.0</td>\n",
       "      <td>9742</td>\n",
       "      <td>127</td>\n",
       "      <td>154323</td>\n",
       "    </tr>\n",
       "    <tr>\n",
       "      <th>4</th>\n",
       "      <td>14</td>\n",
       "      <td>0.0</td>\n",
       "      <td>14.0</td>\n",
       "      <td>8495</td>\n",
       "      <td>120</td>\n",
       "      <td>131672</td>\n",
       "    </tr>\n",
       "  </tbody>\n",
       "</table>\n",
       "</div>"
      ],
      "text/plain": [
       "   c_total   Cd    Pb   Mod1  Mod2    Mod3\n",
       "0        0  0.0   0.0   9945   119   72335\n",
       "1        0  0.0   0.0  10786   117   82977\n",
       "2        0  0.0   0.0  10812   120   98594\n",
       "3       14  0.0  14.0   9742   127  154323\n",
       "4       14  0.0  14.0   8495   120  131672"
      ]
     },
     "metadata": {},
     "output_type": "display_data"
    },
    {
     "data": {
      "text/plain": [
       "c_total      int64\n",
       "Cd         float64\n",
       "Pb         float64\n",
       "Mod1         int64\n",
       "Mod2         int64\n",
       "Mod3         int64\n",
       "dtype: object"
      ]
     },
     "metadata": {},
     "output_type": "display_data"
    }
   ],
   "source": [
    "#In this cell read the file Water_data.csv\n",
    "#Print the dataset dimesions (i.e. number of rows and columns)\n",
    "#Print the first 5 rows of the dataset\n",
    "data = pd.read_csv('Water_data.csv')\n",
    "\n",
    "display(data.shape)\n",
    "display(data.head())\n",
    "display(data.dtypes)"
   ]
  },
  {
   "cell_type": "markdown",
   "metadata": {},
   "source": [
    "#### To show understanding of the data, answer the following questions:\n",
    "- How many different mixtures of Cadmium (Cd) and Lead (Pb) were measured? <br>\n",
    "- How many total concentrations (c_total) were measured? <br>\n",
    "- How many mixtures have less than 4 replicas? <br>\n",
    "- Make plots of Lead (Pb) and Cadmium (Cd) mixtures for low and high concentrations. <br>\n",
    "Where low concentrations are those with c_total <= 100, while in high concentration c_total > 100.<br>\n",
    "Hint: plots are similar to the ones presented in the video lecture.  "
   ]
  },
  {
   "cell_type": "code",
   "execution_count": 3,
   "metadata": {},
   "outputs": [
    {
     "name": "stdout",
     "output_type": "stream",
     "text": [
      "Total different mixtures: 67\n",
      "Total concentrations measured: 12\n",
      "Amount of mixtures with less than 4 replicas: 0\n"
     ]
    }
   ],
   "source": [
    "#In this cell write the code to answer the previous questions and print the answers.\n",
    "print(f\"Total different mixtures: {len(data[['Cd', 'Pb']].drop_duplicates())}\")\n",
    "print(f\"Total concentrations measured: {len(data['c_total'].unique())}\")\n",
    "print(f\"Amount of mixtures with less than 4 replicas: {len([mixture for mixture in data[['Cd', 'Pb']].columns if data[['Cd', 'Pb']][mixture].nunique() < 4])}\")\n"
   ]
  },
  {
   "cell_type": "code",
   "execution_count": 4,
   "metadata": {
    "scrolled": false
   },
   "outputs": [
    {
     "data": {
      "text/html": [
       "<div>\n",
       "<style scoped>\n",
       "    .dataframe tbody tr th:only-of-type {\n",
       "        vertical-align: middle;\n",
       "    }\n",
       "\n",
       "    .dataframe tbody tr th {\n",
       "        vertical-align: top;\n",
       "    }\n",
       "\n",
       "    .dataframe thead th {\n",
       "        text-align: right;\n",
       "    }\n",
       "</style>\n",
       "<table border=\"1\" class=\"dataframe\">\n",
       "  <thead>\n",
       "    <tr style=\"text-align: right;\">\n",
       "      <th></th>\n",
       "      <th>c_total</th>\n",
       "      <th>Cd</th>\n",
       "      <th>Pb</th>\n",
       "      <th>Mod1</th>\n",
       "      <th>Mod2</th>\n",
       "      <th>Mod3</th>\n",
       "    </tr>\n",
       "  </thead>\n",
       "  <tbody>\n",
       "    <tr>\n",
       "      <th>129</th>\n",
       "      <td>200</td>\n",
       "      <td>0.0</td>\n",
       "      <td>200.0</td>\n",
       "      <td>32540</td>\n",
       "      <td>8047</td>\n",
       "      <td>56799</td>\n",
       "    </tr>\n",
       "    <tr>\n",
       "      <th>130</th>\n",
       "      <td>200</td>\n",
       "      <td>0.0</td>\n",
       "      <td>200.0</td>\n",
       "      <td>32365</td>\n",
       "      <td>7653</td>\n",
       "      <td>52215</td>\n",
       "    </tr>\n",
       "    <tr>\n",
       "      <th>131</th>\n",
       "      <td>200</td>\n",
       "      <td>0.0</td>\n",
       "      <td>200.0</td>\n",
       "      <td>35378</td>\n",
       "      <td>7998</td>\n",
       "      <td>51276</td>\n",
       "    </tr>\n",
       "    <tr>\n",
       "      <th>132</th>\n",
       "      <td>200</td>\n",
       "      <td>0.0</td>\n",
       "      <td>200.0</td>\n",
       "      <td>31259</td>\n",
       "      <td>7282</td>\n",
       "      <td>54850</td>\n",
       "    </tr>\n",
       "    <tr>\n",
       "      <th>133</th>\n",
       "      <td>200</td>\n",
       "      <td>40.0</td>\n",
       "      <td>160.0</td>\n",
       "      <td>163432</td>\n",
       "      <td>16606</td>\n",
       "      <td>59335</td>\n",
       "    </tr>\n",
       "  </tbody>\n",
       "</table>\n",
       "</div>"
      ],
      "text/plain": [
       "     c_total    Cd     Pb    Mod1   Mod2   Mod3\n",
       "129      200   0.0  200.0   32540   8047  56799\n",
       "130      200   0.0  200.0   32365   7653  52215\n",
       "131      200   0.0  200.0   35378   7998  51276\n",
       "132      200   0.0  200.0   31259   7282  54850\n",
       "133      200  40.0  160.0  163432  16606  59335"
      ]
     },
     "metadata": {},
     "output_type": "display_data"
    },
    {
     "data": {
      "text/html": [
       "<div>\n",
       "<style scoped>\n",
       "    .dataframe tbody tr th:only-of-type {\n",
       "        vertical-align: middle;\n",
       "    }\n",
       "\n",
       "    .dataframe tbody tr th {\n",
       "        vertical-align: top;\n",
       "    }\n",
       "\n",
       "    .dataframe thead th {\n",
       "        text-align: right;\n",
       "    }\n",
       "</style>\n",
       "<table border=\"1\" class=\"dataframe\">\n",
       "  <thead>\n",
       "    <tr style=\"text-align: right;\">\n",
       "      <th></th>\n",
       "      <th>c_total</th>\n",
       "      <th>Cd</th>\n",
       "      <th>Pb</th>\n",
       "      <th>Mod1</th>\n",
       "      <th>Mod2</th>\n",
       "      <th>Mod3</th>\n",
       "    </tr>\n",
       "  </thead>\n",
       "  <tbody>\n",
       "    <tr>\n",
       "      <th>0</th>\n",
       "      <td>0</td>\n",
       "      <td>0.0</td>\n",
       "      <td>0.0</td>\n",
       "      <td>9945</td>\n",
       "      <td>119</td>\n",
       "      <td>72335</td>\n",
       "    </tr>\n",
       "    <tr>\n",
       "      <th>1</th>\n",
       "      <td>0</td>\n",
       "      <td>0.0</td>\n",
       "      <td>0.0</td>\n",
       "      <td>10786</td>\n",
       "      <td>117</td>\n",
       "      <td>82977</td>\n",
       "    </tr>\n",
       "    <tr>\n",
       "      <th>2</th>\n",
       "      <td>0</td>\n",
       "      <td>0.0</td>\n",
       "      <td>0.0</td>\n",
       "      <td>10812</td>\n",
       "      <td>120</td>\n",
       "      <td>98594</td>\n",
       "    </tr>\n",
       "    <tr>\n",
       "      <th>3</th>\n",
       "      <td>14</td>\n",
       "      <td>0.0</td>\n",
       "      <td>14.0</td>\n",
       "      <td>9742</td>\n",
       "      <td>127</td>\n",
       "      <td>154323</td>\n",
       "    </tr>\n",
       "    <tr>\n",
       "      <th>4</th>\n",
       "      <td>14</td>\n",
       "      <td>0.0</td>\n",
       "      <td>14.0</td>\n",
       "      <td>8495</td>\n",
       "      <td>120</td>\n",
       "      <td>131672</td>\n",
       "    </tr>\n",
       "  </tbody>\n",
       "</table>\n",
       "</div>"
      ],
      "text/plain": [
       "   c_total   Cd    Pb   Mod1  Mod2    Mod3\n",
       "0        0  0.0   0.0   9945   119   72335\n",
       "1        0  0.0   0.0  10786   117   82977\n",
       "2        0  0.0   0.0  10812   120   98594\n",
       "3       14  0.0  14.0   9742   127  154323\n",
       "4       14  0.0  14.0   8495   120  131672"
      ]
     },
     "metadata": {},
     "output_type": "display_data"
    }
   ],
   "source": [
    "high_concentration = data[data['c_total'] > 100]\n",
    "low_concentration = data[data['c_total'] <= 100]\n",
    "display(high_concentration.head())\n",
    "display(low_concentration.head())"
   ]
  },
  {
   "cell_type": "code",
   "execution_count": 5,
   "metadata": {
    "scrolled": true
   },
   "outputs": [
    {
     "data": {
      "image/png": "[encoded data removed]",
      "text/plain": [
       "<Figure size 864x288 with 2 Axes>"
      ]
     },
     "metadata": {
      "needs_background": "light"
     },
     "output_type": "display_data"
    }
   ],
   "source": [
    "fig, (ax1, ax2) = plt.subplots(1, 2, figsize = (12, 4))\n",
    "\n",
    "ax1.scatter(high_concentration['Cd'], high_concentration['Pb'], color = 'Green')\n",
    "ax1.set_title('Cadmium and Lead in high concentration')\n",
    "ax2.scatter(low_concentration['Cd'], low_concentration['Pb'], color = 'Blue')\n",
    "ax2.set_title('Cadmium and Lead in low concentration')\n",
    "\n",
    "plt.show()"
   ]
  },
  {
   "cell_type": "markdown",
   "metadata": {},
   "source": [
    "Seems about right"
   ]
  },
  {
   "cell_type": "markdown",
   "metadata": {},
   "source": [
    "## Standardization of the dataset"
   ]
  },
  {
   "cell_type": "code",
   "execution_count": 6,
   "metadata": {},
   "outputs": [],
   "source": [
    "#In this cell standardize the dataset features by removing the mean and scaling to unit variance. \n",
    "#In other words, use z-score to scale the dataset features (Mod1, Mod2, Mod3) \n",
    "#Print the 5 first samples (i.e. rows) of the scaled dataset\n",
    "\n",
    "# Transform the features\n",
    "features = ['Mod1', 'Mod2', 'Mod3']\n",
    "data[features] = StandardScaler().fit_transform(data[features])"
   ]
  },
  {
   "cell_type": "code",
   "execution_count": 7,
   "metadata": {},
   "outputs": [
    {
     "data": {
      "text/html": [
       "<div>\n",
       "<style scoped>\n",
       "    .dataframe tbody tr th:only-of-type {\n",
       "        vertical-align: middle;\n",
       "    }\n",
       "\n",
       "    .dataframe tbody tr th {\n",
       "        vertical-align: top;\n",
       "    }\n",
       "\n",
       "    .dataframe thead th {\n",
       "        text-align: right;\n",
       "    }\n",
       "</style>\n",
       "<table border=\"1\" class=\"dataframe\">\n",
       "  <thead>\n",
       "    <tr style=\"text-align: right;\">\n",
       "      <th></th>\n",
       "      <th>Mod1</th>\n",
       "      <th>Mod2</th>\n",
       "      <th>Mod3</th>\n",
       "    </tr>\n",
       "  </thead>\n",
       "  <tbody>\n",
       "    <tr>\n",
       "      <th>0</th>\n",
       "      <td>-0.999216</td>\n",
       "      <td>-0.714208</td>\n",
       "      <td>-0.414911</td>\n",
       "    </tr>\n",
       "    <tr>\n",
       "      <th>1</th>\n",
       "      <td>-0.990800</td>\n",
       "      <td>-0.714373</td>\n",
       "      <td>-0.238335</td>\n",
       "    </tr>\n",
       "    <tr>\n",
       "      <th>2</th>\n",
       "      <td>-0.990539</td>\n",
       "      <td>-0.714125</td>\n",
       "      <td>0.020788</td>\n",
       "    </tr>\n",
       "    <tr>\n",
       "      <th>3</th>\n",
       "      <td>-1.001247</td>\n",
       "      <td>-0.713546</td>\n",
       "      <td>0.945465</td>\n",
       "    </tr>\n",
       "    <tr>\n",
       "      <th>4</th>\n",
       "      <td>-1.013727</td>\n",
       "      <td>-0.714125</td>\n",
       "      <td>0.569631</td>\n",
       "    </tr>\n",
       "  </tbody>\n",
       "</table>\n",
       "</div>"
      ],
      "text/plain": [
       "       Mod1      Mod2      Mod3\n",
       "0 -0.999216 -0.714208 -0.414911\n",
       "1 -0.990800 -0.714373 -0.238335\n",
       "2 -0.990539 -0.714125  0.020788\n",
       "3 -1.001247 -0.713546  0.945465\n",
       "4 -1.013727 -0.714125  0.569631"
      ]
     },
     "execution_count": 7,
     "metadata": {},
     "output_type": "execute_result"
    }
   ],
   "source": [
    "data[features].head()"
   ]
  },
  {
   "cell_type": "markdown",
   "metadata": {},
   "source": [
    "## C-index code "
   ]
  },
  {
   "cell_type": "code",
   "execution_count": 8,
   "metadata": {},
   "outputs": [],
   "source": [
    "# An honest try to implement this from scratch was done, but after numerous fails i had to resort to checking\n",
    "# the correct code from exc 1.\n",
    "def cindex(true_labels, pred_labels):\n",
    "    \"\"\"Returns C-index between true labels and predicted labels\"\"\"  \n",
    "    n = 0\n",
    "    h_num = 0 \n",
    "    for i in range(0, len(true_labels)):\n",
    "        t = true_labels[i]\n",
    "        p = pred_labels[i]\n",
    "        for j in range(i+1, len(true_labels)):\n",
    "            nt = true_labels[j]\n",
    "            np = pred_labels[j]\n",
    "            if (t != nt): \n",
    "                n = n + 1\n",
    "                if (p < np and t < nt) or (p > np and t > nt): \n",
    "                    h_num += 1\n",
    "                elif (p == np):\n",
    "                    h_num += 0.5\n",
    "    cindex = h_num / n\n",
    "    return cindex\n"
   ]
  },
  {
   "cell_type": "code",
   "execution_count": 9,
   "metadata": {},
   "outputs": [
    {
     "name": "stdout",
     "output_type": "stream",
     "text": [
      "0.75\n"
     ]
    }
   ],
   "source": [
    "#test cindex function with following values\n",
    "true_labels = [-1, 1, 1, -1, 1]\n",
    "predictions = [0.60, 0.80, 0.75, 0.75, 0.70]\n",
    "cindx = cindex(true_labels, predictions)\n",
    "print(cindx)"
   ]
  },
  {
   "cell_type": "markdown",
   "metadata": {},
   "source": [
    "## Functions"
   ]
  },
  {
   "cell_type": "markdown",
   "metadata": {},
   "source": [
    "Include here all the functions that you need to run in the data analysis part.<br>\n",
    "**Note:** using a leave-one-out and leave-replicas-out cross-validation from an already made package (e.g. Scikit-learn) is not accepted."
   ]
  },
  {
   "cell_type": "markdown",
   "metadata": {},
   "source": [
    "Leave one out"
   ]
  },
  {
   "cell_type": "code",
   "execution_count": 10,
   "metadata": {},
   "outputs": [],
   "source": [
    "def leave_one_out_cross_validation(model, X, y):\n",
    "    n = X.shape[0]\n",
    "    predictions = list()\n",
    "    actuals = list()\n",
    "    for i in range(n):\n",
    "        X_train = np.concatenate([X[:i], X[i+1:]])\n",
    "        y_train = np.concatenate([y[:i], y[i+1:]])\n",
    "        X_test = X[i].reshape(1, -1)\n",
    "        y_test = y[i].reshape(1, -1)\n",
    "        \n",
    "        model.fit(X_train, y_train)\n",
    "        y_pred = model.predict(X_test)\n",
    "        predictions.append(y_pred)\n",
    "        actuals.append(y_test)\n",
    "\n",
    "    return cindex(actuals, predictions)"
   ]
  },
  {
   "cell_type": "markdown",
   "metadata": {},
   "source": [
    "Leave Replica Out\n",
    "\n",
    "Credit where credit is due note: Some help was received from a fellow student. Not much, just some 'osviitta' as one would say. "
   ]
  },
  {
   "cell_type": "code",
   "execution_count": 11,
   "metadata": {},
   "outputs": [],
   "source": [
    "def leave_replica_out(data, el1, el2, X, y, model):\n",
    "\n",
    "    # Lists for folds, training set and predictions and also an indexer\n",
    "    folds = list()\n",
    "    trains = list()\n",
    "    predictions = list()\n",
    "    i = 0\n",
    "    # Loop through the given data\n",
    "    while i < len(data):\n",
    "        # Save the current row\n",
    "        tmp1 = el1[i]\n",
    "        tmp2 = el2[i]\n",
    "        # Initialize replicate rows counter\n",
    "        replicates = 0\n",
    "        # Check for replicated rows, if none: break loop\n",
    "        for j in range(i, len(data)):\n",
    "            if el1[j] == tmp1 and el2[j] == tmp2:\n",
    "                replicates += 1\n",
    "            else:\n",
    "                break\n",
    "        # Add saved rows to folds\n",
    "        folds.append(data.loc[i: i + replicates - 1])\n",
    "        # Remove the rows from the training set\n",
    "        rows_to_remove = list(range(i, i + replicates))\n",
    "        trains.append(data.drop(rows_to_remove))\n",
    "        # Skip the replica rows\n",
    "        i += replicates\n",
    "\n",
    "    for i in range(0, len(data)):\n",
    "        # This is for edge cases when the test set is one of the last rows\n",
    "        try:\n",
    "            train_all = trains[i]\n",
    "            fold_all = folds[i]\n",
    "        except:\n",
    "            pass\n",
    "        # Parameters should be: X = Mod1, Mod2, Mod3; y = 'c_tota'l/'Cd'/'Pb'\n",
    "        x_train = train_all[list(X)] \n",
    "        y_train = train_all[(y)] \n",
    "        x_test = fold_all[list(X)]\n",
    "        \n",
    "        \n",
    "        model.fit(x_train, y_train)\n",
    "        prediction = model.predict(x_test)\n",
    "        predictions.extend(prediction)\n",
    "    # Return C-index score for prections\n",
    "    return(cindex(data[(y)], predictions))"
   ]
  },
  {
   "cell_type": "markdown",
   "metadata": {},
   "source": [
    "## Results for Leave-One-Out cross-validation"
   ]
  },
  {
   "cell_type": "code",
   "execution_count": 14,
   "metadata": {},
   "outputs": [
    {
     "name": "stdout",
     "output_type": "stream",
     "text": [
      "Results for Total Concentration: 0.91419\n",
      "Results for Cadmium: 0.89959\n",
      "Results for Lead: 0.87445\n"
     ]
    }
   ],
   "source": [
    "#In this cell run your script for Leave-One-Out cross-validation and print the corresponding results.\n",
    "\n",
    "# Initialize knn for each target variable\n",
    "knn_c_total = KNeighborsRegressor(n_neighbors=3)\n",
    "knn_cd = KNeighborsRegressor(n_neighbors=3)\n",
    "knn_pb = KNeighborsRegressor(n_neighbors=3)\n",
    "\n",
    "# Split the data into feature variables and target variables\n",
    "x_data = data.drop([\"c_total\", \"Cd\", \"Pb\"], axis=1)\n",
    "x_data = x_data.values\n",
    "y1 = data[\"c_total\"]\n",
    "y2 = data[\"Cd\"]\n",
    "y3 = data[\"Pb\"]\n",
    "y1 = y1.values\n",
    "y2 = y2.values\n",
    "y3 = y3.values\n",
    "\n",
    "c_total_loocv_results = leave_one_out_cross_validation(knn_c_total, x_data, y1)\n",
    "cd_loocv_results = leave_one_out_cross_validation(knn_cd, x_data, y2)\n",
    "pb_loocv_results = leave_one_out_cross_validation(knn_pb, x_data, y3)\n",
    "\n",
    "print(f\"Results for Total Concentration: {c_total_loocv_results:.5f}\")\n",
    "print(f\"Results for Cadmium: {cd_loocv_results:.5f}\")\n",
    "print(f\"Results for Lead: {pb_loocv_results:.5f}\")"
   ]
  },
  {
   "cell_type": "markdown",
   "metadata": {},
   "source": [
    "## Results for Leave-Replicas-Out cross-validation"
   ]
  },
  {
   "cell_type": "code",
   "execution_count": 13,
   "metadata": {},
   "outputs": [
    {
     "name": "stdout",
     "output_type": "stream",
     "text": [
      "C-index for total concentration using LROCV: 0.81867\n",
      "C-index for Cd concentration using LROCV: 0.76145\n",
      "C-index for Pb concentration using LROCV: 0.76895\n"
     ]
    }
   ],
   "source": [
    "#In this cell run your script for Leave-Replicas-Out cross-validation and print the corresponding results.\n",
    "lro_data = data.sort_values(by = ['Pb', 'Cd', 'c_total'])\n",
    "lro_data = lro_data.reset_index(drop = True)\n",
    "\n",
    "lro_y1 = lro_data['Cd']\n",
    "lro_y2 = lro_data['Pb']\n",
    "mod_data = ['Mod1', 'Mod2', 'Mod3']\n",
    "\n",
    "# Initialize knn for each target variable\n",
    "knn_c_total = KNeighborsRegressor(n_neighbors=3)\n",
    "knn_cd = KNeighborsRegressor(n_neighbors=3)\n",
    "knn_pb = KNeighborsRegressor(n_neighbors=3)\n",
    "\n",
    "print(f\"C-index for total concentration using LROCV: {leave_replica_out(lro_data, lro_y1, lro_y2, mod_data, 'c_total', knn_c_total):.5f}\")\n",
    "print(f\"C-index for Cd concentration using LROCV: {leave_replica_out(lro_data, lro_y1, lro_y2, mod_data, 'Cd', knn_cd):.5f}\")\n",
    "print(f\"C-index for Pb concentration using LROCV: {leave_replica_out(lro_data, lro_y1, lro_y2, mod_data, 'Pb', knn_pb):.5f}\")"
   ]
  },
  {
   "cell_type": "markdown",
   "metadata": {},
   "source": [
    "## Interpretation of results\n",
    "#### Answer the following questions based on the results obtained\n",
    "- Which cross-validation approach had more optimistic results?\n",
    "- Which cross-validation generalize better on unseen data? Why?"
   ]
  },
  {
   "cell_type": "markdown",
   "metadata": {},
   "source": [
    "#In this cell write your answers to the questions about Interpretation of Results.\n",
    "\n",
    "C Index results would indicate that LOOCV was more optimistic. But since our data has multiple replicas, LROCV gives a more realistic estimate on model performance thus it's able to generalize better on unseen data. "
   ]
  },
  {
   "cell_type": "code",
   "execution_count": null,
   "metadata": {},
   "outputs": [],
   "source": []
  }
 ],
 "metadata": {
  "kernelspec": {
   "display_name": "Python 3 (ipykernel)",
   "language": "python",
   "name": "python3"
  },
  "language_info": {
   "codemirror_mode": {
    "name": "ipython",
    "version": 3
   },
   "file_extension": ".py",
   "mimetype": "text/x-python",
   "name": "python",
   "nbconvert_exporter": "python",
   "pygments_lexer": "ipython3",
   "version": "3.7.11"
  },
  "toc": {
   "base_numbering": 1,
   "nav_menu": {},
   "number_sections": false,
   "sideBar": true,
   "skip_h1_title": false,
   "title_cell": "Table of Contents",
   "title_sidebar": "Contents",
   "toc_cell": false,
   "toc_position": {},
   "toc_section_display": true,
   "toc_window_display": true
  },
  "varInspector": {
   "cols": {
    "lenName": 16,
    "lenType": 16,
    "lenVar": 40
   },
   "kernels_config": {
    "python": {
     "delete_cmd_postfix": "",
     "delete_cmd_prefix": "del ",
     "library": "var_list.py",
     "varRefreshCmd": "print(var_dic_list())"
    },
    "r": {
     "delete_cmd_postfix": ") ",
     "delete_cmd_prefix": "rm(",
     "library": "var_list.r",
     "varRefreshCmd": "cat(var_dic_list()) "
    }
   },
   "types_to_exclude": [
    "module",
    "function",
    "builtin_function_or_method",
    "instance",
    "_Feature"
   ],
   "window_display": false
  }
 },
 "nbformat": 4,
 "nbformat_minor": 4
}
