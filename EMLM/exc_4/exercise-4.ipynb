{
 "cells": [
  {
   "cell_type": "markdown",
   "metadata": {},
   "source": [
    "# TKO_7092 Evaluation of Machine Learning Methods 2023\n",
    "\n",
    "## Exercise 4\n",
    "\n",
    "Complete the tasks given to you in the letter below. There are cells at the end of this notebook to which you are expected to write your code. Insert markdown cells as needed to describe your solution. Remember to follow all the general exercise guidelines stated in Moodle.\n",
    "\n",
    "The deadline of this exercise is **Wednesday 22 February 2023 at 23:59**. Please contact Juho Heimonen (juaheim@utu.fi) if you have any questions about this exercise.\n"
   ]
  },
  {
   "cell_type": "markdown",
   "metadata": {},
   "source": [
    "---\n",
    "\n",
    "Student name: Jeremias Shadbolt\n",
    "\n",
    "Student number: 1900386\n",
    "\n",
    "Student email: jrshad@utu.fi\n",
    "\n",
    "---\n"
   ]
  },
  {
   "cell_type": "markdown",
   "metadata": {},
   "source": [
    "Dear Data Scientist,\n",
    "\n",
    "I have a task for you that concerns drug molecules and their targets. I have spent a lot of time in a laboratory to measure how strongly potential drug molecules bind to putative target molecules. I do not have enough resources to measure all possible drug-target pairs, so I would like to first predict their affinities and then measure only the most promising ones. I have already managed to create a model which I believe is good for this purpose. Its details are below.\n",
    "\n",
    "- algorithm: K-nearest neighbours regressor\n",
    "- parameters: K=20\n",
    "- training data: all the pairs for which I have measured the affinity\n",
    "\n",
    "The data I used to create the model is available in the files `input.data`, `output.data` and `pairs.data` for you to use. The first file contains the features of the pairs, whereas the second contains their affinities. The third file contains the identifiers of the drug and target molecules of which the pairs are composed. The files are paired, i.e. the i<sup>*th*</sup> row in each file is about the same pair.\n",
    "\n",
    "I am not able to evaluate how well the model will perform if I use it to predict the affinities of new drug-target pairs. I need you to evaluate the model for me. There are three distinct situations in which I want to use this model in the future.\n",
    "\n",
    "1. Because I have only measured the affinities for some of the possible pairs of the currently known drugs and targets, I want to use the model to predict the affinities for the remaining pairs.\n",
    "2. I am confident that I will discover new potential drug molecules in the future, so I will want to use the model to predict their affinities to the currently known targets.\n",
    "3. Because new putative target molecules, too, will likely be identified in the future, I will also want to use the model to predict the affinities between the drug molecules I will discover and the target molecules somebody else will discover in the future.\n",
    "\n",
    "Please evaluate the generalisation performance of the model in these three situations. I need to get evaluation results from leave-one-out cross-validation with C-index. Also, because I'm worried that unreliable evaluation results will mislead me to waste precious resources, please explain why I can trust your results.\n",
    "\n",
    "\n",
    "Yours sincerely, \\\n",
    "Bio Scientist\n",
    "\n",
    "---"
   ]
  },
  {
   "cell_type": "markdown",
   "metadata": {},
   "source": [
    "#### Import libraries"
   ]
  },
  {
   "cell_type": "code",
   "execution_count": 1,
   "metadata": {},
   "outputs": [],
   "source": [
    "# Import the libraries you need.\n",
    "import numpy as np\n",
    "from sklearn.preprocessing import StandardScaler\n",
    "from sklearn.neighbors import KNeighborsRegressor"
   ]
  },
  {
   "cell_type": "markdown",
   "metadata": {},
   "source": [
    "#### Load datasets"
   ]
  },
  {
   "cell_type": "code",
   "execution_count": 2,
   "metadata": {},
   "outputs": [],
   "source": [
    "# Read the data files (input.data, output.data, pairs.data).\n",
    "input_data = np.genfromtxt('input.data', dtype=float)\n",
    "output_data = np.genfromtxt('output.data')\n",
    "pairs_data = np.genfromtxt('pairs.data', dtype=str)"
   ]
  },
  {
   "cell_type": "code",
   "execution_count": 3,
   "metadata": {
    "scrolled": true
   },
   "outputs": [
    {
     "data": {
      "text/plain": [
       "array([[6.53771, 7.04273, 7.30593, ..., 8.13992, 7.36155, 7.9893 ]])"
      ]
     },
     "metadata": {},
     "output_type": "display_data"
    },
    {
     "data": {
      "text/plain": [
       "array([10000.])"
      ]
     },
     "metadata": {},
     "output_type": "display_data"
    },
    {
     "data": {
      "text/plain": [
       "array([['\"D23\"', '\"T194\"']], dtype='<U6')"
      ]
     },
     "metadata": {},
     "output_type": "display_data"
    }
   ],
   "source": [
    "# Verify data was read correctly\n",
    "display(input_data[:1])\n",
    "display(output_data[:1])\n",
    "display(pairs_data[:1])"
   ]
  },
  {
   "cell_type": "code",
   "execution_count": 4,
   "metadata": {},
   "outputs": [],
   "source": [
    "# Standardize the inputs since we're using K-nn\n",
    "input_data = StandardScaler().fit_transform(input_data)"
   ]
  },
  {
   "cell_type": "markdown",
   "metadata": {},
   "source": [
    "#### Write functions"
   ]
  },
  {
   "cell_type": "code",
   "execution_count": 5,
   "metadata": {},
   "outputs": [],
   "source": [
    "# Write the functions you need to perform the requested cross-validations."
   ]
  },
  {
   "cell_type": "code",
   "execution_count": 6,
   "metadata": {},
   "outputs": [],
   "source": [
    "# C-index score from previous exercises\n",
    "def cindex(true_labels, pred_labels):\n",
    "    n = 0\n",
    "    h_num = 0 \n",
    "    for i in range(0, len(true_labels)):\n",
    "        t = true_labels[i]\n",
    "        p = pred_labels[i]\n",
    "        for j in range(i+1, len(true_labels)):\n",
    "            nt = true_labels[j]\n",
    "            np = pred_labels[j]\n",
    "            if (t != nt): \n",
    "                n = n + 1\n",
    "                if (p < np and t < nt) or (p > np and t > nt): \n",
    "                    h_num += 1\n",
    "                elif (p == np):\n",
    "                    h_num += 0.5 \n",
    "    cindx = h_num  /n\n",
    "    return cindx"
   ]
  },
  {
   "cell_type": "markdown",
   "metadata": {},
   "source": [
    "1. Because I have only measured the affinities for some of the possible pairs of the currently known drugs and targets, I want to use the model to predict the affinities for the remaining pairs.\n",
    "\n",
    "<br> this sounds like LOOCV, so let's implement that!"
   ]
  },
  {
   "cell_type": "code",
   "execution_count": 7,
   "metadata": {},
   "outputs": [],
   "source": [
    "def loocv_cindex(X, y, model):\n",
    "    '''\n",
    "    LEAVE ONE OUT CROSS VALIDATION\n",
    "    INPUT:\n",
    "    X = input data / features\n",
    "    y = output / labels\n",
    "    model = ml model to estimate\n",
    "\n",
    "    OUTPUT:\n",
    "    C-index score for model\n",
    "    '''    \n",
    "    # List for predicted values\n",
    "    predictions = list()\n",
    "    \n",
    "    for i in range(len(X)):\n",
    "        # Choose the ith row as test set and leave ith row out from train sets\n",
    "        X_test = X[i].reshape(1, -1)\n",
    "        X_train = np.delete(X, i, axis = 0) \n",
    "        y_train = np.delete(y, i, axis = 0)\n",
    "        model.fit(X_train, y_train)\n",
    "        predictions.append(model.predict(X_test))\n",
    "        \n",
    "    return cindex(y, predictions)"
   ]
  },
  {
   "cell_type": "markdown",
   "metadata": {},
   "source": [
    "2. I am confident that I will discover new potential drug molecules in the future, so I will want to use the model to predict their affinities to the currently known targets."
   ]
  },
  {
   "cell_type": "markdown",
   "metadata": {},
   "source": [
    "Leave-Target-Out CV"
   ]
  },
  {
   "cell_type": "code",
   "execution_count": 8,
   "metadata": {},
   "outputs": [],
   "source": [
    "def ltocv_index_target(X, y, targets, model):\n",
    "    '''\n",
    "    LEAVE TARGET OUT CROSS VALIDATION\n",
    "    INPUT:\n",
    "    X = input data / features\n",
    "    y = output data / labels\n",
    "    targets = targets' column in data\n",
    "    model = model\n",
    "    '''\n",
    "    predictions = list()\n",
    "    for i in range(len(X)):\n",
    "        # Save the ith target for train set selection\n",
    "        target = targets[i]\n",
    "        # Choose the ith row as test set\n",
    "        X_test = X[i].reshape(1, -1)\n",
    "        # Choose train sets from rows that doesn't contain the target\n",
    "        X_train = X[(target != targets)]\n",
    "        y_train = y[(target != targets)]\n",
    "        \n",
    "        model.fit(X_train, y_train)\n",
    "        predictions.append(model.predict(X_test))\n",
    "\n",
    "    return cindex(y, predictions)"
   ]
  },
  {
   "cell_type": "markdown",
   "metadata": {},
   "source": [
    "3. Because new putative target molecules, too, will likely be identified in the future, I will also want to use the model to predict the affinities between the drug molecules I will discover and the target molecules somebody else will discover in the future."
   ]
  },
  {
   "cell_type": "markdown",
   "metadata": {},
   "source": [
    "LPOCV but slightly modified"
   ]
  },
  {
   "cell_type": "code",
   "execution_count": 9,
   "metadata": {},
   "outputs": [],
   "source": [
    "def lpocv_cindex_identify(X, y, pairs, model):\n",
    "    '''\n",
    "    LEAVE PAIR OUT CROSS VALIDATION which calculates C-index when known targets and identifiers are included\n",
    "    INPUT:\n",
    "    X = input\n",
    "    y = labels\n",
    "    pairs = identifiers and targets as pairs\n",
    "    model = model\n",
    "    '''\n",
    "    predictions = list()\n",
    "    # Extract columns from pairs\n",
    "    a_cols = pairs[:, 0]\n",
    "    b_cols = pairs[:, 1]\n",
    "    for i in range(len(X)):\n",
    "        # Save the ith pair of elements for train set selection\n",
    "        pair = pairs[i]\n",
    "        # Choose the ith row as test set\n",
    "        X_test = X[i].reshape(1, -1)\n",
    "        # Choose train sets from rows that doesn't have either of the elements in our ith pair\n",
    "        X_train = X[(pair[0] != a_cols) & (pair[0] != b_cols) & (pair[1] != a_cols) & (pair[1] != b_cols)]\n",
    "        y_train = y[(pair[0] != a_cols) & (pair[0] != b_cols) & (pair[1] != a_cols) & (pair[1] != b_cols)]\n",
    "\n",
    "        model.fit(X_train, y_train)\n",
    "        predictions.append(model.predict(X_test))\n",
    "\n",
    "    return cindex(y, predictions)"
   ]
  },
  {
   "cell_type": "markdown",
   "metadata": {},
   "source": [
    "#### Run cross-validations"
   ]
  },
  {
   "cell_type": "code",
   "execution_count": 10,
   "metadata": {},
   "outputs": [
    {
     "name": "stdout",
     "output_type": "stream",
     "text": [
      "C-index score for predicting affinities of remaining pairs: 0.78\n",
      "C-index score for predicting affinities to known targets: 0.77\n",
      "C-index score for predicting affinities to unknown targets: 0.68\n"
     ]
    }
   ],
   "source": [
    "# Run the requested cross-validations and print the results.\n",
    "\n",
    "model = KNeighborsRegressor(n_neighbors = 20, metric='euclidean')\n",
    "\n",
    "loocv_result = loocv_cindex(input_data, output_data, model)\n",
    "print(f\"C-index score for predicting affinities of remaining pairs: {loocv_result:.2f}\")\n",
    "\n",
    "ltocv_target_result = ltocv_index_target(input_data, output_data, pairs_data[:, 1], model)\n",
    "print(f\"C-index score for predicting affinities to known targets: {ltocv_target_result:.2f}\")\n",
    "\n",
    "lpocv_identify_result = lpocv_cindex_identify(input_data, output_data, pairs_data, model)\n",
    "print(f\"C-index score for predicting affinities to unknown targets: {lpocv_identify_result:.2f}\")"
   ]
  },
  {
   "cell_type": "markdown",
   "metadata": {},
   "source": [
    "#### Interpret results"
   ]
  },
  {
   "cell_type": "code",
   "execution_count": 11,
   "metadata": {},
   "outputs": [],
   "source": [
    "# Interpret the results you obtained and explain why they can be trusted."
   ]
  },
  {
   "cell_type": "markdown",
   "metadata": {},
   "source": [
    "The results seem good enough. Accuracies of 78 % and 77 % would imply that the model generalizes well to unseen data and it's not overfit. I believe with some hyperparameter tuning (n_neighbours and others) we could probably reach even better results, but for a 'vanilla K-nn' this seems ok. The model which predicted affinities to unknown targets could probably use some tuning since 68 % isn't very good. \n",
    "\n",
    "Leave-one-out was the CV method to go for here since we wanted to use all available data and the amount of data allowed us to do so. "
   ]
  }
 ],
 "metadata": {
  "kernelspec": {
   "display_name": "Python 3 (ipykernel)",
   "language": "python",
   "name": "python3"
  },
  "language_info": {
   "codemirror_mode": {
    "name": "ipython",
    "version": 3
   },
   "file_extension": ".py",
   "mimetype": "text/x-python",
   "name": "python",
   "nbconvert_exporter": "python",
   "pygments_lexer": "ipython3",
   "version": "3.7.11"
  }
 },
 "nbformat": 4,
 "nbformat_minor": 2
}
