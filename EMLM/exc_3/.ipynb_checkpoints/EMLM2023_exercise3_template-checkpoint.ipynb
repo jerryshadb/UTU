{
 "cells": [
  {
   "cell_type": "markdown",
   "metadata": {},
   "source": [
    "# Exercise 3 | TKO_7092 Evaluation of Machine Learning Methods 2023\n",
    "## deadline: 15.2.2023 - 23:59\n",
    "\n",
    "Regarding any questions about this exercise, please contact course assistant Jonne Pohjankukka (jjepoh@utu.fi)\n",
    "\n",
    "********************************************\n",
    "\n",
    "Student name: Jeremias Shadbolt\n",
    "\n",
    "Student number: 1900386\n",
    "\n",
    "Student email: jrshad@utu.fi\n",
    "\n",
    "********************************************"
   ]
  },
  {
   "cell_type": "markdown",
   "metadata": {},
   "source": [
    "## Water permeability prediction in forestry <br>\n",
    "\n",
    "In this task, the client wants you to estimate the spatial prediction performance of K-nearest neighbor regression model with K=5 (5NN), using spatial leave-one-out cross-validation (i.e. SKCV, with number of folds == number of data points). The client wants you to use the C-index as the performance measure.  \n",
    "\n",
    "In other words, the client wants you to answer the question: \"What happens to the prediction performance of water permeability using 5-nearest neighbor regression model, when the geographical distance between known data and unknown data increases?\".\n",
    "\n",
    "In this task, you have three data files available (with 1691 data points): \n",
    "\n",
    "- input.csv, contains the 75 predictor features. \n",
    "- output.csv, contains the water permebility values. \n",
    "- coordinates.csv, contains the corresponding geographical coordinate locations of the data points. The unit of the coordinates is metre, and you can use Euclidean distance to calculate distances between the coordinate points. \n",
    "\n",
    "Implement the following tasks to complete this exercise:\n",
    "\n",
    "********************************************\n",
    "\n",
    "#### 1. Z-score standardize the predictor features (input.csv). \n",
    "\n",
    "#### 2. Perform spatial leave-one-out cross-validation with 5NN model for the provided data set (refer to the lectures 3.1.3 and 3.1.4 for help). Estimate the water permeability prediction performance (using 5NN model and C-index) with the following distance parameter values: d = 0, 10, 20, ..., 250 (that is, 10 meter intervals from 0m to 250m). \n",
    "\n",
    "#### 3. When you have calculated the C-index performance measure for each value of d, visualize the results with the C-index (y-axis) as a function of d (x-axis).\n",
    "\n",
    "********************************************\n",
    "\n",
    "Your .ipynb-file must include the following: \n",
    "\n",
    "- Your own implementation of the spatial leave-one-out cross-validation for the current task. Remember to also take advantage of earlier exercises (e.g. C-index). For the 5-nearest neighbor and Euclidean distance calculation you can use third-party libraries (e.g. Scikit-learn) if you want. Also, try to follow good programming practices and add comments to relevant parts of your code explaining what you are doing and why.\n",
    "\n",
    "\n",
    "- Plot of the graph C-index vs. distance parameter value. \n",
    "\n",
    "\n",
    "<br><br><br>\n",
    "-- START IMPLEMENTING YOUR EXERCISE AFTER THIS LINE --\n",
    "<br><br><br>"
   ]
  },
  {
   "cell_type": "markdown",
   "metadata": {},
   "source": [
    "### Import necessary libraries"
   ]
  },
  {
   "cell_type": "code",
   "execution_count": 1,
   "metadata": {},
   "outputs": [],
   "source": [
    "# In this cell, import all the libraries that you need. For example: \n",
    "import numpy as np\n",
    "from sklearn.neighbors import KNeighborsRegressor\n",
    "from sklearn.preprocessing import StandardScaler\n",
    "from scipy.spatial import distance\n",
    "import matplotlib.pyplot as plt"
   ]
  },
  {
   "cell_type": "markdown",
   "metadata": {},
   "source": [
    "### Read in the datasets"
   ]
  },
  {
   "cell_type": "code",
   "execution_count": 2,
   "metadata": {},
   "outputs": [],
   "source": [
    "# In this cell, read the files input.csv, output.csv and coordinates.csv.\n",
    "# Print out the dataset dimesions (i.e. number of rows and columns).\n",
    "#\n",
    "# Note that the coordinates are in EUREF-TM35FIN format, so you \n",
    "# can use the Euclidean distance to calculate the distance between two coordinate points.  \n",
    "\n",
    "input_data = np.genfromtxt('input.csv', delimiter = ',')\n",
    "output_data = np.genfromtxt('output.csv', delimiter = ',')\n",
    "coordinates_data = np.genfromtxt('coordinates.csv', delimiter = ',')"
   ]
  },
  {
   "cell_type": "code",
   "execution_count": 3,
   "metadata": {},
   "outputs": [
    {
     "name": "stdout",
     "output_type": "stream",
     "text": [
      "Input shape: (1691, 75)\n",
      "Output shape: (1691,)\n",
      "Coordinates shape: (1691, 2)\n"
     ]
    }
   ],
   "source": [
    "print(f\"Input shape: {input_data.shape}\")\n",
    "print(f'Output shape: {output_data.shape}')\n",
    "print(f'Coordinates shape: {coordinates_data.shape}')"
   ]
  },
  {
   "cell_type": "markdown",
   "metadata": {},
   "source": [
    "### Standardization of the predictor features (input.csv)"
   ]
  },
  {
   "cell_type": "code",
   "execution_count": 4,
   "metadata": {},
   "outputs": [],
   "source": [
    "# Standardize the predictor features (input.csv) by removing the mean and scaling to unit variance. \n",
    "# In other words, z-score the predictor features. You are allowed to use third-party libraries for doing this. \n",
    "\n",
    "input_data = StandardScaler().fit_transform(input_data)"
   ]
  },
  {
   "cell_type": "markdown",
   "metadata": {},
   "source": [
    "### Functions"
   ]
  },
  {
   "cell_type": "code",
   "execution_count": 5,
   "metadata": {},
   "outputs": [],
   "source": [
    "# Include here all the functions (for example the C-index-function) that you need in order to implement the task."
   ]
  },
  {
   "cell_type": "code",
   "execution_count": 6,
   "metadata": {},
   "outputs": [],
   "source": [
    "# C_index function from prev. exercises\n",
    "def cindex(true_labels, pred_labels):\n",
    "    \"\"\"Returns C-index between true labels and predicted labels\"\"\"  \n",
    "    n = 0\n",
    "    h_num = 0 \n",
    "    for i in range(0, len(true_labels)):\n",
    "        t = true_labels[i]\n",
    "        p = pred_labels[i]\n",
    "        for j in range(i+1, len(true_labels)):\n",
    "            nt = true_labels[j]\n",
    "            np = pred_labels[j]\n",
    "            if (t != nt): \n",
    "                n = n + 1\n",
    "                if (p < np and t < nt) or (p > np and t > nt): \n",
    "                    h_num += 1\n",
    "                elif (p == np):\n",
    "                    h_num += 0.5\n",
    "    cindex = h_num / n\n",
    "    return cindex"
   ]
  },
  {
   "cell_type": "code",
   "execution_count": 7,
   "metadata": {},
   "outputs": [],
   "source": [
    "# spatial leave-one-out cross-validation\n",
    "\n",
    "# Towards Data Science was used to further explain the concept: https://towardsdatascience.com/spatial-cross-validation-using-scikit-learn-74cb8ffe0ab9\n",
    "def sloocv(X, y, distance_matrix, model, delta):\n",
    "    predictions = list()\n",
    "    for i in range(len(X)):\n",
    "        # get i as test set\n",
    "        X_test = X[i].reshape(1, -1)\n",
    "        \n",
    "        # Training datasets derived from points where distance to the test point is greater than delta\n",
    "        X_train = X[distance_matrix[i] > delta]\n",
    "        y_train = y[distance_matrix[i] > delta]\n",
    "        \n",
    "        # train the model\n",
    "        model.fit(X_train, y_train)\n",
    "        prediction = model.predict(X_test)\n",
    "        predictions.append(prediction)\n",
    "    # Calculate and return the C-index score\n",
    "    return cindex(y, predictions)"
   ]
  },
  {
   "cell_type": "markdown",
   "metadata": {},
   "source": [
    "### Results for spatial leave-one-out cross-validation with 5-nearest neighbor regression model"
   ]
  },
  {
   "cell_type": "code",
   "execution_count": 8,
   "metadata": {},
   "outputs": [
    {
     "data": {
      "text/plain": [
       "array([[    0.        , 24920.72430729, 25266.97449241, ...,\n",
       "        64022.74986284, 64426.31139527, 64580.18581577],\n",
       "       [24920.72430729,     0.        ,   540.83269132, ...,\n",
       "        53794.14466278, 53906.56824544, 54039.06827472],\n",
       "       [25266.97449241,   540.83269132,     0.        , ...,\n",
       "        53311.7482362 , 53420.61025484, 53552.74409402],\n",
       "       [25266.97449241,   540.83269132,     0.        , ...,\n",
       "        53311.7482362 , 53420.61025484, 53552.74409402],\n",
       "       [25376.76299294,   672.01190466,   134.53624047, ...,\n",
       "        53210.80341434, 53318.35425067, 53450.35172943]])"
      ]
     },
     "metadata": {},
     "output_type": "display_data"
    }
   ],
   "source": [
    "# In this cell, run your script for the Spatial leave-One-Out cross-validation \n",
    "# with 5-nearest neighbor regression model and visualize the results as \n",
    "# requested in the task assignment.\n",
    "knn = KNeighborsRegressor(n_neighbors = 5, metric = 'euclidean')\n",
    "\n",
    "# Euclidean distance, documentation referred: https://docs.scipy.org/doc/scipy/reference/spatial.distance.html\n",
    "distance_matrix = distance.cdist(coordinates_data, coordinates_data, metric = 'euclidean')\n",
    "\n",
    "# Verify something happened\n",
    "display(distance_matrix[:5])\n",
    "\n",
    "# variables required for testing\n",
    "delta_values = range(0, 251, 10)\n",
    "cindexes = list()"
   ]
  },
  {
   "cell_type": "code",
   "execution_count": 9,
   "metadata": {},
   "outputs": [
    {
     "name": "stdout",
     "output_type": "stream",
     "text": [
      "Current delta: 0\n",
      "Current delta: 10\n",
      "Current delta: 20\n",
      "Current delta: 30\n",
      "Current delta: 40\n",
      "Current delta: 50\n",
      "Current delta: 60\n",
      "Current delta: 70\n",
      "Current delta: 80\n",
      "Current delta: 90\n",
      "Current delta: 100\n",
      "Current delta: 110\n",
      "Current delta: 120\n",
      "Current delta: 130\n",
      "Current delta: 140\n",
      "Current delta: 150\n",
      "Current delta: 160\n",
      "Current delta: 170\n",
      "Current delta: 180\n",
      "Current delta: 190\n",
      "Current delta: 200\n",
      "Current delta: 210\n",
      "Current delta: 220\n",
      "Current delta: 230\n",
      "Current delta: 240\n",
      "Current delta: 250\n"
     ]
    }
   ],
   "source": [
    "# results using spatial LOOCV\n",
    "\n",
    "for delta in delta_values:\n",
    "    print(f\"Current delta: {delta}\")\n",
    "    c_index = sloocv(input_data, output_data, distance_matrix, knn, delta)\n",
    "    cindexes.append(c_index)"
   ]
  },
  {
   "cell_type": "markdown",
   "metadata": {},
   "source": [
    "### Interpretation of the results"
   ]
  },
  {
   "cell_type": "code",
   "execution_count": 10,
   "metadata": {},
   "outputs": [
    {
     "data": {
      "image/png": "[encoded data removed]",
      "text/plain": [
       "<Figure size 432x288 with 1 Axes>"
      ]
     },
     "metadata": {
      "needs_background": "light"
     },
     "output_type": "display_data"
    }
   ],
   "source": [
    "# In this cell, give a brief commentary on the results, what happens to the prediction \n",
    "# performance as the prediction distance increases?\n",
    "plt.plot(delta_values, cindexes)\n",
    "plt.xlabel('Delta')\n",
    "plt.ylabel('Cindex')\n",
    "plt.grid()\n",
    "plt.title('Comparison of Delta values and C-Indexes')\n",
    "plt.show()"
   ]
  },
  {
   "cell_type": "markdown",
   "metadata": {},
   "source": [
    "C-Index seems to be acceptable up until Delta value reaches > 100. When Delta > 100, accuracy drops dramatically which suggests that the larger the distance between known and unknown data points the lower the accuracy. Exactly as one would expect"
   ]
  }
 ],
 "metadata": {
  "kernelspec": {
   "display_name": "Python 3 (ipykernel)",
   "language": "python",
   "name": "python3"
  },
  "language_info": {
   "codemirror_mode": {
    "name": "ipython",
    "version": 3
   },
   "file_extension": ".py",
   "mimetype": "text/x-python",
   "name": "python",
   "nbconvert_exporter": "python",
   "pygments_lexer": "ipython3",
   "version": "3.7.11"
  },
  "toc": {
   "base_numbering": 1,
   "nav_menu": {},
   "number_sections": false,
   "sideBar": true,
   "skip_h1_title": false,
   "title_cell": "Table of Contents",
   "title_sidebar": "Contents",
   "toc_cell": false,
   "toc_position": {},
   "toc_section_display": true,
   "toc_window_display": true
  },
  "varInspector": {
   "cols": {
    "lenName": 16,
    "lenType": 16,
    "lenVar": 40
   },
   "kernels_config": {
    "python": {
     "delete_cmd_postfix": "",
     "delete_cmd_prefix": "del ",
     "library": "var_list.py",
     "varRefreshCmd": "print(var_dic_list())"
    },
    "r": {
     "delete_cmd_postfix": ") ",
     "delete_cmd_prefix": "rm(",
     "library": "var_list.r",
     "varRefreshCmd": "cat(var_dic_list()) "
    }
   },
   "types_to_exclude": [
    "module",
    "function",
    "builtin_function_or_method",
    "instance",
    "_Feature"
   ],
   "window_display": false
  }
 },
 "nbformat": 4,
 "nbformat_minor": 2
}
